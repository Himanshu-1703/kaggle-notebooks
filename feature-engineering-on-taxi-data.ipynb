{
 "cells": [
  {
   "cell_type": "code",
   "execution_count": 1,
   "id": "93c73cfc",
   "metadata": {
    "_cell_guid": "b1076dfc-b9ad-4769-8c92-a6c4dae69d19",
    "_uuid": "8f2839f25d086af736a60e9eeb907d3b93b6e0e5",
    "execution": {
     "iopub.execute_input": "2024-03-29T16:03:06.282830Z",
     "iopub.status.busy": "2024-03-29T16:03:06.280877Z",
     "iopub.status.idle": "2024-03-29T16:03:07.104291Z",
     "shell.execute_reply": "2024-03-29T16:03:07.103246Z"
    },
    "papermill": {
     "duration": 0.840442,
     "end_time": "2024-03-29T16:03:07.106422",
     "exception": false,
     "start_time": "2024-03-29T16:03:06.265980",
     "status": "completed"
    },
    "tags": []
   },
   "outputs": [
    {
     "name": "stdout",
     "output_type": "stream",
     "text": [
      "/kaggle/input/nyc-taxi-trip-duration/train.zip\n",
      "/kaggle/input/nyc-taxi-trip-duration/test.zip\n",
      "/kaggle/input/nyc-taxi-trip-duration/sample_submission.zip\n"
     ]
    }
   ],
   "source": [
    "# This Python 3 environment comes with many helpful analytics libraries installed\n",
    "# It is defined by the kaggle/python Docker image: https://github.com/kaggle/docker-python\n",
    "# For example, here's several helpful packages to load\n",
    "\n",
    "import numpy as np # linear algebra\n",
    "import pandas as pd # data processing, CSV file I/O (e.g. pd.read_csv)\n",
    "\n",
    "# Input data files are available in the read-only \"../input/\" directory\n",
    "# For example, running this (by clicking run or pressing Shift+Enter) will list all files under the input directory\n",
    "\n",
    "import os\n",
    "for dirname, _, filenames in os.walk('/kaggle/input'):\n",
    "    for filename in filenames:\n",
    "        print(os.path.join(dirname, filename))\n",
    "\n",
    "# You can write up to 20GB to the current directory (/kaggle/working/) that gets preserved as output when you create a version using \"Save & Run All\" \n",
    "# You can also write temporary files to /kaggle/temp/, but they won't be saved outside of the current session"
   ]
  },
  {
   "cell_type": "code",
   "execution_count": 2,
   "id": "52eaf7bc",
   "metadata": {
    "execution": {
     "iopub.execute_input": "2024-03-29T16:03:07.134933Z",
     "iopub.status.busy": "2024-03-29T16:03:07.134277Z",
     "iopub.status.idle": "2024-03-29T16:03:07.140237Z",
     "shell.execute_reply": "2024-03-29T16:03:07.139399Z"
    },
    "papermill": {
     "duration": 0.022693,
     "end_time": "2024-03-29T16:03:07.142272",
     "exception": false,
     "start_time": "2024-03-29T16:03:07.119579",
     "status": "completed"
    },
    "tags": []
   },
   "outputs": [
    {
     "data": {
      "text/plain": [
       "'/kaggle/working'"
      ]
     },
     "execution_count": 2,
     "metadata": {},
     "output_type": "execute_result"
    }
   ],
   "source": [
    "pwd"
   ]
  },
  {
   "cell_type": "markdown",
   "id": "19c6f182",
   "metadata": {
    "papermill": {
     "duration": 0.014113,
     "end_time": "2024-03-29T16:03:07.169749",
     "exception": false,
     "start_time": "2024-03-29T16:03:07.155636",
     "status": "completed"
    },
    "tags": []
   },
   "source": [
    "## Extract Data"
   ]
  },
  {
   "cell_type": "code",
   "execution_count": 3,
   "id": "b1526ee8",
   "metadata": {
    "execution": {
     "iopub.execute_input": "2024-03-29T16:03:07.197922Z",
     "iopub.status.busy": "2024-03-29T16:03:07.197523Z",
     "iopub.status.idle": "2024-03-29T16:03:10.662293Z",
     "shell.execute_reply": "2024-03-29T16:03:10.661444Z"
    },
    "papermill": {
     "duration": 3.481849,
     "end_time": "2024-03-29T16:03:10.664722",
     "exception": false,
     "start_time": "2024-03-29T16:03:07.182873",
     "status": "completed"
    },
    "tags": []
   },
   "outputs": [],
   "source": [
    "# unzip the files \n",
    "\n",
    "from zipfile import ZipFile\n",
    "from pathlib import Path\n",
    "\n",
    "# set the paths for the output\n",
    "output_path = Path('/kaggle/working/data')\n",
    "output_path.mkdir(exist_ok=True)\n",
    "\n",
    "# extract the train files\n",
    "train_zip = ZipFile('/kaggle/input/nyc-taxi-trip-duration/train.zip')\n",
    "\n",
    "train_zip.extractall(output_path / 'train')\n",
    "\n",
    "#extract the test files\n",
    "test_zip = ZipFile('/kaggle/input/nyc-taxi-trip-duration/test.zip')\n",
    "\n",
    "test_zip.extractall(output_path / 'test')"
   ]
  },
  {
   "cell_type": "code",
   "execution_count": 4,
   "id": "afae68a6",
   "metadata": {
    "execution": {
     "iopub.execute_input": "2024-03-29T16:03:10.693829Z",
     "iopub.status.busy": "2024-03-29T16:03:10.692989Z",
     "iopub.status.idle": "2024-03-29T16:03:10.698613Z",
     "shell.execute_reply": "2024-03-29T16:03:10.697639Z"
    },
    "papermill": {
     "duration": 0.022721,
     "end_time": "2024-03-29T16:03:10.701047",
     "exception": false,
     "start_time": "2024-03-29T16:03:10.678326",
     "status": "completed"
    },
    "tags": []
   },
   "outputs": [
    {
     "name": "stdout",
     "output_type": "stream",
     "text": [
      "The data path exists\n"
     ]
    }
   ],
   "source": [
    "# load the dataframe\n",
    "\n",
    "training_data_path = Path('/kaggle/working/data/train/train.csv')\n",
    "\n",
    "# check if the path exists\n",
    "if training_data_path.exists():\n",
    "    print(\"The data path exists\")\n",
    "else:\n",
    "    print('The data path does not exist')"
   ]
  },
  {
   "cell_type": "code",
   "execution_count": 5,
   "id": "33a61242",
   "metadata": {
    "execution": {
     "iopub.execute_input": "2024-03-29T16:03:10.730057Z",
     "iopub.status.busy": "2024-03-29T16:03:10.729119Z",
     "iopub.status.idle": "2024-03-29T16:03:15.771213Z",
     "shell.execute_reply": "2024-03-29T16:03:15.770128Z"
    },
    "papermill": {
     "duration": 5.058799,
     "end_time": "2024-03-29T16:03:15.773392",
     "exception": false,
     "start_time": "2024-03-29T16:03:10.714593",
     "status": "completed"
    },
    "tags": []
   },
   "outputs": [
    {
     "data": {
      "text/html": [
       "<div>\n",
       "<style scoped>\n",
       "    .dataframe tbody tr th:only-of-type {\n",
       "        vertical-align: middle;\n",
       "    }\n",
       "\n",
       "    .dataframe tbody tr th {\n",
       "        vertical-align: top;\n",
       "    }\n",
       "\n",
       "    .dataframe thead th {\n",
       "        text-align: right;\n",
       "    }\n",
       "</style>\n",
       "<table border=\"1\" class=\"dataframe\">\n",
       "  <thead>\n",
       "    <tr style=\"text-align: right;\">\n",
       "      <th></th>\n",
       "      <th>id</th>\n",
       "      <th>vendor_id</th>\n",
       "      <th>pickup_datetime</th>\n",
       "      <th>dropoff_datetime</th>\n",
       "      <th>passenger_count</th>\n",
       "      <th>pickup_longitude</th>\n",
       "      <th>pickup_latitude</th>\n",
       "      <th>dropoff_longitude</th>\n",
       "      <th>dropoff_latitude</th>\n",
       "      <th>store_and_fwd_flag</th>\n",
       "      <th>trip_duration</th>\n",
       "    </tr>\n",
       "  </thead>\n",
       "  <tbody>\n",
       "    <tr>\n",
       "      <th>0</th>\n",
       "      <td>id2875421</td>\n",
       "      <td>2</td>\n",
       "      <td>2016-03-14 17:24:55</td>\n",
       "      <td>2016-03-14 17:32:30</td>\n",
       "      <td>1</td>\n",
       "      <td>-73.982155</td>\n",
       "      <td>40.767937</td>\n",
       "      <td>-73.964630</td>\n",
       "      <td>40.765602</td>\n",
       "      <td>N</td>\n",
       "      <td>455</td>\n",
       "    </tr>\n",
       "    <tr>\n",
       "      <th>1</th>\n",
       "      <td>id2377394</td>\n",
       "      <td>1</td>\n",
       "      <td>2016-06-12 00:43:35</td>\n",
       "      <td>2016-06-12 00:54:38</td>\n",
       "      <td>1</td>\n",
       "      <td>-73.980415</td>\n",
       "      <td>40.738564</td>\n",
       "      <td>-73.999481</td>\n",
       "      <td>40.731152</td>\n",
       "      <td>N</td>\n",
       "      <td>663</td>\n",
       "    </tr>\n",
       "    <tr>\n",
       "      <th>2</th>\n",
       "      <td>id3858529</td>\n",
       "      <td>2</td>\n",
       "      <td>2016-01-19 11:35:24</td>\n",
       "      <td>2016-01-19 12:10:48</td>\n",
       "      <td>1</td>\n",
       "      <td>-73.979027</td>\n",
       "      <td>40.763939</td>\n",
       "      <td>-74.005333</td>\n",
       "      <td>40.710087</td>\n",
       "      <td>N</td>\n",
       "      <td>2124</td>\n",
       "    </tr>\n",
       "    <tr>\n",
       "      <th>3</th>\n",
       "      <td>id3504673</td>\n",
       "      <td>2</td>\n",
       "      <td>2016-04-06 19:32:31</td>\n",
       "      <td>2016-04-06 19:39:40</td>\n",
       "      <td>1</td>\n",
       "      <td>-74.010040</td>\n",
       "      <td>40.719971</td>\n",
       "      <td>-74.012268</td>\n",
       "      <td>40.706718</td>\n",
       "      <td>N</td>\n",
       "      <td>429</td>\n",
       "    </tr>\n",
       "    <tr>\n",
       "      <th>4</th>\n",
       "      <td>id2181028</td>\n",
       "      <td>2</td>\n",
       "      <td>2016-03-26 13:30:55</td>\n",
       "      <td>2016-03-26 13:38:10</td>\n",
       "      <td>1</td>\n",
       "      <td>-73.973053</td>\n",
       "      <td>40.793209</td>\n",
       "      <td>-73.972923</td>\n",
       "      <td>40.782520</td>\n",
       "      <td>N</td>\n",
       "      <td>435</td>\n",
       "    </tr>\n",
       "  </tbody>\n",
       "</table>\n",
       "</div>"
      ],
      "text/plain": [
       "          id  vendor_id      pickup_datetime     dropoff_datetime  \\\n",
       "0  id2875421          2  2016-03-14 17:24:55  2016-03-14 17:32:30   \n",
       "1  id2377394          1  2016-06-12 00:43:35  2016-06-12 00:54:38   \n",
       "2  id3858529          2  2016-01-19 11:35:24  2016-01-19 12:10:48   \n",
       "3  id3504673          2  2016-04-06 19:32:31  2016-04-06 19:39:40   \n",
       "4  id2181028          2  2016-03-26 13:30:55  2016-03-26 13:38:10   \n",
       "\n",
       "   passenger_count  pickup_longitude  pickup_latitude  dropoff_longitude  \\\n",
       "0                1        -73.982155        40.767937         -73.964630   \n",
       "1                1        -73.980415        40.738564         -73.999481   \n",
       "2                1        -73.979027        40.763939         -74.005333   \n",
       "3                1        -74.010040        40.719971         -74.012268   \n",
       "4                1        -73.973053        40.793209         -73.972923   \n",
       "\n",
       "   dropoff_latitude store_and_fwd_flag  trip_duration  \n",
       "0         40.765602                  N            455  \n",
       "1         40.731152                  N            663  \n",
       "2         40.710087                  N           2124  \n",
       "3         40.706718                  N            429  \n",
       "4         40.782520                  N            435  "
      ]
     },
     "execution_count": 5,
     "metadata": {},
     "output_type": "execute_result"
    }
   ],
   "source": [
    "train_df = pd.read_csv(training_data_path)\n",
    "\n",
    "train_df.head()"
   ]
  },
  {
   "cell_type": "code",
   "execution_count": 6,
   "id": "9b6da657",
   "metadata": {
    "execution": {
     "iopub.execute_input": "2024-03-29T16:03:15.802458Z",
     "iopub.status.busy": "2024-03-29T16:03:15.802070Z",
     "iopub.status.idle": "2024-03-29T16:03:15.808913Z",
     "shell.execute_reply": "2024-03-29T16:03:15.807775Z"
    },
    "papermill": {
     "duration": 0.02381,
     "end_time": "2024-03-29T16:03:15.810946",
     "exception": false,
     "start_time": "2024-03-29T16:03:15.787136",
     "status": "completed"
    },
    "tags": []
   },
   "outputs": [
    {
     "data": {
      "text/plain": [
       "(1458644, 11)"
      ]
     },
     "execution_count": 6,
     "metadata": {},
     "output_type": "execute_result"
    }
   ],
   "source": [
    "# shape of training data\n",
    "\n",
    "train_df.shape"
   ]
  },
  {
   "cell_type": "markdown",
   "id": "dfe1a910",
   "metadata": {
    "papermill": {
     "duration": 0.013483,
     "end_time": "2024-03-29T16:03:15.838196",
     "exception": false,
     "start_time": "2024-03-29T16:03:15.824713",
     "status": "completed"
    },
    "tags": []
   },
   "source": [
    "## Drop Columns"
   ]
  },
  {
   "cell_type": "code",
   "execution_count": 7,
   "id": "fe387eb7",
   "metadata": {
    "execution": {
     "iopub.execute_input": "2024-03-29T16:03:15.867094Z",
     "iopub.status.busy": "2024-03-29T16:03:15.866723Z",
     "iopub.status.idle": "2024-03-29T16:03:15.877647Z",
     "shell.execute_reply": "2024-03-29T16:03:15.876747Z"
    },
    "papermill": {
     "duration": 0.027789,
     "end_time": "2024-03-29T16:03:15.879700",
     "exception": false,
     "start_time": "2024-03-29T16:03:15.851911",
     "status": "completed"
    },
    "tags": []
   },
   "outputs": [
    {
     "data": {
      "text/plain": [
       "Index(['id', 'dropoff_datetime', 'store_and_fwd_flag'], dtype='object')"
      ]
     },
     "execution_count": 7,
     "metadata": {},
     "output_type": "execute_result"
    }
   ],
   "source": [
    "# remove unwanted columns from the data\n",
    "\n",
    "train_df.columns[train_df.columns.isin(['id',\n",
    "                      'dropoff_datetime',\n",
    "                      'store_and_fwd_flag'])]"
   ]
  },
  {
   "cell_type": "code",
   "execution_count": 8,
   "id": "e726712e",
   "metadata": {
    "execution": {
     "iopub.execute_input": "2024-03-29T16:03:15.909003Z",
     "iopub.status.busy": "2024-03-29T16:03:15.908685Z",
     "iopub.status.idle": "2024-03-29T16:03:15.960304Z",
     "shell.execute_reply": "2024-03-29T16:03:15.959204Z"
    },
    "papermill": {
     "duration": 0.069221,
     "end_time": "2024-03-29T16:03:15.962770",
     "exception": false,
     "start_time": "2024-03-29T16:03:15.893549",
     "status": "completed"
    },
    "tags": []
   },
   "outputs": [],
   "source": [
    "# remove the columns from training data\n",
    "\n",
    "train_df.drop(columns=train_df.columns[train_df.columns.isin(['id',\n",
    "                      'dropoff_datetime',\n",
    "                      'store_and_fwd_flag'])],inplace=True)"
   ]
  },
  {
   "cell_type": "code",
   "execution_count": 9,
   "id": "dee858c4",
   "metadata": {
    "execution": {
     "iopub.execute_input": "2024-03-29T16:03:15.992052Z",
     "iopub.status.busy": "2024-03-29T16:03:15.991244Z",
     "iopub.status.idle": "2024-03-29T16:03:15.997392Z",
     "shell.execute_reply": "2024-03-29T16:03:15.996424Z"
    },
    "papermill": {
     "duration": 0.02296,
     "end_time": "2024-03-29T16:03:15.999469",
     "exception": false,
     "start_time": "2024-03-29T16:03:15.976509",
     "status": "completed"
    },
    "tags": []
   },
   "outputs": [
    {
     "data": {
      "text/plain": [
       "(1458644, 8)"
      ]
     },
     "execution_count": 9,
     "metadata": {},
     "output_type": "execute_result"
    }
   ],
   "source": [
    "train_df.shape"
   ]
  },
  {
   "cell_type": "code",
   "execution_count": 10,
   "id": "606ca088",
   "metadata": {
    "execution": {
     "iopub.execute_input": "2024-03-29T16:03:16.028637Z",
     "iopub.status.busy": "2024-03-29T16:03:16.028260Z",
     "iopub.status.idle": "2024-03-29T16:03:16.040269Z",
     "shell.execute_reply": "2024-03-29T16:03:16.039507Z"
    },
    "papermill": {
     "duration": 0.028868,
     "end_time": "2024-03-29T16:03:16.042122",
     "exception": false,
     "start_time": "2024-03-29T16:03:16.013254",
     "status": "completed"
    },
    "tags": []
   },
   "outputs": [
    {
     "data": {
      "text/html": [
       "<div>\n",
       "<style scoped>\n",
       "    .dataframe tbody tr th:only-of-type {\n",
       "        vertical-align: middle;\n",
       "    }\n",
       "\n",
       "    .dataframe tbody tr th {\n",
       "        vertical-align: top;\n",
       "    }\n",
       "\n",
       "    .dataframe thead th {\n",
       "        text-align: right;\n",
       "    }\n",
       "</style>\n",
       "<table border=\"1\" class=\"dataframe\">\n",
       "  <thead>\n",
       "    <tr style=\"text-align: right;\">\n",
       "      <th></th>\n",
       "      <th>vendor_id</th>\n",
       "      <th>pickup_datetime</th>\n",
       "      <th>passenger_count</th>\n",
       "      <th>pickup_longitude</th>\n",
       "      <th>pickup_latitude</th>\n",
       "      <th>dropoff_longitude</th>\n",
       "      <th>dropoff_latitude</th>\n",
       "      <th>trip_duration</th>\n",
       "    </tr>\n",
       "  </thead>\n",
       "  <tbody>\n",
       "    <tr>\n",
       "      <th>0</th>\n",
       "      <td>2</td>\n",
       "      <td>2016-03-14 17:24:55</td>\n",
       "      <td>1</td>\n",
       "      <td>-73.982155</td>\n",
       "      <td>40.767937</td>\n",
       "      <td>-73.964630</td>\n",
       "      <td>40.765602</td>\n",
       "      <td>455</td>\n",
       "    </tr>\n",
       "    <tr>\n",
       "      <th>1</th>\n",
       "      <td>1</td>\n",
       "      <td>2016-06-12 00:43:35</td>\n",
       "      <td>1</td>\n",
       "      <td>-73.980415</td>\n",
       "      <td>40.738564</td>\n",
       "      <td>-73.999481</td>\n",
       "      <td>40.731152</td>\n",
       "      <td>663</td>\n",
       "    </tr>\n",
       "    <tr>\n",
       "      <th>2</th>\n",
       "      <td>2</td>\n",
       "      <td>2016-01-19 11:35:24</td>\n",
       "      <td>1</td>\n",
       "      <td>-73.979027</td>\n",
       "      <td>40.763939</td>\n",
       "      <td>-74.005333</td>\n",
       "      <td>40.710087</td>\n",
       "      <td>2124</td>\n",
       "    </tr>\n",
       "    <tr>\n",
       "      <th>3</th>\n",
       "      <td>2</td>\n",
       "      <td>2016-04-06 19:32:31</td>\n",
       "      <td>1</td>\n",
       "      <td>-74.010040</td>\n",
       "      <td>40.719971</td>\n",
       "      <td>-74.012268</td>\n",
       "      <td>40.706718</td>\n",
       "      <td>429</td>\n",
       "    </tr>\n",
       "    <tr>\n",
       "      <th>4</th>\n",
       "      <td>2</td>\n",
       "      <td>2016-03-26 13:30:55</td>\n",
       "      <td>1</td>\n",
       "      <td>-73.973053</td>\n",
       "      <td>40.793209</td>\n",
       "      <td>-73.972923</td>\n",
       "      <td>40.782520</td>\n",
       "      <td>435</td>\n",
       "    </tr>\n",
       "  </tbody>\n",
       "</table>\n",
       "</div>"
      ],
      "text/plain": [
       "   vendor_id      pickup_datetime  passenger_count  pickup_longitude  \\\n",
       "0          2  2016-03-14 17:24:55                1        -73.982155   \n",
       "1          1  2016-06-12 00:43:35                1        -73.980415   \n",
       "2          2  2016-01-19 11:35:24                1        -73.979027   \n",
       "3          2  2016-04-06 19:32:31                1        -74.010040   \n",
       "4          2  2016-03-26 13:30:55                1        -73.973053   \n",
       "\n",
       "   pickup_latitude  dropoff_longitude  dropoff_latitude  trip_duration  \n",
       "0        40.767937         -73.964630         40.765602            455  \n",
       "1        40.738564         -73.999481         40.731152            663  \n",
       "2        40.763939         -74.005333         40.710087           2124  \n",
       "3        40.719971         -74.012268         40.706718            429  \n",
       "4        40.793209         -73.972923         40.782520            435  "
      ]
     },
     "execution_count": 10,
     "metadata": {},
     "output_type": "execute_result"
    }
   ],
   "source": [
    "train_df.head()"
   ]
  },
  {
   "cell_type": "markdown",
   "id": "447d6973",
   "metadata": {
    "papermill": {
     "duration": 0.015553,
     "end_time": "2024-03-29T16:03:16.072037",
     "exception": false,
     "start_time": "2024-03-29T16:03:16.056484",
     "status": "completed"
    },
    "tags": []
   },
   "source": [
    "## Target Column"
   ]
  },
  {
   "cell_type": "code",
   "execution_count": 11,
   "id": "c436a807",
   "metadata": {
    "execution": {
     "iopub.execute_input": "2024-03-29T16:03:16.102603Z",
     "iopub.status.busy": "2024-03-29T16:03:16.101939Z",
     "iopub.status.idle": "2024-03-29T16:03:23.996239Z",
     "shell.execute_reply": "2024-03-29T16:03:23.995133Z"
    },
    "papermill": {
     "duration": 7.912529,
     "end_time": "2024-03-29T16:03:23.998755",
     "exception": false,
     "start_time": "2024-03-29T16:03:16.086226",
     "status": "completed"
    },
    "tags": []
   },
   "outputs": [
    {
     "name": "stderr",
     "output_type": "stream",
     "text": [
      "/opt/conda/lib/python3.10/site-packages/seaborn/_oldcore.py:1119: FutureWarning: use_inf_as_na option is deprecated and will be removed in a future version. Convert inf values to NaN before operating instead.\n",
      "  with pd.option_context('mode.use_inf_as_na', True):\n"
     ]
    },
    {
     "data": {
      "image/png": "[encoded data removed]",
      "text/plain": [
       "<Figure size 640x480 with 1 Axes>"
      ]
     },
     "metadata": {},
     "output_type": "display_data"
    }
   ],
   "source": [
    "# distribution of the trip duration column\n",
    "\n",
    "import seaborn as sns\n",
    "\n",
    "sns.kdeplot(train_df['trip_duration']);"
   ]
  },
  {
   "cell_type": "code",
   "execution_count": 12,
   "id": "9353c74d",
   "metadata": {
    "execution": {
     "iopub.execute_input": "2024-03-29T16:03:24.031430Z",
     "iopub.status.busy": "2024-03-29T16:03:24.030259Z",
     "iopub.status.idle": "2024-03-29T16:03:24.123490Z",
     "shell.execute_reply": "2024-03-29T16:03:24.122375Z"
    },
    "papermill": {
     "duration": 0.111607,
     "end_time": "2024-03-29T16:03:24.125787",
     "exception": false,
     "start_time": "2024-03-29T16:03:24.014180",
     "status": "completed"
    },
    "tags": []
   },
   "outputs": [
    {
     "data": {
      "text/plain": [
       "vendor_id            0\n",
       "pickup_datetime      0\n",
       "passenger_count      0\n",
       "pickup_longitude     0\n",
       "pickup_latitude      0\n",
       "dropoff_longitude    0\n",
       "dropoff_latitude     0\n",
       "trip_duration        0\n",
       "dtype: int64"
      ]
     },
     "execution_count": 12,
     "metadata": {},
     "output_type": "execute_result"
    }
   ],
   "source": [
    "# check for missing values in data\n",
    "\n",
    "train_df.isna().sum()"
   ]
  },
  {
   "cell_type": "code",
   "execution_count": 13,
   "id": "a0bb42f8",
   "metadata": {
    "execution": {
     "iopub.execute_input": "2024-03-29T16:03:24.157305Z",
     "iopub.status.busy": "2024-03-29T16:03:24.156911Z",
     "iopub.status.idle": "2024-03-29T16:03:24.182846Z",
     "shell.execute_reply": "2024-03-29T16:03:24.181713Z"
    },
    "papermill": {
     "duration": 0.044641,
     "end_time": "2024-03-29T16:03:24.185090",
     "exception": false,
     "start_time": "2024-03-29T16:03:24.140449",
     "status": "completed"
    },
    "tags": []
   },
   "outputs": [
    {
     "data": {
      "text/plain": [
       "343.1639435917362"
      ]
     },
     "execution_count": 13,
     "metadata": {},
     "output_type": "execute_result"
    }
   ],
   "source": [
    "# skewness of the output column\n",
    "\n",
    "train_df['trip_duration'].skew()"
   ]
  },
  {
   "cell_type": "markdown",
   "id": "cc074c54",
   "metadata": {
    "papermill": {
     "duration": 0.014356,
     "end_time": "2024-03-29T16:03:24.214188",
     "exception": false,
     "start_time": "2024-03-29T16:03:24.199832",
     "status": "completed"
    },
    "tags": []
   },
   "source": [
    "**The target column is extremely right skewed in nature**"
   ]
  },
  {
   "cell_type": "code",
   "execution_count": 14,
   "id": "f8210f71",
   "metadata": {
    "execution": {
     "iopub.execute_input": "2024-03-29T16:03:24.245462Z",
     "iopub.status.busy": "2024-03-29T16:03:24.245045Z",
     "iopub.status.idle": "2024-03-29T16:03:24.707598Z",
     "shell.execute_reply": "2024-03-29T16:03:24.706476Z"
    },
    "papermill": {
     "duration": 0.481054,
     "end_time": "2024-03-29T16:03:24.710103",
     "exception": false,
     "start_time": "2024-03-29T16:03:24.229049",
     "status": "completed"
    },
    "tags": []
   },
   "outputs": [
    {
     "name": "stdout",
     "output_type": "stream",
     "text": [
      "The minimum value in target data is 1\n"
     ]
    }
   ],
   "source": [
    "# apply reciprocal transformation on data\n",
    "\n",
    "# check for 0 in target\n",
    "\n",
    "print('The minimum value in target data is',train_df['trip_duration'].min())\n",
    "\n",
    "target_reciprocal_trans = train_df['trip_duration'].apply(lambda x: 1/x)"
   ]
  },
  {
   "cell_type": "code",
   "execution_count": 15,
   "id": "903afe7a",
   "metadata": {
    "execution": {
     "iopub.execute_input": "2024-03-29T16:03:24.741490Z",
     "iopub.status.busy": "2024-03-29T16:03:24.741077Z",
     "iopub.status.idle": "2024-03-29T16:03:31.199519Z",
     "shell.execute_reply": "2024-03-29T16:03:31.198343Z"
    },
    "papermill": {
     "duration": 6.476915,
     "end_time": "2024-03-29T16:03:31.201894",
     "exception": false,
     "start_time": "2024-03-29T16:03:24.724979",
     "status": "completed"
    },
    "tags": []
   },
   "outputs": [
    {
     "name": "stderr",
     "output_type": "stream",
     "text": [
      "/opt/conda/lib/python3.10/site-packages/seaborn/_oldcore.py:1119: FutureWarning: use_inf_as_na option is deprecated and will be removed in a future version. Convert inf values to NaN before operating instead.\n",
      "  with pd.option_context('mode.use_inf_as_na', True):\n"
     ]
    },
    {
     "data": {
      "image/png": "[encoded data removed]",
      "text/plain": [
       "<Figure size 640x480 with 1 Axes>"
      ]
     },
     "metadata": {},
     "output_type": "display_data"
    }
   ],
   "source": [
    "# distribution of target column after reciprocal transformation\n",
    "\n",
    "sns.kdeplot(target_reciprocal_trans);"
   ]
  },
  {
   "cell_type": "code",
   "execution_count": 16,
   "id": "2f2748d8",
   "metadata": {
    "execution": {
     "iopub.execute_input": "2024-03-29T16:03:31.234652Z",
     "iopub.status.busy": "2024-03-29T16:03:31.233577Z",
     "iopub.status.idle": "2024-03-29T16:03:31.258577Z",
     "shell.execute_reply": "2024-03-29T16:03:31.257381Z"
    },
    "papermill": {
     "duration": 0.04391,
     "end_time": "2024-03-29T16:03:31.261049",
     "exception": false,
     "start_time": "2024-03-29T16:03:31.217139",
     "status": "completed"
    },
    "tags": []
   },
   "outputs": [
    {
     "data": {
      "text/plain": [
       "40.049787641971186"
      ]
     },
     "execution_count": 16,
     "metadata": {},
     "output_type": "execute_result"
    }
   ],
   "source": [
    "# skewness ater reciprocal transformation\n",
    "\n",
    "target_reciprocal_trans.skew()"
   ]
  },
  {
   "cell_type": "code",
   "execution_count": 17,
   "id": "54abfbc1",
   "metadata": {
    "execution": {
     "iopub.execute_input": "2024-03-29T16:03:31.293773Z",
     "iopub.status.busy": "2024-03-29T16:03:31.293004Z",
     "iopub.status.idle": "2024-03-29T16:03:31.311782Z",
     "shell.execute_reply": "2024-03-29T16:03:31.310683Z"
    },
    "papermill": {
     "duration": 0.038146,
     "end_time": "2024-03-29T16:03:31.314450",
     "exception": false,
     "start_time": "2024-03-29T16:03:31.276304",
     "status": "completed"
    },
    "tags": []
   },
   "outputs": [],
   "source": [
    "# apply log transformation on the data\n",
    "\n",
    "target_log_trans = train_df['trip_duration'].apply(np.log)"
   ]
  },
  {
   "cell_type": "code",
   "execution_count": 18,
   "id": "45a42774",
   "metadata": {
    "execution": {
     "iopub.execute_input": "2024-03-29T16:03:31.400322Z",
     "iopub.status.busy": "2024-03-29T16:03:31.399861Z",
     "iopub.status.idle": "2024-03-29T16:03:38.168656Z",
     "shell.execute_reply": "2024-03-29T16:03:38.167618Z"
    },
    "papermill": {
     "duration": 6.787409,
     "end_time": "2024-03-29T16:03:38.170891",
     "exception": false,
     "start_time": "2024-03-29T16:03:31.383482",
     "status": "completed"
    },
    "tags": []
   },
   "outputs": [
    {
     "name": "stderr",
     "output_type": "stream",
     "text": [
      "/opt/conda/lib/python3.10/site-packages/seaborn/_oldcore.py:1119: FutureWarning: use_inf_as_na option is deprecated and will be removed in a future version. Convert inf values to NaN before operating instead.\n",
      "  with pd.option_context('mode.use_inf_as_na', True):\n"
     ]
    },
    {
     "data": {
      "image/png": "[encoded data removed]",
      "text/plain": [
       "<Figure size 640x480 with 1 Axes>"
      ]
     },
     "metadata": {},
     "output_type": "display_data"
    }
   ],
   "source": [
    "# distribution of target column after log transformation\n",
    "\n",
    "sns.kdeplot(target_log_trans);"
   ]
  },
  {
   "cell_type": "code",
   "execution_count": 19,
   "id": "4bc52e32",
   "metadata": {
    "execution": {
     "iopub.execute_input": "2024-03-29T16:03:38.204668Z",
     "iopub.status.busy": "2024-03-29T16:03:38.204255Z",
     "iopub.status.idle": "2024-03-29T16:03:38.228453Z",
     "shell.execute_reply": "2024-03-29T16:03:38.227396Z"
    },
    "papermill": {
     "duration": 0.043727,
     "end_time": "2024-03-29T16:03:38.230733",
     "exception": false,
     "start_time": "2024-03-29T16:03:38.187006",
     "status": "completed"
    },
    "tags": []
   },
   "outputs": [
    {
     "data": {
      "text/plain": [
       "-0.34070423044801745"
      ]
     },
     "execution_count": 19,
     "metadata": {},
     "output_type": "execute_result"
    }
   ],
   "source": [
    "target_log_trans.skew()"
   ]
  },
  {
   "cell_type": "markdown",
   "id": "d761b9a1",
   "metadata": {
    "papermill": {
     "duration": 0.015543,
     "end_time": "2024-03-29T16:03:38.262415",
     "exception": false,
     "start_time": "2024-03-29T16:03:38.246872",
     "status": "completed"
    },
    "tags": []
   },
   "source": [
    "**Log transformation worked far better as compared to reciprocal transformation for the target column in reducing the skeweness of data**"
   ]
  },
  {
   "cell_type": "code",
   "execution_count": 20,
   "id": "c940926f",
   "metadata": {
    "execution": {
     "iopub.execute_input": "2024-03-29T16:03:38.295822Z",
     "iopub.status.busy": "2024-03-29T16:03:38.295433Z",
     "iopub.status.idle": "2024-03-29T16:03:38.839717Z",
     "shell.execute_reply": "2024-03-29T16:03:38.838432Z"
    },
    "papermill": {
     "duration": 0.564057,
     "end_time": "2024-03-29T16:03:38.842294",
     "exception": false,
     "start_time": "2024-03-29T16:03:38.278237",
     "status": "completed"
    },
    "tags": []
   },
   "outputs": [
    {
     "data": {
      "image/png": "[encoded data removed]",
      "text/plain": [
       "<Figure size 640x480 with 1 Axes>"
      ]
     },
     "metadata": {},
     "output_type": "display_data"
    }
   ],
   "source": [
    "# checking for outliers in the target data\n",
    "\n",
    "# plot box plot\n",
    "sns.boxplot(data=train_df,x='trip_duration');"
   ]
  },
  {
   "cell_type": "code",
   "execution_count": 21,
   "id": "dd8f627d",
   "metadata": {
    "execution": {
     "iopub.execute_input": "2024-03-29T16:03:38.876739Z",
     "iopub.status.busy": "2024-03-29T16:03:38.876373Z",
     "iopub.status.idle": "2024-03-29T16:03:39.205573Z",
     "shell.execute_reply": "2024-03-29T16:03:39.204788Z"
    },
    "papermill": {
     "duration": 0.348722,
     "end_time": "2024-03-29T16:03:39.207465",
     "exception": false,
     "start_time": "2024-03-29T16:03:38.858743",
     "status": "completed"
    },
    "tags": []
   },
   "outputs": [
    {
     "data": {
      "image/png": "[encoded data removed]",
      "text/plain": [
       "<Figure size 640x480 with 1 Axes>"
      ]
     },
     "metadata": {},
     "output_type": "display_data"
    }
   ],
   "source": [
    "# outliers in data after log transformation\n",
    "\n",
    "sns.boxplot(target_log_trans);"
   ]
  },
  {
   "cell_type": "code",
   "execution_count": 22,
   "id": "52f53336",
   "metadata": {
    "execution": {
     "iopub.execute_input": "2024-03-29T16:03:39.244649Z",
     "iopub.status.busy": "2024-03-29T16:03:39.243801Z",
     "iopub.status.idle": "2024-03-29T16:03:39.248515Z",
     "shell.execute_reply": "2024-03-29T16:03:39.247660Z"
    },
    "papermill": {
     "duration": 0.025655,
     "end_time": "2024-03-29T16:03:39.250562",
     "exception": false,
     "start_time": "2024-03-29T16:03:39.224907",
     "status": "completed"
    },
    "tags": []
   },
   "outputs": [],
   "source": [
    "DURATION_THRESH = 200 * 60"
   ]
  },
  {
   "cell_type": "code",
   "execution_count": 23,
   "id": "8383fcb2",
   "metadata": {
    "execution": {
     "iopub.execute_input": "2024-03-29T16:03:39.286058Z",
     "iopub.status.busy": "2024-03-29T16:03:39.284949Z",
     "iopub.status.idle": "2024-03-29T16:03:39.306794Z",
     "shell.execute_reply": "2024-03-29T16:03:39.305963Z"
    },
    "papermill": {
     "duration": 0.041891,
     "end_time": "2024-03-29T16:03:39.309025",
     "exception": false,
     "start_time": "2024-03-29T16:03:39.267134",
     "status": "completed"
    },
    "tags": []
   },
   "outputs": [],
   "source": [
    "# rows of data that are above 200 minutes\n",
    "\n",
    "target_below_200 = train_df.loc[train_df['trip_duration'] <= DURATION_THRESH,'trip_duration']"
   ]
  },
  {
   "cell_type": "code",
   "execution_count": 24,
   "id": "c506bd0b",
   "metadata": {
    "execution": {
     "iopub.execute_input": "2024-03-29T16:03:39.344104Z",
     "iopub.status.busy": "2024-03-29T16:03:39.343267Z",
     "iopub.status.idle": "2024-03-29T16:03:39.349795Z",
     "shell.execute_reply": "2024-03-29T16:03:39.348843Z"
    },
    "papermill": {
     "duration": 0.026266,
     "end_time": "2024-03-29T16:03:39.351879",
     "exception": false,
     "start_time": "2024-03-29T16:03:39.325613",
     "status": "completed"
    },
    "tags": []
   },
   "outputs": [
    {
     "data": {
      "text/plain": [
       "2096"
      ]
     },
     "execution_count": 24,
     "metadata": {},
     "output_type": "execute_result"
    }
   ],
   "source": [
    "# number of rows dropped in the process\n",
    "\n",
    "train_df.shape[0] - target_below_200.shape[0]"
   ]
  },
  {
   "cell_type": "code",
   "execution_count": 25,
   "id": "188b7e0c",
   "metadata": {
    "execution": {
     "iopub.execute_input": "2024-03-29T16:03:39.387674Z",
     "iopub.status.busy": "2024-03-29T16:03:39.386773Z",
     "iopub.status.idle": "2024-03-29T16:03:39.392206Z",
     "shell.execute_reply": "2024-03-29T16:03:39.391250Z"
    },
    "papermill": {
     "duration": 0.025728,
     "end_time": "2024-03-29T16:03:39.394102",
     "exception": false,
     "start_time": "2024-03-29T16:03:39.368374",
     "status": "completed"
    },
    "tags": []
   },
   "outputs": [
    {
     "name": "stdout",
     "output_type": "stream",
     "text": [
      "The number of rows dropped when target above 200 minutes are removed 2096\n",
      "\n",
      "Percentage of rows dropped when target above 200 minutes are removed 0.14%\n"
     ]
    }
   ],
   "source": [
    "# percentage of total data rows dropped\n",
    "\n",
    "print('The number of rows dropped when target above 200 minutes are removed',\n",
    "      train_df.shape[0] - target_below_200.shape[0])\n",
    "\n",
    "print('\\nPercentage of rows dropped when target above 200 minutes are removed',\n",
    "      f'{(train_df.shape[0] - target_below_200.shape[0])/train_df.shape[0]:.2%}')"
   ]
  },
  {
   "cell_type": "markdown",
   "id": "df098fb6",
   "metadata": {
    "papermill": {
     "duration": 0.016365,
     "end_time": "2024-03-29T16:03:39.427448",
     "exception": false,
     "start_time": "2024-03-29T16:03:39.411083",
     "status": "completed"
    },
    "tags": []
   },
   "source": [
    "**Not a lot of rows are dropped as compared to the size of the data**"
   ]
  },
  {
   "cell_type": "code",
   "execution_count": 26,
   "id": "26d4180d",
   "metadata": {
    "execution": {
     "iopub.execute_input": "2024-03-29T16:03:39.463212Z",
     "iopub.status.busy": "2024-03-29T16:03:39.462192Z",
     "iopub.status.idle": "2024-03-29T16:03:40.001224Z",
     "shell.execute_reply": "2024-03-29T16:03:40.000071Z"
    },
    "papermill": {
     "duration": 0.559057,
     "end_time": "2024-03-29T16:03:40.003333",
     "exception": false,
     "start_time": "2024-03-29T16:03:39.444276",
     "status": "completed"
    },
    "tags": []
   },
   "outputs": [
    {
     "data": {
      "text/plain": [
       "<Axes: >"
      ]
     },
     "execution_count": 26,
     "metadata": {},
     "output_type": "execute_result"
    },
    {
     "data": {
      "image/png": "[encoded data removed]",
      "text/plain": [
       "<Figure size 640x480 with 1 Axes>"
      ]
     },
     "metadata": {},
     "output_type": "display_data"
    }
   ],
   "source": [
    "# boxplot after removal of data\n",
    "\n",
    "sns.boxplot(target_below_200)"
   ]
  },
  {
   "cell_type": "code",
   "execution_count": 27,
   "id": "a6ce5519",
   "metadata": {
    "execution": {
     "iopub.execute_input": "2024-03-29T16:03:40.039746Z",
     "iopub.status.busy": "2024-03-29T16:03:40.039379Z",
     "iopub.status.idle": "2024-03-29T16:03:46.578998Z",
     "shell.execute_reply": "2024-03-29T16:03:46.577822Z"
    },
    "papermill": {
     "duration": 6.56074,
     "end_time": "2024-03-29T16:03:46.581504",
     "exception": false,
     "start_time": "2024-03-29T16:03:40.020764",
     "status": "completed"
    },
    "tags": []
   },
   "outputs": [
    {
     "name": "stderr",
     "output_type": "stream",
     "text": [
      "/opt/conda/lib/python3.10/site-packages/seaborn/_oldcore.py:1119: FutureWarning: use_inf_as_na option is deprecated and will be removed in a future version. Convert inf values to NaN before operating instead.\n",
      "  with pd.option_context('mode.use_inf_as_na', True):\n"
     ]
    },
    {
     "data": {
      "image/png": "[encoded data removed]",
      "text/plain": [
       "<Figure size 640x480 with 1 Axes>"
      ]
     },
     "metadata": {},
     "output_type": "display_data"
    }
   ],
   "source": [
    "# distribution of target after removing 200 rows\n",
    "\n",
    "sns.kdeplot(target_below_200);"
   ]
  },
  {
   "cell_type": "markdown",
   "id": "511afcc1",
   "metadata": {
    "papermill": {
     "duration": 0.017205,
     "end_time": "2024-03-29T16:03:46.617096",
     "exception": false,
     "start_time": "2024-03-29T16:03:46.599891",
     "status": "completed"
    },
    "tags": []
   },
   "source": [
    "### Target Column Transformations"
   ]
  },
  {
   "cell_type": "code",
   "execution_count": 28,
   "id": "47ca9b90",
   "metadata": {
    "execution": {
     "iopub.execute_input": "2024-03-29T16:03:46.654166Z",
     "iopub.status.busy": "2024-03-29T16:03:46.653797Z",
     "iopub.status.idle": "2024-03-29T16:03:46.671032Z",
     "shell.execute_reply": "2024-03-29T16:03:46.670172Z"
    },
    "papermill": {
     "duration": 0.038703,
     "end_time": "2024-03-29T16:03:46.673388",
     "exception": false,
     "start_time": "2024-03-29T16:03:46.634685",
     "status": "completed"
    },
    "tags": []
   },
   "outputs": [],
   "source": [
    "# log transform this data\n",
    "\n",
    "target_below_200_log_transformed = target_below_200.apply(np.log)"
   ]
  },
  {
   "cell_type": "code",
   "execution_count": 29,
   "id": "7821a1d1",
   "metadata": {
    "execution": {
     "iopub.execute_input": "2024-03-29T16:03:46.710771Z",
     "iopub.status.busy": "2024-03-29T16:03:46.710416Z",
     "iopub.status.idle": "2024-03-29T16:03:46.966657Z",
     "shell.execute_reply": "2024-03-29T16:03:46.965386Z"
    },
    "papermill": {
     "duration": 0.27724,
     "end_time": "2024-03-29T16:03:46.968796",
     "exception": false,
     "start_time": "2024-03-29T16:03:46.691556",
     "status": "completed"
    },
    "tags": []
   },
   "outputs": [
    {
     "data": {
      "image/png": "[encoded data removed]",
      "text/plain": [
       "<Figure size 640x480 with 1 Axes>"
      ]
     },
     "metadata": {},
     "output_type": "display_data"
    }
   ],
   "source": [
    "# boxplot after removal of data and log transformation\n",
    "\n",
    "sns.boxplot(target_below_200_log_transformed);"
   ]
  },
  {
   "cell_type": "code",
   "execution_count": 30,
   "id": "d600d418",
   "metadata": {
    "execution": {
     "iopub.execute_input": "2024-03-29T16:03:47.007442Z",
     "iopub.status.busy": "2024-03-29T16:03:47.006383Z",
     "iopub.status.idle": "2024-03-29T16:03:53.876901Z",
     "shell.execute_reply": "2024-03-29T16:03:53.875696Z"
    },
    "papermill": {
     "duration": 6.892302,
     "end_time": "2024-03-29T16:03:53.879450",
     "exception": false,
     "start_time": "2024-03-29T16:03:46.987148",
     "status": "completed"
    },
    "tags": []
   },
   "outputs": [
    {
     "name": "stderr",
     "output_type": "stream",
     "text": [
      "/opt/conda/lib/python3.10/site-packages/seaborn/_oldcore.py:1119: FutureWarning: use_inf_as_na option is deprecated and will be removed in a future version. Convert inf values to NaN before operating instead.\n",
      "  with pd.option_context('mode.use_inf_as_na', True):\n"
     ]
    },
    {
     "data": {
      "image/png": "[encoded data removed]",
      "text/plain": [
       "<Figure size 640x480 with 1 Axes>"
      ]
     },
     "metadata": {},
     "output_type": "display_data"
    }
   ],
   "source": [
    "# distribution of target after removing 200 rows and log transformation\n",
    "\n",
    "sns.kdeplot(target_below_200_log_transformed);"
   ]
  },
  {
   "cell_type": "code",
   "execution_count": 31,
   "id": "81110cd8",
   "metadata": {
    "execution": {
     "iopub.execute_input": "2024-03-29T16:03:53.919402Z",
     "iopub.status.busy": "2024-03-29T16:03:53.918781Z",
     "iopub.status.idle": "2024-03-29T16:03:53.954837Z",
     "shell.execute_reply": "2024-03-29T16:03:53.953407Z"
    },
    "papermill": {
     "duration": 0.058314,
     "end_time": "2024-03-29T16:03:53.957048",
     "exception": false,
     "start_time": "2024-03-29T16:03:53.898734",
     "status": "completed"
    },
    "tags": []
   },
   "outputs": [
    {
     "name": "stdout",
     "output_type": "stream",
     "text": [
      "The skewness of target before log transformation 2.337972890769571\n",
      "\n",
      "Skewness of target after log transformation -0.6887975071074691\n"
     ]
    }
   ],
   "source": [
    "print('The skewness of target before log transformation',target_below_200.skew())\n",
    "\n",
    "print('\\nSkewness of target after log transformation',target_below_200_log_transformed.skew())"
   ]
  },
  {
   "cell_type": "markdown",
   "id": "0f332fed",
   "metadata": {
    "papermill": {
     "duration": 0.018104,
     "end_time": "2024-03-29T16:03:53.993692",
     "exception": false,
     "start_time": "2024-03-29T16:03:53.975588",
     "status": "completed"
    },
    "tags": []
   },
   "source": [
    "#### Power Transformations"
   ]
  },
  {
   "cell_type": "code",
   "execution_count": 32,
   "id": "34c8715b",
   "metadata": {
    "execution": {
     "iopub.execute_input": "2024-03-29T16:03:54.031689Z",
     "iopub.status.busy": "2024-03-29T16:03:54.031297Z",
     "iopub.status.idle": "2024-03-29T16:03:54.185709Z",
     "shell.execute_reply": "2024-03-29T16:03:54.184892Z"
    },
    "papermill": {
     "duration": 0.176082,
     "end_time": "2024-03-29T16:03:54.187937",
     "exception": false,
     "start_time": "2024-03-29T16:03:54.011855",
     "status": "completed"
    },
    "tags": []
   },
   "outputs": [
    {
     "data": {
      "text/html": [
       "<style>#sk-container-id-1 {color: black;background-color: white;}#sk-container-id-1 pre{padding: 0;}#sk-container-id-1 div.sk-toggleable {background-color: white;}#sk-container-id-1 label.sk-toggleable__label {cursor: pointer;display: block;width: 100%;margin-bottom: 0;padding: 0.3em;box-sizing: border-box;text-align: center;}#sk-container-id-1 label.sk-toggleable__label-arrow:before {content: \"▸\";float: left;margin-right: 0.25em;color: #696969;}#sk-container-id-1 label.sk-toggleable__label-arrow:hover:before {color: black;}#sk-container-id-1 div.sk-estimator:hover label.sk-toggleable__label-arrow:before {color: black;}#sk-container-id-1 div.sk-toggleable__content {max-height: 0;max-width: 0;overflow: hidden;text-align: left;background-color: #f0f8ff;}#sk-container-id-1 div.sk-toggleable__content pre {margin: 0.2em;color: black;border-radius: 0.25em;background-color: #f0f8ff;}#sk-container-id-1 input.sk-toggleable__control:checked~div.sk-toggleable__content {max-height: 200px;max-width: 100%;overflow: auto;}#sk-container-id-1 input.sk-toggleable__control:checked~label.sk-toggleable__label-arrow:before {content: \"▾\";}#sk-container-id-1 div.sk-estimator input.sk-toggleable__control:checked~label.sk-toggleable__label {background-color: #d4ebff;}#sk-container-id-1 div.sk-label input.sk-toggleable__control:checked~label.sk-toggleable__label {background-color: #d4ebff;}#sk-container-id-1 input.sk-hidden--visually {border: 0;clip: rect(1px 1px 1px 1px);clip: rect(1px, 1px, 1px, 1px);height: 1px;margin: -1px;overflow: hidden;padding: 0;position: absolute;width: 1px;}#sk-container-id-1 div.sk-estimator {font-family: monospace;background-color: #f0f8ff;border: 1px dotted black;border-radius: 0.25em;box-sizing: border-box;margin-bottom: 0.5em;}#sk-container-id-1 div.sk-estimator:hover {background-color: #d4ebff;}#sk-container-id-1 div.sk-parallel-item::after {content: \"\";width: 100%;border-bottom: 1px solid gray;flex-grow: 1;}#sk-container-id-1 div.sk-label:hover label.sk-toggleable__label {background-color: #d4ebff;}#sk-container-id-1 div.sk-serial::before {content: \"\";position: absolute;border-left: 1px solid gray;box-sizing: border-box;top: 0;bottom: 0;left: 50%;z-index: 0;}#sk-container-id-1 div.sk-serial {display: flex;flex-direction: column;align-items: center;background-color: white;padding-right: 0.2em;padding-left: 0.2em;position: relative;}#sk-container-id-1 div.sk-item {position: relative;z-index: 1;}#sk-container-id-1 div.sk-parallel {display: flex;align-items: stretch;justify-content: center;background-color: white;position: relative;}#sk-container-id-1 div.sk-item::before, #sk-container-id-1 div.sk-parallel-item::before {content: \"\";position: absolute;border-left: 1px solid gray;box-sizing: border-box;top: 0;bottom: 0;left: 50%;z-index: -1;}#sk-container-id-1 div.sk-parallel-item {display: flex;flex-direction: column;z-index: 1;position: relative;background-color: white;}#sk-container-id-1 div.sk-parallel-item:first-child::after {align-self: flex-end;width: 50%;}#sk-container-id-1 div.sk-parallel-item:last-child::after {align-self: flex-start;width: 50%;}#sk-container-id-1 div.sk-parallel-item:only-child::after {width: 0;}#sk-container-id-1 div.sk-dashed-wrapped {border: 1px dashed gray;margin: 0 0.4em 0.5em 0.4em;box-sizing: border-box;padding-bottom: 0.4em;background-color: white;}#sk-container-id-1 div.sk-label label {font-family: monospace;font-weight: bold;display: inline-block;line-height: 1.2em;}#sk-container-id-1 div.sk-label-container {text-align: center;}#sk-container-id-1 div.sk-container {/* jupyter's `normalize.less` sets `[hidden] { display: none; }` but bootstrap.min.css set `[hidden] { display: none !important; }` so we also need the `!important` here to be able to override the default hidden behavior on the sphinx rendered scikit-learn.org. See: https://github.com/scikit-learn/scikit-learn/issues/21755 */display: inline-block !important;position: relative;}#sk-container-id-1 div.sk-text-repr-fallback {display: none;}</style><div id=\"sk-container-id-1\" class=\"sk-top-container\"><div class=\"sk-text-repr-fallback\"><pre>PowerTransformer()</pre><b>In a Jupyter environment, please rerun this cell to show the HTML representation or trust the notebook. <br />On GitHub, the HTML representation is unable to render, please try loading this page with nbviewer.org.</b></div><div class=\"sk-container\" hidden><div class=\"sk-item\"><div class=\"sk-estimator sk-toggleable\"><input class=\"sk-toggleable__control sk-hidden--visually\" id=\"sk-estimator-id-1\" type=\"checkbox\" checked><label for=\"sk-estimator-id-1\" class=\"sk-toggleable__label sk-toggleable__label-arrow\">PowerTransformer</label><div class=\"sk-toggleable__content\"><pre>PowerTransformer()</pre></div></div></div></div></div>"
      ],
      "text/plain": [
       "PowerTransformer()"
      ]
     },
     "execution_count": 32,
     "metadata": {},
     "output_type": "execute_result"
    }
   ],
   "source": [
    "# yeo johnson transformation on the target column\n",
    "\n",
    "from sklearn.preprocessing import PowerTransformer\n",
    "\n",
    "pt_target = PowerTransformer()\n",
    "\n",
    "pt_target"
   ]
  },
  {
   "cell_type": "code",
   "execution_count": 33,
   "id": "79b4c159",
   "metadata": {
    "execution": {
     "iopub.execute_input": "2024-03-29T16:03:54.229560Z",
     "iopub.status.busy": "2024-03-29T16:03:54.229027Z",
     "iopub.status.idle": "2024-03-29T16:03:54.236154Z",
     "shell.execute_reply": "2024-03-29T16:03:54.235217Z"
    },
    "papermill": {
     "duration": 0.029211,
     "end_time": "2024-03-29T16:03:54.237995",
     "exception": false,
     "start_time": "2024-03-29T16:03:54.208784",
     "status": "completed"
    },
    "tags": []
   },
   "outputs": [
    {
     "data": {
      "text/plain": [
       "0           455\n",
       "1           663\n",
       "2          2124\n",
       "3           429\n",
       "4           435\n",
       "           ... \n",
       "1458639     778\n",
       "1458640     655\n",
       "1458641     764\n",
       "1458642     373\n",
       "1458643     198\n",
       "Name: trip_duration, Length: 1456548, dtype: int64"
      ]
     },
     "execution_count": 33,
     "metadata": {},
     "output_type": "execute_result"
    }
   ],
   "source": [
    "target_below_200"
   ]
  },
  {
   "cell_type": "code",
   "execution_count": 34,
   "id": "1c989a9e",
   "metadata": {
    "execution": {
     "iopub.execute_input": "2024-03-29T16:03:54.277075Z",
     "iopub.status.busy": "2024-03-29T16:03:54.276697Z",
     "iopub.status.idle": "2024-03-29T16:03:56.255044Z",
     "shell.execute_reply": "2024-03-29T16:03:56.254313Z"
    },
    "papermill": {
     "duration": 2.000223,
     "end_time": "2024-03-29T16:03:56.257133",
     "exception": false,
     "start_time": "2024-03-29T16:03:54.256910",
     "status": "completed"
    },
    "tags": []
   },
   "outputs": [
    {
     "data": {
      "text/html": [
       "<style>#sk-container-id-2 {color: black;background-color: white;}#sk-container-id-2 pre{padding: 0;}#sk-container-id-2 div.sk-toggleable {background-color: white;}#sk-container-id-2 label.sk-toggleable__label {cursor: pointer;display: block;width: 100%;margin-bottom: 0;padding: 0.3em;box-sizing: border-box;text-align: center;}#sk-container-id-2 label.sk-toggleable__label-arrow:before {content: \"▸\";float: left;margin-right: 0.25em;color: #696969;}#sk-container-id-2 label.sk-toggleable__label-arrow:hover:before {color: black;}#sk-container-id-2 div.sk-estimator:hover label.sk-toggleable__label-arrow:before {color: black;}#sk-container-id-2 div.sk-toggleable__content {max-height: 0;max-width: 0;overflow: hidden;text-align: left;background-color: #f0f8ff;}#sk-container-id-2 div.sk-toggleable__content pre {margin: 0.2em;color: black;border-radius: 0.25em;background-color: #f0f8ff;}#sk-container-id-2 input.sk-toggleable__control:checked~div.sk-toggleable__content {max-height: 200px;max-width: 100%;overflow: auto;}#sk-container-id-2 input.sk-toggleable__control:checked~label.sk-toggleable__label-arrow:before {content: \"▾\";}#sk-container-id-2 div.sk-estimator input.sk-toggleable__control:checked~label.sk-toggleable__label {background-color: #d4ebff;}#sk-container-id-2 div.sk-label input.sk-toggleable__control:checked~label.sk-toggleable__label {background-color: #d4ebff;}#sk-container-id-2 input.sk-hidden--visually {border: 0;clip: rect(1px 1px 1px 1px);clip: rect(1px, 1px, 1px, 1px);height: 1px;margin: -1px;overflow: hidden;padding: 0;position: absolute;width: 1px;}#sk-container-id-2 div.sk-estimator {font-family: monospace;background-color: #f0f8ff;border: 1px dotted black;border-radius: 0.25em;box-sizing: border-box;margin-bottom: 0.5em;}#sk-container-id-2 div.sk-estimator:hover {background-color: #d4ebff;}#sk-container-id-2 div.sk-parallel-item::after {content: \"\";width: 100%;border-bottom: 1px solid gray;flex-grow: 1;}#sk-container-id-2 div.sk-label:hover label.sk-toggleable__label {background-color: #d4ebff;}#sk-container-id-2 div.sk-serial::before {content: \"\";position: absolute;border-left: 1px solid gray;box-sizing: border-box;top: 0;bottom: 0;left: 50%;z-index: 0;}#sk-container-id-2 div.sk-serial {display: flex;flex-direction: column;align-items: center;background-color: white;padding-right: 0.2em;padding-left: 0.2em;position: relative;}#sk-container-id-2 div.sk-item {position: relative;z-index: 1;}#sk-container-id-2 div.sk-parallel {display: flex;align-items: stretch;justify-content: center;background-color: white;position: relative;}#sk-container-id-2 div.sk-item::before, #sk-container-id-2 div.sk-parallel-item::before {content: \"\";position: absolute;border-left: 1px solid gray;box-sizing: border-box;top: 0;bottom: 0;left: 50%;z-index: -1;}#sk-container-id-2 div.sk-parallel-item {display: flex;flex-direction: column;z-index: 1;position: relative;background-color: white;}#sk-container-id-2 div.sk-parallel-item:first-child::after {align-self: flex-end;width: 50%;}#sk-container-id-2 div.sk-parallel-item:last-child::after {align-self: flex-start;width: 50%;}#sk-container-id-2 div.sk-parallel-item:only-child::after {width: 0;}#sk-container-id-2 div.sk-dashed-wrapped {border: 1px dashed gray;margin: 0 0.4em 0.5em 0.4em;box-sizing: border-box;padding-bottom: 0.4em;background-color: white;}#sk-container-id-2 div.sk-label label {font-family: monospace;font-weight: bold;display: inline-block;line-height: 1.2em;}#sk-container-id-2 div.sk-label-container {text-align: center;}#sk-container-id-2 div.sk-container {/* jupyter's `normalize.less` sets `[hidden] { display: none; }` but bootstrap.min.css set `[hidden] { display: none !important; }` so we also need the `!important` here to be able to override the default hidden behavior on the sphinx rendered scikit-learn.org. See: https://github.com/scikit-learn/scikit-learn/issues/21755 */display: inline-block !important;position: relative;}#sk-container-id-2 div.sk-text-repr-fallback {display: none;}</style><div id=\"sk-container-id-2\" class=\"sk-top-container\"><div class=\"sk-text-repr-fallback\"><pre>PowerTransformer()</pre><b>In a Jupyter environment, please rerun this cell to show the HTML representation or trust the notebook. <br />On GitHub, the HTML representation is unable to render, please try loading this page with nbviewer.org.</b></div><div class=\"sk-container\" hidden><div class=\"sk-item\"><div class=\"sk-estimator sk-toggleable\"><input class=\"sk-toggleable__control sk-hidden--visually\" id=\"sk-estimator-id-2\" type=\"checkbox\" checked><label for=\"sk-estimator-id-2\" class=\"sk-toggleable__label sk-toggleable__label-arrow\">PowerTransformer</label><div class=\"sk-toggleable__content\"><pre>PowerTransformer()</pre></div></div></div></div></div>"
      ],
      "text/plain": [
       "PowerTransformer()"
      ]
     },
     "execution_count": 34,
     "metadata": {},
     "output_type": "execute_result"
    }
   ],
   "source": [
    "# fit on the training data\n",
    "\n",
    "pt_target.fit(target_below_200.to_frame())"
   ]
  },
  {
   "cell_type": "code",
   "execution_count": 35,
   "id": "841fc0f1",
   "metadata": {
    "execution": {
     "iopub.execute_input": "2024-03-29T16:03:56.297994Z",
     "iopub.status.busy": "2024-03-29T16:03:56.297377Z",
     "iopub.status.idle": "2024-03-29T16:03:56.360591Z",
     "shell.execute_reply": "2024-03-29T16:03:56.359848Z"
    },
    "papermill": {
     "duration": 0.08586,
     "end_time": "2024-03-29T16:03:56.362423",
     "exception": false,
     "start_time": "2024-03-29T16:03:56.276563",
     "status": "completed"
    },
    "tags": []
   },
   "outputs": [
    {
     "data": {
      "text/plain": [
       "array([[-0.50188624],\n",
       "       [-0.01972708],\n",
       "       [ 1.69949474],\n",
       "       ...,\n",
       "       [ 0.17065257],\n",
       "       [-0.74328395],\n",
       "       [-1.45623401]])"
      ]
     },
     "execution_count": 35,
     "metadata": {},
     "output_type": "execute_result"
    }
   ],
   "source": [
    "# transform the target column\n",
    "\n",
    "target_power_trans = pt_target.transform(target_below_200.to_frame())\n",
    "\n",
    "target_power_trans"
   ]
  },
  {
   "cell_type": "code",
   "execution_count": 36,
   "id": "0a95da05",
   "metadata": {
    "execution": {
     "iopub.execute_input": "2024-03-29T16:03:56.402972Z",
     "iopub.status.busy": "2024-03-29T16:03:56.402309Z",
     "iopub.status.idle": "2024-03-29T16:03:56.652247Z",
     "shell.execute_reply": "2024-03-29T16:03:56.651193Z"
    },
    "papermill": {
     "duration": 0.272393,
     "end_time": "2024-03-29T16:03:56.654299",
     "exception": false,
     "start_time": "2024-03-29T16:03:56.381906",
     "status": "completed"
    },
    "tags": []
   },
   "outputs": [
    {
     "data": {
      "image/png": "[encoded data removed]",
      "text/plain": [
       "<Figure size 640x480 with 1 Axes>"
      ]
     },
     "metadata": {},
     "output_type": "display_data"
    }
   ],
   "source": [
    "# boxplot after power transformation\n",
    "\n",
    "sns.boxplot(target_power_trans);"
   ]
  },
  {
   "cell_type": "code",
   "execution_count": 37,
   "id": "6423028c",
   "metadata": {
    "execution": {
     "iopub.execute_input": "2024-03-29T16:03:56.695937Z",
     "iopub.status.busy": "2024-03-29T16:03:56.694930Z",
     "iopub.status.idle": "2024-03-29T16:04:03.410426Z",
     "shell.execute_reply": "2024-03-29T16:04:03.409401Z"
    },
    "papermill": {
     "duration": 6.738317,
     "end_time": "2024-03-29T16:04:03.412728",
     "exception": false,
     "start_time": "2024-03-29T16:03:56.674411",
     "status": "completed"
    },
    "tags": []
   },
   "outputs": [
    {
     "name": "stderr",
     "output_type": "stream",
     "text": [
      "/opt/conda/lib/python3.10/site-packages/seaborn/_oldcore.py:1119: FutureWarning: use_inf_as_na option is deprecated and will be removed in a future version. Convert inf values to NaN before operating instead.\n",
      "  with pd.option_context('mode.use_inf_as_na', True):\n",
      "/opt/conda/lib/python3.10/site-packages/seaborn/_oldcore.py:1075: FutureWarning: When grouping with a length-1 list-like, you will need to pass a length-1 tuple to get_group in a future version of pandas. Pass `(name,)` instead of `name` to silence this warning.\n",
      "  data_subset = grouped_data.get_group(pd_key)\n"
     ]
    },
    {
     "data": {
      "image/png": "[encoded data removed]",
      "text/plain": [
       "<Figure size 640x480 with 1 Axes>"
      ]
     },
     "metadata": {},
     "output_type": "display_data"
    }
   ],
   "source": [
    "# distribution of target after power transformation\n",
    "\n",
    "sns.kdeplot(target_power_trans);"
   ]
  },
  {
   "cell_type": "code",
   "execution_count": 38,
   "id": "d657a587",
   "metadata": {
    "execution": {
     "iopub.execute_input": "2024-03-29T16:04:03.454102Z",
     "iopub.status.busy": "2024-03-29T16:04:03.453709Z",
     "iopub.status.idle": "2024-03-29T16:04:03.490810Z",
     "shell.execute_reply": "2024-03-29T16:04:03.489505Z"
    },
    "papermill": {
     "duration": 0.060852,
     "end_time": "2024-03-29T16:04:03.493385",
     "exception": false,
     "start_time": "2024-03-29T16:04:03.432533",
     "status": "completed"
    },
    "tags": []
   },
   "outputs": [
    {
     "name": "stdout",
     "output_type": "stream",
     "text": [
      "The skewness of target before power transformation 2.337972890769571\n",
      "\n",
      "Skewness of target after power transformation 0.032368541395952605\n"
     ]
    }
   ],
   "source": [
    "print('The skewness of target before power transformation',target_below_200.skew())\n",
    "\n",
    "print('\\nSkewness of target after power transformation',pd.Series(target_power_trans.ravel()).skew())"
   ]
  },
  {
   "cell_type": "markdown",
   "id": "1884b001",
   "metadata": {
    "papermill": {
     "duration": 0.019301,
     "end_time": "2024-03-29T16:04:03.532748",
     "exception": false,
     "start_time": "2024-03-29T16:04:03.513447",
     "status": "completed"
    },
    "tags": []
   },
   "source": [
    "**It is quite evident fronm the observations that for the given dataset yeo-johnson technique works better as compared to the others**"
   ]
  },
  {
   "cell_type": "code",
   "execution_count": 39,
   "id": "582a264b",
   "metadata": {
    "execution": {
     "iopub.execute_input": "2024-03-29T16:04:03.574161Z",
     "iopub.status.busy": "2024-03-29T16:04:03.573297Z",
     "iopub.status.idle": "2024-03-29T16:04:03.579393Z",
     "shell.execute_reply": "2024-03-29T16:04:03.578426Z"
    },
    "papermill": {
     "duration": 0.02945,
     "end_time": "2024-03-29T16:04:03.581769",
     "exception": false,
     "start_time": "2024-03-29T16:04:03.552319",
     "status": "completed"
    },
    "tags": []
   },
   "outputs": [
    {
     "data": {
      "text/plain": [
       "0.1816048673119821"
      ]
     },
     "execution_count": 39,
     "metadata": {},
     "output_type": "execute_result"
    }
   ],
   "source": [
    "pt_target.lambdas_[0]"
   ]
  },
  {
   "cell_type": "code",
   "execution_count": 40,
   "id": "7aadf0c2",
   "metadata": {
    "execution": {
     "iopub.execute_input": "2024-03-29T16:04:03.623744Z",
     "iopub.status.busy": "2024-03-29T16:04:03.622806Z",
     "iopub.status.idle": "2024-03-29T16:04:06.569567Z",
     "shell.execute_reply": "2024-03-29T16:04:06.568494Z"
    },
    "papermill": {
     "duration": 2.969987,
     "end_time": "2024-03-29T16:04:06.571635",
     "exception": false,
     "start_time": "2024-03-29T16:04:03.601648",
     "status": "completed"
    },
    "tags": []
   },
   "outputs": [
    {
     "data": {
      "text/html": [
       "<div>\n",
       "<style scoped>\n",
       "    .dataframe tbody tr th:only-of-type {\n",
       "        vertical-align: middle;\n",
       "    }\n",
       "\n",
       "    .dataframe tbody tr th {\n",
       "        vertical-align: top;\n",
       "    }\n",
       "\n",
       "    .dataframe thead th {\n",
       "        text-align: right;\n",
       "    }\n",
       "</style>\n",
       "<table border=\"1\" class=\"dataframe\">\n",
       "  <thead>\n",
       "    <tr style=\"text-align: right;\">\n",
       "      <th></th>\n",
       "      <th>methods</th>\n",
       "      <th>skewness</th>\n",
       "      <th>lambdas</th>\n",
       "    </tr>\n",
       "  </thead>\n",
       "  <tbody>\n",
       "    <tr>\n",
       "      <th>0</th>\n",
       "      <td>original</td>\n",
       "      <td>2.337973</td>\n",
       "      <td>NaN</td>\n",
       "    </tr>\n",
       "    <tr>\n",
       "      <th>1</th>\n",
       "      <td>yeo-johnson</td>\n",
       "      <td>0.032369</td>\n",
       "      <td>0.182</td>\n",
       "    </tr>\n",
       "    <tr>\n",
       "      <th>2</th>\n",
       "      <td>box-cox</td>\n",
       "      <td>0.032369</td>\n",
       "      <td>0.187</td>\n",
       "    </tr>\n",
       "  </tbody>\n",
       "</table>\n",
       "</div>"
      ],
      "text/plain": [
       "       methods  skewness lambdas\n",
       "0     original  2.337973     NaN\n",
       "1  yeo-johnson  0.032369   0.182\n",
       "2      box-cox  0.032369   0.187"
      ]
     },
     "execution_count": 40,
     "metadata": {},
     "output_type": "execute_result"
    }
   ],
   "source": [
    "# apply both the techniques and compare skeness\n",
    "\n",
    "transformation_methods = ['yeo-johnson','box-cox']\n",
    "\n",
    "skewness = [target_below_200.skew()]\n",
    "methods = ['original']\n",
    "lambdas = [np.NaN]\n",
    "\n",
    "for method in transformation_methods:\n",
    "    methods.append(method)\n",
    "    pt_target = PowerTransformer(method=method)\n",
    "    # fit  and transform on the training data\n",
    "    target_trans = pt_target.fit(target_below_200.to_frame())\n",
    "    # skewness after transform\n",
    "    skew = pd.Series(target_power_trans.ravel()).skew()\n",
    "    skewness.append(skew)\n",
    "    # get the lambda value\n",
    "    lambdas.append(f'{pt_target.lambdas_[0]:.3f}')\n",
    "    \n",
    "results_df = pd.DataFrame(data={\n",
    "    'methods':methods,\n",
    "    'skewness':skewness,\n",
    "    'lambdas':lambdas\n",
    "})\n",
    "\n",
    "results_df"
   ]
  },
  {
   "cell_type": "markdown",
   "id": "d8937569",
   "metadata": {
    "papermill": {
     "duration": 0.01989,
     "end_time": "2024-03-29T16:04:06.611932",
     "exception": false,
     "start_time": "2024-03-29T16:04:06.592042",
     "status": "completed"
    },
    "tags": []
   },
   "source": [
    "## Outlier Removal from Lat/Long columns"
   ]
  },
  {
   "cell_type": "code",
   "execution_count": 41,
   "id": "44a683d2",
   "metadata": {
    "execution": {
     "iopub.execute_input": "2024-03-29T16:04:06.654073Z",
     "iopub.status.busy": "2024-03-29T16:04:06.653726Z",
     "iopub.status.idle": "2024-03-29T16:04:06.658029Z",
     "shell.execute_reply": "2024-03-29T16:04:06.657088Z"
    },
    "papermill": {
     "duration": 0.027864,
     "end_time": "2024-03-29T16:04:06.660037",
     "exception": false,
     "start_time": "2024-03-29T16:04:06.632173",
     "status": "completed"
    },
    "tags": []
   },
   "outputs": [],
   "source": [
    "import matplotlib.pyplot as plt"
   ]
  },
  {
   "cell_type": "code",
   "execution_count": 42,
   "id": "22a5f210",
   "metadata": {
    "execution": {
     "iopub.execute_input": "2024-03-29T16:04:06.703004Z",
     "iopub.status.busy": "2024-03-29T16:04:06.702659Z",
     "iopub.status.idle": "2024-03-29T16:04:06.784450Z",
     "shell.execute_reply": "2024-03-29T16:04:06.783404Z"
    },
    "papermill": {
     "duration": 0.105759,
     "end_time": "2024-03-29T16:04:06.786627",
     "exception": false,
     "start_time": "2024-03-29T16:04:06.680868",
     "status": "completed"
    },
    "tags": []
   },
   "outputs": [
    {
     "data": {
      "text/html": [
       "<div>\n",
       "<style scoped>\n",
       "    .dataframe tbody tr th:only-of-type {\n",
       "        vertical-align: middle;\n",
       "    }\n",
       "\n",
       "    .dataframe tbody tr th {\n",
       "        vertical-align: top;\n",
       "    }\n",
       "\n",
       "    .dataframe thead th {\n",
       "        text-align: right;\n",
       "    }\n",
       "</style>\n",
       "<table border=\"1\" class=\"dataframe\">\n",
       "  <thead>\n",
       "    <tr style=\"text-align: right;\">\n",
       "      <th></th>\n",
       "      <th>vendor_id</th>\n",
       "      <th>pickup_datetime</th>\n",
       "      <th>passenger_count</th>\n",
       "      <th>pickup_longitude</th>\n",
       "      <th>pickup_latitude</th>\n",
       "      <th>dropoff_longitude</th>\n",
       "      <th>dropoff_latitude</th>\n",
       "      <th>trip_duration</th>\n",
       "    </tr>\n",
       "  </thead>\n",
       "  <tbody>\n",
       "    <tr>\n",
       "      <th>0</th>\n",
       "      <td>2</td>\n",
       "      <td>2016-03-14 17:24:55</td>\n",
       "      <td>1</td>\n",
       "      <td>-73.982155</td>\n",
       "      <td>40.767937</td>\n",
       "      <td>-73.964630</td>\n",
       "      <td>40.765602</td>\n",
       "      <td>455</td>\n",
       "    </tr>\n",
       "    <tr>\n",
       "      <th>1</th>\n",
       "      <td>1</td>\n",
       "      <td>2016-06-12 00:43:35</td>\n",
       "      <td>1</td>\n",
       "      <td>-73.980415</td>\n",
       "      <td>40.738564</td>\n",
       "      <td>-73.999481</td>\n",
       "      <td>40.731152</td>\n",
       "      <td>663</td>\n",
       "    </tr>\n",
       "    <tr>\n",
       "      <th>2</th>\n",
       "      <td>2</td>\n",
       "      <td>2016-01-19 11:35:24</td>\n",
       "      <td>1</td>\n",
       "      <td>-73.979027</td>\n",
       "      <td>40.763939</td>\n",
       "      <td>-74.005333</td>\n",
       "      <td>40.710087</td>\n",
       "      <td>2124</td>\n",
       "    </tr>\n",
       "    <tr>\n",
       "      <th>3</th>\n",
       "      <td>2</td>\n",
       "      <td>2016-04-06 19:32:31</td>\n",
       "      <td>1</td>\n",
       "      <td>-74.010040</td>\n",
       "      <td>40.719971</td>\n",
       "      <td>-74.012268</td>\n",
       "      <td>40.706718</td>\n",
       "      <td>429</td>\n",
       "    </tr>\n",
       "    <tr>\n",
       "      <th>4</th>\n",
       "      <td>2</td>\n",
       "      <td>2016-03-26 13:30:55</td>\n",
       "      <td>1</td>\n",
       "      <td>-73.973053</td>\n",
       "      <td>40.793209</td>\n",
       "      <td>-73.972923</td>\n",
       "      <td>40.782520</td>\n",
       "      <td>435</td>\n",
       "    </tr>\n",
       "  </tbody>\n",
       "</table>\n",
       "</div>"
      ],
      "text/plain": [
       "   vendor_id      pickup_datetime  passenger_count  pickup_longitude  \\\n",
       "0          2  2016-03-14 17:24:55                1        -73.982155   \n",
       "1          1  2016-06-12 00:43:35                1        -73.980415   \n",
       "2          2  2016-01-19 11:35:24                1        -73.979027   \n",
       "3          2  2016-04-06 19:32:31                1        -74.010040   \n",
       "4          2  2016-03-26 13:30:55                1        -73.973053   \n",
       "\n",
       "   pickup_latitude  dropoff_longitude  dropoff_latitude  trip_duration  \n",
       "0        40.767937         -73.964630         40.765602            455  \n",
       "1        40.738564         -73.999481         40.731152            663  \n",
       "2        40.763939         -74.005333         40.710087           2124  \n",
       "3        40.719971         -74.012268         40.706718            429  \n",
       "4        40.793209         -73.972923         40.782520            435  "
      ]
     },
     "execution_count": 42,
     "metadata": {},
     "output_type": "execute_result"
    }
   ],
   "source": [
    "new_df = train_df.loc[train_df['trip_duration'] <= DURATION_THRESH,:]\n",
    "\n",
    "new_df.head()"
   ]
  },
  {
   "cell_type": "code",
   "execution_count": 43,
   "id": "1369eafe",
   "metadata": {
    "execution": {
     "iopub.execute_input": "2024-03-29T16:04:06.830333Z",
     "iopub.status.busy": "2024-03-29T16:04:06.829312Z",
     "iopub.status.idle": "2024-03-29T16:04:06.837711Z",
     "shell.execute_reply": "2024-03-29T16:04:06.836921Z"
    },
    "papermill": {
     "duration": 0.032318,
     "end_time": "2024-03-29T16:04:06.839704",
     "exception": false,
     "start_time": "2024-03-29T16:04:06.807386",
     "status": "completed"
    },
    "tags": []
   },
   "outputs": [],
   "source": [
    "# distribution of lat long columns\n",
    "\n",
    "def plot_density_plots(df):\n",
    "    fig, (ax1,ax2) = plt.subplots(nrows=2,ncols=2,figsize=(15,10))\n",
    "    # density plot for pickup latitude\n",
    "    sns.kdeplot(data=df,x='pickup_latitude',ax=ax1[0])\n",
    "    # density plot for dropoff latitude\n",
    "    sns.kdeplot(data=df,x='dropoff_latitude',ax=ax1[1])\n",
    "    # density plot for pickup longitude\n",
    "    sns.kdeplot(data=df,x='pickup_longitude',ax=ax2[0])\n",
    "    # density plot for pickup longitude\n",
    "    sns.kdeplot(data=df,x='dropoff_longitude',ax=ax2[1])\n",
    "    \n",
    "    \n",
    "def plot_boxplots(df):\n",
    "    fig, (ax1,ax2) = plt.subplots(nrows=2,ncols=2,figsize=(15,10))\n",
    "    # density plot for pickup latitude\n",
    "    sns.boxplot(data=df,y='pickup_latitude',ax=ax1[0])\n",
    "    # density plot for dropoff latitude\n",
    "    sns.boxplot(data=df,y='dropoff_latitude',ax=ax1[1])\n",
    "    # density plot for pickup longitude\n",
    "    sns.boxplot(data=df,y='pickup_longitude',ax=ax2[0])\n",
    "    # density plot for pickup longitude\n",
    "    sns.boxplot(data=df,y='dropoff_longitude',ax=ax2[1])\n"
   ]
  },
  {
   "cell_type": "code",
   "execution_count": 44,
   "id": "ec4c24cf",
   "metadata": {
    "execution": {
     "iopub.execute_input": "2024-03-29T16:04:06.882147Z",
     "iopub.status.busy": "2024-03-29T16:04:06.881810Z",
     "iopub.status.idle": "2024-03-29T16:04:29.821882Z",
     "shell.execute_reply": "2024-03-29T16:04:29.819193Z"
    },
    "papermill": {
     "duration": 22.964048,
     "end_time": "2024-03-29T16:04:29.824187",
     "exception": false,
     "start_time": "2024-03-29T16:04:06.860139",
     "status": "completed"
    },
    "tags": []
   },
   "outputs": [
    {
     "name": "stderr",
     "output_type": "stream",
     "text": [
      "/opt/conda/lib/python3.10/site-packages/seaborn/_oldcore.py:1119: FutureWarning: use_inf_as_na option is deprecated and will be removed in a future version. Convert inf values to NaN before operating instead.\n",
      "  with pd.option_context('mode.use_inf_as_na', True):\n",
      "/opt/conda/lib/python3.10/site-packages/seaborn/_oldcore.py:1119: FutureWarning: use_inf_as_na option is deprecated and will be removed in a future version. Convert inf values to NaN before operating instead.\n",
      "  with pd.option_context('mode.use_inf_as_na', True):\n",
      "/opt/conda/lib/python3.10/site-packages/seaborn/_oldcore.py:1119: FutureWarning: use_inf_as_na option is deprecated and will be removed in a future version. Convert inf values to NaN before operating instead.\n",
      "  with pd.option_context('mode.use_inf_as_na', True):\n",
      "/opt/conda/lib/python3.10/site-packages/seaborn/_oldcore.py:1119: FutureWarning: use_inf_as_na option is deprecated and will be removed in a future version. Convert inf values to NaN before operating instead.\n",
      "  with pd.option_context('mode.use_inf_as_na', True):\n"
     ]
    },
    {
     "data": {
      "image/png": "[encoded data removed]",
      "text/plain": [
       "<Figure size 1500x1000 with 4 Axes>"
      ]
     },
     "metadata": {},
     "output_type": "display_data"
    }
   ],
   "source": [
    "# plot density plots\n",
    "\n",
    "plot_density_plots(new_df)"
   ]
  },
  {
   "cell_type": "code",
   "execution_count": 45,
   "id": "0f8fce87",
   "metadata": {
    "execution": {
     "iopub.execute_input": "2024-03-29T16:04:29.870079Z",
     "iopub.status.busy": "2024-03-29T16:04:29.869335Z",
     "iopub.status.idle": "2024-03-29T16:04:31.834849Z",
     "shell.execute_reply": "2024-03-29T16:04:31.833700Z"
    },
    "papermill": {
     "duration": 1.990859,
     "end_time": "2024-03-29T16:04:31.837122",
     "exception": false,
     "start_time": "2024-03-29T16:04:29.846263",
     "status": "completed"
    },
    "tags": []
   },
   "outputs": [
    {
     "data": {
      "image/png": "[encoded data removed]",
      "text/plain": [
       "<Figure size 1500x1000 with 4 Axes>"
      ]
     },
     "metadata": {},
     "output_type": "display_data"
    }
   ],
   "source": [
    "# plot boxplots\n",
    "\n",
    "plot_boxplots(new_df)"
   ]
  },
  {
   "cell_type": "code",
   "execution_count": 46,
   "id": "5804bf62",
   "metadata": {
    "execution": {
     "iopub.execute_input": "2024-03-29T16:04:31.884320Z",
     "iopub.status.busy": "2024-03-29T16:04:31.883928Z",
     "iopub.status.idle": "2024-03-29T16:04:31.888580Z",
     "shell.execute_reply": "2024-03-29T16:04:31.887586Z"
    },
    "papermill": {
     "duration": 0.030704,
     "end_time": "2024-03-29T16:04:31.890526",
     "exception": false,
     "start_time": "2024-03-29T16:04:31.859822",
     "status": "completed"
    },
    "tags": []
   },
   "outputs": [],
   "source": [
    "PERCENTILE_VALUES = (0.001,0.999)"
   ]
  },
  {
   "cell_type": "code",
   "execution_count": 47,
   "id": "43238eaf",
   "metadata": {
    "execution": {
     "iopub.execute_input": "2024-03-29T16:04:31.936605Z",
     "iopub.status.busy": "2024-03-29T16:04:31.936207Z",
     "iopub.status.idle": "2024-03-29T16:04:31.942204Z",
     "shell.execute_reply": "2024-03-29T16:04:31.941514Z"
    },
    "papermill": {
     "duration": 0.031154,
     "end_time": "2024-03-29T16:04:31.943985",
     "exception": false,
     "start_time": "2024-03-29T16:04:31.912831",
     "status": "completed"
    },
    "tags": []
   },
   "outputs": [],
   "source": [
    "# function to remove outliers from data\n",
    "\n",
    "def remove_outliers(percentiles,column_names):\n",
    "    original_number_of_rows = new_df.shape[0]\n",
    "    rows_removed = {}\n",
    "    df_after_removal = new_df.copy()\n",
    "    for column_name in column_names:\n",
    "        # calculate the values in data for the given percentiles\n",
    "        quantile_values = new_df[column_name].quantile(list(percentiles))\n",
    "        # create data filter\n",
    "        data_filter = (new_df[column_name] >= quantile_values.iloc[0]) & (new_df[column_name] <= quantile_values.iloc[1])\n",
    "        # filter out the data\n",
    "        df_after_removal = df_after_removal.loc[data_filter,:]\n",
    "        # number of rows removed \n",
    "        rows_removed[column_name] = original_number_of_rows - df_after_removal.shape[0]\n",
    "        # set the number of rows\n",
    "        original_number_of_rows = df_after_removal.shape[0]\n",
    "    print(rows_removed)\n",
    "    \n",
    "    return df_after_removal, rows_removed"
   ]
  },
  {
   "cell_type": "code",
   "execution_count": 48,
   "id": "8e0daf70",
   "metadata": {
    "execution": {
     "iopub.execute_input": "2024-03-29T16:04:31.990545Z",
     "iopub.status.busy": "2024-03-29T16:04:31.989840Z",
     "iopub.status.idle": "2024-03-29T16:04:31.995633Z",
     "shell.execute_reply": "2024-03-29T16:04:31.994883Z"
    },
    "papermill": {
     "duration": 0.031197,
     "end_time": "2024-03-29T16:04:31.997428",
     "exception": false,
     "start_time": "2024-03-29T16:04:31.966231",
     "status": "completed"
    },
    "tags": []
   },
   "outputs": [
    {
     "data": {
      "text/plain": [
       "Index(['pickup_longitude', 'pickup_latitude', 'dropoff_longitude',\n",
       "       'dropoff_latitude'],\n",
       "      dtype='object')"
      ]
     },
     "execution_count": 48,
     "metadata": {},
     "output_type": "execute_result"
    }
   ],
   "source": [
    "new_df.columns[3:7]"
   ]
  },
  {
   "cell_type": "code",
   "execution_count": 49,
   "id": "a3899035",
   "metadata": {
    "execution": {
     "iopub.execute_input": "2024-03-29T16:04:32.044066Z",
     "iopub.status.busy": "2024-03-29T16:04:32.043363Z",
     "iopub.status.idle": "2024-03-29T16:04:32.049114Z",
     "shell.execute_reply": "2024-03-29T16:04:32.048419Z"
    },
    "papermill": {
     "duration": 0.031123,
     "end_time": "2024-03-29T16:04:32.050921",
     "exception": false,
     "start_time": "2024-03-29T16:04:32.019798",
     "status": "completed"
    },
    "tags": []
   },
   "outputs": [
    {
     "data": {
      "text/plain": [
       "Index(['pickup_longitude', 'pickup_latitude', 'dropoff_longitude',\n",
       "       'dropoff_latitude'],\n",
       "      dtype='object')"
      ]
     },
     "execution_count": 49,
     "metadata": {},
     "output_type": "execute_result"
    }
   ],
   "source": [
    "# columns to remove outliers from\n",
    "\n",
    "outlier_cols = new_df.columns[3:7]\n",
    "\n",
    "outlier_cols"
   ]
  },
  {
   "cell_type": "code",
   "execution_count": 50,
   "id": "3e1faa55",
   "metadata": {
    "execution": {
     "iopub.execute_input": "2024-03-29T16:04:32.098075Z",
     "iopub.status.busy": "2024-03-29T16:04:32.097375Z",
     "iopub.status.idle": "2024-03-29T16:04:32.726875Z",
     "shell.execute_reply": "2024-03-29T16:04:32.725721Z"
    },
    "papermill": {
     "duration": 0.655314,
     "end_time": "2024-03-29T16:04:32.728886",
     "exception": false,
     "start_time": "2024-03-29T16:04:32.073572",
     "status": "completed"
    },
    "tags": []
   },
   "outputs": [
    {
     "name": "stdout",
     "output_type": "stream",
     "text": [
      "{'pickup_longitude': 2763, 'pickup_latitude': 2585, 'dropoff_longitude': 2514, 'dropoff_latitude': 2311}\n"
     ]
    }
   ],
   "source": [
    "# remove outliers from data\n",
    "\n",
    "df_without_outliers,removal_dict = remove_outliers(percentiles=PERCENTILE_VALUES,column_names=outlier_cols)"
   ]
  },
  {
   "cell_type": "code",
   "execution_count": 51,
   "id": "5fd6bfda",
   "metadata": {
    "execution": {
     "iopub.execute_input": "2024-03-29T16:04:32.775975Z",
     "iopub.status.busy": "2024-03-29T16:04:32.774935Z",
     "iopub.status.idle": "2024-03-29T16:04:32.780591Z",
     "shell.execute_reply": "2024-03-29T16:04:32.779861Z"
    },
    "papermill": {
     "duration": 0.031087,
     "end_time": "2024-03-29T16:04:32.782309",
     "exception": false,
     "start_time": "2024-03-29T16:04:32.751222",
     "status": "completed"
    },
    "tags": []
   },
   "outputs": [
    {
     "data": {
      "text/plain": [
       "{'pickup_longitude': 2763,\n",
       " 'pickup_latitude': 2585,\n",
       " 'dropoff_longitude': 2514,\n",
       " 'dropoff_latitude': 2311}"
      ]
     },
     "execution_count": 51,
     "metadata": {},
     "output_type": "execute_result"
    }
   ],
   "source": [
    "removal_dict"
   ]
  },
  {
   "cell_type": "code",
   "execution_count": 52,
   "id": "860d0215",
   "metadata": {
    "execution": {
     "iopub.execute_input": "2024-03-29T16:04:32.830794Z",
     "iopub.status.busy": "2024-03-29T16:04:32.830140Z",
     "iopub.status.idle": "2024-03-29T16:04:32.835922Z",
     "shell.execute_reply": "2024-03-29T16:04:32.834954Z"
    },
    "papermill": {
     "duration": 0.032813,
     "end_time": "2024-03-29T16:04:32.838044",
     "exception": false,
     "start_time": "2024-03-29T16:04:32.805231",
     "status": "completed"
    },
    "tags": []
   },
   "outputs": [
    {
     "data": {
      "text/plain": [
       "10173"
      ]
     },
     "execution_count": 52,
     "metadata": {},
     "output_type": "execute_result"
    }
   ],
   "source": [
    "sum(removal_dict.values())"
   ]
  },
  {
   "cell_type": "code",
   "execution_count": 53,
   "id": "5c243e6f",
   "metadata": {
    "execution": {
     "iopub.execute_input": "2024-03-29T16:04:32.885372Z",
     "iopub.status.busy": "2024-03-29T16:04:32.884853Z",
     "iopub.status.idle": "2024-03-29T16:04:32.890679Z",
     "shell.execute_reply": "2024-03-29T16:04:32.889721Z"
    },
    "papermill": {
     "duration": 0.031804,
     "end_time": "2024-03-29T16:04:32.892741",
     "exception": false,
     "start_time": "2024-03-29T16:04:32.860937",
     "status": "completed"
    },
    "tags": []
   },
   "outputs": [
    {
     "name": "stdout",
     "output_type": "stream",
     "text": [
      "Percentage of data points removed after outlier removal from Lat/Long columns is 0.70%\n"
     ]
    }
   ],
   "source": [
    "# percentage of data points removed after outliers removal\n",
    "\n",
    "per_of_data_removed = (new_df.shape[0] - df_without_outliers.shape[0])/new_df.shape[0]\n",
    "\n",
    "print(f'Percentage of data points removed after outlier removal from Lat/Long columns is {per_of_data_removed:.2%}')"
   ]
  },
  {
   "cell_type": "code",
   "execution_count": 54,
   "id": "06212b8c",
   "metadata": {
    "execution": {
     "iopub.execute_input": "2024-03-29T16:04:32.940805Z",
     "iopub.status.busy": "2024-03-29T16:04:32.939888Z",
     "iopub.status.idle": "2024-03-29T16:04:57.677230Z",
     "shell.execute_reply": "2024-03-29T16:04:57.676097Z"
    },
    "papermill": {
     "duration": 24.764193,
     "end_time": "2024-03-29T16:04:57.679890",
     "exception": false,
     "start_time": "2024-03-29T16:04:32.915697",
     "status": "completed"
    },
    "tags": []
   },
   "outputs": [
    {
     "name": "stderr",
     "output_type": "stream",
     "text": [
      "/opt/conda/lib/python3.10/site-packages/seaborn/_oldcore.py:1119: FutureWarning: use_inf_as_na option is deprecated and will be removed in a future version. Convert inf values to NaN before operating instead.\n",
      "  with pd.option_context('mode.use_inf_as_na', True):\n",
      "/opt/conda/lib/python3.10/site-packages/seaborn/_oldcore.py:1119: FutureWarning: use_inf_as_na option is deprecated and will be removed in a future version. Convert inf values to NaN before operating instead.\n",
      "  with pd.option_context('mode.use_inf_as_na', True):\n",
      "/opt/conda/lib/python3.10/site-packages/seaborn/_oldcore.py:1119: FutureWarning: use_inf_as_na option is deprecated and will be removed in a future version. Convert inf values to NaN before operating instead.\n",
      "  with pd.option_context('mode.use_inf_as_na', True):\n",
      "/opt/conda/lib/python3.10/site-packages/seaborn/_oldcore.py:1119: FutureWarning: use_inf_as_na option is deprecated and will be removed in a future version. Convert inf values to NaN before operating instead.\n",
      "  with pd.option_context('mode.use_inf_as_na', True):\n"
     ]
    },
    {
     "data": {
      "image/png": "[encoded data removed]",
      "text/plain": [
       "<Figure size 1500x1000 with 4 Axes>"
      ]
     },
     "metadata": {},
     "output_type": "display_data"
    }
   ],
   "source": [
    "# plot density plots after outlier_removal\n",
    "\n",
    "plot_density_plots(df_without_outliers)"
   ]
  },
  {
   "cell_type": "code",
   "execution_count": 55,
   "id": "6950b784",
   "metadata": {
    "execution": {
     "iopub.execute_input": "2024-03-29T16:04:57.732030Z",
     "iopub.status.busy": "2024-03-29T16:04:57.731382Z",
     "iopub.status.idle": "2024-03-29T16:04:59.611422Z",
     "shell.execute_reply": "2024-03-29T16:04:59.610318Z"
    },
    "papermill": {
     "duration": 1.908832,
     "end_time": "2024-03-29T16:04:59.613747",
     "exception": false,
     "start_time": "2024-03-29T16:04:57.704915",
     "status": "completed"
    },
    "tags": []
   },
   "outputs": [
    {
     "data": {
      "image/png": "[encoded data removed]",
      "text/plain": [
       "<Figure size 1500x1000 with 4 Axes>"
      ]
     },
     "metadata": {},
     "output_type": "display_data"
    }
   ],
   "source": [
    "# plot boxplots after outlier removal\n",
    "\n",
    "plot_boxplots(df_without_outliers)"
   ]
  },
  {
   "cell_type": "code",
   "execution_count": 56,
   "id": "2d6dc8c1",
   "metadata": {
    "execution": {
     "iopub.execute_input": "2024-03-29T16:04:59.666938Z",
     "iopub.status.busy": "2024-03-29T16:04:59.666577Z",
     "iopub.status.idle": "2024-03-29T16:04:59.751922Z",
     "shell.execute_reply": "2024-03-29T16:04:59.750686Z"
    },
    "papermill": {
     "duration": 0.114287,
     "end_time": "2024-03-29T16:04:59.753993",
     "exception": false,
     "start_time": "2024-03-29T16:04:59.639706",
     "status": "completed"
    },
    "tags": []
   },
   "outputs": [
    {
     "data": {
      "text/html": [
       "<div>\n",
       "<style scoped>\n",
       "    .dataframe tbody tr th:only-of-type {\n",
       "        vertical-align: middle;\n",
       "    }\n",
       "\n",
       "    .dataframe tbody tr th {\n",
       "        vertical-align: top;\n",
       "    }\n",
       "\n",
       "    .dataframe thead th {\n",
       "        text-align: right;\n",
       "    }\n",
       "</style>\n",
       "<table border=\"1\" class=\"dataframe\">\n",
       "  <thead>\n",
       "    <tr style=\"text-align: right;\">\n",
       "      <th></th>\n",
       "      <th>skewness</th>\n",
       "    </tr>\n",
       "  </thead>\n",
       "  <tbody>\n",
       "    <tr>\n",
       "      <th>pickup_longitude</th>\n",
       "      <td>3.312482</td>\n",
       "    </tr>\n",
       "    <tr>\n",
       "      <th>pickup_latitude</th>\n",
       "      <td>-1.118306</td>\n",
       "    </tr>\n",
       "    <tr>\n",
       "      <th>dropoff_longitude</th>\n",
       "      <td>2.548335</td>\n",
       "    </tr>\n",
       "    <tr>\n",
       "      <th>dropoff_latitude</th>\n",
       "      <td>-0.473297</td>\n",
       "    </tr>\n",
       "  </tbody>\n",
       "</table>\n",
       "</div>"
      ],
      "text/plain": [
       "                   skewness\n",
       "pickup_longitude   3.312482\n",
       "pickup_latitude   -1.118306\n",
       "dropoff_longitude  2.548335\n",
       "dropoff_latitude  -0.473297"
      ]
     },
     "execution_count": 56,
     "metadata": {},
     "output_type": "execute_result"
    }
   ],
   "source": [
    "# skewness of lat/long columns\n",
    "\n",
    "df_without_outliers[outlier_cols].skew().to_frame(name='skewness')"
   ]
  },
  {
   "cell_type": "code",
   "execution_count": null,
   "id": "29c6e79e",
   "metadata": {
    "papermill": {
     "duration": 0.025952,
     "end_time": "2024-03-29T16:04:59.805590",
     "exception": false,
     "start_time": "2024-03-29T16:04:59.779638",
     "status": "completed"
    },
    "tags": []
   },
   "outputs": [],
   "source": []
  }
 ],
 "metadata": {
  "kaggle": {
   "accelerator": "none",
   "dataSources": [
    {
     "databundleVersionId": 44258,
     "sourceId": 6960,
     "sourceType": "competition"
    }
   ],
   "dockerImageVersionId": 30673,
   "isGpuEnabled": false,
   "isInternetEnabled": true,
   "language": "python",
   "sourceType": "notebook"
  },
  "kernelspec": {
   "display_name": "Python 3",
   "language": "python",
   "name": "python3"
  },
  "language_info": {
   "codemirror_mode": {
    "name": "ipython",
    "version": 3
   },
   "file_extension": ".py",
   "mimetype": "text/x-python",
   "name": "python",
   "nbconvert_exporter": "python",
   "pygments_lexer": "ipython3",
   "version": "3.10.13"
  },
  "papermill": {
   "default_parameters": {},
   "duration": 116.930415,
   "end_time": "2024-03-29T16:05:00.552563",
   "environment_variables": {},
   "exception": null,
   "input_path": "__notebook__.ipynb",
   "output_path": "__notebook__.ipynb",
   "parameters": {},
   "start_time": "2024-03-29T16:03:03.622148",
   "version": "2.5.0"
  }
 },
 "nbformat": 4,
 "nbformat_minor": 5
}
