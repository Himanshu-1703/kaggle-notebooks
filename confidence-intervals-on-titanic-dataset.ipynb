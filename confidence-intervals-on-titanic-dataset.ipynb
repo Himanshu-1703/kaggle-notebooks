{
 "cells": [
  {
   "cell_type": "code",
   "execution_count": 1,
   "id": "2b0a2b1b",
   "metadata": {
    "_cell_guid": "b1076dfc-b9ad-4769-8c92-a6c4dae69d19",
    "_uuid": "8f2839f25d086af736a60e9eeb907d3b93b6e0e5",
    "execution": {
     "iopub.execute_input": "2024-01-09T14:16:58.702329Z",
     "iopub.status.busy": "2024-01-09T14:16:58.701639Z",
     "iopub.status.idle": "2024-01-09T14:16:59.138102Z",
     "shell.execute_reply": "2024-01-09T14:16:59.136942Z"
    },
    "papermill": {
     "duration": 0.455551,
     "end_time": "2024-01-09T14:16:59.141131",
     "exception": false,
     "start_time": "2024-01-09T14:16:58.685580",
     "status": "completed"
    },
    "tags": []
   },
   "outputs": [
    {
     "name": "stdout",
     "output_type": "stream",
     "text": [
      "/kaggle/input/titanic/train.csv\n",
      "/kaggle/input/titanic/test.csv\n",
      "/kaggle/input/titanic/gender_submission.csv\n"
     ]
    }
   ],
   "source": [
    "# This Python 3 environment comes with many helpful analytics libraries installed\n",
    "# It is defined by the kaggle/python Docker image: https://github.com/kaggle/docker-python\n",
    "# For example, here's several helpful packages to load\n",
    "\n",
    "import numpy as np # linear algebra\n",
    "import pandas as pd # data processing, CSV file I/O (e.g. pd.read_csv)\n",
    "\n",
    "# Input data files are available in the read-only \"../input/\" directory\n",
    "# For example, running this (by clicking run or pressing Shift+Enter) will list all files under the input directory\n",
    "\n",
    "import os\n",
    "for dirname, _, filenames in os.walk('/kaggle/input'):\n",
    "    for filename in filenames:\n",
    "        print(os.path.join(dirname, filename))\n",
    "\n",
    "# You can write up to 20GB to the current directory (/kaggle/working/) that gets preserved as output when you create a version using \"Save & Run All\" \n",
    "# You can also write temporary files to /kaggle/temp/, but they won't be saved outside of the current session"
   ]
  },
  {
   "cell_type": "code",
   "execution_count": 2,
   "id": "447ef73b",
   "metadata": {
    "execution": {
     "iopub.execute_input": "2024-01-09T14:16:59.171901Z",
     "iopub.status.busy": "2024-01-09T14:16:59.171357Z",
     "iopub.status.idle": "2024-01-09T14:16:59.176424Z",
     "shell.execute_reply": "2024-01-09T14:16:59.175375Z"
    },
    "papermill": {
     "duration": 0.023224,
     "end_time": "2024-01-09T14:16:59.178626",
     "exception": false,
     "start_time": "2024-01-09T14:16:59.155402",
     "status": "completed"
    },
    "tags": []
   },
   "outputs": [],
   "source": [
    "train_data_path = '/kaggle/input/titanic/train.csv'\n",
    "test_data_path = '/kaggle/input/titanic/test.csv'"
   ]
  },
  {
   "cell_type": "code",
   "execution_count": 3,
   "id": "33c5f802",
   "metadata": {
    "execution": {
     "iopub.execute_input": "2024-01-09T14:16:59.208832Z",
     "iopub.status.busy": "2024-01-09T14:16:59.207773Z",
     "iopub.status.idle": "2024-01-09T14:16:59.243506Z",
     "shell.execute_reply": "2024-01-09T14:16:59.242378Z"
    },
    "papermill": {
     "duration": 0.05386,
     "end_time": "2024-01-09T14:16:59.246368",
     "exception": false,
     "start_time": "2024-01-09T14:16:59.192508",
     "status": "completed"
    },
    "tags": []
   },
   "outputs": [],
   "source": [
    "# load the datasets\n",
    "\n",
    "train_df = pd.read_csv(train_data_path)\n",
    "test_df = pd.read_csv(test_data_path)"
   ]
  },
  {
   "cell_type": "code",
   "execution_count": 4,
   "id": "51f1d4ae",
   "metadata": {
    "execution": {
     "iopub.execute_input": "2024-01-09T14:16:59.276669Z",
     "iopub.status.busy": "2024-01-09T14:16:59.275691Z",
     "iopub.status.idle": "2024-01-09T14:16:59.281301Z",
     "shell.execute_reply": "2024-01-09T14:16:59.280331Z"
    },
    "papermill": {
     "duration": 0.023274,
     "end_time": "2024-01-09T14:16:59.283785",
     "exception": false,
     "start_time": "2024-01-09T14:16:59.260511",
     "status": "completed"
    },
    "tags": []
   },
   "outputs": [
    {
     "name": "stdout",
     "output_type": "stream",
     "text": [
      "The shape of train data is (891, 12)\n",
      "The shape of test data is (418, 11)\n"
     ]
    }
   ],
   "source": [
    "# shape of train and test data\n",
    "\n",
    "print('The shape of train data is',train_df.shape)\n",
    "print('The shape of test data is',test_df.shape)"
   ]
  },
  {
   "cell_type": "code",
   "execution_count": 5,
   "id": "ea738b0f",
   "metadata": {
    "execution": {
     "iopub.execute_input": "2024-01-09T14:16:59.314935Z",
     "iopub.status.busy": "2024-01-09T14:16:59.314044Z",
     "iopub.status.idle": "2024-01-09T14:16:59.336413Z",
     "shell.execute_reply": "2024-01-09T14:16:59.335244Z"
    },
    "papermill": {
     "duration": 0.040929,
     "end_time": "2024-01-09T14:16:59.339233",
     "exception": false,
     "start_time": "2024-01-09T14:16:59.298304",
     "status": "completed"
    },
    "tags": []
   },
   "outputs": [
    {
     "name": "stdout",
     "output_type": "stream",
     "text": [
      "The shape of the population data is (1309, 12)\n"
     ]
    }
   ],
   "source": [
    "# merge the datasets to make a single population data\n",
    "\n",
    "pop_df = pd.concat([train_df,test_df])\n",
    "\n",
    "print('The shape of the population data is',pop_df.shape)"
   ]
  },
  {
   "cell_type": "code",
   "execution_count": 6,
   "id": "c6c7c703",
   "metadata": {
    "execution": {
     "iopub.execute_input": "2024-01-09T14:16:59.371558Z",
     "iopub.status.busy": "2024-01-09T14:16:59.371148Z",
     "iopub.status.idle": "2024-01-09T14:16:59.383499Z",
     "shell.execute_reply": "2024-01-09T14:16:59.382416Z"
    },
    "papermill": {
     "duration": 0.031589,
     "end_time": "2024-01-09T14:16:59.386038",
     "exception": false,
     "start_time": "2024-01-09T14:16:59.354449",
     "status": "completed"
    },
    "tags": []
   },
   "outputs": [
    {
     "data": {
      "text/plain": [
       "PassengerId       0\n",
       "Survived        418\n",
       "Pclass            0\n",
       "Name              0\n",
       "Sex               0\n",
       "Age             263\n",
       "SibSp             0\n",
       "Parch             0\n",
       "Ticket            0\n",
       "Fare              1\n",
       "Cabin          1014\n",
       "Embarked          2\n",
       "dtype: int64"
      ]
     },
     "execution_count": 6,
     "metadata": {},
     "output_type": "execute_result"
    }
   ],
   "source": [
    "# check for missing values in the population data\n",
    "\n",
    "pop_df.isna().sum()"
   ]
  },
  {
   "cell_type": "code",
   "execution_count": 7,
   "id": "60fe185b",
   "metadata": {
    "execution": {
     "iopub.execute_input": "2024-01-09T14:16:59.417159Z",
     "iopub.status.busy": "2024-01-09T14:16:59.416709Z",
     "iopub.status.idle": "2024-01-09T14:16:59.426670Z",
     "shell.execute_reply": "2024-01-09T14:16:59.425550Z"
    },
    "papermill": {
     "duration": 0.02855,
     "end_time": "2024-01-09T14:16:59.429125",
     "exception": false,
     "start_time": "2024-01-09T14:16:59.400575",
     "status": "completed"
    },
    "tags": []
   },
   "outputs": [],
   "source": [
    "# remove the rows having the age value missing\n",
    "pop_df.dropna(subset='Age',inplace=True)"
   ]
  },
  {
   "cell_type": "code",
   "execution_count": 8,
   "id": "5049742b",
   "metadata": {
    "execution": {
     "iopub.execute_input": "2024-01-09T14:16:59.461042Z",
     "iopub.status.busy": "2024-01-09T14:16:59.460598Z",
     "iopub.status.idle": "2024-01-09T14:16:59.471338Z",
     "shell.execute_reply": "2024-01-09T14:16:59.470168Z"
    },
    "papermill": {
     "duration": 0.030151,
     "end_time": "2024-01-09T14:16:59.474046",
     "exception": false,
     "start_time": "2024-01-09T14:16:59.443895",
     "status": "completed"
    },
    "tags": []
   },
   "outputs": [
    {
     "data": {
      "text/plain": [
       "PassengerId      0\n",
       "Survived       332\n",
       "Pclass           0\n",
       "Name             0\n",
       "Sex              0\n",
       "Age              0\n",
       "SibSp            0\n",
       "Parch            0\n",
       "Ticket           0\n",
       "Fare             1\n",
       "Cabin          774\n",
       "Embarked         2\n",
       "dtype: int64"
      ]
     },
     "execution_count": 8,
     "metadata": {},
     "output_type": "execute_result"
    }
   ],
   "source": [
    "# check for missing values in the population data\n",
    "\n",
    "pop_df.isna().sum()"
   ]
  },
  {
   "cell_type": "markdown",
   "id": "eaab85cb",
   "metadata": {
    "papermill": {
     "duration": 0.014361,
     "end_time": "2024-01-09T14:16:59.503299",
     "exception": false,
     "start_time": "2024-01-09T14:16:59.488938",
     "status": "completed"
    },
    "tags": []
   },
   "source": [
    "## Z Procedure\n",
    "\n",
    "$CI = \\text{Point Estimate} \\pm \\text{Margin Of Error}$\n",
    "\n",
    "$CI = \\bar X \\pm Z_{\\alpha/2} * \\frac {\\sigma}{\\sqrt {n}}$ with 95% confidence level"
   ]
  },
  {
   "attachments": {
    "a1a68c86-32f5-43d0-8722-81476e3aa5cb.png": {
     "image/png": "[encoded data removed]"
    }
   },
   "cell_type": "markdown",
   "id": "dd4570d0",
   "metadata": {
    "papermill": {
     "duration": 0.01505,
     "end_time": "2024-01-09T14:16:59.533467",
     "exception": false,
     "start_time": "2024-01-09T14:16:59.518417",
     "status": "completed"
    },
    "tags": []
   },
   "source": [
    "![image.png](attachment:a1a68c86-32f5-43d0-8722-81476e3aa5cb.png)"
   ]
  },
  {
   "cell_type": "markdown",
   "id": "c84fa067",
   "metadata": {
    "papermill": {
     "duration": 0.01426,
     "end_time": "2024-01-09T14:16:59.562733",
     "exception": false,
     "start_time": "2024-01-09T14:16:59.548473",
     "status": "completed"
    },
    "tags": []
   },
   "source": [
    "**Assumptions**:\n",
    "1. The main Assumption to apply the z procedure is that the population std is known.\n",
    "2. The samples collected should be representative of the complete population.\n",
    "3. The population distribution should be normal or the sample size should be $\\ge 30$ for the Central Limit Theorem to take effect."
   ]
  },
  {
   "cell_type": "markdown",
   "id": "5b450648",
   "metadata": {
    "papermill": {
     "duration": 0.014262,
     "end_time": "2024-01-09T14:16:59.591598",
     "exception": false,
     "start_time": "2024-01-09T14:16:59.577336",
     "status": "completed"
    },
    "tags": []
   },
   "source": [
    "The $Z_{\\alpha/2}$ is called as the critical value and this value mainly governs the confidence level for which the confidence interval range is calculated. Whenever the confidence level value changes, it changes the Z critical value which results in change in the Margin of Error.    \n",
    "**The Z critical value has in its boundary the area of distribution that equals to the confidence level used**"
   ]
  },
  {
   "cell_type": "markdown",
   "id": "8b5d74fc",
   "metadata": {
    "papermill": {
     "duration": 0.014319,
     "end_time": "2024-01-09T14:16:59.621100",
     "exception": false,
     "start_time": "2024-01-09T14:16:59.606781",
     "status": "completed"
    },
    "tags": []
   },
   "source": [
    "**The Standard Error which is the std of the sampling distribution of sample means tells the variability of the means calculated for different samples and how much closer or far away thay are from the true population mean. In other words, it tells how much precision there is in our estimation.**\n",
    "1. Smaller Standard Error values results in smaller margin of error and it means that our estimates are precise.\n",
    "1. Larger Standard Error values results in Larger margin of error and it means that our estimates have a lot of variation from the true population parameter.\n"
   ]
  },
  {
   "cell_type": "code",
   "execution_count": 9,
   "id": "05fecca0",
   "metadata": {
    "execution": {
     "iopub.execute_input": "2024-01-09T14:16:59.651759Z",
     "iopub.status.busy": "2024-01-09T14:16:59.651375Z",
     "iopub.status.idle": "2024-01-09T14:16:59.656178Z",
     "shell.execute_reply": "2024-01-09T14:16:59.655010Z"
    },
    "papermill": {
     "duration": 0.022938,
     "end_time": "2024-01-09T14:16:59.658645",
     "exception": false,
     "start_time": "2024-01-09T14:16:59.635707",
     "status": "completed"
    },
    "tags": []
   },
   "outputs": [],
   "source": [
    "# age population\n",
    "\n",
    "pop_age = pop_df['Age']"
   ]
  },
  {
   "cell_type": "code",
   "execution_count": 10,
   "id": "57d4a786",
   "metadata": {
    "execution": {
     "iopub.execute_input": "2024-01-09T14:16:59.690685Z",
     "iopub.status.busy": "2024-01-09T14:16:59.689666Z",
     "iopub.status.idle": "2024-01-09T14:16:59.696008Z",
     "shell.execute_reply": "2024-01-09T14:16:59.694908Z"
    },
    "papermill": {
     "duration": 0.024432,
     "end_time": "2024-01-09T14:16:59.698216",
     "exception": false,
     "start_time": "2024-01-09T14:16:59.673784",
     "status": "completed"
    },
    "tags": []
   },
   "outputs": [],
   "source": [
    "# mean of the population\n",
    "\n",
    "pop_mean = pop_age.mean()"
   ]
  },
  {
   "cell_type": "code",
   "execution_count": 11,
   "id": "1aa2da74",
   "metadata": {
    "execution": {
     "iopub.execute_input": "2024-01-09T14:16:59.729823Z",
     "iopub.status.busy": "2024-01-09T14:16:59.729417Z",
     "iopub.status.idle": "2024-01-09T14:16:59.865193Z",
     "shell.execute_reply": "2024-01-09T14:16:59.864103Z"
    },
    "papermill": {
     "duration": 0.154131,
     "end_time": "2024-01-09T14:16:59.867613",
     "exception": false,
     "start_time": "2024-01-09T14:16:59.713482",
     "status": "completed"
    },
    "tags": []
   },
   "outputs": [
    {
     "data": {
      "text/plain": [
       "(1000, 50)"
      ]
     },
     "execution_count": 11,
     "metadata": {},
     "output_type": "execute_result"
    }
   ],
   "source": [
    "# create 1000 samples from the population of age with sample size of 50\n",
    "\n",
    "samples = []\n",
    "\n",
    "no_of_samples = 1000\n",
    "\n",
    "sample_size = 50\n",
    "\n",
    "for i in range(no_of_samples):\n",
    "    sample = pop_age.sample(n=sample_size,ignore_index=True).to_list()\n",
    "    samples.append(sample)\n",
    "    \n",
    "# convert the samples to ndarray\n",
    "samples = np.array(samples)\n",
    "\n",
    "#shape of the samples\n",
    "samples.shape"
   ]
  },
  {
   "cell_type": "markdown",
   "id": "4ad98f29",
   "metadata": {
    "papermill": {
     "duration": 0.076394,
     "end_time": "2024-01-09T14:16:59.958925",
     "exception": false,
     "start_time": "2024-01-09T14:16:59.882531",
     "status": "completed"
    },
    "tags": []
   },
   "source": [
    "**We have created a sampling distribution and out of this lets create a sample distribution of sample means and calculate its mean and standard deviation**`"
   ]
  },
  {
   "cell_type": "code",
   "execution_count": 12,
   "id": "f8302cc5",
   "metadata": {
    "execution": {
     "iopub.execute_input": "2024-01-09T14:16:59.990662Z",
     "iopub.status.busy": "2024-01-09T14:16:59.990230Z",
     "iopub.status.idle": "2024-01-09T14:16:59.997260Z",
     "shell.execute_reply": "2024-01-09T14:16:59.996430Z"
    },
    "papermill": {
     "duration": 0.025664,
     "end_time": "2024-01-09T14:16:59.999316",
     "exception": false,
     "start_time": "2024-01-09T14:16:59.973652",
     "status": "completed"
    },
    "tags": []
   },
   "outputs": [
    {
     "data": {
      "text/plain": [
       "(1000,)"
      ]
     },
     "execution_count": 12,
     "metadata": {},
     "output_type": "execute_result"
    }
   ],
   "source": [
    "# create sampling distribution of sample means\n",
    "\n",
    "sampling_dist_means  = np.mean(samples,axis=1)\n",
    "\n",
    "sampling_dist_means.shape"
   ]
  },
  {
   "cell_type": "code",
   "execution_count": 13,
   "id": "36349bb7",
   "metadata": {
    "execution": {
     "iopub.execute_input": "2024-01-09T14:17:00.030948Z",
     "iopub.status.busy": "2024-01-09T14:17:00.030536Z",
     "iopub.status.idle": "2024-01-09T14:17:00.040076Z",
     "shell.execute_reply": "2024-01-09T14:17:00.039116Z"
    },
    "papermill": {
     "duration": 0.028182,
     "end_time": "2024-01-09T14:17:00.042481",
     "exception": false,
     "start_time": "2024-01-09T14:17:00.014299",
     "status": "completed"
    },
    "tags": []
   },
   "outputs": [
    {
     "data": {
      "text/plain": [
       "(1000,)"
      ]
     },
     "execution_count": 13,
     "metadata": {},
     "output_type": "execute_result"
    }
   ],
   "source": [
    "# sampling distribution of samples std\n",
    "\n",
    "sampling_dist_stds  = np.std(samples,axis=1,ddof=1)\n",
    "sampling_dist_stds.shape"
   ]
  },
  {
   "cell_type": "code",
   "execution_count": 14,
   "id": "ec652701",
   "metadata": {
    "execution": {
     "iopub.execute_input": "2024-01-09T14:17:00.074818Z",
     "iopub.status.busy": "2024-01-09T14:17:00.074429Z",
     "iopub.status.idle": "2024-01-09T14:17:01.950018Z",
     "shell.execute_reply": "2024-01-09T14:17:01.948791Z"
    },
    "papermill": {
     "duration": 1.894755,
     "end_time": "2024-01-09T14:17:01.952561",
     "exception": false,
     "start_time": "2024-01-09T14:17:00.057806",
     "status": "completed"
    },
    "tags": []
   },
   "outputs": [
    {
     "data": {
      "image/png": "[encoded data removed]",
      "text/plain": [
       "<Figure size 640x480 with 1 Axes>"
      ]
     },
     "metadata": {},
     "output_type": "display_data"
    }
   ],
   "source": [
    "# plot the distribution and it should be a normal distribution \n",
    "\n",
    "import matplotlib.pyplot as plt\n",
    "import seaborn as sns\n",
    "\n",
    "sns.histplot(sampling_dist_means,bins=20,kde=True)\n",
    "plt.show()"
   ]
  },
  {
   "cell_type": "markdown",
   "id": "6f9aff10",
   "metadata": {
    "papermill": {
     "duration": 0.016845,
     "end_time": "2024-01-09T14:17:01.985725",
     "exception": false,
     "start_time": "2024-01-09T14:17:01.968880",
     "status": "completed"
    },
    "tags": []
   },
   "source": [
    "**Distribution of sample means closely resembles the normal distribution due to the CLT(Central Limit Theorem)**"
   ]
  },
  {
   "cell_type": "code",
   "execution_count": 15,
   "id": "adb398aa",
   "metadata": {
    "execution": {
     "iopub.execute_input": "2024-01-09T14:17:02.019665Z",
     "iopub.status.busy": "2024-01-09T14:17:02.018962Z",
     "iopub.status.idle": "2024-01-09T14:17:02.384115Z",
     "shell.execute_reply": "2024-01-09T14:17:02.382833Z"
    },
    "papermill": {
     "duration": 0.385132,
     "end_time": "2024-01-09T14:17:02.386845",
     "exception": false,
     "start_time": "2024-01-09T14:17:02.001713",
     "status": "completed"
    },
    "tags": []
   },
   "outputs": [
    {
     "data": {
      "image/png": "[encoded data removed]",
      "text/plain": [
       "<Figure size 640x480 with 1 Axes>"
      ]
     },
     "metadata": {},
     "output_type": "display_data"
    }
   ],
   "source": [
    "# plot the distribution and it should be a normal distribution \n",
    "\n",
    "import matplotlib.pyplot as plt\n",
    "import seaborn as sns\n",
    "\n",
    "sns.histplot(sampling_dist_stds,bins=25,kde=True)\n",
    "plt.show()"
   ]
  },
  {
   "cell_type": "code",
   "execution_count": 16,
   "id": "0ec88e62",
   "metadata": {
    "execution": {
     "iopub.execute_input": "2024-01-09T14:17:02.421360Z",
     "iopub.status.busy": "2024-01-09T14:17:02.420830Z",
     "iopub.status.idle": "2024-01-09T14:17:02.427476Z",
     "shell.execute_reply": "2024-01-09T14:17:02.426424Z"
    },
    "papermill": {
     "duration": 0.026675,
     "end_time": "2024-01-09T14:17:02.429899",
     "exception": false,
     "start_time": "2024-01-09T14:17:02.403224",
     "status": "completed"
    },
    "tags": []
   },
   "outputs": [
    {
     "name": "stdout",
     "output_type": "stream",
     "text": [
      "The point estimate is 29.850256200000004\n",
      "The standard deviation is 2.01357708696904\n"
     ]
    }
   ],
   "source": [
    "# mean and std of sample means\n",
    "\n",
    "point_estimate = np.mean(sampling_dist_means)\n",
    "\n",
    "print('The point estimate is',point_estimate)\n",
    "\n",
    "standard_dev_means = np.std(sampling_dist_means,ddof=1)\n",
    "print('The standard deviation is',standard_dev_means)"
   ]
  },
  {
   "cell_type": "code",
   "execution_count": 17,
   "id": "3ae37772",
   "metadata": {
    "execution": {
     "iopub.execute_input": "2024-01-09T14:17:02.464316Z",
     "iopub.status.busy": "2024-01-09T14:17:02.463882Z",
     "iopub.status.idle": "2024-01-09T14:17:02.470554Z",
     "shell.execute_reply": "2024-01-09T14:17:02.469689Z"
    },
    "papermill": {
     "duration": 0.026269,
     "end_time": "2024-01-09T14:17:02.472535",
     "exception": false,
     "start_time": "2024-01-09T14:17:02.446266",
     "status": "completed"
    },
    "tags": []
   },
   "outputs": [
    {
     "data": {
      "text/plain": [
       "14.345047587010383"
      ]
     },
     "execution_count": 17,
     "metadata": {},
     "output_type": "execute_result"
    }
   ],
   "source": [
    "# mean of sampling distribution sample stds\n",
    "\n",
    "np.mean(sampling_dist_stds)"
   ]
  },
  {
   "cell_type": "code",
   "execution_count": 18,
   "id": "e7270062",
   "metadata": {
    "execution": {
     "iopub.execute_input": "2024-01-09T14:17:02.507699Z",
     "iopub.status.busy": "2024-01-09T14:17:02.506714Z",
     "iopub.status.idle": "2024-01-09T14:17:02.513887Z",
     "shell.execute_reply": "2024-01-09T14:17:02.512707Z"
    },
    "papermill": {
     "duration": 0.027164,
     "end_time": "2024-01-09T14:17:02.516294",
     "exception": false,
     "start_time": "2024-01-09T14:17:02.489130",
     "status": "completed"
    },
    "tags": []
   },
   "outputs": [
    {
     "data": {
      "text/plain": [
       "14.413493211271323"
      ]
     },
     "execution_count": 18,
     "metadata": {},
     "output_type": "execute_result"
    }
   ],
   "source": [
    "# population standard deviation\n",
    "\n",
    "pop_std = pop_age.std()\n",
    "\n",
    "pop_std"
   ]
  },
  {
   "cell_type": "code",
   "execution_count": 19,
   "id": "be57d65f",
   "metadata": {
    "execution": {
     "iopub.execute_input": "2024-01-09T14:17:02.551992Z",
     "iopub.status.busy": "2024-01-09T14:17:02.551571Z",
     "iopub.status.idle": "2024-01-09T14:17:02.558326Z",
     "shell.execute_reply": "2024-01-09T14:17:02.556940Z"
    },
    "papermill": {
     "duration": 0.027307,
     "end_time": "2024-01-09T14:17:02.560708",
     "exception": false,
     "start_time": "2024-01-09T14:17:02.533401",
     "status": "completed"
    },
    "tags": []
   },
   "outputs": [
    {
     "name": "stdout",
     "output_type": "stream",
     "text": [
      "Mean = 29.88(pop), 29.85(sampling_distribution)\n",
      "Std = 14.41(pop), 14.24(sampling_distribution)\n"
     ]
    }
   ],
   "source": [
    "# check the accuracy of central limit theorem\n",
    "\n",
    "print(f'Mean = {pop_mean:.2f}(pop), {point_estimate:.2f}(sampling_distribution)')\n",
    "print(f'Std = {pop_std:.2f}(pop), {standard_dev_means*np.sqrt(sample_size):.2f}(sampling_distribution)')"
   ]
  },
  {
   "cell_type": "code",
   "execution_count": 20,
   "id": "649e2042",
   "metadata": {
    "execution": {
     "iopub.execute_input": "2024-01-09T14:17:02.595990Z",
     "iopub.status.busy": "2024-01-09T14:17:02.595479Z",
     "iopub.status.idle": "2024-01-09T14:17:02.602499Z",
     "shell.execute_reply": "2024-01-09T14:17:02.600833Z"
    },
    "papermill": {
     "duration": 0.027472,
     "end_time": "2024-01-09T14:17:02.604875",
     "exception": false,
     "start_time": "2024-01-09T14:17:02.577403",
     "status": "completed"
    },
    "tags": []
   },
   "outputs": [
    {
     "name": "stdout",
     "output_type": "stream",
     "text": [
      "Standard Error = 2.0383757580552437\n"
     ]
    }
   ],
   "source": [
    "# standard error\n",
    "standard_error = pop_std/np.sqrt(sample_size)\n",
    "\n",
    "print(f'Standard Error = {standard_error}')"
   ]
  },
  {
   "cell_type": "code",
   "execution_count": 21,
   "id": "b5b8d030",
   "metadata": {
    "execution": {
     "iopub.execute_input": "2024-01-09T14:17:02.640487Z",
     "iopub.status.busy": "2024-01-09T14:17:02.640031Z",
     "iopub.status.idle": "2024-01-09T14:17:02.649702Z",
     "shell.execute_reply": "2024-01-09T14:17:02.648519Z"
    },
    "papermill": {
     "duration": 0.030212,
     "end_time": "2024-01-09T14:17:02.652112",
     "exception": false,
     "start_time": "2024-01-09T14:17:02.621900",
     "status": "completed"
    },
    "tags": []
   },
   "outputs": [],
   "source": [
    "# calculate the Z critical value at alpha=0.05\n",
    "from scipy.stats import norm\n",
    "\n",
    "normal = norm()\n",
    "\n",
    "Z_critical = norm.ppf(0.975)\n",
    "\n",
    "# calculate the lower and the upper bounds\n",
    "\n",
    "lower_bound = point_estimate - (Z_critical * standard_error)\n",
    "upper_bound = point_estimate + (Z_critical * standard_error)"
   ]
  },
  {
   "cell_type": "code",
   "execution_count": 22,
   "id": "8565c494",
   "metadata": {
    "execution": {
     "iopub.execute_input": "2024-01-09T14:17:02.688579Z",
     "iopub.status.busy": "2024-01-09T14:17:02.688161Z",
     "iopub.status.idle": "2024-01-09T14:17:02.693621Z",
     "shell.execute_reply": "2024-01-09T14:17:02.692499Z"
    },
    "papermill": {
     "duration": 0.026428,
     "end_time": "2024-01-09T14:17:02.696095",
     "exception": false,
     "start_time": "2024-01-09T14:17:02.669667",
     "status": "completed"
    },
    "tags": []
   },
   "outputs": [
    {
     "name": "stdout",
     "output_type": "stream",
     "text": [
      "The confidence interval is [25.86-33.85]\n"
     ]
    }
   ],
   "source": [
    "# print the confidence interval\n",
    "\n",
    "print(f'The confidence interval is [{lower_bound:.2f}-{upper_bound:.2f}]')"
   ]
  },
  {
   "cell_type": "code",
   "execution_count": 23,
   "id": "2029e9e5",
   "metadata": {
    "execution": {
     "iopub.execute_input": "2024-01-09T14:17:02.731834Z",
     "iopub.status.busy": "2024-01-09T14:17:02.731427Z",
     "iopub.status.idle": "2024-01-09T14:17:02.738127Z",
     "shell.execute_reply": "2024-01-09T14:17:02.736838Z"
    },
    "papermill": {
     "duration": 0.027371,
     "end_time": "2024-01-09T14:17:02.740377",
     "exception": false,
     "start_time": "2024-01-09T14:17:02.713006",
     "status": "completed"
    },
    "tags": []
   },
   "outputs": [
    {
     "data": {
      "text/plain": [
       "29.881137667304014"
      ]
     },
     "execution_count": 23,
     "metadata": {},
     "output_type": "execute_result"
    }
   ],
   "source": [
    "# print the popuilation mean\n",
    "pop_mean"
   ]
  },
  {
   "cell_type": "markdown",
   "id": "2cd13be5",
   "metadata": {
    "papermill": {
     "duration": 0.016814,
     "end_time": "2024-01-09T14:17:02.774493",
     "exception": false,
     "start_time": "2024-01-09T14:17:02.757679",
     "status": "completed"
    },
    "tags": []
   },
   "source": [
    "**The population mean lies within the confidence interval range**"
   ]
  },
  {
   "cell_type": "markdown",
   "id": "514445e1",
   "metadata": {
    "papermill": {
     "duration": 0.017172,
     "end_time": "2024-01-09T14:17:02.808689",
     "exception": false,
     "start_time": "2024-01-09T14:17:02.791517",
     "status": "completed"
    },
    "tags": []
   },
   "source": [
    "## T procedure\n",
    "\n"
   ]
  },
  {
   "cell_type": "markdown",
   "id": "03ec8a7b",
   "metadata": {
    "papermill": {
     "duration": 0.017265,
     "end_time": "2024-01-09T14:17:02.843894",
     "exception": false,
     "start_time": "2024-01-09T14:17:02.826629",
     "status": "completed"
    },
    "tags": []
   },
   "source": [
    "$CI = \\text{Point Estimate} \\pm \\text{Margin Of Error}$\n",
    "\n",
    "$CI = \\bar X \\pm t_{\\alpha/2} * \\dfrac {s}{\\sqrt {n}}$ with 95% confidence level\n",
    "\n",
    "1. works well when the sample size is smaller than 30.\n",
    "2. used when the population standard deviation is unknown."
   ]
  },
  {
   "attachments": {
    "3a9284de-ec74-49ac-ab75-9f6dfe6ef4f5.png": {
     "image/png": "[encoded data removed]"
    }
   },
   "cell_type": "markdown",
   "id": "84db6002",
   "metadata": {
    "papermill": {
     "duration": 0.017102,
     "end_time": "2024-01-09T14:17:02.878021",
     "exception": false,
     "start_time": "2024-01-09T14:17:02.860919",
     "status": "completed"
    },
    "tags": []
   },
   "source": [
    "![image.png](attachment:3a9284de-ec74-49ac-ab75-9f6dfe6ef4f5.png)"
   ]
  },
  {
   "cell_type": "markdown",
   "id": "f2e0d568",
   "metadata": {
    "papermill": {
     "duration": 0.016641,
     "end_time": "2024-01-09T14:17:02.911910",
     "exception": false,
     "start_time": "2024-01-09T14:17:02.895269",
     "status": "completed"
    },
    "tags": []
   },
   "source": [
    "For smaller degrees of freedom the t distribution is different from standard normal distribution with fatter tails.   \n",
    "\n",
    "For larger degrees of freedom the t distribution starts to resemble a lot like standard normal distribution because at larger sample sizes the precision of estimates from the sample represents very closely to the true parameter values and the variability of the sample estimates reduces."
   ]
  },
  {
   "cell_type": "code",
   "execution_count": 24,
   "id": "3e17dac8",
   "metadata": {
    "execution": {
     "iopub.execute_input": "2024-01-09T14:17:02.949047Z",
     "iopub.status.busy": "2024-01-09T14:17:02.948630Z",
     "iopub.status.idle": "2024-01-09T14:17:04.231510Z",
     "shell.execute_reply": "2024-01-09T14:17:04.230297Z"
    },
    "papermill": {
     "duration": 1.304945,
     "end_time": "2024-01-09T14:17:04.234158",
     "exception": false,
     "start_time": "2024-01-09T14:17:02.929213",
     "status": "completed"
    },
    "tags": []
   },
   "outputs": [
    {
     "data": {
      "text/plain": [
       "(10000, 20)"
      ]
     },
     "execution_count": 24,
     "metadata": {},
     "output_type": "execute_result"
    }
   ],
   "source": [
    "# create 10000 samples from the population of age with sample size of 20\n",
    "# more samples are created to get accurate estimation as the sample size is less\n",
    "\n",
    "samples = []\n",
    "\n",
    "no_of_samples = 10000\n",
    "\n",
    "sample_size = 20\n",
    "\n",
    "for i in range(no_of_samples):\n",
    "    sample = pop_age.sample(n=sample_size,ignore_index=True).to_list()\n",
    "    samples.append(sample)\n",
    "    \n",
    "# convert the samples to ndarray\n",
    "samples = np.array(samples)\n",
    "\n",
    "#shape of the samples\n",
    "samples.shape"
   ]
  },
  {
   "cell_type": "code",
   "execution_count": 25,
   "id": "d4025562",
   "metadata": {
    "execution": {
     "iopub.execute_input": "2024-01-09T14:17:04.271544Z",
     "iopub.status.busy": "2024-01-09T14:17:04.271110Z",
     "iopub.status.idle": "2024-01-09T14:17:04.279197Z",
     "shell.execute_reply": "2024-01-09T14:17:04.278049Z"
    },
    "papermill": {
     "duration": 0.02976,
     "end_time": "2024-01-09T14:17:04.281615",
     "exception": false,
     "start_time": "2024-01-09T14:17:04.251855",
     "status": "completed"
    },
    "tags": []
   },
   "outputs": [
    {
     "data": {
      "text/plain": [
       "(10000,)"
      ]
     },
     "execution_count": 25,
     "metadata": {},
     "output_type": "execute_result"
    }
   ],
   "source": [
    "# create sampling distribution of sample means\n",
    "\n",
    "sampling_dist_means  = np.mean(samples,axis=1)\n",
    "\n",
    "sampling_dist_means.shape"
   ]
  },
  {
   "cell_type": "code",
   "execution_count": 26,
   "id": "62420a0f",
   "metadata": {
    "execution": {
     "iopub.execute_input": "2024-01-09T14:17:04.318528Z",
     "iopub.status.busy": "2024-01-09T14:17:04.318097Z",
     "iopub.status.idle": "2024-01-09T14:17:04.328665Z",
     "shell.execute_reply": "2024-01-09T14:17:04.327761Z"
    },
    "papermill": {
     "duration": 0.03169,
     "end_time": "2024-01-09T14:17:04.330891",
     "exception": false,
     "start_time": "2024-01-09T14:17:04.299201",
     "status": "completed"
    },
    "tags": []
   },
   "outputs": [
    {
     "data": {
      "text/plain": [
       "(10000,)"
      ]
     },
     "execution_count": 26,
     "metadata": {},
     "output_type": "execute_result"
    }
   ],
   "source": [
    "# create sampling distribution of sample stds\n",
    "\n",
    "sampling_dist_stds = np.std(samples,axis=1,ddof=1)\n",
    "\n",
    "sampling_dist_stds.shape"
   ]
  },
  {
   "cell_type": "code",
   "execution_count": 27,
   "id": "3248d710",
   "metadata": {
    "execution": {
     "iopub.execute_input": "2024-01-09T14:17:04.369757Z",
     "iopub.status.busy": "2024-01-09T14:17:04.369328Z",
     "iopub.status.idle": "2024-01-09T14:17:04.376401Z",
     "shell.execute_reply": "2024-01-09T14:17:04.375299Z"
    },
    "papermill": {
     "duration": 0.030424,
     "end_time": "2024-01-09T14:17:04.379174",
     "exception": false,
     "start_time": "2024-01-09T14:17:04.348750",
     "status": "completed"
    },
    "tags": []
   },
   "outputs": [
    {
     "name": "stdout",
     "output_type": "stream",
     "text": [
      "The point estimate is 29.84886115\n",
      "The standard deviation is 3.1826579287593613\n"
     ]
    }
   ],
   "source": [
    "# mean and std of sample means\n",
    "\n",
    "point_estimate = np.mean(sampling_dist_means)\n",
    "\n",
    "print('The point estimate is',point_estimate)\n",
    "\n",
    "standard_dev_means = np.std(sampling_dist_means,ddof=1)\n",
    "print('The standard deviation is',standard_dev_means)"
   ]
  },
  {
   "cell_type": "code",
   "execution_count": 28,
   "id": "5db5c8db",
   "metadata": {
    "execution": {
     "iopub.execute_input": "2024-01-09T14:17:04.416911Z",
     "iopub.status.busy": "2024-01-09T14:17:04.416513Z",
     "iopub.status.idle": "2024-01-09T14:17:04.423907Z",
     "shell.execute_reply": "2024-01-09T14:17:04.422737Z"
    },
    "papermill": {
     "duration": 0.029199,
     "end_time": "2024-01-09T14:17:04.426346",
     "exception": false,
     "start_time": "2024-01-09T14:17:04.397147",
     "status": "completed"
    },
    "tags": []
   },
   "outputs": [
    {
     "data": {
      "text/plain": [
       "14.179852022216053"
      ]
     },
     "execution_count": 28,
     "metadata": {},
     "output_type": "execute_result"
    }
   ],
   "source": [
    "# sample standard deviation\n",
    "\n",
    "sample_std = np.mean(sampling_dist_stds)\n",
    "\n",
    "sample_std"
   ]
  },
  {
   "cell_type": "code",
   "execution_count": 29,
   "id": "7d038322",
   "metadata": {
    "execution": {
     "iopub.execute_input": "2024-01-09T14:17:04.464798Z",
     "iopub.status.busy": "2024-01-09T14:17:04.464104Z",
     "iopub.status.idle": "2024-01-09T14:17:04.470802Z",
     "shell.execute_reply": "2024-01-09T14:17:04.469277Z"
    },
    "papermill": {
     "duration": 0.028102,
     "end_time": "2024-01-09T14:17:04.473141",
     "exception": false,
     "start_time": "2024-01-09T14:17:04.445039",
     "status": "completed"
    },
    "tags": []
   },
   "outputs": [
    {
     "name": "stdout",
     "output_type": "stream",
     "text": [
      "Standard Error = 3.170711303256295\n"
     ]
    }
   ],
   "source": [
    "# standard error\n",
    "standard_error = sample_std/np.sqrt(sample_size)\n",
    "\n",
    "print(f'Standard Error = {standard_error}')"
   ]
  },
  {
   "cell_type": "markdown",
   "id": "13218fda",
   "metadata": {
    "papermill": {
     "duration": 0.018217,
     "end_time": "2024-01-09T14:17:04.509247",
     "exception": false,
     "start_time": "2024-01-09T14:17:04.491030",
     "status": "completed"
    },
    "tags": []
   },
   "source": [
    "**The standard error for t procedure is greater than the z procedure because**:-\n",
    "1. The sample size is small.\n",
    "2. Using sample std instead of population std increases the variability of the estimates that's why we use the longer confidence intervals for the t test."
   ]
  },
  {
   "cell_type": "code",
   "execution_count": 30,
   "id": "f7529c2e",
   "metadata": {
    "execution": {
     "iopub.execute_input": "2024-01-09T14:17:04.548431Z",
     "iopub.status.busy": "2024-01-09T14:17:04.547919Z",
     "iopub.status.idle": "2024-01-09T14:17:04.555103Z",
     "shell.execute_reply": "2024-01-09T14:17:04.553876Z"
    },
    "papermill": {
     "duration": 0.029455,
     "end_time": "2024-01-09T14:17:04.557443",
     "exception": false,
     "start_time": "2024-01-09T14:17:04.527988",
     "status": "completed"
    },
    "tags": []
   },
   "outputs": [
    {
     "data": {
      "text/plain": [
       "20"
      ]
     },
     "execution_count": 30,
     "metadata": {},
     "output_type": "execute_result"
    }
   ],
   "source": [
    "sample_size"
   ]
  },
  {
   "cell_type": "code",
   "execution_count": 31,
   "id": "cd71ba0b",
   "metadata": {
    "execution": {
     "iopub.execute_input": "2024-01-09T14:17:04.595568Z",
     "iopub.status.busy": "2024-01-09T14:17:04.595115Z",
     "iopub.status.idle": "2024-01-09T14:17:04.604635Z",
     "shell.execute_reply": "2024-01-09T14:17:04.603501Z"
    },
    "papermill": {
     "duration": 0.031443,
     "end_time": "2024-01-09T14:17:04.606908",
     "exception": false,
     "start_time": "2024-01-09T14:17:04.575465",
     "status": "completed"
    },
    "tags": []
   },
   "outputs": [],
   "source": [
    "# calculate the Z critical value at alpha=0.05 and dof=19\n",
    "from scipy.stats import t\n",
    "\n",
    "t_dist= t(df=sample_size-1)\n",
    "\n",
    "t_critical = t_dist.ppf(0.975)\n",
    "\n",
    "# calculate the lower and the upper bounds\n",
    "\n",
    "lower_bound = point_estimate - (t_critical * standard_error)\n",
    "upper_bound = point_estimate + (t_critical * standard_error)"
   ]
  },
  {
   "cell_type": "code",
   "execution_count": 32,
   "id": "62cbaa96",
   "metadata": {
    "execution": {
     "iopub.execute_input": "2024-01-09T14:17:04.648417Z",
     "iopub.status.busy": "2024-01-09T14:17:04.647760Z",
     "iopub.status.idle": "2024-01-09T14:17:04.653186Z",
     "shell.execute_reply": "2024-01-09T14:17:04.652187Z"
    },
    "papermill": {
     "duration": 0.028305,
     "end_time": "2024-01-09T14:17:04.656404",
     "exception": false,
     "start_time": "2024-01-09T14:17:04.628099",
     "status": "completed"
    },
    "tags": []
   },
   "outputs": [
    {
     "name": "stdout",
     "output_type": "stream",
     "text": [
      "The confidence interval is [23.21-36.49]\n"
     ]
    }
   ],
   "source": [
    "# print the confidence interval\n",
    "\n",
    "print(f'The confidence interval is [{lower_bound:.2f}-{upper_bound:.2f}]')"
   ]
  },
  {
   "cell_type": "markdown",
   "id": "3e56276f",
   "metadata": {
    "papermill": {
     "duration": 0.018918,
     "end_time": "2024-01-09T14:17:04.695387",
     "exception": false,
     "start_time": "2024-01-09T14:17:04.676469",
     "status": "completed"
    },
    "tags": []
   },
   "source": [
    "### For Z Procedure:\n",
    "\n",
    "The confidence interval is:    \n",
    "**[26.01-34.00]**\n",
    "\n",
    "### For T procedure:\n",
    "The confidence interval is:    \n",
    "**[23.19-36.53]**\n",
    "\n",
    "### Mean value of Polulation:\n",
    "Mean = 29.88"
   ]
  },
  {
   "cell_type": "code",
   "execution_count": null,
   "id": "ee014762",
   "metadata": {
    "papermill": {
     "duration": 0.019118,
     "end_time": "2024-01-09T14:17:04.733400",
     "exception": false,
     "start_time": "2024-01-09T14:17:04.714282",
     "status": "completed"
    },
    "tags": []
   },
   "outputs": [],
   "source": []
  }
 ],
 "metadata": {
  "kaggle": {
   "accelerator": "none",
   "dataSources": [
    {
     "databundleVersionId": 26502,
     "sourceId": 3136,
     "sourceType": "competition"
    }
   ],
   "dockerImageVersionId": 30626,
   "isGpuEnabled": false,
   "isInternetEnabled": true,
   "language": "python",
   "sourceType": "notebook"
  },
  "kernelspec": {
   "display_name": "Python 3",
   "language": "python",
   "name": "python3"
  },
  "language_info": {
   "codemirror_mode": {
    "name": "ipython",
    "version": 3
   },
   "file_extension": ".py",
   "mimetype": "text/x-python",
   "name": "python",
   "nbconvert_exporter": "python",
   "pygments_lexer": "ipython3",
   "version": "3.10.12"
  },
  "papermill": {
   "default_parameters": {},
   "duration": 10.194303,
   "end_time": "2024-01-09T14:17:05.373159",
   "environment_variables": {},
   "exception": null,
   "input_path": "__notebook__.ipynb",
   "output_path": "__notebook__.ipynb",
   "parameters": {},
   "start_time": "2024-01-09T14:16:55.178856",
   "version": "2.4.0"
  }
 },
 "nbformat": 4,
 "nbformat_minor": 5
}
