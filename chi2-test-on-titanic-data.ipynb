{
 "cells": [
  {
   "cell_type": "code",
   "execution_count": 1,
   "id": "9a392bac",
   "metadata": {
    "_cell_guid": "b1076dfc-b9ad-4769-8c92-a6c4dae69d19",
    "_uuid": "8f2839f25d086af736a60e9eeb907d3b93b6e0e5",
    "execution": {
     "iopub.execute_input": "2024-01-30T15:05:15.155626Z",
     "iopub.status.busy": "2024-01-30T15:05:15.155127Z",
     "iopub.status.idle": "2024-01-30T15:05:16.314008Z",
     "shell.execute_reply": "2024-01-30T15:05:16.312982Z"
    },
    "papermill": {
     "duration": 1.170893,
     "end_time": "2024-01-30T15:05:16.316607",
     "exception": false,
     "start_time": "2024-01-30T15:05:15.145714",
     "status": "completed"
    },
    "tags": []
   },
   "outputs": [
    {
     "name": "stdout",
     "output_type": "stream",
     "text": [
      "/kaggle/input/titanic-dataset/Titanic-Dataset.csv\n"
     ]
    }
   ],
   "source": [
    "# This Python 3 environment comes with many helpful analytics libraries installed\n",
    "# It is defined by the kaggle/python Docker image: https://github.com/kaggle/docker-python\n",
    "# For example, here's several helpful packages to load\n",
    "\n",
    "import numpy as np # linear algebra\n",
    "import pandas as pd # data processing, CSV file I/O (e.g. pd.read_csv)\n",
    "\n",
    "# Input data files are available in the read-only \"../input/\" directory\n",
    "# For example, running this (by clicking run or pressing Shift+Enter) will list all files under the input directory\n",
    "\n",
    "import os\n",
    "for dirname, _, filenames in os.walk('/kaggle/input'):\n",
    "    for filename in filenames:\n",
    "        print(os.path.join(dirname, filename))\n",
    "\n",
    "# You can write up to 20GB to the current directory (/kaggle/working/) that gets preserved as output when you create a version using \"Save & Run All\" \n",
    "# You can also write temporary files to /kaggle/temp/, but they won't be saved outside of the current session"
   ]
  },
  {
   "cell_type": "code",
   "execution_count": 2,
   "id": "2059e46d",
   "metadata": {
    "execution": {
     "iopub.execute_input": "2024-01-30T15:05:16.332054Z",
     "iopub.status.busy": "2024-01-30T15:05:16.331478Z",
     "iopub.status.idle": "2024-01-30T15:05:16.374094Z",
     "shell.execute_reply": "2024-01-30T15:05:16.373157Z"
    },
    "papermill": {
     "duration": 0.052935,
     "end_time": "2024-01-30T15:05:16.376268",
     "exception": false,
     "start_time": "2024-01-30T15:05:16.323333",
     "status": "completed"
    },
    "tags": []
   },
   "outputs": [
    {
     "data": {
      "text/html": [
       "<div>\n",
       "<style scoped>\n",
       "    .dataframe tbody tr th:only-of-type {\n",
       "        vertical-align: middle;\n",
       "    }\n",
       "\n",
       "    .dataframe tbody tr th {\n",
       "        vertical-align: top;\n",
       "    }\n",
       "\n",
       "    .dataframe thead th {\n",
       "        text-align: right;\n",
       "    }\n",
       "</style>\n",
       "<table border=\"1\" class=\"dataframe\">\n",
       "  <thead>\n",
       "    <tr style=\"text-align: right;\">\n",
       "      <th></th>\n",
       "      <th>PassengerId</th>\n",
       "      <th>Survived</th>\n",
       "      <th>Pclass</th>\n",
       "      <th>Name</th>\n",
       "      <th>Sex</th>\n",
       "      <th>Age</th>\n",
       "      <th>SibSp</th>\n",
       "      <th>Parch</th>\n",
       "      <th>Ticket</th>\n",
       "      <th>Fare</th>\n",
       "      <th>Cabin</th>\n",
       "      <th>Embarked</th>\n",
       "    </tr>\n",
       "  </thead>\n",
       "  <tbody>\n",
       "    <tr>\n",
       "      <th>0</th>\n",
       "      <td>1</td>\n",
       "      <td>0</td>\n",
       "      <td>3</td>\n",
       "      <td>Braund, Mr. Owen Harris</td>\n",
       "      <td>male</td>\n",
       "      <td>22.0</td>\n",
       "      <td>1</td>\n",
       "      <td>0</td>\n",
       "      <td>A/5 21171</td>\n",
       "      <td>7.2500</td>\n",
       "      <td>NaN</td>\n",
       "      <td>S</td>\n",
       "    </tr>\n",
       "    <tr>\n",
       "      <th>1</th>\n",
       "      <td>2</td>\n",
       "      <td>1</td>\n",
       "      <td>1</td>\n",
       "      <td>Cumings, Mrs. John Bradley (Florence Briggs Th...</td>\n",
       "      <td>female</td>\n",
       "      <td>38.0</td>\n",
       "      <td>1</td>\n",
       "      <td>0</td>\n",
       "      <td>PC 17599</td>\n",
       "      <td>71.2833</td>\n",
       "      <td>C85</td>\n",
       "      <td>C</td>\n",
       "    </tr>\n",
       "    <tr>\n",
       "      <th>2</th>\n",
       "      <td>3</td>\n",
       "      <td>1</td>\n",
       "      <td>3</td>\n",
       "      <td>Heikkinen, Miss. Laina</td>\n",
       "      <td>female</td>\n",
       "      <td>26.0</td>\n",
       "      <td>0</td>\n",
       "      <td>0</td>\n",
       "      <td>STON/O2. 3101282</td>\n",
       "      <td>7.9250</td>\n",
       "      <td>NaN</td>\n",
       "      <td>S</td>\n",
       "    </tr>\n",
       "    <tr>\n",
       "      <th>3</th>\n",
       "      <td>4</td>\n",
       "      <td>1</td>\n",
       "      <td>1</td>\n",
       "      <td>Futrelle, Mrs. Jacques Heath (Lily May Peel)</td>\n",
       "      <td>female</td>\n",
       "      <td>35.0</td>\n",
       "      <td>1</td>\n",
       "      <td>0</td>\n",
       "      <td>113803</td>\n",
       "      <td>53.1000</td>\n",
       "      <td>C123</td>\n",
       "      <td>S</td>\n",
       "    </tr>\n",
       "    <tr>\n",
       "      <th>4</th>\n",
       "      <td>5</td>\n",
       "      <td>0</td>\n",
       "      <td>3</td>\n",
       "      <td>Allen, Mr. William Henry</td>\n",
       "      <td>male</td>\n",
       "      <td>35.0</td>\n",
       "      <td>0</td>\n",
       "      <td>0</td>\n",
       "      <td>373450</td>\n",
       "      <td>8.0500</td>\n",
       "      <td>NaN</td>\n",
       "      <td>S</td>\n",
       "    </tr>\n",
       "  </tbody>\n",
       "</table>\n",
       "</div>"
      ],
      "text/plain": [
       "   PassengerId  Survived  Pclass  \\\n",
       "0            1         0       3   \n",
       "1            2         1       1   \n",
       "2            3         1       3   \n",
       "3            4         1       1   \n",
       "4            5         0       3   \n",
       "\n",
       "                                                Name     Sex   Age  SibSp  \\\n",
       "0                            Braund, Mr. Owen Harris    male  22.0      1   \n",
       "1  Cumings, Mrs. John Bradley (Florence Briggs Th...  female  38.0      1   \n",
       "2                             Heikkinen, Miss. Laina  female  26.0      0   \n",
       "3       Futrelle, Mrs. Jacques Heath (Lily May Peel)  female  35.0      1   \n",
       "4                           Allen, Mr. William Henry    male  35.0      0   \n",
       "\n",
       "   Parch            Ticket     Fare Cabin Embarked  \n",
       "0      0         A/5 21171   7.2500   NaN        S  \n",
       "1      0          PC 17599  71.2833   C85        C  \n",
       "2      0  STON/O2. 3101282   7.9250   NaN        S  \n",
       "3      0            113803  53.1000  C123        S  \n",
       "4      0            373450   8.0500   NaN        S  "
      ]
     },
     "execution_count": 2,
     "metadata": {},
     "output_type": "execute_result"
    }
   ],
   "source": [
    "# read the data\n",
    "\n",
    "data_path = '/kaggle/input/titanic-dataset/Titanic-Dataset.csv'\n",
    "\n",
    "df = pd.read_csv(data_path)\n",
    "\n",
    "df.head()"
   ]
  },
  {
   "cell_type": "code",
   "execution_count": 3,
   "id": "bfd74340",
   "metadata": {
    "execution": {
     "iopub.execute_input": "2024-01-30T15:05:16.391843Z",
     "iopub.status.busy": "2024-01-30T15:05:16.391410Z",
     "iopub.status.idle": "2024-01-30T15:05:16.403639Z",
     "shell.execute_reply": "2024-01-30T15:05:16.401770Z"
    },
    "papermill": {
     "duration": 0.023514,
     "end_time": "2024-01-30T15:05:16.406639",
     "exception": false,
     "start_time": "2024-01-30T15:05:16.383125",
     "status": "completed"
    },
    "tags": []
   },
   "outputs": [
    {
     "data": {
      "text/plain": [
       "PassengerId      0\n",
       "Survived         0\n",
       "Pclass           0\n",
       "Name             0\n",
       "Sex              0\n",
       "Age            177\n",
       "SibSp            0\n",
       "Parch            0\n",
       "Ticket           0\n",
       "Fare             0\n",
       "Cabin          687\n",
       "Embarked         2\n",
       "dtype: int64"
      ]
     },
     "execution_count": 3,
     "metadata": {},
     "output_type": "execute_result"
    }
   ],
   "source": [
    "# check for missing values\n",
    "\n",
    "df.isna().sum()"
   ]
  },
  {
   "cell_type": "code",
   "execution_count": 4,
   "id": "40bfc44d",
   "metadata": {
    "execution": {
     "iopub.execute_input": "2024-01-30T15:05:16.423688Z",
     "iopub.status.busy": "2024-01-30T15:05:16.423237Z",
     "iopub.status.idle": "2024-01-30T15:05:18.166899Z",
     "shell.execute_reply": "2024-01-30T15:05:18.164442Z"
    },
    "papermill": {
     "duration": 1.756428,
     "end_time": "2024-01-30T15:05:18.170163",
     "exception": false,
     "start_time": "2024-01-30T15:05:16.413735",
     "status": "completed"
    },
    "tags": []
   },
   "outputs": [
    {
     "name": "stdout",
     "output_type": "stream",
     "text": [
      "(712, 12) (179, 12)\n"
     ]
    }
   ],
   "source": [
    "# split the data into train and test\n",
    "\n",
    "from sklearn.model_selection import train_test_split\n",
    "\n",
    "train, test = train_test_split(df,test_size=0.2,random_state=56)\n",
    "\n",
    "print(train.shape,test.shape)"
   ]
  },
  {
   "cell_type": "code",
   "execution_count": 5,
   "id": "06828cac",
   "metadata": {
    "execution": {
     "iopub.execute_input": "2024-01-30T15:05:18.188114Z",
     "iopub.status.busy": "2024-01-30T15:05:18.187627Z",
     "iopub.status.idle": "2024-01-30T15:05:18.205249Z",
     "shell.execute_reply": "2024-01-30T15:05:18.203490Z"
    },
    "papermill": {
     "duration": 0.029333,
     "end_time": "2024-01-30T15:05:18.207784",
     "exception": false,
     "start_time": "2024-01-30T15:05:18.178451",
     "status": "completed"
    },
    "tags": []
   },
   "outputs": [
    {
     "data": {
      "text/plain": [
       "Pclass\n",
       "3    491\n",
       "1    216\n",
       "2    184\n",
       "Name: count, dtype: int64"
      ]
     },
     "execution_count": 5,
     "metadata": {},
     "output_type": "execute_result"
    }
   ],
   "source": [
    "# distribution of P class in the overall data\n",
    "\n",
    "df['Pclass'].value_counts()\n"
   ]
  },
  {
   "cell_type": "code",
   "execution_count": 6,
   "id": "871f70cf",
   "metadata": {
    "execution": {
     "iopub.execute_input": "2024-01-30T15:05:18.224967Z",
     "iopub.status.busy": "2024-01-30T15:05:18.224262Z",
     "iopub.status.idle": "2024-01-30T15:05:18.242201Z",
     "shell.execute_reply": "2024-01-30T15:05:18.240958Z"
    },
    "papermill": {
     "duration": 0.029413,
     "end_time": "2024-01-30T15:05:18.244720",
     "exception": false,
     "start_time": "2024-01-30T15:05:18.215307",
     "status": "completed"
    },
    "tags": []
   },
   "outputs": [
    {
     "data": {
      "text/plain": [
       "Pclass\n",
       "3    396\n",
       "1    170\n",
       "2    146\n",
       "Name: count, dtype: int64"
      ]
     },
     "execution_count": 6,
     "metadata": {},
     "output_type": "execute_result"
    }
   ],
   "source": [
    "# distribution of P class in the training data\n",
    "\n",
    "train['Pclass'].value_counts()"
   ]
  },
  {
   "cell_type": "code",
   "execution_count": 7,
   "id": "afcbb9de",
   "metadata": {
    "execution": {
     "iopub.execute_input": "2024-01-30T15:05:18.260376Z",
     "iopub.status.busy": "2024-01-30T15:05:18.259923Z",
     "iopub.status.idle": "2024-01-30T15:05:18.893068Z",
     "shell.execute_reply": "2024-01-30T15:05:18.892059Z"
    },
    "papermill": {
     "duration": 0.643687,
     "end_time": "2024-01-30T15:05:18.895440",
     "exception": false,
     "start_time": "2024-01-30T15:05:18.251753",
     "status": "completed"
    },
    "tags": []
   },
   "outputs": [
    {
     "data": {
      "image/png": "[encoded data removed]",
      "text/plain": [
       "<Figure size 640x480 with 1 Axes>"
      ]
     },
     "metadata": {},
     "output_type": "display_data"
    }
   ],
   "source": [
    "# plot the distribution\n",
    "import matplotlib.pyplot as plt\n",
    "import seaborn as sns\n",
    "\n",
    "sns.countplot(train,x='Pclass')\n",
    "plt.show()"
   ]
  },
  {
   "cell_type": "markdown",
   "id": "fd8bedd5",
   "metadata": {
    "papermill": {
     "duration": 0.006773,
     "end_time": "2024-01-30T15:05:18.910483",
     "exception": false,
     "start_time": "2024-01-30T15:05:18.903710",
     "status": "completed"
    },
    "tags": []
   },
   "source": [
    "## Chi2 Goodness of Fit Test"
   ]
  },
  {
   "cell_type": "code",
   "execution_count": 8,
   "id": "0bd8e9c1",
   "metadata": {
    "execution": {
     "iopub.execute_input": "2024-01-30T15:05:18.927979Z",
     "iopub.status.busy": "2024-01-30T15:05:18.926625Z",
     "iopub.status.idle": "2024-01-30T15:05:18.935372Z",
     "shell.execute_reply": "2024-01-30T15:05:18.934459Z"
    },
    "papermill": {
     "duration": 0.019398,
     "end_time": "2024-01-30T15:05:18.937166",
     "exception": false,
     "start_time": "2024-01-30T15:05:18.917768",
     "status": "completed"
    },
    "tags": []
   },
   "outputs": [
    {
     "data": {
      "text/plain": [
       "array([237.33333333, 237.33333333, 237.33333333])"
      ]
     },
     "execution_count": 8,
     "metadata": {},
     "output_type": "execute_result"
    }
   ],
   "source": [
    "# infer whether the P class variable follows a uniform distribution\n",
    "\n",
    "observed_vals = train['Pclass'].value_counts().values\n",
    "expected_vals = train['Pclass'].value_counts().sum() / 3\n",
    "\n",
    "expected_vals = np.array([expected_vals] * 3)\n",
    "expected_vals"
   ]
  },
  {
   "cell_type": "code",
   "execution_count": 9,
   "id": "f448478d",
   "metadata": {
    "execution": {
     "iopub.execute_input": "2024-01-30T15:05:18.954923Z",
     "iopub.status.busy": "2024-01-30T15:05:18.953440Z",
     "iopub.status.idle": "2024-01-30T15:05:18.962864Z",
     "shell.execute_reply": "2024-01-30T15:05:18.961096Z"
    },
    "papermill": {
     "duration": 0.020909,
     "end_time": "2024-01-30T15:05:18.965342",
     "exception": false,
     "start_time": "2024-01-30T15:05:18.944433",
     "status": "completed"
    },
    "tags": []
   },
   "outputs": [
    {
     "data": {
      "text/plain": [
       "160.32584269662922"
      ]
     },
     "execution_count": 9,
     "metadata": {},
     "output_type": "execute_result"
    }
   ],
   "source": [
    "# calculate the chi2 statistic\n",
    "\n",
    "test_stat_manual = np.sum(np.square(observed_vals-expected_vals) / expected_vals) \n",
    "test_stat_manual"
   ]
  },
  {
   "cell_type": "code",
   "execution_count": 10,
   "id": "a40adad3",
   "metadata": {
    "execution": {
     "iopub.execute_input": "2024-01-30T15:05:18.982899Z",
     "iopub.status.busy": "2024-01-30T15:05:18.982503Z",
     "iopub.status.idle": "2024-01-30T15:05:18.989264Z",
     "shell.execute_reply": "2024-01-30T15:05:18.987311Z"
    },
    "papermill": {
     "duration": 0.019424,
     "end_time": "2024-01-30T15:05:18.992406",
     "exception": false,
     "start_time": "2024-01-30T15:05:18.972982",
     "status": "completed"
    },
    "tags": []
   },
   "outputs": [],
   "source": [
    "from scipy.stats import chi2"
   ]
  },
  {
   "cell_type": "code",
   "execution_count": 11,
   "id": "c99406e3",
   "metadata": {
    "execution": {
     "iopub.execute_input": "2024-01-30T15:05:19.010069Z",
     "iopub.status.busy": "2024-01-30T15:05:19.009620Z",
     "iopub.status.idle": "2024-01-30T15:05:19.020348Z",
     "shell.execute_reply": "2024-01-30T15:05:19.019179Z"
    },
    "papermill": {
     "duration": 0.02214,
     "end_time": "2024-01-30T15:05:19.022497",
     "exception": false,
     "start_time": "2024-01-30T15:05:19.000357",
     "status": "completed"
    },
    "tags": []
   },
   "outputs": [
    {
     "data": {
      "text/plain": [
       "1.5335064436345743e-35"
      ]
     },
     "execution_count": 11,
     "metadata": {},
     "output_type": "execute_result"
    }
   ],
   "source": [
    "# calculate the degree of freedom\n",
    "\n",
    "dof = 2\n",
    "\n",
    "p_val = chi2.sf(x=test_stat_manual,df=dof)\n",
    "p_val"
   ]
  },
  {
   "cell_type": "code",
   "execution_count": 12,
   "id": "451367ce",
   "metadata": {
    "execution": {
     "iopub.execute_input": "2024-01-30T15:05:19.040481Z",
     "iopub.status.busy": "2024-01-30T15:05:19.039659Z",
     "iopub.status.idle": "2024-01-30T15:05:19.046666Z",
     "shell.execute_reply": "2024-01-30T15:05:19.044782Z"
    },
    "papermill": {
     "duration": 0.019597,
     "end_time": "2024-01-30T15:05:19.049757",
     "exception": false,
     "start_time": "2024-01-30T15:05:19.030160",
     "status": "completed"
    },
    "tags": []
   },
   "outputs": [
    {
     "name": "stdout",
     "output_type": "stream",
     "text": [
      "Reject the H_0, The variable does not follow a uniform distribution\n"
     ]
    }
   ],
   "source": [
    "alpha = 0.05\n",
    "\n",
    "if p_val < alpha:\n",
    "    print('Reject the H_0, The variable does not follow a uniform distribution')\n",
    "else:\n",
    "    print('Fail to reject H_0, The variable follows a uniform distribution')"
   ]
  },
  {
   "cell_type": "code",
   "execution_count": 13,
   "id": "f8e941e1",
   "metadata": {
    "execution": {
     "iopub.execute_input": "2024-01-30T15:05:19.068448Z",
     "iopub.status.busy": "2024-01-30T15:05:19.067945Z",
     "iopub.status.idle": "2024-01-30T15:05:19.078196Z",
     "shell.execute_reply": "2024-01-30T15:05:19.076211Z"
    },
    "papermill": {
     "duration": 0.02287,
     "end_time": "2024-01-30T15:05:19.080503",
     "exception": false,
     "start_time": "2024-01-30T15:05:19.057633",
     "status": "completed"
    },
    "tags": []
   },
   "outputs": [
    {
     "data": {
      "text/plain": [
       "(160.32584269662922, 1.5335064436345743e-35)"
      ]
     },
     "execution_count": 13,
     "metadata": {},
     "output_type": "execute_result"
    }
   ],
   "source": [
    "# repeat the same step with scipy lib\n",
    "\n",
    "from scipy.stats import chisquare\n",
    "\n",
    "test_stat_lib, p_val_lib = chisquare(f_obs=observed_vals)\n",
    "\n",
    "test_stat_lib, p_val_lib"
   ]
  },
  {
   "cell_type": "code",
   "execution_count": 14,
   "id": "30d48a60",
   "metadata": {
    "execution": {
     "iopub.execute_input": "2024-01-30T15:05:19.097677Z",
     "iopub.status.busy": "2024-01-30T15:05:19.097294Z",
     "iopub.status.idle": "2024-01-30T15:05:19.107162Z",
     "shell.execute_reply": "2024-01-30T15:05:19.105685Z"
    },
    "papermill": {
     "duration": 0.022954,
     "end_time": "2024-01-30T15:05:19.111142",
     "exception": false,
     "start_time": "2024-01-30T15:05:19.088188",
     "status": "completed"
    },
    "tags": []
   },
   "outputs": [
    {
     "data": {
      "text/plain": [
       "(160.32584269662922, 160.32584269662922)"
      ]
     },
     "execution_count": 14,
     "metadata": {},
     "output_type": "execute_result"
    }
   ],
   "source": [
    "# compare the results\n",
    "\n",
    "test_stat_manual, test_stat_lib"
   ]
  },
  {
   "cell_type": "code",
   "execution_count": 15,
   "id": "72e3c9b8",
   "metadata": {
    "execution": {
     "iopub.execute_input": "2024-01-30T15:05:19.129103Z",
     "iopub.status.busy": "2024-01-30T15:05:19.128650Z",
     "iopub.status.idle": "2024-01-30T15:05:19.134594Z",
     "shell.execute_reply": "2024-01-30T15:05:19.133825Z"
    },
    "papermill": {
     "duration": 0.017585,
     "end_time": "2024-01-30T15:05:19.136807",
     "exception": false,
     "start_time": "2024-01-30T15:05:19.119222",
     "status": "completed"
    },
    "tags": []
   },
   "outputs": [
    {
     "data": {
      "text/plain": [
       "(1.5335064436345743e-35, 1.5335064436345743e-35)"
      ]
     },
     "execution_count": 15,
     "metadata": {},
     "output_type": "execute_result"
    }
   ],
   "source": [
    "p_val, p_val_lib"
   ]
  },
  {
   "cell_type": "markdown",
   "id": "f9589ee8",
   "metadata": {
    "papermill": {
     "duration": 0.007685,
     "end_time": "2024-01-30T15:05:19.152621",
     "exception": false,
     "start_time": "2024-01-30T15:05:19.144936",
     "status": "completed"
    },
    "tags": []
   },
   "source": [
    "## Chi2 Test for Independence"
   ]
  },
  {
   "cell_type": "code",
   "execution_count": 16,
   "id": "88560895",
   "metadata": {
    "execution": {
     "iopub.execute_input": "2024-01-30T15:05:19.171143Z",
     "iopub.status.busy": "2024-01-30T15:05:19.170749Z",
     "iopub.status.idle": "2024-01-30T15:05:19.197565Z",
     "shell.execute_reply": "2024-01-30T15:05:19.196189Z"
    },
    "papermill": {
     "duration": 0.039028,
     "end_time": "2024-01-30T15:05:19.199929",
     "exception": false,
     "start_time": "2024-01-30T15:05:19.160901",
     "status": "completed"
    },
    "tags": []
   },
   "outputs": [
    {
     "data": {
      "text/html": [
       "<div>\n",
       "<style scoped>\n",
       "    .dataframe tbody tr th:only-of-type {\n",
       "        vertical-align: middle;\n",
       "    }\n",
       "\n",
       "    .dataframe tbody tr th {\n",
       "        vertical-align: top;\n",
       "    }\n",
       "\n",
       "    .dataframe thead th {\n",
       "        text-align: right;\n",
       "    }\n",
       "</style>\n",
       "<table border=\"1\" class=\"dataframe\">\n",
       "  <thead>\n",
       "    <tr style=\"text-align: right;\">\n",
       "      <th>Survived</th>\n",
       "      <th>0</th>\n",
       "      <th>1</th>\n",
       "    </tr>\n",
       "    <tr>\n",
       "      <th>Pclass</th>\n",
       "      <th></th>\n",
       "      <th></th>\n",
       "    </tr>\n",
       "  </thead>\n",
       "  <tbody>\n",
       "    <tr>\n",
       "      <th>1</th>\n",
       "      <td>57</td>\n",
       "      <td>113</td>\n",
       "    </tr>\n",
       "    <tr>\n",
       "      <th>2</th>\n",
       "      <td>77</td>\n",
       "      <td>69</td>\n",
       "    </tr>\n",
       "    <tr>\n",
       "      <th>3</th>\n",
       "      <td>299</td>\n",
       "      <td>97</td>\n",
       "    </tr>\n",
       "  </tbody>\n",
       "</table>\n",
       "</div>"
      ],
      "text/plain": [
       "Survived    0    1\n",
       "Pclass            \n",
       "1          57  113\n",
       "2          77   69\n",
       "3         299   97"
      ]
     },
     "execution_count": 16,
     "metadata": {},
     "output_type": "execute_result"
    }
   ],
   "source": [
    "# distribution of Pclass and Survived\n",
    "# build the contingency table\n",
    "\n",
    "contingency_table = pd.crosstab(index=train['Pclass'],columns=train['Survived'])\n",
    "contingency_table"
   ]
  },
  {
   "cell_type": "code",
   "execution_count": 17,
   "id": "cb0808be",
   "metadata": {
    "execution": {
     "iopub.execute_input": "2024-01-30T15:05:19.218744Z",
     "iopub.status.busy": "2024-01-30T15:05:19.218325Z",
     "iopub.status.idle": "2024-01-30T15:05:19.261744Z",
     "shell.execute_reply": "2024-01-30T15:05:19.260207Z"
    },
    "papermill": {
     "duration": 0.055861,
     "end_time": "2024-01-30T15:05:19.264170",
     "exception": false,
     "start_time": "2024-01-30T15:05:19.208309",
     "status": "completed"
    },
    "tags": []
   },
   "outputs": [],
   "source": [
    "def calculate_expected_frequencies(row_var,col_var):\n",
    "    rows = row_var.unique()\n",
    "    columns = col_var.unique()\n",
    "    contingency_table = pd.crosstab(index=row_var,columns=col_var,margins=True)\n",
    "    total = contingency_table.loc['All','All']\n",
    "    expected_contingency = pd.DataFrame(index=rows,columns=columns)\n",
    "    \n",
    "    for row in rows:\n",
    "        for col in columns:\n",
    "            row_prob = contingency_table.loc[row,'All'] / total\n",
    "            col_prob = contingency_table.loc['All',col] / total\n",
    "            expected_contingency.loc[row,col] = row_prob * col_prob * total\n",
    "        \n",
    "    expected_contingency.sort_index(axis=0,ascending=True,inplace=True)\n",
    "    expected_contingency.sort_index(axis=1,ascending=True,inplace=True)\n",
    "    return expected_contingency\n",
    "\n",
    "\n",
    "    \n",
    "expected_contingency = calculate_expected_frequencies(row_var=train['Pclass'],col_var=train['Survived'])\n",
    "expected_contingency = expected_contingency.astype(np.float64)    "
   ]
  },
  {
   "cell_type": "code",
   "execution_count": 18,
   "id": "c42812f4",
   "metadata": {
    "execution": {
     "iopub.execute_input": "2024-01-30T15:05:19.282182Z",
     "iopub.status.busy": "2024-01-30T15:05:19.281577Z",
     "iopub.status.idle": "2024-01-30T15:05:19.290109Z",
     "shell.execute_reply": "2024-01-30T15:05:19.288672Z"
    },
    "papermill": {
     "duration": 0.021063,
     "end_time": "2024-01-30T15:05:19.293310",
     "exception": false,
     "start_time": "2024-01-30T15:05:19.272247",
     "status": "completed"
    },
    "tags": []
   },
   "outputs": [
    {
     "data": {
      "text/plain": [
       "array([[103.38483146,  66.61516854],\n",
       "       [ 88.78932584,  57.21067416],\n",
       "       [240.8258427 , 155.1741573 ]])"
      ]
     },
     "execution_count": 18,
     "metadata": {},
     "output_type": "execute_result"
    }
   ],
   "source": [
    "expected_contingency.values"
   ]
  },
  {
   "cell_type": "code",
   "execution_count": 19,
   "id": "33d3dddf",
   "metadata": {
    "execution": {
     "iopub.execute_input": "2024-01-30T15:05:19.312491Z",
     "iopub.status.busy": "2024-01-30T15:05:19.312022Z",
     "iopub.status.idle": "2024-01-30T15:05:19.320836Z",
     "shell.execute_reply": "2024-01-30T15:05:19.319360Z"
    },
    "papermill": {
     "duration": 0.020765,
     "end_time": "2024-01-30T15:05:19.322883",
     "exception": false,
     "start_time": "2024-01-30T15:05:19.302118",
     "status": "completed"
    },
    "tags": []
   },
   "outputs": [
    {
     "data": {
      "text/plain": [
       "array([[ 57, 113],\n",
       "       [ 77,  69],\n",
       "       [299,  97]])"
      ]
     },
     "execution_count": 19,
     "metadata": {},
     "output_type": "execute_result"
    }
   ],
   "source": [
    "contingency_table.values"
   ]
  },
  {
   "cell_type": "code",
   "execution_count": 20,
   "id": "e12d3130",
   "metadata": {
    "execution": {
     "iopub.execute_input": "2024-01-30T15:05:19.341849Z",
     "iopub.status.busy": "2024-01-30T15:05:19.341440Z",
     "iopub.status.idle": "2024-01-30T15:05:19.349438Z",
     "shell.execute_reply": "2024-01-30T15:05:19.348361Z"
    },
    "papermill": {
     "duration": 0.020445,
     "end_time": "2024-01-30T15:05:19.351565",
     "exception": false,
     "start_time": "2024-01-30T15:05:19.331120",
     "status": "completed"
    },
    "tags": []
   },
   "outputs": [
    {
     "data": {
      "text/plain": [
       "92.9659920399711"
      ]
     },
     "execution_count": 20,
     "metadata": {},
     "output_type": "execute_result"
    }
   ],
   "source": [
    "# calculate the test statistic\n",
    "\n",
    "test_stat_manual = np.sum(np.square(expected_contingency.values - contingency_table.values) / expected_contingency.values)\n",
    "test_stat_manual"
   ]
  },
  {
   "cell_type": "code",
   "execution_count": 21,
   "id": "42e54a1a",
   "metadata": {
    "execution": {
     "iopub.execute_input": "2024-01-30T15:05:19.370728Z",
     "iopub.status.busy": "2024-01-30T15:05:19.370331Z",
     "iopub.status.idle": "2024-01-30T15:05:19.378178Z",
     "shell.execute_reply": "2024-01-30T15:05:19.376456Z"
    },
    "papermill": {
     "duration": 0.021051,
     "end_time": "2024-01-30T15:05:19.381144",
     "exception": false,
     "start_time": "2024-01-30T15:05:19.360093",
     "status": "completed"
    },
    "tags": []
   },
   "outputs": [
    {
     "data": {
      "text/plain": [
       "6.496677763229997e-21"
      ]
     },
     "execution_count": 21,
     "metadata": {},
     "output_type": "execute_result"
    }
   ],
   "source": [
    "# calculate the degree of freedom\n",
    "\n",
    "dof = 2\n",
    "\n",
    "p_val = chi2.sf(x=test_stat_manual,df=dof)\n",
    "p_val"
   ]
  },
  {
   "cell_type": "code",
   "execution_count": 22,
   "id": "7cfd9183",
   "metadata": {
    "execution": {
     "iopub.execute_input": "2024-01-30T15:05:19.401666Z",
     "iopub.status.busy": "2024-01-30T15:05:19.401144Z",
     "iopub.status.idle": "2024-01-30T15:05:19.408379Z",
     "shell.execute_reply": "2024-01-30T15:05:19.406412Z"
    },
    "papermill": {
     "duration": 0.021009,
     "end_time": "2024-01-30T15:05:19.410996",
     "exception": false,
     "start_time": "2024-01-30T15:05:19.389987",
     "status": "completed"
    },
    "tags": []
   },
   "outputs": [
    {
     "name": "stdout",
     "output_type": "stream",
     "text": [
      "Reject the H_0, Both Variables are dependent on each other\n"
     ]
    }
   ],
   "source": [
    "alpha = 0.05\n",
    "\n",
    "if p_val < alpha:\n",
    "    print('Reject the H_0, Both Variables are dependent on each other')\n",
    "else:\n",
    "    print('Fail to reject H_0, Both Variables are independent from each other')"
   ]
  },
  {
   "cell_type": "code",
   "execution_count": 23,
   "id": "7b4bbdc0",
   "metadata": {
    "execution": {
     "iopub.execute_input": "2024-01-30T15:05:19.430596Z",
     "iopub.status.busy": "2024-01-30T15:05:19.430127Z",
     "iopub.status.idle": "2024-01-30T15:05:19.438176Z",
     "shell.execute_reply": "2024-01-30T15:05:19.436052Z"
    },
    "papermill": {
     "duration": 0.021595,
     "end_time": "2024-01-30T15:05:19.441120",
     "exception": false,
     "start_time": "2024-01-30T15:05:19.419525",
     "status": "completed"
    },
    "tags": []
   },
   "outputs": [],
   "source": [
    "from scipy.stats import chi2_contingency\n",
    "\n",
    "test_stat_lib, p_val_lib, dof_lib, expected_vals_lib = chi2_contingency(observed=contingency_table)"
   ]
  },
  {
   "cell_type": "code",
   "execution_count": 24,
   "id": "d26ca8a1",
   "metadata": {
    "execution": {
     "iopub.execute_input": "2024-01-30T15:05:19.461651Z",
     "iopub.status.busy": "2024-01-30T15:05:19.461161Z",
     "iopub.status.idle": "2024-01-30T15:05:19.469110Z",
     "shell.execute_reply": "2024-01-30T15:05:19.468148Z"
    },
    "papermill": {
     "duration": 0.020221,
     "end_time": "2024-01-30T15:05:19.471342",
     "exception": false,
     "start_time": "2024-01-30T15:05:19.451121",
     "status": "completed"
    },
    "tags": []
   },
   "outputs": [
    {
     "data": {
      "text/plain": [
       "(92.9659920399711, 92.96599203997107)"
      ]
     },
     "execution_count": 24,
     "metadata": {},
     "output_type": "execute_result"
    }
   ],
   "source": [
    "# compare the results\n",
    "\n",
    "test_stat_manual,test_stat_lib"
   ]
  },
  {
   "cell_type": "code",
   "execution_count": 25,
   "id": "436dd996",
   "metadata": {
    "execution": {
     "iopub.execute_input": "2024-01-30T15:05:19.490519Z",
     "iopub.status.busy": "2024-01-30T15:05:19.490071Z",
     "iopub.status.idle": "2024-01-30T15:05:19.497068Z",
     "shell.execute_reply": "2024-01-30T15:05:19.495421Z"
    },
    "papermill": {
     "duration": 0.019642,
     "end_time": "2024-01-30T15:05:19.499558",
     "exception": false,
     "start_time": "2024-01-30T15:05:19.479916",
     "status": "completed"
    },
    "tags": []
   },
   "outputs": [
    {
     "data": {
      "text/plain": [
       "(6.496677763229997e-21, 6.496677763230092e-21)"
      ]
     },
     "execution_count": 25,
     "metadata": {},
     "output_type": "execute_result"
    }
   ],
   "source": [
    "p_val, p_val_lib"
   ]
  },
  {
   "cell_type": "code",
   "execution_count": 26,
   "id": "6d634d7b",
   "metadata": {
    "execution": {
     "iopub.execute_input": "2024-01-30T15:05:19.518761Z",
     "iopub.status.busy": "2024-01-30T15:05:19.518216Z",
     "iopub.status.idle": "2024-01-30T15:05:19.528691Z",
     "shell.execute_reply": "2024-01-30T15:05:19.527654Z"
    },
    "papermill": {
     "duration": 0.023904,
     "end_time": "2024-01-30T15:05:19.532093",
     "exception": false,
     "start_time": "2024-01-30T15:05:19.508189",
     "status": "completed"
    },
    "tags": []
   },
   "outputs": [
    {
     "data": {
      "text/plain": [
       "(2, 2)"
      ]
     },
     "execution_count": 26,
     "metadata": {},
     "output_type": "execute_result"
    }
   ],
   "source": [
    "dof, dof_lib"
   ]
  },
  {
   "cell_type": "code",
   "execution_count": 27,
   "id": "98d36894",
   "metadata": {
    "execution": {
     "iopub.execute_input": "2024-01-30T15:05:19.552547Z",
     "iopub.status.busy": "2024-01-30T15:05:19.551984Z",
     "iopub.status.idle": "2024-01-30T15:05:19.561377Z",
     "shell.execute_reply": "2024-01-30T15:05:19.559876Z"
    },
    "papermill": {
     "duration": 0.022306,
     "end_time": "2024-01-30T15:05:19.563378",
     "exception": false,
     "start_time": "2024-01-30T15:05:19.541072",
     "status": "completed"
    },
    "tags": []
   },
   "outputs": [
    {
     "data": {
      "text/plain": [
       "(array([[103.38483146,  66.61516854],\n",
       "        [ 88.78932584,  57.21067416],\n",
       "        [240.8258427 , 155.1741573 ]]),\n",
       " array([[103.38483146,  66.61516854],\n",
       "        [ 88.78932584,  57.21067416],\n",
       "        [240.8258427 , 155.1741573 ]]))"
      ]
     },
     "execution_count": 27,
     "metadata": {},
     "output_type": "execute_result"
    }
   ],
   "source": [
    "expected_contingency.values, expected_vals_lib"
   ]
  }
 ],
 "metadata": {
  "kaggle": {
   "accelerator": "none",
   "dataSources": [
    {
     "datasetId": 1818188,
     "sourceId": 2965537,
     "sourceType": "datasetVersion"
    }
   ],
   "dockerImageVersionId": 30646,
   "isGpuEnabled": false,
   "isInternetEnabled": true,
   "language": "python",
   "sourceType": "notebook"
  },
  "kernelspec": {
   "display_name": "Python 3",
   "language": "python",
   "name": "python3"
  },
  "language_info": {
   "codemirror_mode": {
    "name": "ipython",
    "version": 3
   },
   "file_extension": ".py",
   "mimetype": "text/x-python",
   "name": "python",
   "nbconvert_exporter": "python",
   "pygments_lexer": "ipython3",
   "version": "3.10.13"
  },
  "papermill": {
   "default_parameters": {},
   "duration": 7.917612,
   "end_time": "2024-01-30T15:05:20.195360",
   "environment_variables": {},
   "exception": null,
   "input_path": "__notebook__.ipynb",
   "output_path": "__notebook__.ipynb",
   "parameters": {},
   "start_time": "2024-01-30T15:05:12.277748",
   "version": "2.5.0"
  }
 },
 "nbformat": 4,
 "nbformat_minor": 5
}
