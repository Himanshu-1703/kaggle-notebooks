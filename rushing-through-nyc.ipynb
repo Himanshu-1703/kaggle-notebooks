{
 "cells": [
  {
   "cell_type": "code",
   "execution_count": 1,
   "id": "254e681f",
   "metadata": {
    "_cell_guid": "b1076dfc-b9ad-4769-8c92-a6c4dae69d19",
    "_uuid": "8f2839f25d086af736a60e9eeb907d3b93b6e0e5",
    "execution": {
     "iopub.execute_input": "2024-01-21T13:06:55.689176Z",
     "iopub.status.busy": "2024-01-21T13:06:55.688446Z",
     "iopub.status.idle": "2024-01-21T13:06:56.141394Z",
     "shell.execute_reply": "2024-01-21T13:06:56.139942Z"
    },
    "papermill": {
     "duration": 0.484598,
     "end_time": "2024-01-21T13:06:56.144231",
     "exception": false,
     "start_time": "2024-01-21T13:06:55.659633",
     "status": "completed"
    },
    "tags": []
   },
   "outputs": [
    {
     "name": "stdout",
     "output_type": "stream",
     "text": [
      "/kaggle/input/nyc-taxi-trip-duration/train.zip\n",
      "/kaggle/input/nyc-taxi-trip-duration/test.zip\n",
      "/kaggle/input/nyc-taxi-trip-duration/sample_submission.zip\n"
     ]
    }
   ],
   "source": [
    "# This Python 3 environment comes with many helpful analytics libraries installed\n",
    "# It is defined by the kaggle/python Docker image: https://github.com/kaggle/docker-python\n",
    "# For example, here's several helpful packages to load\n",
    "\n",
    "import numpy as np # linear algebra\n",
    "import pandas as pd # data processing, CSV file I/O (e.g. pd.read_csv)\n",
    "\n",
    "# Input data files are available in the read-only \"../input/\" directory\n",
    "# For example, running this (by clicking run or pressing Shift+Enter) will list all files under the input directory\n",
    "\n",
    "import os\n",
    "for dirname, _, filenames in os.walk('/kaggle/input'):\n",
    "    for filename in filenames:\n",
    "        print(os.path.join(dirname, filename))\n",
    "\n",
    "# You can write up to 20GB to the current directory (/kaggle/working/) that gets preserved as output when you create a version using \"Save & Run All\" \n",
    "# You can also write temporary files to /kaggle/temp/, but they won't be saved outside of the current session"
   ]
  },
  {
   "cell_type": "code",
   "execution_count": 2,
   "id": "5e456af2",
   "metadata": {
    "execution": {
     "iopub.execute_input": "2024-01-21T13:06:56.201308Z",
     "iopub.status.busy": "2024-01-21T13:06:56.199994Z",
     "iopub.status.idle": "2024-01-21T13:06:57.647876Z",
     "shell.execute_reply": "2024-01-21T13:06:57.646633Z"
    },
    "papermill": {
     "duration": 1.479658,
     "end_time": "2024-01-21T13:06:57.651085",
     "exception": false,
     "start_time": "2024-01-21T13:06:56.171427",
     "status": "completed"
    },
    "tags": []
   },
   "outputs": [],
   "source": [
    "import matplotlib.pyplot as plt\n",
    "import seaborn as sns"
   ]
  },
  {
   "cell_type": "markdown",
   "id": "ccb0c18b",
   "metadata": {
    "papermill": {
     "duration": 0.026119,
     "end_time": "2024-01-21T13:06:57.703675",
     "exception": false,
     "start_time": "2024-01-21T13:06:57.677556",
     "status": "completed"
    },
    "tags": []
   },
   "source": [
    "# 🔃 Data Loading and Extraction"
   ]
  },
  {
   "cell_type": "code",
   "execution_count": 3,
   "id": "33b0995d",
   "metadata": {
    "execution": {
     "iopub.execute_input": "2024-01-21T13:06:57.757880Z",
     "iopub.status.busy": "2024-01-21T13:06:57.757443Z",
     "iopub.status.idle": "2024-01-21T13:06:57.762231Z",
     "shell.execute_reply": "2024-01-21T13:06:57.761068Z"
    },
    "papermill": {
     "duration": 0.034973,
     "end_time": "2024-01-21T13:06:57.764762",
     "exception": false,
     "start_time": "2024-01-21T13:06:57.729789",
     "status": "completed"
    },
    "tags": []
   },
   "outputs": [],
   "source": [
    "from pathlib import Path\n",
    "from zipfile import ZipFile"
   ]
  },
  {
   "cell_type": "code",
   "execution_count": 4,
   "id": "3d707fa9",
   "metadata": {
    "execution": {
     "iopub.execute_input": "2024-01-21T13:06:57.819605Z",
     "iopub.status.busy": "2024-01-21T13:06:57.819169Z",
     "iopub.status.idle": "2024-01-21T13:06:57.824426Z",
     "shell.execute_reply": "2024-01-21T13:06:57.823318Z"
    },
    "papermill": {
     "duration": 0.035266,
     "end_time": "2024-01-21T13:06:57.826780",
     "exception": false,
     "start_time": "2024-01-21T13:06:57.791514",
     "status": "completed"
    },
    "tags": []
   },
   "outputs": [],
   "source": [
    "# paths for the dataset\n",
    "train_path = '/kaggle/input/nyc-taxi-trip-duration/train.zip'\n",
    "test_path = '/kaggle/input/nyc-taxi-trip-duration/test.zip'"
   ]
  },
  {
   "cell_type": "code",
   "execution_count": 5,
   "id": "6e77a016",
   "metadata": {
    "execution": {
     "iopub.execute_input": "2024-01-21T13:06:57.946950Z",
     "iopub.status.busy": "2024-01-21T13:06:57.946092Z",
     "iopub.status.idle": "2024-01-21T13:07:00.752964Z",
     "shell.execute_reply": "2024-01-21T13:07:00.750904Z"
    },
    "papermill": {
     "duration": 2.839686,
     "end_time": "2024-01-21T13:07:00.758095",
     "exception": false,
     "start_time": "2024-01-21T13:06:57.918409",
     "status": "completed"
    },
    "tags": []
   },
   "outputs": [],
   "source": [
    "# output path for the zip files\n",
    "def extract_zip_file(filepath):\n",
    "    output_path = Path('/kaggle/working/') / 'raw'\n",
    "    output_path.mkdir(parents=True,exist_ok=True)\n",
    "    with ZipFile(file=filepath) as f:\n",
    "        f.extractall(path=output_path)  \n",
    "        \n",
    "# extract the train file\n",
    "extract_zip_file(train_path)\n",
    "\n",
    "# extract the test file\n",
    "extract_zip_file(test_path)"
   ]
  },
  {
   "cell_type": "code",
   "execution_count": 6,
   "id": "6f5c80b2",
   "metadata": {
    "execution": {
     "iopub.execute_input": "2024-01-21T13:07:00.832153Z",
     "iopub.status.busy": "2024-01-21T13:07:00.830978Z",
     "iopub.status.idle": "2024-01-21T13:07:08.338192Z",
     "shell.execute_reply": "2024-01-21T13:07:08.336875Z"
    },
    "papermill": {
     "duration": 7.544263,
     "end_time": "2024-01-21T13:07:08.340773",
     "exception": false,
     "start_time": "2024-01-21T13:07:00.796510",
     "status": "completed"
    },
    "tags": []
   },
   "outputs": [
    {
     "name": "stdout",
     "output_type": "stream",
     "text": [
      "The shape of train file is (1458644, 11)\n",
      "The shape of train file is (625134, 9)\n"
     ]
    }
   ],
   "source": [
    "# read the csv files\n",
    "train_df = pd.read_csv('/kaggle/working/raw/train.csv')\n",
    "test_df = pd.read_csv('/kaggle/working/raw/test.csv')\n",
    "\n",
    "print(f'The shape of train file is {train_df.shape}')\n",
    "print(f'The shape of train file is {test_df.shape}')"
   ]
  },
  {
   "cell_type": "markdown",
   "id": "a92a5d6b",
   "metadata": {
    "papermill": {
     "duration": 0.026225,
     "end_time": "2024-01-21T13:07:08.393565",
     "exception": false,
     "start_time": "2024-01-21T13:07:08.367340",
     "status": "completed"
    },
    "tags": []
   },
   "source": [
    "**Data Shape**\n",
    "- The Train Data has around 1.4 million rows and 11 columns.\n",
    "- The Test Data has around 625k rows and 9 columns."
   ]
  },
  {
   "cell_type": "markdown",
   "id": "eae95b77",
   "metadata": {
    "papermill": {
     "duration": 0.025918,
     "end_time": "2024-01-21T13:07:08.445782",
     "exception": false,
     "start_time": "2024-01-21T13:07:08.419864",
     "status": "completed"
    },
    "tags": []
   },
   "source": [
    "# Understanding the Data"
   ]
  },
  {
   "cell_type": "code",
   "execution_count": 7,
   "id": "ec8650c3",
   "metadata": {
    "execution": {
     "iopub.execute_input": "2024-01-21T13:07:08.500761Z",
     "iopub.status.busy": "2024-01-21T13:07:08.500336Z",
     "iopub.status.idle": "2024-01-21T13:07:08.604455Z",
     "shell.execute_reply": "2024-01-21T13:07:08.603236Z"
    },
    "papermill": {
     "duration": 0.134254,
     "end_time": "2024-01-21T13:07:08.606831",
     "exception": false,
     "start_time": "2024-01-21T13:07:08.472577",
     "status": "completed"
    },
    "tags": []
   },
   "outputs": [
    {
     "data": {
      "text/html": [
       "<div>\n",
       "<style scoped>\n",
       "    .dataframe tbody tr th:only-of-type {\n",
       "        vertical-align: middle;\n",
       "    }\n",
       "\n",
       "    .dataframe tbody tr th {\n",
       "        vertical-align: top;\n",
       "    }\n",
       "\n",
       "    .dataframe thead th {\n",
       "        text-align: right;\n",
       "    }\n",
       "</style>\n",
       "<table border=\"1\" class=\"dataframe\">\n",
       "  <thead>\n",
       "    <tr style=\"text-align: right;\">\n",
       "      <th></th>\n",
       "      <th>id</th>\n",
       "      <th>vendor_id</th>\n",
       "      <th>pickup_datetime</th>\n",
       "      <th>dropoff_datetime</th>\n",
       "      <th>passenger_count</th>\n",
       "      <th>pickup_longitude</th>\n",
       "      <th>pickup_latitude</th>\n",
       "      <th>dropoff_longitude</th>\n",
       "      <th>dropoff_latitude</th>\n",
       "      <th>store_and_fwd_flag</th>\n",
       "      <th>trip_duration</th>\n",
       "    </tr>\n",
       "  </thead>\n",
       "  <tbody>\n",
       "    <tr>\n",
       "      <th>1003616</th>\n",
       "      <td>id3802492</td>\n",
       "      <td>1</td>\n",
       "      <td>2016-03-09 21:27:41</td>\n",
       "      <td>2016-03-09 21:41:19</td>\n",
       "      <td>1</td>\n",
       "      <td>-73.986671</td>\n",
       "      <td>40.742966</td>\n",
       "      <td>-73.965736</td>\n",
       "      <td>40.762665</td>\n",
       "      <td>N</td>\n",
       "      <td>818</td>\n",
       "    </tr>\n",
       "    <tr>\n",
       "      <th>131224</th>\n",
       "      <td>id2741809</td>\n",
       "      <td>2</td>\n",
       "      <td>2016-02-07 01:41:15</td>\n",
       "      <td>2016-02-07 02:04:48</td>\n",
       "      <td>4</td>\n",
       "      <td>-74.005440</td>\n",
       "      <td>40.719982</td>\n",
       "      <td>-73.939758</td>\n",
       "      <td>40.847355</td>\n",
       "      <td>N</td>\n",
       "      <td>1413</td>\n",
       "    </tr>\n",
       "    <tr>\n",
       "      <th>1382571</th>\n",
       "      <td>id3646777</td>\n",
       "      <td>1</td>\n",
       "      <td>2016-01-17 02:03:46</td>\n",
       "      <td>2016-01-17 02:10:57</td>\n",
       "      <td>2</td>\n",
       "      <td>-73.982208</td>\n",
       "      <td>40.679558</td>\n",
       "      <td>-73.980751</td>\n",
       "      <td>40.664864</td>\n",
       "      <td>N</td>\n",
       "      <td>431</td>\n",
       "    </tr>\n",
       "    <tr>\n",
       "      <th>1089329</th>\n",
       "      <td>id3896339</td>\n",
       "      <td>2</td>\n",
       "      <td>2016-05-20 22:47:32</td>\n",
       "      <td>2016-05-20 23:14:40</td>\n",
       "      <td>2</td>\n",
       "      <td>-73.989014</td>\n",
       "      <td>40.726841</td>\n",
       "      <td>-73.984901</td>\n",
       "      <td>40.666962</td>\n",
       "      <td>N</td>\n",
       "      <td>1628</td>\n",
       "    </tr>\n",
       "    <tr>\n",
       "      <th>815381</th>\n",
       "      <td>id3518091</td>\n",
       "      <td>2</td>\n",
       "      <td>2016-05-31 16:53:05</td>\n",
       "      <td>2016-05-31 17:03:58</td>\n",
       "      <td>2</td>\n",
       "      <td>-73.980499</td>\n",
       "      <td>40.770065</td>\n",
       "      <td>-73.971199</td>\n",
       "      <td>40.761463</td>\n",
       "      <td>N</td>\n",
       "      <td>653</td>\n",
       "    </tr>\n",
       "    <tr>\n",
       "      <th>717703</th>\n",
       "      <td>id1984955</td>\n",
       "      <td>2</td>\n",
       "      <td>2016-06-07 23:19:04</td>\n",
       "      <td>2016-06-07 23:41:09</td>\n",
       "      <td>2</td>\n",
       "      <td>-74.001846</td>\n",
       "      <td>40.724548</td>\n",
       "      <td>-73.964813</td>\n",
       "      <td>40.760101</td>\n",
       "      <td>N</td>\n",
       "      <td>1325</td>\n",
       "    </tr>\n",
       "    <tr>\n",
       "      <th>593039</th>\n",
       "      <td>id0469627</td>\n",
       "      <td>1</td>\n",
       "      <td>2016-01-18 08:16:09</td>\n",
       "      <td>2016-01-18 08:32:46</td>\n",
       "      <td>1</td>\n",
       "      <td>-73.973671</td>\n",
       "      <td>40.750538</td>\n",
       "      <td>-73.999893</td>\n",
       "      <td>40.758820</td>\n",
       "      <td>N</td>\n",
       "      <td>997</td>\n",
       "    </tr>\n",
       "    <tr>\n",
       "      <th>361650</th>\n",
       "      <td>id0605734</td>\n",
       "      <td>1</td>\n",
       "      <td>2016-02-24 21:36:03</td>\n",
       "      <td>2016-02-24 21:44:23</td>\n",
       "      <td>1</td>\n",
       "      <td>-73.971039</td>\n",
       "      <td>40.764462</td>\n",
       "      <td>-73.987152</td>\n",
       "      <td>40.768681</td>\n",
       "      <td>N</td>\n",
       "      <td>500</td>\n",
       "    </tr>\n",
       "    <tr>\n",
       "      <th>592627</th>\n",
       "      <td>id2336779</td>\n",
       "      <td>2</td>\n",
       "      <td>2016-05-30 13:20:42</td>\n",
       "      <td>2016-05-30 13:23:59</td>\n",
       "      <td>1</td>\n",
       "      <td>-73.960655</td>\n",
       "      <td>40.765823</td>\n",
       "      <td>-73.965218</td>\n",
       "      <td>40.761772</td>\n",
       "      <td>N</td>\n",
       "      <td>197</td>\n",
       "    </tr>\n",
       "    <tr>\n",
       "      <th>290320</th>\n",
       "      <td>id0667603</td>\n",
       "      <td>1</td>\n",
       "      <td>2016-02-24 00:24:19</td>\n",
       "      <td>2016-02-24 00:47:36</td>\n",
       "      <td>1</td>\n",
       "      <td>-73.987854</td>\n",
       "      <td>40.718334</td>\n",
       "      <td>-73.911171</td>\n",
       "      <td>40.679935</td>\n",
       "      <td>N</td>\n",
       "      <td>1397</td>\n",
       "    </tr>\n",
       "    <tr>\n",
       "      <th>1428683</th>\n",
       "      <td>id2177829</td>\n",
       "      <td>1</td>\n",
       "      <td>2016-03-23 01:34:28</td>\n",
       "      <td>2016-03-23 02:01:05</td>\n",
       "      <td>1</td>\n",
       "      <td>-73.992073</td>\n",
       "      <td>40.721756</td>\n",
       "      <td>-73.964836</td>\n",
       "      <td>40.792599</td>\n",
       "      <td>N</td>\n",
       "      <td>1597</td>\n",
       "    </tr>\n",
       "    <tr>\n",
       "      <th>306670</th>\n",
       "      <td>id0918873</td>\n",
       "      <td>2</td>\n",
       "      <td>2016-04-13 15:01:07</td>\n",
       "      <td>2016-04-13 15:16:24</td>\n",
       "      <td>1</td>\n",
       "      <td>-73.971092</td>\n",
       "      <td>40.763660</td>\n",
       "      <td>-73.959564</td>\n",
       "      <td>40.760311</td>\n",
       "      <td>N</td>\n",
       "      <td>917</td>\n",
       "    </tr>\n",
       "    <tr>\n",
       "      <th>1347263</th>\n",
       "      <td>id1663680</td>\n",
       "      <td>1</td>\n",
       "      <td>2016-04-14 14:45:08</td>\n",
       "      <td>2016-04-14 15:38:52</td>\n",
       "      <td>1</td>\n",
       "      <td>-74.011345</td>\n",
       "      <td>40.703411</td>\n",
       "      <td>-73.786415</td>\n",
       "      <td>40.645081</td>\n",
       "      <td>N</td>\n",
       "      <td>3224</td>\n",
       "    </tr>\n",
       "    <tr>\n",
       "      <th>819083</th>\n",
       "      <td>id3397971</td>\n",
       "      <td>1</td>\n",
       "      <td>2016-05-30 13:11:57</td>\n",
       "      <td>2016-05-30 13:19:45</td>\n",
       "      <td>1</td>\n",
       "      <td>-73.973351</td>\n",
       "      <td>40.754478</td>\n",
       "      <td>-73.988846</td>\n",
       "      <td>40.726986</td>\n",
       "      <td>N</td>\n",
       "      <td>468</td>\n",
       "    </tr>\n",
       "    <tr>\n",
       "      <th>937522</th>\n",
       "      <td>id2934655</td>\n",
       "      <td>2</td>\n",
       "      <td>2016-03-23 20:19:58</td>\n",
       "      <td>2016-03-23 20:36:40</td>\n",
       "      <td>1</td>\n",
       "      <td>-73.983818</td>\n",
       "      <td>40.742352</td>\n",
       "      <td>-73.951729</td>\n",
       "      <td>40.777901</td>\n",
       "      <td>N</td>\n",
       "      <td>1002</td>\n",
       "    </tr>\n",
       "    <tr>\n",
       "      <th>50789</th>\n",
       "      <td>id3195264</td>\n",
       "      <td>1</td>\n",
       "      <td>2016-01-22 20:33:21</td>\n",
       "      <td>2016-01-22 20:38:50</td>\n",
       "      <td>1</td>\n",
       "      <td>-73.988609</td>\n",
       "      <td>40.778397</td>\n",
       "      <td>-73.976967</td>\n",
       "      <td>40.784584</td>\n",
       "      <td>N</td>\n",
       "      <td>329</td>\n",
       "    </tr>\n",
       "    <tr>\n",
       "      <th>740441</th>\n",
       "      <td>id0019581</td>\n",
       "      <td>1</td>\n",
       "      <td>2016-02-03 10:22:57</td>\n",
       "      <td>2016-02-03 10:34:31</td>\n",
       "      <td>1</td>\n",
       "      <td>-73.985535</td>\n",
       "      <td>40.757416</td>\n",
       "      <td>-73.979088</td>\n",
       "      <td>40.758984</td>\n",
       "      <td>N</td>\n",
       "      <td>694</td>\n",
       "    </tr>\n",
       "    <tr>\n",
       "      <th>970717</th>\n",
       "      <td>id0075623</td>\n",
       "      <td>2</td>\n",
       "      <td>2016-06-12 00:22:10</td>\n",
       "      <td>2016-06-12 00:29:51</td>\n",
       "      <td>5</td>\n",
       "      <td>-73.996147</td>\n",
       "      <td>40.753281</td>\n",
       "      <td>-73.986382</td>\n",
       "      <td>40.758549</td>\n",
       "      <td>N</td>\n",
       "      <td>461</td>\n",
       "    </tr>\n",
       "    <tr>\n",
       "      <th>382683</th>\n",
       "      <td>id0048098</td>\n",
       "      <td>1</td>\n",
       "      <td>2016-06-02 06:50:51</td>\n",
       "      <td>2016-06-02 06:59:22</td>\n",
       "      <td>1</td>\n",
       "      <td>-73.879463</td>\n",
       "      <td>40.756279</td>\n",
       "      <td>-73.890007</td>\n",
       "      <td>40.747009</td>\n",
       "      <td>N</td>\n",
       "      <td>511</td>\n",
       "    </tr>\n",
       "    <tr>\n",
       "      <th>1145876</th>\n",
       "      <td>id0816405</td>\n",
       "      <td>1</td>\n",
       "      <td>2016-03-04 19:10:59</td>\n",
       "      <td>2016-03-04 19:20:38</td>\n",
       "      <td>3</td>\n",
       "      <td>-73.955124</td>\n",
       "      <td>40.783150</td>\n",
       "      <td>-73.967880</td>\n",
       "      <td>40.765507</td>\n",
       "      <td>N</td>\n",
       "      <td>579</td>\n",
       "    </tr>\n",
       "  </tbody>\n",
       "</table>\n",
       "</div>"
      ],
      "text/plain": [
       "                id  vendor_id      pickup_datetime     dropoff_datetime  \\\n",
       "1003616  id3802492          1  2016-03-09 21:27:41  2016-03-09 21:41:19   \n",
       "131224   id2741809          2  2016-02-07 01:41:15  2016-02-07 02:04:48   \n",
       "1382571  id3646777          1  2016-01-17 02:03:46  2016-01-17 02:10:57   \n",
       "1089329  id3896339          2  2016-05-20 22:47:32  2016-05-20 23:14:40   \n",
       "815381   id3518091          2  2016-05-31 16:53:05  2016-05-31 17:03:58   \n",
       "717703   id1984955          2  2016-06-07 23:19:04  2016-06-07 23:41:09   \n",
       "593039   id0469627          1  2016-01-18 08:16:09  2016-01-18 08:32:46   \n",
       "361650   id0605734          1  2016-02-24 21:36:03  2016-02-24 21:44:23   \n",
       "592627   id2336779          2  2016-05-30 13:20:42  2016-05-30 13:23:59   \n",
       "290320   id0667603          1  2016-02-24 00:24:19  2016-02-24 00:47:36   \n",
       "1428683  id2177829          1  2016-03-23 01:34:28  2016-03-23 02:01:05   \n",
       "306670   id0918873          2  2016-04-13 15:01:07  2016-04-13 15:16:24   \n",
       "1347263  id1663680          1  2016-04-14 14:45:08  2016-04-14 15:38:52   \n",
       "819083   id3397971          1  2016-05-30 13:11:57  2016-05-30 13:19:45   \n",
       "937522   id2934655          2  2016-03-23 20:19:58  2016-03-23 20:36:40   \n",
       "50789    id3195264          1  2016-01-22 20:33:21  2016-01-22 20:38:50   \n",
       "740441   id0019581          1  2016-02-03 10:22:57  2016-02-03 10:34:31   \n",
       "970717   id0075623          2  2016-06-12 00:22:10  2016-06-12 00:29:51   \n",
       "382683   id0048098          1  2016-06-02 06:50:51  2016-06-02 06:59:22   \n",
       "1145876  id0816405          1  2016-03-04 19:10:59  2016-03-04 19:20:38   \n",
       "\n",
       "         passenger_count  pickup_longitude  pickup_latitude  \\\n",
       "1003616                1        -73.986671        40.742966   \n",
       "131224                 4        -74.005440        40.719982   \n",
       "1382571                2        -73.982208        40.679558   \n",
       "1089329                2        -73.989014        40.726841   \n",
       "815381                 2        -73.980499        40.770065   \n",
       "717703                 2        -74.001846        40.724548   \n",
       "593039                 1        -73.973671        40.750538   \n",
       "361650                 1        -73.971039        40.764462   \n",
       "592627                 1        -73.960655        40.765823   \n",
       "290320                 1        -73.987854        40.718334   \n",
       "1428683                1        -73.992073        40.721756   \n",
       "306670                 1        -73.971092        40.763660   \n",
       "1347263                1        -74.011345        40.703411   \n",
       "819083                 1        -73.973351        40.754478   \n",
       "937522                 1        -73.983818        40.742352   \n",
       "50789                  1        -73.988609        40.778397   \n",
       "740441                 1        -73.985535        40.757416   \n",
       "970717                 5        -73.996147        40.753281   \n",
       "382683                 1        -73.879463        40.756279   \n",
       "1145876                3        -73.955124        40.783150   \n",
       "\n",
       "         dropoff_longitude  dropoff_latitude store_and_fwd_flag  trip_duration  \n",
       "1003616         -73.965736         40.762665                  N            818  \n",
       "131224          -73.939758         40.847355                  N           1413  \n",
       "1382571         -73.980751         40.664864                  N            431  \n",
       "1089329         -73.984901         40.666962                  N           1628  \n",
       "815381          -73.971199         40.761463                  N            653  \n",
       "717703          -73.964813         40.760101                  N           1325  \n",
       "593039          -73.999893         40.758820                  N            997  \n",
       "361650          -73.987152         40.768681                  N            500  \n",
       "592627          -73.965218         40.761772                  N            197  \n",
       "290320          -73.911171         40.679935                  N           1397  \n",
       "1428683         -73.964836         40.792599                  N           1597  \n",
       "306670          -73.959564         40.760311                  N            917  \n",
       "1347263         -73.786415         40.645081                  N           3224  \n",
       "819083          -73.988846         40.726986                  N            468  \n",
       "937522          -73.951729         40.777901                  N           1002  \n",
       "50789           -73.976967         40.784584                  N            329  \n",
       "740441          -73.979088         40.758984                  N            694  \n",
       "970717          -73.986382         40.758549                  N            461  \n",
       "382683          -73.890007         40.747009                  N            511  \n",
       "1145876         -73.967880         40.765507                  N            579  "
      ]
     },
     "execution_count": 7,
     "metadata": {},
     "output_type": "execute_result"
    }
   ],
   "source": [
    "train_df.sample(20)"
   ]
  },
  {
   "cell_type": "markdown",
   "id": "c4a79b8e",
   "metadata": {
    "papermill": {
     "duration": 0.027147,
     "end_time": "2024-01-21T13:07:08.662924",
     "exception": false,
     "start_time": "2024-01-21T13:07:08.635777",
     "status": "completed"
    },
    "tags": []
   },
   "source": [
    "**About the columns** 💻:\n",
    "1. **id** - Starts with id and then a bunch of random numbers(7 to be exact).\n",
    "2. **vendor_id** - Integer column and categorical.\n",
    "3. **pickup_datetime** - Fmt YYYY-MM-DD HH:MM:SS\n",
    "4. **dropoff_datetime** - Fmt YYYY-MM-DD HH:MM:SS\n",
    "5. **passenger_count** - Integer column\n",
    "6. **pickup_longitude/latitude** - longitude is negative and latitude is positive(above Tropic of Cancer).\n",
    "7. **dropoff_longitude/latitude** - longitude is negative and latitude is positive(above Tropic of Cancer).\n",
    "8. **store_and_fwd_flagstore_and_fwd_flag** - String categorical - `Has to be encoded`.\n",
    "9. **trip_duration** - in seconds"
   ]
  },
  {
   "cell_type": "code",
   "execution_count": 8,
   "id": "ad471445",
   "metadata": {
    "execution": {
     "iopub.execute_input": "2024-01-21T13:07:08.719632Z",
     "iopub.status.busy": "2024-01-21T13:07:08.718789Z",
     "iopub.status.idle": "2024-01-21T13:07:09.337480Z",
     "shell.execute_reply": "2024-01-21T13:07:09.336273Z"
    },
    "papermill": {
     "duration": 0.649646,
     "end_time": "2024-01-21T13:07:09.340048",
     "exception": false,
     "start_time": "2024-01-21T13:07:08.690402",
     "status": "completed"
    },
    "tags": []
   },
   "outputs": [
    {
     "data": {
      "text/plain": [
       "id                    0\n",
       "vendor_id             0\n",
       "pickup_datetime       0\n",
       "dropoff_datetime      0\n",
       "passenger_count       0\n",
       "pickup_longitude      0\n",
       "pickup_latitude       0\n",
       "dropoff_longitude     0\n",
       "dropoff_latitude      0\n",
       "store_and_fwd_flag    0\n",
       "trip_duration         0\n",
       "dtype: int64"
      ]
     },
     "execution_count": 8,
     "metadata": {},
     "output_type": "execute_result"
    }
   ],
   "source": [
    "# check for missing values\n",
    "\n",
    "# train_df\n",
    "train_df.isnull().sum()"
   ]
  },
  {
   "cell_type": "code",
   "execution_count": 9,
   "id": "c7c00d42",
   "metadata": {
    "execution": {
     "iopub.execute_input": "2024-01-21T13:07:09.396919Z",
     "iopub.status.busy": "2024-01-21T13:07:09.396498Z",
     "iopub.status.idle": "2024-01-21T13:07:09.602799Z",
     "shell.execute_reply": "2024-01-21T13:07:09.601762Z"
    },
    "papermill": {
     "duration": 0.237795,
     "end_time": "2024-01-21T13:07:09.605656",
     "exception": false,
     "start_time": "2024-01-21T13:07:09.367861",
     "status": "completed"
    },
    "tags": []
   },
   "outputs": [
    {
     "data": {
      "text/plain": [
       "id                    0\n",
       "vendor_id             0\n",
       "pickup_datetime       0\n",
       "passenger_count       0\n",
       "pickup_longitude      0\n",
       "pickup_latitude       0\n",
       "dropoff_longitude     0\n",
       "dropoff_latitude      0\n",
       "store_and_fwd_flag    0\n",
       "dtype: int64"
      ]
     },
     "execution_count": 9,
     "metadata": {},
     "output_type": "execute_result"
    }
   ],
   "source": [
    "# check for the test data\n",
    "test_df.isna().sum()"
   ]
  },
  {
   "cell_type": "code",
   "execution_count": 10,
   "id": "efdc2f25",
   "metadata": {
    "execution": {
     "iopub.execute_input": "2024-01-21T13:07:09.664708Z",
     "iopub.status.busy": "2024-01-21T13:07:09.664250Z",
     "iopub.status.idle": "2024-01-21T13:07:09.671887Z",
     "shell.execute_reply": "2024-01-21T13:07:09.670743Z"
    },
    "papermill": {
     "duration": 0.039246,
     "end_time": "2024-01-21T13:07:09.674214",
     "exception": false,
     "start_time": "2024-01-21T13:07:09.634968",
     "status": "completed"
    },
    "tags": []
   },
   "outputs": [
    {
     "data": {
      "text/plain": [
       "Index(['pickup_longitude', 'pickup_latitude', 'dropoff_longitude',\n",
       "       'dropoff_latitude', 'trip_duration'],\n",
       "      dtype='object')"
      ]
     },
     "execution_count": 10,
     "metadata": {},
     "output_type": "execute_result"
    }
   ],
   "source": [
    "# columns to run describe on\n",
    "\n",
    "cols_to_describe_num = train_df.columns[[5,6,7,8,10]]\n",
    "\n",
    "cols_to_describe_num"
   ]
  },
  {
   "cell_type": "code",
   "execution_count": 11,
   "id": "38cab766",
   "metadata": {
    "execution": {
     "iopub.execute_input": "2024-01-21T13:07:09.732140Z",
     "iopub.status.busy": "2024-01-21T13:07:09.731207Z",
     "iopub.status.idle": "2024-01-21T13:07:10.189319Z",
     "shell.execute_reply": "2024-01-21T13:07:10.188228Z"
    },
    "papermill": {
     "duration": 0.489866,
     "end_time": "2024-01-21T13:07:10.191738",
     "exception": false,
     "start_time": "2024-01-21T13:07:09.701872",
     "status": "completed"
    },
    "tags": []
   },
   "outputs": [
    {
     "data": {
      "text/html": [
       "<div>\n",
       "<style scoped>\n",
       "    .dataframe tbody tr th:only-of-type {\n",
       "        vertical-align: middle;\n",
       "    }\n",
       "\n",
       "    .dataframe tbody tr th {\n",
       "        vertical-align: top;\n",
       "    }\n",
       "\n",
       "    .dataframe thead th {\n",
       "        text-align: right;\n",
       "    }\n",
       "</style>\n",
       "<table border=\"1\" class=\"dataframe\">\n",
       "  <thead>\n",
       "    <tr style=\"text-align: right;\">\n",
       "      <th></th>\n",
       "      <th>pickup_longitude</th>\n",
       "      <th>pickup_latitude</th>\n",
       "      <th>dropoff_longitude</th>\n",
       "      <th>dropoff_latitude</th>\n",
       "      <th>trip_duration</th>\n",
       "    </tr>\n",
       "  </thead>\n",
       "  <tbody>\n",
       "    <tr>\n",
       "      <th>count</th>\n",
       "      <td>1.458644e+06</td>\n",
       "      <td>1.458644e+06</td>\n",
       "      <td>1.458644e+06</td>\n",
       "      <td>1.458644e+06</td>\n",
       "      <td>1.458644e+06</td>\n",
       "    </tr>\n",
       "    <tr>\n",
       "      <th>mean</th>\n",
       "      <td>-7.397349e+01</td>\n",
       "      <td>4.075092e+01</td>\n",
       "      <td>-7.397342e+01</td>\n",
       "      <td>4.075180e+01</td>\n",
       "      <td>9.594923e+02</td>\n",
       "    </tr>\n",
       "    <tr>\n",
       "      <th>std</th>\n",
       "      <td>7.090186e-02</td>\n",
       "      <td>3.288119e-02</td>\n",
       "      <td>7.064327e-02</td>\n",
       "      <td>3.589056e-02</td>\n",
       "      <td>5.237432e+03</td>\n",
       "    </tr>\n",
       "    <tr>\n",
       "      <th>min</th>\n",
       "      <td>-1.219333e+02</td>\n",
       "      <td>3.435970e+01</td>\n",
       "      <td>-1.219333e+02</td>\n",
       "      <td>3.218114e+01</td>\n",
       "      <td>1.000000e+00</td>\n",
       "    </tr>\n",
       "    <tr>\n",
       "      <th>25%</th>\n",
       "      <td>-7.399187e+01</td>\n",
       "      <td>4.073735e+01</td>\n",
       "      <td>-7.399133e+01</td>\n",
       "      <td>4.073588e+01</td>\n",
       "      <td>3.970000e+02</td>\n",
       "    </tr>\n",
       "    <tr>\n",
       "      <th>50%</th>\n",
       "      <td>-7.398174e+01</td>\n",
       "      <td>4.075410e+01</td>\n",
       "      <td>-7.397975e+01</td>\n",
       "      <td>4.075452e+01</td>\n",
       "      <td>6.620000e+02</td>\n",
       "    </tr>\n",
       "    <tr>\n",
       "      <th>75%</th>\n",
       "      <td>-7.396733e+01</td>\n",
       "      <td>4.076836e+01</td>\n",
       "      <td>-7.396301e+01</td>\n",
       "      <td>4.076981e+01</td>\n",
       "      <td>1.075000e+03</td>\n",
       "    </tr>\n",
       "    <tr>\n",
       "      <th>max</th>\n",
       "      <td>-6.133553e+01</td>\n",
       "      <td>5.188108e+01</td>\n",
       "      <td>-6.133553e+01</td>\n",
       "      <td>4.392103e+01</td>\n",
       "      <td>3.526282e+06</td>\n",
       "    </tr>\n",
       "  </tbody>\n",
       "</table>\n",
       "</div>"
      ],
      "text/plain": [
       "       pickup_longitude  pickup_latitude  dropoff_longitude  dropoff_latitude  \\\n",
       "count      1.458644e+06     1.458644e+06       1.458644e+06      1.458644e+06   \n",
       "mean      -7.397349e+01     4.075092e+01      -7.397342e+01      4.075180e+01   \n",
       "std        7.090186e-02     3.288119e-02       7.064327e-02      3.589056e-02   \n",
       "min       -1.219333e+02     3.435970e+01      -1.219333e+02      3.218114e+01   \n",
       "25%       -7.399187e+01     4.073735e+01      -7.399133e+01      4.073588e+01   \n",
       "50%       -7.398174e+01     4.075410e+01      -7.397975e+01      4.075452e+01   \n",
       "75%       -7.396733e+01     4.076836e+01      -7.396301e+01      4.076981e+01   \n",
       "max       -6.133553e+01     5.188108e+01      -6.133553e+01      4.392103e+01   \n",
       "\n",
       "       trip_duration  \n",
       "count   1.458644e+06  \n",
       "mean    9.594923e+02  \n",
       "std     5.237432e+03  \n",
       "min     1.000000e+00  \n",
       "25%     3.970000e+02  \n",
       "50%     6.620000e+02  \n",
       "75%     1.075000e+03  \n",
       "max     3.526282e+06  "
      ]
     },
     "execution_count": 11,
     "metadata": {},
     "output_type": "execute_result"
    }
   ],
   "source": [
    "# description about the data\n",
    "\n",
    "train_df[cols_to_describe_num].describe()"
   ]
  },
  {
   "cell_type": "markdown",
   "id": "d6d39954",
   "metadata": {
    "papermill": {
     "duration": 0.027881,
     "end_time": "2024-01-21T13:07:10.247590",
     "exception": false,
     "start_time": "2024-01-21T13:07:10.219709",
     "status": "completed"
    },
    "tags": []
   },
   "source": [
    "<div style=\"background-color:#F0B27A ; padding: 20px;\">\n",
    "\n",
    "<span style=\"font-size: 18px;\">\n",
    "    \n",
    "**Some Geography Facts**         \n",
    "Latitude and longitude are a pair of numbers that describe a position on a geographic coordinate system. They are measured in decimal degrees and range from **\\[-90 to 90] for latitude** and **\\[-180 to 180] for longitude**.\n",
    "</span>\n",
    "</div>"
   ]
  },
  {
   "cell_type": "code",
   "execution_count": 12,
   "id": "84d759b1",
   "metadata": {
    "execution": {
     "iopub.execute_input": "2024-01-21T13:07:10.305783Z",
     "iopub.status.busy": "2024-01-21T13:07:10.305118Z",
     "iopub.status.idle": "2024-01-21T13:07:10.667851Z",
     "shell.execute_reply": "2024-01-21T13:07:10.666706Z"
    },
    "papermill": {
     "duration": 0.394338,
     "end_time": "2024-01-21T13:07:10.670285",
     "exception": false,
     "start_time": "2024-01-21T13:07:10.275947",
     "status": "completed"
    },
    "tags": []
   },
   "outputs": [
    {
     "data": {
      "text/html": [
       "<div>\n",
       "<style scoped>\n",
       "    .dataframe tbody tr th:only-of-type {\n",
       "        vertical-align: middle;\n",
       "    }\n",
       "\n",
       "    .dataframe tbody tr th {\n",
       "        vertical-align: top;\n",
       "    }\n",
       "\n",
       "    .dataframe thead th {\n",
       "        text-align: right;\n",
       "    }\n",
       "</style>\n",
       "<table border=\"1\" class=\"dataframe\">\n",
       "  <thead>\n",
       "    <tr style=\"text-align: right;\">\n",
       "      <th></th>\n",
       "      <th>pickup_longitude</th>\n",
       "      <th>pickup_latitude</th>\n",
       "      <th>dropoff_longitude</th>\n",
       "      <th>dropoff_latitude</th>\n",
       "      <th>trip_duration</th>\n",
       "    </tr>\n",
       "  </thead>\n",
       "  <tbody>\n",
       "    <tr>\n",
       "      <th>count</th>\n",
       "      <td>1.458644e+06</td>\n",
       "      <td>1.458644e+06</td>\n",
       "      <td>1.458644e+06</td>\n",
       "      <td>1.458644e+06</td>\n",
       "      <td>1.458644e+06</td>\n",
       "    </tr>\n",
       "    <tr>\n",
       "      <th>mean</th>\n",
       "      <td>-7.397349e+01</td>\n",
       "      <td>4.075092e+01</td>\n",
       "      <td>-7.397342e+01</td>\n",
       "      <td>4.075180e+01</td>\n",
       "      <td>9.594923e+02</td>\n",
       "    </tr>\n",
       "    <tr>\n",
       "      <th>std</th>\n",
       "      <td>7.090186e-02</td>\n",
       "      <td>3.288119e-02</td>\n",
       "      <td>7.064327e-02</td>\n",
       "      <td>3.589056e-02</td>\n",
       "      <td>5.237432e+03</td>\n",
       "    </tr>\n",
       "    <tr>\n",
       "      <th>min</th>\n",
       "      <td>-1.219333e+02</td>\n",
       "      <td>3.435970e+01</td>\n",
       "      <td>-1.219333e+02</td>\n",
       "      <td>3.218114e+01</td>\n",
       "      <td>1.000000e+00</td>\n",
       "    </tr>\n",
       "    <tr>\n",
       "      <th>25%</th>\n",
       "      <td>-7.399187e+01</td>\n",
       "      <td>4.073735e+01</td>\n",
       "      <td>-7.399133e+01</td>\n",
       "      <td>4.073588e+01</td>\n",
       "      <td>3.970000e+02</td>\n",
       "    </tr>\n",
       "    <tr>\n",
       "      <th>50%</th>\n",
       "      <td>-7.398174e+01</td>\n",
       "      <td>4.075410e+01</td>\n",
       "      <td>-7.397975e+01</td>\n",
       "      <td>4.075452e+01</td>\n",
       "      <td>6.620000e+02</td>\n",
       "    </tr>\n",
       "    <tr>\n",
       "      <th>75%</th>\n",
       "      <td>-7.396733e+01</td>\n",
       "      <td>4.076836e+01</td>\n",
       "      <td>-7.396301e+01</td>\n",
       "      <td>4.076981e+01</td>\n",
       "      <td>1.075000e+03</td>\n",
       "    </tr>\n",
       "    <tr>\n",
       "      <th>max</th>\n",
       "      <td>-6.133553e+01</td>\n",
       "      <td>5.188108e+01</td>\n",
       "      <td>-6.133553e+01</td>\n",
       "      <td>4.392103e+01</td>\n",
       "      <td>3.526282e+06</td>\n",
       "    </tr>\n",
       "  </tbody>\n",
       "</table>\n",
       "</div>"
      ],
      "text/plain": [
       "       pickup_longitude  pickup_latitude  dropoff_longitude  dropoff_latitude  \\\n",
       "count      1.458644e+06     1.458644e+06       1.458644e+06      1.458644e+06   \n",
       "mean      -7.397349e+01     4.075092e+01      -7.397342e+01      4.075180e+01   \n",
       "std        7.090186e-02     3.288119e-02       7.064327e-02      3.589056e-02   \n",
       "min       -1.219333e+02     3.435970e+01      -1.219333e+02      3.218114e+01   \n",
       "25%       -7.399187e+01     4.073735e+01      -7.399133e+01      4.073588e+01   \n",
       "50%       -7.398174e+01     4.075410e+01      -7.397975e+01      4.075452e+01   \n",
       "75%       -7.396733e+01     4.076836e+01      -7.396301e+01      4.076981e+01   \n",
       "max       -6.133553e+01     5.188108e+01      -6.133553e+01      4.392103e+01   \n",
       "\n",
       "       trip_duration  \n",
       "count   1.458644e+06  \n",
       "mean    9.594923e+02  \n",
       "std     5.237432e+03  \n",
       "min     1.000000e+00  \n",
       "25%     3.970000e+02  \n",
       "50%     6.620000e+02  \n",
       "75%     1.075000e+03  \n",
       "max     3.526282e+06  "
      ]
     },
     "execution_count": 12,
     "metadata": {},
     "output_type": "execute_result"
    }
   ],
   "source": [
    "train_df[cols_to_describe_num].describe()"
   ]
  },
  {
   "cell_type": "markdown",
   "id": "fcdcc39d",
   "metadata": {
    "papermill": {
     "duration": 0.032285,
     "end_time": "2024-01-21T13:07:10.731512",
     "exception": false,
     "start_time": "2024-01-21T13:07:10.699227",
     "status": "completed"
    },
    "tags": []
   },
   "source": [
    "<div style=\"background-color: #E6E6FA; padding: 10px;\">\n",
    "    \n",
    "**About the columns**\n",
    "- **pickup_longitude** - -121.9(min) and -61.33(max) value are way off the borders of NYC city. The median longitude value is around the -73.9 mark which seems fine. (The -ve sign is correct as NYC lies on the west of the meridian line)\n",
    "- **pickup_latitude** - The maximum value here which is 51.88 seems to be concerning.(The +ve sign for all values is ok as NYC lies above the equator mark).\n",
    "- **dropoff_longitude** - 121.9(min) and -61.33(max) value are way off the borders of NYC city. The median longitude value is around the -73.9 mark which seems fine. (The -ve sign is correct as NYC lies on the west of the meridian line).\n",
    "    - check whether the minimum and maximum are from the same entry for both the pickup and drop. This can indicate a faulty device showing the same coordinates every time.\n",
    "- **dropoff latitude** - The min value of 32.181 is of concern.\n",
    "\n",
    "**Target Column** (trip_duration)\n",
    "- The mean duration is 959 sec and the median is 662 sec. This indicates the column is skewed to the right. (Mean > Median).\n",
    "- This also indicates the presence of outliers in the data that are skewing the distribution.\n",
    "- The minimum trip duration value is 1 sec which indicates ride cancelled by the rider or rejected by the driver, after the taxi reached the pickup spot.\n",
    "- The maximum trip duration of 980 minutes or around 41 days is definitely an outlier and should be handled.\n",
    "- The Q3 of the data is around 17-18 minutes which shows that people in NYC prefer shorter cab trips.\n",
    "    \n",
    "</div>"
   ]
  },
  {
   "cell_type": "code",
   "execution_count": 13,
   "id": "312420d1",
   "metadata": {
    "execution": {
     "iopub.execute_input": "2024-01-21T13:07:10.802441Z",
     "iopub.status.busy": "2024-01-21T13:07:10.801991Z",
     "iopub.status.idle": "2024-01-21T13:07:10.809177Z",
     "shell.execute_reply": "2024-01-21T13:07:10.808171Z"
    },
    "papermill": {
     "duration": 0.04521,
     "end_time": "2024-01-21T13:07:10.811501",
     "exception": false,
     "start_time": "2024-01-21T13:07:10.766291",
     "status": "completed"
    },
    "tags": []
   },
   "outputs": [
    {
     "data": {
      "text/plain": [
       "17.916666666666668"
      ]
     },
     "execution_count": 13,
     "metadata": {},
     "output_type": "execute_result"
    }
   ],
   "source": [
    "(1.075000e+03 * 60) / 3600"
   ]
  },
  {
   "cell_type": "markdown",
   "id": "a3f2dee9",
   "metadata": {
    "papermill": {
     "duration": 0.028416,
     "end_time": "2024-01-21T13:07:10.868364",
     "exception": false,
     "start_time": "2024-01-21T13:07:10.839948",
     "status": "completed"
    },
    "tags": []
   },
   "source": [
    "**Points to Ponder**:\n",
    "Check the minimum and maximum values of latitude and longitude and check whether they are outliers?\n",
    "- Check the extreme longitude and latitude values.\n",
    "- Trip timings for one booking is around 41 days -- An Outlier."
   ]
  },
  {
   "cell_type": "code",
   "execution_count": 14,
   "id": "49e977cc",
   "metadata": {
    "execution": {
     "iopub.execute_input": "2024-01-21T13:07:10.926561Z",
     "iopub.status.busy": "2024-01-21T13:07:10.926065Z",
     "iopub.status.idle": "2024-01-21T13:07:10.934686Z",
     "shell.execute_reply": "2024-01-21T13:07:10.933537Z"
    },
    "papermill": {
     "duration": 0.040593,
     "end_time": "2024-01-21T13:07:10.937080",
     "exception": false,
     "start_time": "2024-01-21T13:07:10.896487",
     "status": "completed"
    },
    "tags": []
   },
   "outputs": [
    {
     "data": {
      "text/plain": [
       "array(['vendor_id', 'passenger_count', 'store_and_fwd_flag'], dtype='<U18')"
      ]
     },
     "execution_count": 14,
     "metadata": {},
     "output_type": "execute_result"
    }
   ],
   "source": [
    "# statistical summary for the categorical columns\n",
    "\n",
    "cols_to_describe_cat = [col for col in train_df.columns if col not in cols_to_describe_num]\n",
    "cols_to_describe_cat = np.array(cols_to_describe_cat)[[1,4,5]]\n",
    "cols_to_describe_cat"
   ]
  },
  {
   "cell_type": "code",
   "execution_count": 15,
   "id": "247cd3ff",
   "metadata": {
    "execution": {
     "iopub.execute_input": "2024-01-21T13:07:10.996196Z",
     "iopub.status.busy": "2024-01-21T13:07:10.995795Z",
     "iopub.status.idle": "2024-01-21T13:07:11.344985Z",
     "shell.execute_reply": "2024-01-21T13:07:11.343788Z"
    },
    "papermill": {
     "duration": 0.381629,
     "end_time": "2024-01-21T13:07:11.347334",
     "exception": false,
     "start_time": "2024-01-21T13:07:10.965705",
     "status": "completed"
    },
    "tags": []
   },
   "outputs": [
    {
     "name": "stdout",
     "output_type": "stream",
     "text": [
      "The unique value in vendor_id are ----> [1 2]\n",
      "vendor_id\n",
      "2    780302\n",
      "1    678342\n",
      "Name: count, dtype: int64\n",
      "****************************************************************************************************\n",
      "The unique value in passenger_count are ----> [0 1 2 3 4 5 6 7 8 9]\n",
      "passenger_count\n",
      "1    1033540\n",
      "2     210318\n",
      "5      78088\n",
      "3      59896\n",
      "6      48333\n",
      "4      28404\n",
      "0         60\n",
      "7          3\n",
      "9          1\n",
      "8          1\n",
      "Name: count, dtype: int64\n",
      "****************************************************************************************************\n",
      "The unique value in store_and_fwd_flag are ----> ['N' 'Y']\n",
      "store_and_fwd_flag\n",
      "N    1450599\n",
      "Y       8045\n",
      "Name: count, dtype: int64\n",
      "****************************************************************************************************\n"
     ]
    }
   ],
   "source": [
    "# value counts of each categorical column \n",
    "\n",
    "for col in cols_to_describe_cat:\n",
    "    print(f'The unique value in {col} are ---->',np.sort(train_df[col].unique()))\n",
    "    print(train_df[col].value_counts())\n",
    "    print('*' * 100,end='\\n')"
   ]
  },
  {
   "cell_type": "code",
   "execution_count": 16,
   "id": "9e971127",
   "metadata": {
    "execution": {
     "iopub.execute_input": "2024-01-21T13:07:11.407720Z",
     "iopub.status.busy": "2024-01-21T13:07:11.407298Z",
     "iopub.status.idle": "2024-01-21T13:07:11.415853Z",
     "shell.execute_reply": "2024-01-21T13:07:11.414627Z"
    },
    "papermill": {
     "duration": 0.042022,
     "end_time": "2024-01-21T13:07:11.418687",
     "exception": false,
     "start_time": "2024-01-21T13:07:11.376665",
     "status": "completed"
    },
    "tags": []
   },
   "outputs": [
    {
     "data": {
      "text/plain": [
       "id                     object\n",
       "vendor_id               int64\n",
       "pickup_datetime        object\n",
       "dropoff_datetime       object\n",
       "passenger_count         int64\n",
       "pickup_longitude      float64\n",
       "pickup_latitude       float64\n",
       "dropoff_longitude     float64\n",
       "dropoff_latitude      float64\n",
       "store_and_fwd_flag     object\n",
       "trip_duration           int64\n",
       "dtype: object"
      ]
     },
     "execution_count": 16,
     "metadata": {},
     "output_type": "execute_result"
    }
   ],
   "source": [
    "# datatypes of train data\n",
    "\n",
    "train_df.dtypes"
   ]
  },
  {
   "cell_type": "code",
   "execution_count": 17,
   "id": "d6882a49",
   "metadata": {
    "execution": {
     "iopub.execute_input": "2024-01-21T13:07:11.478154Z",
     "iopub.status.busy": "2024-01-21T13:07:11.477694Z",
     "iopub.status.idle": "2024-01-21T13:07:12.890661Z",
     "shell.execute_reply": "2024-01-21T13:07:12.888945Z"
    },
    "papermill": {
     "duration": 1.445663,
     "end_time": "2024-01-21T13:07:12.893188",
     "exception": false,
     "start_time": "2024-01-21T13:07:11.447525",
     "status": "completed"
    },
    "tags": []
   },
   "outputs": [
    {
     "name": "stdout",
     "output_type": "stream",
     "text": [
      "<class 'pandas.core.frame.DataFrame'>\n",
      "RangeIndex: 1458644 entries, 0 to 1458643\n",
      "Data columns (total 11 columns):\n",
      " #   Column              Dtype  \n",
      "---  ------              -----  \n",
      " 0   id                  object \n",
      " 1   vendor_id           int64  \n",
      " 2   pickup_datetime     object \n",
      " 3   dropoff_datetime    object \n",
      " 4   passenger_count     int64  \n",
      " 5   pickup_longitude    float64\n",
      " 6   pickup_latitude     float64\n",
      " 7   dropoff_longitude   float64\n",
      " 8   dropoff_latitude    float64\n",
      " 9   store_and_fwd_flag  object \n",
      " 10  trip_duration       int64  \n",
      "dtypes: float64(4), int64(3), object(4)\n",
      "memory usage: 461.8 MB\n"
     ]
    }
   ],
   "source": [
    "# info about the data frame\n",
    "\n",
    "train_df.info(memory_usage='deep',show_counts=False)"
   ]
  },
  {
   "cell_type": "markdown",
   "id": "9d3b3a49",
   "metadata": {
    "papermill": {
     "duration": 0.028692,
     "end_time": "2024-01-21T13:07:12.951466",
     "exception": false,
     "start_time": "2024-01-21T13:07:12.922774",
     "status": "completed"
    },
    "tags": []
   },
   "source": [
    "**The memory usage is 461.8 MB**"
   ]
  },
  {
   "cell_type": "code",
   "execution_count": 18,
   "id": "13e62e7a",
   "metadata": {
    "execution": {
     "iopub.execute_input": "2024-01-21T13:07:13.012230Z",
     "iopub.status.busy": "2024-01-21T13:07:13.011754Z",
     "iopub.status.idle": "2024-01-21T13:07:13.021744Z",
     "shell.execute_reply": "2024-01-21T13:07:13.020794Z"
    },
    "papermill": {
     "duration": 0.043063,
     "end_time": "2024-01-21T13:07:13.023952",
     "exception": false,
     "start_time": "2024-01-21T13:07:12.980889",
     "status": "completed"
    },
    "tags": []
   },
   "outputs": [],
   "source": [
    "# convert the big sized integer columns to small size\n",
    "\n",
    "train_df['vendor_id'] = train_df['vendor_id'].astype(np.int8)\n",
    "train_df['passenger_count'] = train_df['vendor_id'].astype(np.int16)"
   ]
  },
  {
   "cell_type": "code",
   "execution_count": 19,
   "id": "22f8d5f1",
   "metadata": {
    "execution": {
     "iopub.execute_input": "2024-01-21T13:07:13.084915Z",
     "iopub.status.busy": "2024-01-21T13:07:13.084174Z",
     "iopub.status.idle": "2024-01-21T13:07:14.500591Z",
     "shell.execute_reply": "2024-01-21T13:07:14.498463Z"
    },
    "papermill": {
     "duration": 1.450127,
     "end_time": "2024-01-21T13:07:14.503203",
     "exception": false,
     "start_time": "2024-01-21T13:07:13.053076",
     "status": "completed"
    },
    "tags": []
   },
   "outputs": [
    {
     "name": "stdout",
     "output_type": "stream",
     "text": [
      "<class 'pandas.core.frame.DataFrame'>\n",
      "RangeIndex: 1458644 entries, 0 to 1458643\n",
      "Data columns (total 11 columns):\n",
      " #   Column              Dtype  \n",
      "---  ------              -----  \n",
      " 0   id                  object \n",
      " 1   vendor_id           int8   \n",
      " 2   pickup_datetime     object \n",
      " 3   dropoff_datetime    object \n",
      " 4   passenger_count     int16  \n",
      " 5   pickup_longitude    float64\n",
      " 6   pickup_latitude     float64\n",
      " 7   dropoff_longitude   float64\n",
      " 8   dropoff_latitude    float64\n",
      " 9   store_and_fwd_flag  object \n",
      " 10  trip_duration       int64  \n",
      "dtypes: float64(4), int16(1), int64(1), int8(1), object(4)\n",
      "memory usage: 443.8 MB\n"
     ]
    }
   ],
   "source": [
    "train_df.info(memory_usage='deep',show_counts=False)"
   ]
  },
  {
   "cell_type": "markdown",
   "id": "12a9c18c",
   "metadata": {
    "papermill": {
     "duration": 0.0288,
     "end_time": "2024-01-21T13:07:14.561072",
     "exception": false,
     "start_time": "2024-01-21T13:07:14.532272",
     "status": "completed"
    },
    "tags": []
   },
   "source": [
    "**Convert data types**\n",
    "1. id - remove 'id' and make it numerical.\n",
    "2. pickup_datetime - change to datetime\n",
    "3. dropoff_datetime - change to datetime"
   ]
  },
  {
   "cell_type": "markdown",
   "id": "7c7758c8",
   "metadata": {
    "execution": {
     "iopub.execute_input": "2023-12-31T11:35:44.539791Z",
     "iopub.status.busy": "2023-12-31T11:35:44.539341Z",
     "iopub.status.idle": "2023-12-31T11:35:44.552673Z",
     "shell.execute_reply": "2023-12-31T11:35:44.551552Z",
     "shell.execute_reply.started": "2023-12-31T11:35:44.539747Z"
    },
    "papermill": {
     "duration": 0.029285,
     "end_time": "2024-01-21T13:07:14.619342",
     "exception": false,
     "start_time": "2024-01-21T13:07:14.590057",
     "status": "completed"
    },
    "tags": []
   },
   "source": [
    "# EDA(Exploratory Data Analysis)"
   ]
  },
  {
   "cell_type": "code",
   "execution_count": 20,
   "id": "92a7334b",
   "metadata": {
    "execution": {
     "iopub.execute_input": "2024-01-21T13:07:14.681324Z",
     "iopub.status.busy": "2024-01-21T13:07:14.680308Z",
     "iopub.status.idle": "2024-01-21T13:07:14.687140Z",
     "shell.execute_reply": "2024-01-21T13:07:14.686177Z"
    },
    "papermill": {
     "duration": 0.040295,
     "end_time": "2024-01-21T13:07:14.689343",
     "exception": false,
     "start_time": "2024-01-21T13:07:14.649048",
     "status": "completed"
    },
    "tags": []
   },
   "outputs": [
    {
     "data": {
      "text/plain": [
       "Index(['id', 'vendor_id', 'pickup_datetime', 'dropoff_datetime',\n",
       "       'passenger_count', 'pickup_longitude', 'pickup_latitude',\n",
       "       'dropoff_longitude', 'dropoff_latitude', 'store_and_fwd_flag',\n",
       "       'trip_duration'],\n",
       "      dtype='object')"
      ]
     },
     "execution_count": 20,
     "metadata": {},
     "output_type": "execute_result"
    }
   ],
   "source": [
    "# train_df columns\n",
    "train_df.columns"
   ]
  },
  {
   "cell_type": "markdown",
   "id": "8eb60729",
   "metadata": {
    "papermill": {
     "duration": 0.028722,
     "end_time": "2024-01-21T13:07:14.747492",
     "exception": false,
     "start_time": "2024-01-21T13:07:14.718770",
     "status": "completed"
    },
    "tags": []
   },
   "source": [
    "## id"
   ]
  },
  {
   "cell_type": "code",
   "execution_count": 21,
   "id": "7c202397",
   "metadata": {
    "execution": {
     "iopub.execute_input": "2024-01-21T13:07:14.807983Z",
     "iopub.status.busy": "2024-01-21T13:07:14.807304Z",
     "iopub.status.idle": "2024-01-21T13:07:14.816089Z",
     "shell.execute_reply": "2024-01-21T13:07:14.814969Z"
    },
    "papermill": {
     "duration": 0.041682,
     "end_time": "2024-01-21T13:07:14.818600",
     "exception": false,
     "start_time": "2024-01-21T13:07:14.776918",
     "status": "completed"
    },
    "tags": []
   },
   "outputs": [
    {
     "data": {
      "text/plain": [
       "0    id2875421\n",
       "1    id2377394\n",
       "2    id3858529\n",
       "3    id3504673\n",
       "4    id2181028\n",
       "Name: id, dtype: object"
      ]
     },
     "execution_count": 21,
     "metadata": {},
     "output_type": "execute_result"
    }
   ],
   "source": [
    "train_df['id'].head()"
   ]
  },
  {
   "cell_type": "code",
   "execution_count": 22,
   "id": "a41b97e5",
   "metadata": {
    "execution": {
     "iopub.execute_input": "2024-01-21T13:07:14.880400Z",
     "iopub.status.busy": "2024-01-21T13:07:14.879916Z",
     "iopub.status.idle": "2024-01-21T13:07:15.876163Z",
     "shell.execute_reply": "2024-01-21T13:07:15.875041Z"
    },
    "papermill": {
     "duration": 1.030193,
     "end_time": "2024-01-21T13:07:15.878712",
     "exception": false,
     "start_time": "2024-01-21T13:07:14.848519",
     "status": "completed"
    },
    "tags": []
   },
   "outputs": [
    {
     "data": {
      "text/plain": [
       "0          2875421\n",
       "1          2377394\n",
       "2          3858529\n",
       "3          3504673\n",
       "4          2181028\n",
       "            ...   \n",
       "1458639    2376096\n",
       "1458640    1049543\n",
       "1458641    2304944\n",
       "1458642    2714485\n",
       "1458643    1209952\n",
       "Name: id, Length: 1458644, dtype: object"
      ]
     },
     "execution_count": 22,
     "metadata": {},
     "output_type": "execute_result"
    }
   ],
   "source": [
    "# remove the id tag from all the rows\n",
    "\n",
    "def remove_id_tag(data):\n",
    "    data['id'] = data['id'].str.replace('id','')\n",
    "    return data['id']\n",
    "\n",
    "# remove tag from train data\n",
    "remove_id_tag(train_df)"
   ]
  },
  {
   "cell_type": "code",
   "execution_count": 23,
   "id": "ddb7143c",
   "metadata": {
    "execution": {
     "iopub.execute_input": "2024-01-21T13:07:15.940061Z",
     "iopub.status.busy": "2024-01-21T13:07:15.939650Z",
     "iopub.status.idle": "2024-01-21T13:07:16.377244Z",
     "shell.execute_reply": "2024-01-21T13:07:16.376287Z"
    },
    "papermill": {
     "duration": 0.471177,
     "end_time": "2024-01-21T13:07:16.379622",
     "exception": false,
     "start_time": "2024-01-21T13:07:15.908445",
     "status": "completed"
    },
    "tags": []
   },
   "outputs": [
    {
     "data": {
      "text/plain": [
       "0         3004672\n",
       "1         3505355\n",
       "2         1217141\n",
       "3         2150126\n",
       "4         1598245\n",
       "           ...   \n",
       "625129    3008929\n",
       "625130    3700764\n",
       "625131    2568735\n",
       "625132    1384355\n",
       "625133    0621643\n",
       "Name: id, Length: 625134, dtype: object"
      ]
     },
     "execution_count": 23,
     "metadata": {},
     "output_type": "execute_result"
    }
   ],
   "source": [
    "# remove tag from test data\n",
    "remove_id_tag(test_df)"
   ]
  },
  {
   "cell_type": "code",
   "execution_count": 24,
   "id": "14257d65",
   "metadata": {
    "execution": {
     "iopub.execute_input": "2024-01-21T13:07:16.441301Z",
     "iopub.status.busy": "2024-01-21T13:07:16.440798Z",
     "iopub.status.idle": "2024-01-21T13:07:16.776252Z",
     "shell.execute_reply": "2024-01-21T13:07:16.774972Z"
    },
    "papermill": {
     "duration": 0.36944,
     "end_time": "2024-01-21T13:07:16.779025",
     "exception": false,
     "start_time": "2024-01-21T13:07:16.409585",
     "status": "completed"
    },
    "tags": []
   },
   "outputs": [],
   "source": [
    "# convert the id column to integer\n",
    "train_df['id'] = train_df['id'].astype('int')\n",
    "test_df['id'] = test_df['id'].astype('int')"
   ]
  },
  {
   "cell_type": "code",
   "execution_count": 25,
   "id": "435976bd",
   "metadata": {
    "execution": {
     "iopub.execute_input": "2024-01-21T13:07:16.840970Z",
     "iopub.status.busy": "2024-01-21T13:07:16.840555Z",
     "iopub.status.idle": "2024-01-21T13:07:17.116832Z",
     "shell.execute_reply": "2024-01-21T13:07:17.115764Z"
    },
    "papermill": {
     "duration": 0.310107,
     "end_time": "2024-01-21T13:07:17.119457",
     "exception": false,
     "start_time": "2024-01-21T13:07:16.809350",
     "status": "completed"
    },
    "tags": []
   },
   "outputs": [],
   "source": [
    "# test if id column is required\n",
    "\n",
    "def test_id_column(data):\n",
    "    if data.shape[0] == data['id'].nunique():\n",
    "        new_data = data.drop(columns='id')\n",
    "        return new_data\n",
    "    else:\n",
    "        return data\n",
    "    \n",
    "train_df_new = test_id_column(train_df)\n",
    "test_df_new = test_id_column(test_df)"
   ]
  },
  {
   "cell_type": "code",
   "execution_count": 26,
   "id": "10033fb2",
   "metadata": {
    "execution": {
     "iopub.execute_input": "2024-01-21T13:07:17.181566Z",
     "iopub.status.busy": "2024-01-21T13:07:17.181128Z",
     "iopub.status.idle": "2024-01-21T13:07:17.202914Z",
     "shell.execute_reply": "2024-01-21T13:07:17.202049Z"
    },
    "papermill": {
     "duration": 0.055353,
     "end_time": "2024-01-21T13:07:17.205054",
     "exception": false,
     "start_time": "2024-01-21T13:07:17.149701",
     "status": "completed"
    },
    "tags": []
   },
   "outputs": [
    {
     "data": {
      "text/html": [
       "<div>\n",
       "<style scoped>\n",
       "    .dataframe tbody tr th:only-of-type {\n",
       "        vertical-align: middle;\n",
       "    }\n",
       "\n",
       "    .dataframe tbody tr th {\n",
       "        vertical-align: top;\n",
       "    }\n",
       "\n",
       "    .dataframe thead th {\n",
       "        text-align: right;\n",
       "    }\n",
       "</style>\n",
       "<table border=\"1\" class=\"dataframe\">\n",
       "  <thead>\n",
       "    <tr style=\"text-align: right;\">\n",
       "      <th></th>\n",
       "      <th>vendor_id</th>\n",
       "      <th>pickup_datetime</th>\n",
       "      <th>dropoff_datetime</th>\n",
       "      <th>passenger_count</th>\n",
       "      <th>pickup_longitude</th>\n",
       "      <th>pickup_latitude</th>\n",
       "      <th>dropoff_longitude</th>\n",
       "      <th>dropoff_latitude</th>\n",
       "      <th>store_and_fwd_flag</th>\n",
       "      <th>trip_duration</th>\n",
       "    </tr>\n",
       "  </thead>\n",
       "  <tbody>\n",
       "    <tr>\n",
       "      <th>0</th>\n",
       "      <td>2</td>\n",
       "      <td>2016-03-14 17:24:55</td>\n",
       "      <td>2016-03-14 17:32:30</td>\n",
       "      <td>2</td>\n",
       "      <td>-73.982155</td>\n",
       "      <td>40.767937</td>\n",
       "      <td>-73.964630</td>\n",
       "      <td>40.765602</td>\n",
       "      <td>N</td>\n",
       "      <td>455</td>\n",
       "    </tr>\n",
       "    <tr>\n",
       "      <th>1</th>\n",
       "      <td>1</td>\n",
       "      <td>2016-06-12 00:43:35</td>\n",
       "      <td>2016-06-12 00:54:38</td>\n",
       "      <td>1</td>\n",
       "      <td>-73.980415</td>\n",
       "      <td>40.738564</td>\n",
       "      <td>-73.999481</td>\n",
       "      <td>40.731152</td>\n",
       "      <td>N</td>\n",
       "      <td>663</td>\n",
       "    </tr>\n",
       "    <tr>\n",
       "      <th>2</th>\n",
       "      <td>2</td>\n",
       "      <td>2016-01-19 11:35:24</td>\n",
       "      <td>2016-01-19 12:10:48</td>\n",
       "      <td>2</td>\n",
       "      <td>-73.979027</td>\n",
       "      <td>40.763939</td>\n",
       "      <td>-74.005333</td>\n",
       "      <td>40.710087</td>\n",
       "      <td>N</td>\n",
       "      <td>2124</td>\n",
       "    </tr>\n",
       "    <tr>\n",
       "      <th>3</th>\n",
       "      <td>2</td>\n",
       "      <td>2016-04-06 19:32:31</td>\n",
       "      <td>2016-04-06 19:39:40</td>\n",
       "      <td>2</td>\n",
       "      <td>-74.010040</td>\n",
       "      <td>40.719971</td>\n",
       "      <td>-74.012268</td>\n",
       "      <td>40.706718</td>\n",
       "      <td>N</td>\n",
       "      <td>429</td>\n",
       "    </tr>\n",
       "    <tr>\n",
       "      <th>4</th>\n",
       "      <td>2</td>\n",
       "      <td>2016-03-26 13:30:55</td>\n",
       "      <td>2016-03-26 13:38:10</td>\n",
       "      <td>2</td>\n",
       "      <td>-73.973053</td>\n",
       "      <td>40.793209</td>\n",
       "      <td>-73.972923</td>\n",
       "      <td>40.782520</td>\n",
       "      <td>N</td>\n",
       "      <td>435</td>\n",
       "    </tr>\n",
       "    <tr>\n",
       "      <th>...</th>\n",
       "      <td>...</td>\n",
       "      <td>...</td>\n",
       "      <td>...</td>\n",
       "      <td>...</td>\n",
       "      <td>...</td>\n",
       "      <td>...</td>\n",
       "      <td>...</td>\n",
       "      <td>...</td>\n",
       "      <td>...</td>\n",
       "      <td>...</td>\n",
       "    </tr>\n",
       "    <tr>\n",
       "      <th>1458639</th>\n",
       "      <td>2</td>\n",
       "      <td>2016-04-08 13:31:04</td>\n",
       "      <td>2016-04-08 13:44:02</td>\n",
       "      <td>2</td>\n",
       "      <td>-73.982201</td>\n",
       "      <td>40.745522</td>\n",
       "      <td>-73.994911</td>\n",
       "      <td>40.740170</td>\n",
       "      <td>N</td>\n",
       "      <td>778</td>\n",
       "    </tr>\n",
       "    <tr>\n",
       "      <th>1458640</th>\n",
       "      <td>1</td>\n",
       "      <td>2016-01-10 07:35:15</td>\n",
       "      <td>2016-01-10 07:46:10</td>\n",
       "      <td>1</td>\n",
       "      <td>-74.000946</td>\n",
       "      <td>40.747379</td>\n",
       "      <td>-73.970184</td>\n",
       "      <td>40.796547</td>\n",
       "      <td>N</td>\n",
       "      <td>655</td>\n",
       "    </tr>\n",
       "    <tr>\n",
       "      <th>1458641</th>\n",
       "      <td>2</td>\n",
       "      <td>2016-04-22 06:57:41</td>\n",
       "      <td>2016-04-22 07:10:25</td>\n",
       "      <td>2</td>\n",
       "      <td>-73.959129</td>\n",
       "      <td>40.768799</td>\n",
       "      <td>-74.004433</td>\n",
       "      <td>40.707371</td>\n",
       "      <td>N</td>\n",
       "      <td>764</td>\n",
       "    </tr>\n",
       "    <tr>\n",
       "      <th>1458642</th>\n",
       "      <td>1</td>\n",
       "      <td>2016-01-05 15:56:26</td>\n",
       "      <td>2016-01-05 16:02:39</td>\n",
       "      <td>1</td>\n",
       "      <td>-73.982079</td>\n",
       "      <td>40.749062</td>\n",
       "      <td>-73.974632</td>\n",
       "      <td>40.757107</td>\n",
       "      <td>N</td>\n",
       "      <td>373</td>\n",
       "    </tr>\n",
       "    <tr>\n",
       "      <th>1458643</th>\n",
       "      <td>1</td>\n",
       "      <td>2016-04-05 14:44:25</td>\n",
       "      <td>2016-04-05 14:47:43</td>\n",
       "      <td>1</td>\n",
       "      <td>-73.979538</td>\n",
       "      <td>40.781750</td>\n",
       "      <td>-73.972809</td>\n",
       "      <td>40.790585</td>\n",
       "      <td>N</td>\n",
       "      <td>198</td>\n",
       "    </tr>\n",
       "  </tbody>\n",
       "</table>\n",
       "<p>1458644 rows × 10 columns</p>\n",
       "</div>"
      ],
      "text/plain": [
       "         vendor_id      pickup_datetime     dropoff_datetime  passenger_count  \\\n",
       "0                2  2016-03-14 17:24:55  2016-03-14 17:32:30                2   \n",
       "1                1  2016-06-12 00:43:35  2016-06-12 00:54:38                1   \n",
       "2                2  2016-01-19 11:35:24  2016-01-19 12:10:48                2   \n",
       "3                2  2016-04-06 19:32:31  2016-04-06 19:39:40                2   \n",
       "4                2  2016-03-26 13:30:55  2016-03-26 13:38:10                2   \n",
       "...            ...                  ...                  ...              ...   \n",
       "1458639          2  2016-04-08 13:31:04  2016-04-08 13:44:02                2   \n",
       "1458640          1  2016-01-10 07:35:15  2016-01-10 07:46:10                1   \n",
       "1458641          2  2016-04-22 06:57:41  2016-04-22 07:10:25                2   \n",
       "1458642          1  2016-01-05 15:56:26  2016-01-05 16:02:39                1   \n",
       "1458643          1  2016-04-05 14:44:25  2016-04-05 14:47:43                1   \n",
       "\n",
       "         pickup_longitude  pickup_latitude  dropoff_longitude  \\\n",
       "0              -73.982155        40.767937         -73.964630   \n",
       "1              -73.980415        40.738564         -73.999481   \n",
       "2              -73.979027        40.763939         -74.005333   \n",
       "3              -74.010040        40.719971         -74.012268   \n",
       "4              -73.973053        40.793209         -73.972923   \n",
       "...                   ...              ...                ...   \n",
       "1458639        -73.982201        40.745522         -73.994911   \n",
       "1458640        -74.000946        40.747379         -73.970184   \n",
       "1458641        -73.959129        40.768799         -74.004433   \n",
       "1458642        -73.982079        40.749062         -73.974632   \n",
       "1458643        -73.979538        40.781750         -73.972809   \n",
       "\n",
       "         dropoff_latitude store_and_fwd_flag  trip_duration  \n",
       "0               40.765602                  N            455  \n",
       "1               40.731152                  N            663  \n",
       "2               40.710087                  N           2124  \n",
       "3               40.706718                  N            429  \n",
       "4               40.782520                  N            435  \n",
       "...                   ...                ...            ...  \n",
       "1458639         40.740170                  N            778  \n",
       "1458640         40.796547                  N            655  \n",
       "1458641         40.707371                  N            764  \n",
       "1458642         40.757107                  N            373  \n",
       "1458643         40.790585                  N            198  \n",
       "\n",
       "[1458644 rows x 10 columns]"
      ]
     },
     "execution_count": 26,
     "metadata": {},
     "output_type": "execute_result"
    }
   ],
   "source": [
    "train_df_new"
   ]
  },
  {
   "cell_type": "markdown",
   "id": "1660e90a",
   "metadata": {
    "papermill": {
     "duration": 0.030334,
     "end_time": "2024-01-21T13:07:17.266077",
     "exception": false,
     "start_time": "2024-01-21T13:07:17.235743",
     "status": "completed"
    },
    "tags": []
   },
   "source": [
    "## vendor_id"
   ]
  },
  {
   "cell_type": "code",
   "execution_count": 27,
   "id": "cc696977",
   "metadata": {
    "execution": {
     "iopub.execute_input": "2024-01-21T13:07:17.329875Z",
     "iopub.status.busy": "2024-01-21T13:07:17.329222Z",
     "iopub.status.idle": "2024-01-21T13:07:17.352234Z",
     "shell.execute_reply": "2024-01-21T13:07:17.351158Z"
    },
    "papermill": {
     "duration": 0.057804,
     "end_time": "2024-01-21T13:07:17.354558",
     "exception": false,
     "start_time": "2024-01-21T13:07:17.296754",
     "status": "completed"
    },
    "tags": []
   },
   "outputs": [
    {
     "data": {
      "text/plain": [
       "vendor_id\n",
       "1    678342\n",
       "2    780302\n",
       "Name: count, dtype: int64"
      ]
     },
     "execution_count": 27,
     "metadata": {},
     "output_type": "execute_result"
    }
   ],
   "source": [
    "# categories in the vendor id column\n",
    "\n",
    "train_df_new['vendor_id'].value_counts().sort_index()"
   ]
  },
  {
   "cell_type": "code",
   "execution_count": 28,
   "id": "2258fdad",
   "metadata": {
    "execution": {
     "iopub.execute_input": "2024-01-21T13:07:17.417486Z",
     "iopub.status.busy": "2024-01-21T13:07:17.417047Z",
     "iopub.status.idle": "2024-01-21T13:07:17.660258Z",
     "shell.execute_reply": "2024-01-21T13:07:17.657904Z"
    },
    "papermill": {
     "duration": 0.28336,
     "end_time": "2024-01-21T13:07:17.668687",
     "exception": false,
     "start_time": "2024-01-21T13:07:17.385327",
     "status": "completed"
    },
    "tags": []
   },
   "outputs": [
    {
     "data": {
      "image/png": "[encoded data removed]",
      "text/plain": [
       "<Figure size 1200x600 with 1 Axes>"
      ]
     },
     "metadata": {},
     "output_type": "display_data"
    }
   ],
   "source": [
    "# pie chart showing distribution\n",
    "fig = plt.figure(figsize=(12,6))\n",
    "plt.pie(train_df_new['vendor_id'].value_counts().sort_index(),autopct='%.2f%%',\n",
    "        explode=[0.2,0],shadow=True,labels=['Vendor 1','Vendor 2'],labeldistance=0.2)\n",
    "plt.title('Distribution of Rides according to vendor id')\n",
    "plt.show()"
   ]
  },
  {
   "cell_type": "markdown",
   "id": "1b0585aa",
   "metadata": {
    "papermill": {
     "duration": 0.032023,
     "end_time": "2024-01-21T13:07:17.741158",
     "exception": false,
     "start_time": "2024-01-21T13:07:17.709135",
     "status": "completed"
    },
    "tags": []
   },
   "source": [
    "- People are more likely to select vendor 2 for its services as compared to vendor 1."
   ]
  },
  {
   "cell_type": "markdown",
   "id": "d19c59a6",
   "metadata": {
    "papermill": {
     "duration": 0.032105,
     "end_time": "2024-01-21T13:07:17.804543",
     "exception": false,
     "start_time": "2024-01-21T13:07:17.772438",
     "status": "completed"
    },
    "tags": []
   },
   "source": [
    "## pickup datetime"
   ]
  },
  {
   "cell_type": "code",
   "execution_count": 29,
   "id": "50165d61",
   "metadata": {
    "execution": {
     "iopub.execute_input": "2024-01-21T13:07:17.869125Z",
     "iopub.status.busy": "2024-01-21T13:07:17.868714Z",
     "iopub.status.idle": "2024-01-21T13:07:18.766135Z",
     "shell.execute_reply": "2024-01-21T13:07:18.764880Z"
    },
    "papermill": {
     "duration": 0.932831,
     "end_time": "2024-01-21T13:07:18.769014",
     "exception": false,
     "start_time": "2024-01-21T13:07:17.836183",
     "status": "completed"
    },
    "tags": []
   },
   "outputs": [],
   "source": [
    "# change the column to datetime\n",
    "train_df_new['pickup_datetime'] = pd.to_datetime(train_df_new['pickup_datetime'])\n",
    "test_df_new['pickup_datetime'] = pd.to_datetime(test_df_new['pickup_datetime'])"
   ]
  },
  {
   "cell_type": "code",
   "execution_count": 30,
   "id": "b8f7c977",
   "metadata": {
    "execution": {
     "iopub.execute_input": "2024-01-21T13:07:18.834075Z",
     "iopub.status.busy": "2024-01-21T13:07:18.833674Z",
     "iopub.status.idle": "2024-01-21T13:07:18.840362Z",
     "shell.execute_reply": "2024-01-21T13:07:18.839252Z"
    },
    "papermill": {
     "duration": 0.041657,
     "end_time": "2024-01-21T13:07:18.842591",
     "exception": false,
     "start_time": "2024-01-21T13:07:18.800934",
     "status": "completed"
    },
    "tags": []
   },
   "outputs": [
    {
     "data": {
      "text/plain": [
       "(1458644, 10)"
      ]
     },
     "execution_count": 30,
     "metadata": {},
     "output_type": "execute_result"
    }
   ],
   "source": [
    "train_df_new.shape"
   ]
  },
  {
   "cell_type": "code",
   "execution_count": 31,
   "id": "a20a1a24",
   "metadata": {
    "execution": {
     "iopub.execute_input": "2024-01-21T13:07:18.907238Z",
     "iopub.status.busy": "2024-01-21T13:07:18.906733Z",
     "iopub.status.idle": "2024-01-21T13:07:19.083620Z",
     "shell.execute_reply": "2024-01-21T13:07:19.082787Z"
    },
    "papermill": {
     "duration": 0.211941,
     "end_time": "2024-01-21T13:07:19.085815",
     "exception": false,
     "start_time": "2024-01-21T13:07:18.873874",
     "status": "completed"
    },
    "tags": []
   },
   "outputs": [
    {
     "data": {
      "text/plain": [
       "0          0\n",
       "1          6\n",
       "2          1\n",
       "3          2\n",
       "4          5\n",
       "          ..\n",
       "1458639    4\n",
       "1458640    6\n",
       "1458641    4\n",
       "1458642    1\n",
       "1458643    1\n",
       "Name: pickup_datetime, Length: 1458644, dtype: int32"
      ]
     },
     "execution_count": 31,
     "metadata": {},
     "output_type": "execute_result"
    }
   ],
   "source": [
    "train_df_new['pickup_datetime'].dt.weekday"
   ]
  },
  {
   "cell_type": "code",
   "execution_count": 32,
   "id": "3d33c7e6",
   "metadata": {
    "execution": {
     "iopub.execute_input": "2024-01-21T13:07:19.152281Z",
     "iopub.status.busy": "2024-01-21T13:07:19.151818Z",
     "iopub.status.idle": "2024-01-21T13:07:19.159470Z",
     "shell.execute_reply": "2024-01-21T13:07:19.158315Z"
    },
    "papermill": {
     "duration": 0.043599,
     "end_time": "2024-01-21T13:07:19.161735",
     "exception": false,
     "start_time": "2024-01-21T13:07:19.118136",
     "status": "completed"
    },
    "tags": []
   },
   "outputs": [],
   "source": [
    "# feature extraction\n",
    "\n",
    "def make_datetime_features(data,column_type):\n",
    "    data[f'{column_type}_hour'] = data[f'{column_type}_datetime'].dt.hour \n",
    "    data[f'{column_type}_date'] = data[f'{column_type}_datetime'].dt.day\n",
    "    data[f'{column_type}_month'] = data[f'{column_type}_datetime'].dt.month\n",
    "    data[f'{column_type}_day'] = data[f'{column_type}_datetime'].dt.weekday\n",
    "    data[f'is_weekend'] = data.apply(lambda row: row[f'{column_type}_day'] >= 5,axis=1).astype('int')\n",
    "    return data"
   ]
  },
  {
   "cell_type": "code",
   "execution_count": 33,
   "id": "e0244d16",
   "metadata": {
    "execution": {
     "iopub.execute_input": "2024-01-21T13:07:19.227132Z",
     "iopub.status.busy": "2024-01-21T13:07:19.226698Z",
     "iopub.status.idle": "2024-01-21T13:07:49.418492Z",
     "shell.execute_reply": "2024-01-21T13:07:49.417340Z"
    },
    "papermill": {
     "duration": 30.258576,
     "end_time": "2024-01-21T13:07:49.452449",
     "exception": false,
     "start_time": "2024-01-21T13:07:19.193873",
     "status": "completed"
    },
    "tags": []
   },
   "outputs": [
    {
     "data": {
      "text/html": [
       "<div>\n",
       "<style scoped>\n",
       "    .dataframe tbody tr th:only-of-type {\n",
       "        vertical-align: middle;\n",
       "    }\n",
       "\n",
       "    .dataframe tbody tr th {\n",
       "        vertical-align: top;\n",
       "    }\n",
       "\n",
       "    .dataframe thead th {\n",
       "        text-align: right;\n",
       "    }\n",
       "</style>\n",
       "<table border=\"1\" class=\"dataframe\">\n",
       "  <thead>\n",
       "    <tr style=\"text-align: right;\">\n",
       "      <th></th>\n",
       "      <th>vendor_id</th>\n",
       "      <th>pickup_datetime</th>\n",
       "      <th>passenger_count</th>\n",
       "      <th>pickup_longitude</th>\n",
       "      <th>pickup_latitude</th>\n",
       "      <th>dropoff_longitude</th>\n",
       "      <th>dropoff_latitude</th>\n",
       "      <th>store_and_fwd_flag</th>\n",
       "      <th>pickup_hour</th>\n",
       "      <th>pickup_date</th>\n",
       "      <th>pickup_month</th>\n",
       "      <th>pickup_day</th>\n",
       "      <th>is_weekend</th>\n",
       "    </tr>\n",
       "  </thead>\n",
       "  <tbody>\n",
       "    <tr>\n",
       "      <th>0</th>\n",
       "      <td>1</td>\n",
       "      <td>2016-06-30 23:59:58</td>\n",
       "      <td>1</td>\n",
       "      <td>-73.988129</td>\n",
       "      <td>40.732029</td>\n",
       "      <td>-73.990173</td>\n",
       "      <td>40.756680</td>\n",
       "      <td>N</td>\n",
       "      <td>23</td>\n",
       "      <td>30</td>\n",
       "      <td>6</td>\n",
       "      <td>3</td>\n",
       "      <td>0</td>\n",
       "    </tr>\n",
       "    <tr>\n",
       "      <th>1</th>\n",
       "      <td>1</td>\n",
       "      <td>2016-06-30 23:59:53</td>\n",
       "      <td>1</td>\n",
       "      <td>-73.964203</td>\n",
       "      <td>40.679993</td>\n",
       "      <td>-73.959808</td>\n",
       "      <td>40.655403</td>\n",
       "      <td>N</td>\n",
       "      <td>23</td>\n",
       "      <td>30</td>\n",
       "      <td>6</td>\n",
       "      <td>3</td>\n",
       "      <td>0</td>\n",
       "    </tr>\n",
       "    <tr>\n",
       "      <th>2</th>\n",
       "      <td>1</td>\n",
       "      <td>2016-06-30 23:59:47</td>\n",
       "      <td>1</td>\n",
       "      <td>-73.997437</td>\n",
       "      <td>40.737583</td>\n",
       "      <td>-73.986160</td>\n",
       "      <td>40.729523</td>\n",
       "      <td>N</td>\n",
       "      <td>23</td>\n",
       "      <td>30</td>\n",
       "      <td>6</td>\n",
       "      <td>3</td>\n",
       "      <td>0</td>\n",
       "    </tr>\n",
       "    <tr>\n",
       "      <th>3</th>\n",
       "      <td>2</td>\n",
       "      <td>2016-06-30 23:59:41</td>\n",
       "      <td>1</td>\n",
       "      <td>-73.956070</td>\n",
       "      <td>40.771900</td>\n",
       "      <td>-73.986427</td>\n",
       "      <td>40.730469</td>\n",
       "      <td>N</td>\n",
       "      <td>23</td>\n",
       "      <td>30</td>\n",
       "      <td>6</td>\n",
       "      <td>3</td>\n",
       "      <td>0</td>\n",
       "    </tr>\n",
       "    <tr>\n",
       "      <th>4</th>\n",
       "      <td>1</td>\n",
       "      <td>2016-06-30 23:59:33</td>\n",
       "      <td>1</td>\n",
       "      <td>-73.970215</td>\n",
       "      <td>40.761475</td>\n",
       "      <td>-73.961510</td>\n",
       "      <td>40.755890</td>\n",
       "      <td>N</td>\n",
       "      <td>23</td>\n",
       "      <td>30</td>\n",
       "      <td>6</td>\n",
       "      <td>3</td>\n",
       "      <td>0</td>\n",
       "    </tr>\n",
       "    <tr>\n",
       "      <th>...</th>\n",
       "      <td>...</td>\n",
       "      <td>...</td>\n",
       "      <td>...</td>\n",
       "      <td>...</td>\n",
       "      <td>...</td>\n",
       "      <td>...</td>\n",
       "      <td>...</td>\n",
       "      <td>...</td>\n",
       "      <td>...</td>\n",
       "      <td>...</td>\n",
       "      <td>...</td>\n",
       "      <td>...</td>\n",
       "      <td>...</td>\n",
       "    </tr>\n",
       "    <tr>\n",
       "      <th>625129</th>\n",
       "      <td>1</td>\n",
       "      <td>2016-01-01 00:02:52</td>\n",
       "      <td>1</td>\n",
       "      <td>-74.003464</td>\n",
       "      <td>40.725105</td>\n",
       "      <td>-74.001251</td>\n",
       "      <td>40.733643</td>\n",
       "      <td>N</td>\n",
       "      <td>0</td>\n",
       "      <td>1</td>\n",
       "      <td>1</td>\n",
       "      <td>4</td>\n",
       "      <td>0</td>\n",
       "    </tr>\n",
       "    <tr>\n",
       "      <th>625130</th>\n",
       "      <td>1</td>\n",
       "      <td>2016-01-01 00:01:52</td>\n",
       "      <td>1</td>\n",
       "      <td>-74.006363</td>\n",
       "      <td>40.743782</td>\n",
       "      <td>-73.953407</td>\n",
       "      <td>40.782467</td>\n",
       "      <td>N</td>\n",
       "      <td>0</td>\n",
       "      <td>1</td>\n",
       "      <td>1</td>\n",
       "      <td>4</td>\n",
       "      <td>0</td>\n",
       "    </tr>\n",
       "    <tr>\n",
       "      <th>625131</th>\n",
       "      <td>1</td>\n",
       "      <td>2016-01-01 00:01:24</td>\n",
       "      <td>2</td>\n",
       "      <td>-73.972267</td>\n",
       "      <td>40.759865</td>\n",
       "      <td>-73.876602</td>\n",
       "      <td>40.748665</td>\n",
       "      <td>N</td>\n",
       "      <td>0</td>\n",
       "      <td>1</td>\n",
       "      <td>1</td>\n",
       "      <td>4</td>\n",
       "      <td>0</td>\n",
       "    </tr>\n",
       "    <tr>\n",
       "      <th>625132</th>\n",
       "      <td>1</td>\n",
       "      <td>2016-01-01 00:00:28</td>\n",
       "      <td>1</td>\n",
       "      <td>-73.976501</td>\n",
       "      <td>40.733562</td>\n",
       "      <td>-73.854263</td>\n",
       "      <td>40.891788</td>\n",
       "      <td>N</td>\n",
       "      <td>0</td>\n",
       "      <td>1</td>\n",
       "      <td>1</td>\n",
       "      <td>4</td>\n",
       "      <td>0</td>\n",
       "    </tr>\n",
       "    <tr>\n",
       "      <th>625133</th>\n",
       "      <td>2</td>\n",
       "      <td>2016-01-01 00:00:22</td>\n",
       "      <td>2</td>\n",
       "      <td>-73.981850</td>\n",
       "      <td>40.716881</td>\n",
       "      <td>-73.969330</td>\n",
       "      <td>40.769379</td>\n",
       "      <td>N</td>\n",
       "      <td>0</td>\n",
       "      <td>1</td>\n",
       "      <td>1</td>\n",
       "      <td>4</td>\n",
       "      <td>0</td>\n",
       "    </tr>\n",
       "  </tbody>\n",
       "</table>\n",
       "<p>625134 rows × 13 columns</p>\n",
       "</div>"
      ],
      "text/plain": [
       "        vendor_id     pickup_datetime  passenger_count  pickup_longitude  \\\n",
       "0               1 2016-06-30 23:59:58                1        -73.988129   \n",
       "1               1 2016-06-30 23:59:53                1        -73.964203   \n",
       "2               1 2016-06-30 23:59:47                1        -73.997437   \n",
       "3               2 2016-06-30 23:59:41                1        -73.956070   \n",
       "4               1 2016-06-30 23:59:33                1        -73.970215   \n",
       "...           ...                 ...              ...               ...   \n",
       "625129          1 2016-01-01 00:02:52                1        -74.003464   \n",
       "625130          1 2016-01-01 00:01:52                1        -74.006363   \n",
       "625131          1 2016-01-01 00:01:24                2        -73.972267   \n",
       "625132          1 2016-01-01 00:00:28                1        -73.976501   \n",
       "625133          2 2016-01-01 00:00:22                2        -73.981850   \n",
       "\n",
       "        pickup_latitude  dropoff_longitude  dropoff_latitude  \\\n",
       "0             40.732029         -73.990173         40.756680   \n",
       "1             40.679993         -73.959808         40.655403   \n",
       "2             40.737583         -73.986160         40.729523   \n",
       "3             40.771900         -73.986427         40.730469   \n",
       "4             40.761475         -73.961510         40.755890   \n",
       "...                 ...                ...               ...   \n",
       "625129        40.725105         -74.001251         40.733643   \n",
       "625130        40.743782         -73.953407         40.782467   \n",
       "625131        40.759865         -73.876602         40.748665   \n",
       "625132        40.733562         -73.854263         40.891788   \n",
       "625133        40.716881         -73.969330         40.769379   \n",
       "\n",
       "       store_and_fwd_flag  pickup_hour  pickup_date  pickup_month  pickup_day  \\\n",
       "0                       N           23           30             6           3   \n",
       "1                       N           23           30             6           3   \n",
       "2                       N           23           30             6           3   \n",
       "3                       N           23           30             6           3   \n",
       "4                       N           23           30             6           3   \n",
       "...                   ...          ...          ...           ...         ...   \n",
       "625129                  N            0            1             1           4   \n",
       "625130                  N            0            1             1           4   \n",
       "625131                  N            0            1             1           4   \n",
       "625132                  N            0            1             1           4   \n",
       "625133                  N            0            1             1           4   \n",
       "\n",
       "        is_weekend  \n",
       "0                0  \n",
       "1                0  \n",
       "2                0  \n",
       "3                0  \n",
       "4                0  \n",
       "...            ...  \n",
       "625129           0  \n",
       "625130           0  \n",
       "625131           0  \n",
       "625132           0  \n",
       "625133           0  \n",
       "\n",
       "[625134 rows x 13 columns]"
      ]
     },
     "execution_count": 33,
     "metadata": {},
     "output_type": "execute_result"
    }
   ],
   "source": [
    "# datetime features for pickup column in train data \n",
    "make_datetime_features(train_df_new,'pickup')\n",
    "# datetime features for pickup column in test data\n",
    "make_datetime_features(test_df_new,'pickup')"
   ]
  },
  {
   "cell_type": "code",
   "execution_count": 34,
   "id": "93ba9ffd",
   "metadata": {
    "execution": {
     "iopub.execute_input": "2024-01-21T13:07:49.518402Z",
     "iopub.status.busy": "2024-01-21T13:07:49.517934Z",
     "iopub.status.idle": "2024-01-21T13:07:49.525402Z",
     "shell.execute_reply": "2024-01-21T13:07:49.524317Z"
    },
    "papermill": {
     "duration": 0.043008,
     "end_time": "2024-01-21T13:07:49.527620",
     "exception": false,
     "start_time": "2024-01-21T13:07:49.484612",
     "status": "completed"
    },
    "tags": []
   },
   "outputs": [
    {
     "data": {
      "text/plain": [
       "(1458644, 15)"
      ]
     },
     "execution_count": 34,
     "metadata": {},
     "output_type": "execute_result"
    }
   ],
   "source": [
    "train_df_new.shape"
   ]
  },
  {
   "cell_type": "code",
   "execution_count": 35,
   "id": "4a2c22de",
   "metadata": {
    "execution": {
     "iopub.execute_input": "2024-01-21T13:07:49.594788Z",
     "iopub.status.busy": "2024-01-21T13:07:49.593963Z",
     "iopub.status.idle": "2024-01-21T13:07:49.613327Z",
     "shell.execute_reply": "2024-01-21T13:07:49.612194Z"
    },
    "papermill": {
     "duration": 0.055858,
     "end_time": "2024-01-21T13:07:49.615879",
     "exception": false,
     "start_time": "2024-01-21T13:07:49.560021",
     "status": "completed"
    },
    "tags": []
   },
   "outputs": [
    {
     "data": {
      "text/html": [
       "<div>\n",
       "<style scoped>\n",
       "    .dataframe tbody tr th:only-of-type {\n",
       "        vertical-align: middle;\n",
       "    }\n",
       "\n",
       "    .dataframe tbody tr th {\n",
       "        vertical-align: top;\n",
       "    }\n",
       "\n",
       "    .dataframe thead th {\n",
       "        text-align: right;\n",
       "    }\n",
       "</style>\n",
       "<table border=\"1\" class=\"dataframe\">\n",
       "  <thead>\n",
       "    <tr style=\"text-align: right;\">\n",
       "      <th></th>\n",
       "      <th>vendor_id</th>\n",
       "      <th>pickup_datetime</th>\n",
       "      <th>dropoff_datetime</th>\n",
       "      <th>passenger_count</th>\n",
       "      <th>pickup_longitude</th>\n",
       "      <th>pickup_latitude</th>\n",
       "      <th>dropoff_longitude</th>\n",
       "      <th>dropoff_latitude</th>\n",
       "      <th>store_and_fwd_flag</th>\n",
       "      <th>trip_duration</th>\n",
       "      <th>pickup_hour</th>\n",
       "      <th>pickup_date</th>\n",
       "      <th>pickup_month</th>\n",
       "      <th>pickup_day</th>\n",
       "      <th>is_weekend</th>\n",
       "    </tr>\n",
       "  </thead>\n",
       "  <tbody>\n",
       "    <tr>\n",
       "      <th>0</th>\n",
       "      <td>2</td>\n",
       "      <td>2016-03-14 17:24:55</td>\n",
       "      <td>2016-03-14 17:32:30</td>\n",
       "      <td>2</td>\n",
       "      <td>-73.982155</td>\n",
       "      <td>40.767937</td>\n",
       "      <td>-73.964630</td>\n",
       "      <td>40.765602</td>\n",
       "      <td>N</td>\n",
       "      <td>455</td>\n",
       "      <td>17</td>\n",
       "      <td>14</td>\n",
       "      <td>3</td>\n",
       "      <td>0</td>\n",
       "      <td>0</td>\n",
       "    </tr>\n",
       "    <tr>\n",
       "      <th>1</th>\n",
       "      <td>1</td>\n",
       "      <td>2016-06-12 00:43:35</td>\n",
       "      <td>2016-06-12 00:54:38</td>\n",
       "      <td>1</td>\n",
       "      <td>-73.980415</td>\n",
       "      <td>40.738564</td>\n",
       "      <td>-73.999481</td>\n",
       "      <td>40.731152</td>\n",
       "      <td>N</td>\n",
       "      <td>663</td>\n",
       "      <td>0</td>\n",
       "      <td>12</td>\n",
       "      <td>6</td>\n",
       "      <td>6</td>\n",
       "      <td>1</td>\n",
       "    </tr>\n",
       "    <tr>\n",
       "      <th>2</th>\n",
       "      <td>2</td>\n",
       "      <td>2016-01-19 11:35:24</td>\n",
       "      <td>2016-01-19 12:10:48</td>\n",
       "      <td>2</td>\n",
       "      <td>-73.979027</td>\n",
       "      <td>40.763939</td>\n",
       "      <td>-74.005333</td>\n",
       "      <td>40.710087</td>\n",
       "      <td>N</td>\n",
       "      <td>2124</td>\n",
       "      <td>11</td>\n",
       "      <td>19</td>\n",
       "      <td>1</td>\n",
       "      <td>1</td>\n",
       "      <td>0</td>\n",
       "    </tr>\n",
       "    <tr>\n",
       "      <th>3</th>\n",
       "      <td>2</td>\n",
       "      <td>2016-04-06 19:32:31</td>\n",
       "      <td>2016-04-06 19:39:40</td>\n",
       "      <td>2</td>\n",
       "      <td>-74.010040</td>\n",
       "      <td>40.719971</td>\n",
       "      <td>-74.012268</td>\n",
       "      <td>40.706718</td>\n",
       "      <td>N</td>\n",
       "      <td>429</td>\n",
       "      <td>19</td>\n",
       "      <td>6</td>\n",
       "      <td>4</td>\n",
       "      <td>2</td>\n",
       "      <td>0</td>\n",
       "    </tr>\n",
       "    <tr>\n",
       "      <th>4</th>\n",
       "      <td>2</td>\n",
       "      <td>2016-03-26 13:30:55</td>\n",
       "      <td>2016-03-26 13:38:10</td>\n",
       "      <td>2</td>\n",
       "      <td>-73.973053</td>\n",
       "      <td>40.793209</td>\n",
       "      <td>-73.972923</td>\n",
       "      <td>40.782520</td>\n",
       "      <td>N</td>\n",
       "      <td>435</td>\n",
       "      <td>13</td>\n",
       "      <td>26</td>\n",
       "      <td>3</td>\n",
       "      <td>5</td>\n",
       "      <td>1</td>\n",
       "    </tr>\n",
       "  </tbody>\n",
       "</table>\n",
       "</div>"
      ],
      "text/plain": [
       "   vendor_id     pickup_datetime     dropoff_datetime  passenger_count  \\\n",
       "0          2 2016-03-14 17:24:55  2016-03-14 17:32:30                2   \n",
       "1          1 2016-06-12 00:43:35  2016-06-12 00:54:38                1   \n",
       "2          2 2016-01-19 11:35:24  2016-01-19 12:10:48                2   \n",
       "3          2 2016-04-06 19:32:31  2016-04-06 19:39:40                2   \n",
       "4          2 2016-03-26 13:30:55  2016-03-26 13:38:10                2   \n",
       "\n",
       "   pickup_longitude  pickup_latitude  dropoff_longitude  dropoff_latitude  \\\n",
       "0        -73.982155        40.767937         -73.964630         40.765602   \n",
       "1        -73.980415        40.738564         -73.999481         40.731152   \n",
       "2        -73.979027        40.763939         -74.005333         40.710087   \n",
       "3        -74.010040        40.719971         -74.012268         40.706718   \n",
       "4        -73.973053        40.793209         -73.972923         40.782520   \n",
       "\n",
       "  store_and_fwd_flag  trip_duration  pickup_hour  pickup_date  pickup_month  \\\n",
       "0                  N            455           17           14             3   \n",
       "1                  N            663            0           12             6   \n",
       "2                  N           2124           11           19             1   \n",
       "3                  N            429           19            6             4   \n",
       "4                  N            435           13           26             3   \n",
       "\n",
       "   pickup_day  is_weekend  \n",
       "0           0           0  \n",
       "1           6           1  \n",
       "2           1           0  \n",
       "3           2           0  \n",
       "4           5           1  "
      ]
     },
     "execution_count": 35,
     "metadata": {},
     "output_type": "execute_result"
    }
   ],
   "source": [
    "train_df_new.head()"
   ]
  },
  {
   "cell_type": "code",
   "execution_count": 36,
   "id": "8ec52978",
   "metadata": {
    "execution": {
     "iopub.execute_input": "2024-01-21T13:07:49.683981Z",
     "iopub.status.busy": "2024-01-21T13:07:49.683585Z",
     "iopub.status.idle": "2024-01-21T13:08:25.831630Z",
     "shell.execute_reply": "2024-01-21T13:08:25.830536Z"
    },
    "papermill": {
     "duration": 36.185008,
     "end_time": "2024-01-21T13:08:25.834646",
     "exception": false,
     "start_time": "2024-01-21T13:07:49.649638",
     "status": "completed"
    },
    "tags": []
   },
   "outputs": [],
   "source": [
    "# save the data \n",
    "# make the directory as datetime\n",
    "save_path = Path('/kaggle/working/') / 'datetime'\n",
    "save_path.mkdir(parents=True,exist_ok=True)\n",
    "\n",
    "# save the train file\n",
    "train_df_new.to_csv(save_path / 'train.csv')\n",
    "\n",
    "# save the test file\n",
    "test_df_new.to_csv(save_path / 'test.csv')"
   ]
  },
  {
   "cell_type": "markdown",
   "id": "a3f9227b",
   "metadata": {
    "papermill": {
     "duration": 0.032893,
     "end_time": "2024-01-21T13:08:25.901693",
     "exception": false,
     "start_time": "2024-01-21T13:08:25.868800",
     "status": "completed"
    },
    "tags": []
   },
   "source": [
    "## EDA on the Datetime Columns"
   ]
  },
  {
   "cell_type": "code",
   "execution_count": 37,
   "id": "e6d74dc1",
   "metadata": {
    "execution": {
     "iopub.execute_input": "2024-01-21T13:08:25.972398Z",
     "iopub.status.busy": "2024-01-21T13:08:25.971295Z",
     "iopub.status.idle": "2024-01-21T13:08:25.988331Z",
     "shell.execute_reply": "2024-01-21T13:08:25.987221Z"
    },
    "papermill": {
     "duration": 0.055723,
     "end_time": "2024-01-21T13:08:25.990946",
     "exception": false,
     "start_time": "2024-01-21T13:08:25.935223",
     "status": "completed"
    },
    "tags": []
   },
   "outputs": [
    {
     "data": {
      "text/plain": [
       "Timedelta('181 days 23:59:22')"
      ]
     },
     "execution_count": 37,
     "metadata": {},
     "output_type": "execute_result"
    }
   ],
   "source": [
    "# time range for the train data\n",
    "\n",
    "train_df_new['pickup_datetime'].max() - train_df_new['pickup_datetime'].min() "
   ]
  },
  {
   "cell_type": "markdown",
   "id": "3dfa0c6c",
   "metadata": {
    "papermill": {
     "duration": 0.033145,
     "end_time": "2024-01-21T13:08:26.056741",
     "exception": false,
     "start_time": "2024-01-21T13:08:26.023596",
     "status": "completed"
    },
    "tags": []
   },
   "source": [
    "**The time range shows that we have the data for 6 months**"
   ]
  },
  {
   "cell_type": "code",
   "execution_count": 38,
   "id": "d912a502",
   "metadata": {
    "execution": {
     "iopub.execute_input": "2024-01-21T13:08:26.126727Z",
     "iopub.status.busy": "2024-01-21T13:08:26.125715Z",
     "iopub.status.idle": "2024-01-21T13:08:26.136590Z",
     "shell.execute_reply": "2024-01-21T13:08:26.135318Z"
    },
    "papermill": {
     "duration": 0.048813,
     "end_time": "2024-01-21T13:08:26.139154",
     "exception": false,
     "start_time": "2024-01-21T13:08:26.090341",
     "status": "completed"
    },
    "tags": []
   },
   "outputs": [
    {
     "data": {
      "text/plain": [
       "Timedelta('181 days 23:59:36')"
      ]
     },
     "execution_count": 38,
     "metadata": {},
     "output_type": "execute_result"
    }
   ],
   "source": [
    "# time range for the test data\n",
    "\n",
    "test_df_new['pickup_datetime'].max() - test_df_new['pickup_datetime'].min() "
   ]
  },
  {
   "cell_type": "code",
   "execution_count": 39,
   "id": "939d4292",
   "metadata": {
    "execution": {
     "iopub.execute_input": "2024-01-21T13:08:26.208651Z",
     "iopub.status.busy": "2024-01-21T13:08:26.207692Z",
     "iopub.status.idle": "2024-01-21T13:08:26.230689Z",
     "shell.execute_reply": "2024-01-21T13:08:26.229482Z"
    },
    "papermill": {
     "duration": 0.061137,
     "end_time": "2024-01-21T13:08:26.233200",
     "exception": false,
     "start_time": "2024-01-21T13:08:26.172063",
     "status": "completed"
    },
    "tags": []
   },
   "outputs": [
    {
     "data": {
      "text/html": [
       "<div>\n",
       "<style scoped>\n",
       "    .dataframe tbody tr th:only-of-type {\n",
       "        vertical-align: middle;\n",
       "    }\n",
       "\n",
       "    .dataframe tbody tr th {\n",
       "        vertical-align: top;\n",
       "    }\n",
       "\n",
       "    .dataframe thead th {\n",
       "        text-align: right;\n",
       "    }\n",
       "</style>\n",
       "<table border=\"1\" class=\"dataframe\">\n",
       "  <thead>\n",
       "    <tr style=\"text-align: right;\">\n",
       "      <th></th>\n",
       "      <th>train</th>\n",
       "      <th>test</th>\n",
       "    </tr>\n",
       "  </thead>\n",
       "  <tbody>\n",
       "    <tr>\n",
       "      <th>Opening_date</th>\n",
       "      <td>2016-01-01 00:00:17</td>\n",
       "      <td>2016-01-01 00:00:22</td>\n",
       "    </tr>\n",
       "    <tr>\n",
       "      <th>Closing_date</th>\n",
       "      <td>2016-06-30 23:59:39</td>\n",
       "      <td>2016-06-30 23:59:58</td>\n",
       "    </tr>\n",
       "  </tbody>\n",
       "</table>\n",
       "</div>"
      ],
      "text/plain": [
       "                           train                test\n",
       "Opening_date 2016-01-01 00:00:17 2016-01-01 00:00:22\n",
       "Closing_date 2016-06-30 23:59:39 2016-06-30 23:59:58"
      ]
     },
     "execution_count": 39,
     "metadata": {},
     "output_type": "execute_result"
    }
   ],
   "source": [
    "# time range for the train and test data\n",
    "\n",
    "data_temp = {'Opening_date':[train_df_new['pickup_datetime'].min(),test_df_new['pickup_datetime'].min()],\n",
    "            'Closing_date':[train_df_new['pickup_datetime'].max(),test_df_new['pickup_datetime'].max()]}\n",
    "\n",
    "pd.DataFrame(data=data_temp,index=['train','test']).T"
   ]
  },
  {
   "cell_type": "markdown",
   "id": "f85da1bb",
   "metadata": {
    "papermill": {
     "duration": 0.033366,
     "end_time": "2024-01-21T13:08:26.299873",
     "exception": false,
     "start_time": "2024-01-21T13:08:26.266507",
     "status": "completed"
    },
    "tags": []
   },
   "source": [
    "This shows that both the train and the test data have ranges from the same dates i.e. from **(Jan 1st, 2016)** till **(June 30th, 2016)**."
   ]
  },
  {
   "cell_type": "code",
   "execution_count": 40,
   "id": "82a865fc",
   "metadata": {
    "execution": {
     "iopub.execute_input": "2024-01-21T13:08:26.372647Z",
     "iopub.status.busy": "2024-01-21T13:08:26.372245Z",
     "iopub.status.idle": "2024-01-21T13:08:27.381610Z",
     "shell.execute_reply": "2024-01-21T13:08:27.380424Z"
    },
    "papermill": {
     "duration": 1.049639,
     "end_time": "2024-01-21T13:08:27.384155",
     "exception": false,
     "start_time": "2024-01-21T13:08:26.334516",
     "status": "completed"
    },
    "tags": []
   },
   "outputs": [
    {
     "data": {
      "text/plain": [
       "pickup_datetime\n",
       "2016-01-01    7162\n",
       "2016-01-02    6512\n",
       "2016-01-03    6353\n",
       "2016-01-04    6725\n",
       "2016-01-05    7204\n",
       "              ... \n",
       "2016-06-26    7084\n",
       "2016-06-27    7311\n",
       "2016-06-28    7253\n",
       "2016-06-29    7623\n",
       "2016-06-30    7588\n",
       "Name: count, Length: 182, dtype: int64"
      ]
     },
     "execution_count": 40,
     "metadata": {},
     "output_type": "execute_result"
    }
   ],
   "source": [
    "# total pickups each day\n",
    "\n",
    "train_df_new['pickup_datetime'].dt.date \\\n",
    ".value_counts() \\\n",
    ".sort_index()"
   ]
  },
  {
   "cell_type": "markdown",
   "id": "69ea7b06",
   "metadata": {
    "papermill": {
     "duration": 0.032752,
     "end_time": "2024-01-21T13:08:27.451042",
     "exception": false,
     "start_time": "2024-01-21T13:08:27.418290",
     "status": "completed"
    },
    "tags": []
   },
   "source": [
    "**Idea behind this code**:\n",
    "\n",
    "\n",
    "I needed to find out the pickup pattern of passengers on a particular date in line plots for both the train and test data.   \n",
    "To do this:  \n",
    "1. Calculated the value counts(count of rows) for each date, which will give me the total no. of pickups in the data for that particular date.\n",
    "2. Then I sorted the index to reorder the data in correct chronological order."
   ]
  },
  {
   "cell_type": "code",
   "execution_count": 41,
   "id": "6a578be4",
   "metadata": {
    "execution": {
     "iopub.execute_input": "2024-01-21T13:08:27.519461Z",
     "iopub.status.busy": "2024-01-21T13:08:27.519034Z",
     "iopub.status.idle": "2024-01-21T13:08:29.248790Z",
     "shell.execute_reply": "2024-01-21T13:08:29.247412Z"
    },
    "papermill": {
     "duration": 1.767117,
     "end_time": "2024-01-21T13:08:29.251421",
     "exception": false,
     "start_time": "2024-01-21T13:08:27.484304",
     "status": "completed"
    },
    "tags": []
   },
   "outputs": [
    {
     "data": {
      "image/png": "[encoded data removed]",
      "text/plain": [
       "<Figure size 640x480 with 1 Axes>"
      ]
     },
     "metadata": {},
     "output_type": "display_data"
    }
   ],
   "source": [
    "# pickup patterns for train and test data\n",
    "\n",
    "plt.plot(train_df_new['pickup_datetime'].dt.date.value_counts().sort_index(),color='green',label='train')\n",
    "plt.plot(test_df_new['pickup_datetime'].dt.date.value_counts().sort_index(),color='red',label='test')\n",
    "plt.legend()\n",
    "plt.show()"
   ]
  },
  {
   "cell_type": "code",
   "execution_count": 42,
   "id": "041ffbc6",
   "metadata": {
    "execution": {
     "iopub.execute_input": "2024-01-21T13:08:29.321823Z",
     "iopub.status.busy": "2024-01-21T13:08:29.321313Z",
     "iopub.status.idle": "2024-01-21T13:08:31.012886Z",
     "shell.execute_reply": "2024-01-21T13:08:31.011454Z"
    },
    "papermill": {
     "duration": 1.729917,
     "end_time": "2024-01-21T13:08:31.015609",
     "exception": false,
     "start_time": "2024-01-21T13:08:29.285692",
     "status": "completed"
    },
    "tags": []
   },
   "outputs": [
    {
     "data": {
      "image/png": "[encoded data removed]",
      "text/plain": [
       "<Figure size 640x480 with 1 Axes>"
      ]
     },
     "metadata": {},
     "output_type": "display_data"
    }
   ],
   "source": [
    "# pickup patterns for train and test data (results normalized)\n",
    "\n",
    "plt.plot(train_df_new['pickup_datetime'].dt.date.value_counts(normalize=True).sort_index(),color='green',alpha=0.7,label='train')\n",
    "plt.plot(test_df_new['pickup_datetime'].dt.date.value_counts(normalize=True).sort_index(),color='red',label='test')\n",
    "plt.legend()\n",
    "plt.show()"
   ]
  },
  {
   "cell_type": "markdown",
   "id": "b2db7377",
   "metadata": {
    "papermill": {
     "duration": 0.035322,
     "end_time": "2024-01-21T13:08:31.086723",
     "exception": false,
     "start_time": "2024-01-21T13:08:31.051401",
     "status": "completed"
    },
    "tags": []
   },
   "source": [
    "This graph clearly indicates that the pickup patterns for the train and test data are almost similar."
   ]
  },
  {
   "cell_type": "markdown",
   "id": "818da4c7",
   "metadata": {
    "papermill": {
     "duration": 0.034963,
     "end_time": "2024-01-21T13:08:31.157608",
     "exception": false,
     "start_time": "2024-01-21T13:08:31.122645",
     "status": "completed"
    },
    "tags": []
   },
   "source": [
    "The January 2016 United States blizzard produced up to 3 ft (91 cm) of snow in parts of the Mid-Atlantic and Northeastern United States during January 22–24, 2016\n",
    "\n",
    "> A travel ban was instituted for New York City and Newark, New Jersey, for January 23–24.\n",
    "> The blizzard that walloped New York City in January is officially the **biggest snowstorm in the history** of the five boroughs, according to a new report prompted by questions about the accuracy of snowfall measurements."
   ]
  },
  {
   "cell_type": "code",
   "execution_count": 43,
   "id": "4683b6c1",
   "metadata": {
    "execution": {
     "iopub.execute_input": "2024-01-21T13:08:31.230920Z",
     "iopub.status.busy": "2024-01-21T13:08:31.230529Z",
     "iopub.status.idle": "2024-01-21T13:08:31.239582Z",
     "shell.execute_reply": "2024-01-21T13:08:31.238299Z"
    },
    "papermill": {
     "duration": 0.049116,
     "end_time": "2024-01-21T13:08:31.242264",
     "exception": false,
     "start_time": "2024-01-21T13:08:31.193148",
     "status": "completed"
    },
    "tags": []
   },
   "outputs": [
    {
     "data": {
      "text/plain": [
       "vendor_id                       int8\n",
       "pickup_datetime       datetime64[ns]\n",
       "dropoff_datetime              object\n",
       "passenger_count                int16\n",
       "pickup_longitude             float64\n",
       "pickup_latitude              float64\n",
       "dropoff_longitude            float64\n",
       "dropoff_latitude             float64\n",
       "store_and_fwd_flag            object\n",
       "trip_duration                  int64\n",
       "pickup_hour                    int32\n",
       "pickup_date                    int32\n",
       "pickup_month                   int32\n",
       "pickup_day                     int32\n",
       "is_weekend                     int64\n",
       "dtype: object"
      ]
     },
     "execution_count": 43,
     "metadata": {},
     "output_type": "execute_result"
    }
   ],
   "source": [
    "train_df_new.dtypes"
   ]
  },
  {
   "cell_type": "code",
   "execution_count": 44,
   "id": "4a9c7ea7",
   "metadata": {
    "execution": {
     "iopub.execute_input": "2024-01-21T13:08:31.315000Z",
     "iopub.status.busy": "2024-01-21T13:08:31.314609Z",
     "iopub.status.idle": "2024-01-21T13:08:31.410183Z",
     "shell.execute_reply": "2024-01-21T13:08:31.409010Z"
    },
    "papermill": {
     "duration": 0.1351,
     "end_time": "2024-01-21T13:08:31.412780",
     "exception": false,
     "start_time": "2024-01-21T13:08:31.277680",
     "status": "completed"
    },
    "tags": []
   },
   "outputs": [
    {
     "data": {
      "text/plain": [
       "8014.527472527472"
      ]
     },
     "execution_count": 44,
     "metadata": {},
     "output_type": "execute_result"
    }
   ],
   "source": [
    "# avg pickups daily across all months\n",
    "\n",
    "month_group = train_df_new.groupby(by='pickup_month')\n",
    "\n",
    "daily_pickups_mean = month_group['pickup_date'] \\\n",
    ".value_counts() \\\n",
    ".mean()\n",
    "\n",
    "daily_pickups_mean"
   ]
  },
  {
   "cell_type": "markdown",
   "id": "17c45abc",
   "metadata": {
    "papermill": {
     "duration": 0.03545,
     "end_time": "2024-01-21T13:08:31.484608",
     "exception": false,
     "start_time": "2024-01-21T13:08:31.449158",
     "status": "completed"
    },
    "tags": []
   },
   "source": [
    "**Idea behind this code**:\n",
    "1. Group the pickups monthwise.\n",
    "2. Calculate the pickups for each day in a particular month.\n",
    "3. Then finally calculate the mean across all the months to get a daily avg."
   ]
  },
  {
   "cell_type": "code",
   "execution_count": 45,
   "id": "3677d227",
   "metadata": {
    "execution": {
     "iopub.execute_input": "2024-01-21T13:08:31.560399Z",
     "iopub.status.busy": "2024-01-21T13:08:31.559985Z",
     "iopub.status.idle": "2024-01-21T13:08:31.844569Z",
     "shell.execute_reply": "2024-01-21T13:08:31.843478Z"
    },
    "papermill": {
     "duration": 0.325304,
     "end_time": "2024-01-21T13:08:31.847269",
     "exception": false,
     "start_time": "2024-01-21T13:08:31.521965",
     "status": "completed"
    },
    "tags": []
   },
   "outputs": [
    {
     "data": {
      "image/png": "[encoded data removed]",
      "text/plain": [
       "<Figure size 640x480 with 1 Axes>"
      ]
     },
     "metadata": {},
     "output_type": "display_data"
    }
   ],
   "source": [
    "# taxi trips instead of travel bans\n",
    "ban_df = train_df_new.loc[(train_df_new['pickup_date'].isin(list(range(20,31))) & (train_df_new['pickup_month'] == 1))]\n",
    "\n",
    "ban_df['pickup_date'] \\\n",
    ".value_counts() \\\n",
    ".sort_index() \\\n",
    ".plot()\n",
    "plt.show()"
   ]
  },
  {
   "cell_type": "code",
   "execution_count": 46,
   "id": "d7664bd6",
   "metadata": {
    "execution": {
     "iopub.execute_input": "2024-01-21T13:08:31.921545Z",
     "iopub.status.busy": "2024-01-21T13:08:31.921162Z",
     "iopub.status.idle": "2024-01-21T13:08:32.915278Z",
     "shell.execute_reply": "2024-01-21T13:08:32.913954Z"
    },
    "papermill": {
     "duration": 1.034016,
     "end_time": "2024-01-21T13:08:32.917579",
     "exception": false,
     "start_time": "2024-01-21T13:08:31.883563",
     "status": "completed"
    },
    "tags": []
   },
   "outputs": [
    {
     "name": "stdout",
     "output_type": "stream",
     "text": [
      "The number of days where number of pickups is below the daily avg is 82 which is 45.05% of the total days\n"
     ]
    }
   ],
   "source": [
    "# no.of days when pickups were below the daily avg\n",
    "\n",
    "daily_avg_dates = train_df_new['pickup_datetime'].dt.date.value_counts()\n",
    "\n",
    "below_daily_avg_count = daily_avg_dates[daily_avg_dates < daily_pickups_mean].size\n",
    "\n",
    "percentage_below_avg = below_daily_avg_count / daily_avg_dates.index.size\n",
    "\n",
    "print(f'The number of days where number of pickups is below the daily avg is {below_daily_avg_count} which is {(percentage_below_avg * 100):.2f}% of the total days')\n"
   ]
  },
  {
   "cell_type": "code",
   "execution_count": 47,
   "id": "5e6e9434",
   "metadata": {
    "execution": {
     "iopub.execute_input": "2024-01-21T13:08:32.992315Z",
     "iopub.status.busy": "2024-01-21T13:08:32.991893Z",
     "iopub.status.idle": "2024-01-21T13:08:33.054898Z",
     "shell.execute_reply": "2024-01-21T13:08:33.053790Z"
    },
    "papermill": {
     "duration": 0.103341,
     "end_time": "2024-01-21T13:08:33.057240",
     "exception": false,
     "start_time": "2024-01-21T13:08:32.953899",
     "status": "completed"
    },
    "tags": []
   },
   "outputs": [
    {
     "data": {
      "text/html": [
       "<div>\n",
       "<style scoped>\n",
       "    .dataframe tbody tr th:only-of-type {\n",
       "        vertical-align: middle;\n",
       "    }\n",
       "\n",
       "    .dataframe tbody tr th {\n",
       "        vertical-align: top;\n",
       "    }\n",
       "\n",
       "    .dataframe thead th {\n",
       "        text-align: right;\n",
       "    }\n",
       "</style>\n",
       "<table border=\"1\" class=\"dataframe\">\n",
       "  <thead>\n",
       "    <tr style=\"text-align: right;\">\n",
       "      <th></th>\n",
       "      <th>pickup_datetime</th>\n",
       "      <th>count</th>\n",
       "    </tr>\n",
       "  </thead>\n",
       "  <tbody>\n",
       "    <tr>\n",
       "      <th>0</th>\n",
       "      <td>2016-01-01</td>\n",
       "      <td>7162</td>\n",
       "    </tr>\n",
       "    <tr>\n",
       "      <th>1</th>\n",
       "      <td>2016-01-02</td>\n",
       "      <td>6512</td>\n",
       "    </tr>\n",
       "    <tr>\n",
       "      <th>2</th>\n",
       "      <td>2016-01-03</td>\n",
       "      <td>6353</td>\n",
       "    </tr>\n",
       "    <tr>\n",
       "      <th>3</th>\n",
       "      <td>2016-01-04</td>\n",
       "      <td>6725</td>\n",
       "    </tr>\n",
       "    <tr>\n",
       "      <th>4</th>\n",
       "      <td>2016-01-05</td>\n",
       "      <td>7204</td>\n",
       "    </tr>\n",
       "    <tr>\n",
       "      <th>5</th>\n",
       "      <td>2016-01-06</td>\n",
       "      <td>7365</td>\n",
       "    </tr>\n",
       "    <tr>\n",
       "      <th>6</th>\n",
       "      <td>2016-01-07</td>\n",
       "      <td>7649</td>\n",
       "    </tr>\n",
       "    <tr>\n",
       "      <th>7</th>\n",
       "      <td>2016-01-10</td>\n",
       "      <td>7454</td>\n",
       "    </tr>\n",
       "    <tr>\n",
       "      <th>8</th>\n",
       "      <td>2016-01-11</td>\n",
       "      <td>7276</td>\n",
       "    </tr>\n",
       "    <tr>\n",
       "      <th>9</th>\n",
       "      <td>2016-01-12</td>\n",
       "      <td>7794</td>\n",
       "    </tr>\n",
       "    <tr>\n",
       "      <th>10</th>\n",
       "      <td>2016-01-17</td>\n",
       "      <td>7891</td>\n",
       "    </tr>\n",
       "    <tr>\n",
       "      <th>11</th>\n",
       "      <td>2016-01-18</td>\n",
       "      <td>7146</td>\n",
       "    </tr>\n",
       "    <tr>\n",
       "      <th>12</th>\n",
       "      <td>2016-01-19</td>\n",
       "      <td>7934</td>\n",
       "    </tr>\n",
       "    <tr>\n",
       "      <th>13</th>\n",
       "      <td>2016-01-23</td>\n",
       "      <td>1648</td>\n",
       "    </tr>\n",
       "    <tr>\n",
       "      <th>14</th>\n",
       "      <td>2016-01-24</td>\n",
       "      <td>3383</td>\n",
       "    </tr>\n",
       "    <tr>\n",
       "      <th>15</th>\n",
       "      <td>2016-01-25</td>\n",
       "      <td>6084</td>\n",
       "    </tr>\n",
       "    <tr>\n",
       "      <th>16</th>\n",
       "      <td>2016-01-26</td>\n",
       "      <td>6941</td>\n",
       "    </tr>\n",
       "    <tr>\n",
       "      <th>17</th>\n",
       "      <td>2016-01-27</td>\n",
       "      <td>7571</td>\n",
       "    </tr>\n",
       "    <tr>\n",
       "      <th>18</th>\n",
       "      <td>2016-01-31</td>\n",
       "      <td>7670</td>\n",
       "    </tr>\n",
       "  </tbody>\n",
       "</table>\n",
       "</div>"
      ],
      "text/plain": [
       "   pickup_datetime  count\n",
       "0       2016-01-01   7162\n",
       "1       2016-01-02   6512\n",
       "2       2016-01-03   6353\n",
       "3       2016-01-04   6725\n",
       "4       2016-01-05   7204\n",
       "5       2016-01-06   7365\n",
       "6       2016-01-07   7649\n",
       "7       2016-01-10   7454\n",
       "8       2016-01-11   7276\n",
       "9       2016-01-12   7794\n",
       "10      2016-01-17   7891\n",
       "11      2016-01-18   7146\n",
       "12      2016-01-19   7934\n",
       "13      2016-01-23   1648\n",
       "14      2016-01-24   3383\n",
       "15      2016-01-25   6084\n",
       "16      2016-01-26   6941\n",
       "17      2016-01-27   7571\n",
       "18      2016-01-31   7670"
      ]
     },
     "metadata": {},
     "output_type": "display_data"
    },
    {
     "data": {
      "text/html": [
       "<div>\n",
       "<style scoped>\n",
       "    .dataframe tbody tr th:only-of-type {\n",
       "        vertical-align: middle;\n",
       "    }\n",
       "\n",
       "    .dataframe tbody tr th {\n",
       "        vertical-align: top;\n",
       "    }\n",
       "\n",
       "    .dataframe thead th {\n",
       "        text-align: right;\n",
       "    }\n",
       "</style>\n",
       "<table border=\"1\" class=\"dataframe\">\n",
       "  <thead>\n",
       "    <tr style=\"text-align: right;\">\n",
       "      <th></th>\n",
       "      <th>pickup_datetime</th>\n",
       "      <th>count</th>\n",
       "    </tr>\n",
       "  </thead>\n",
       "  <tbody>\n",
       "    <tr>\n",
       "      <th>0</th>\n",
       "      <td>2016-02-01</td>\n",
       "      <td>7064</td>\n",
       "    </tr>\n",
       "    <tr>\n",
       "      <th>1</th>\n",
       "      <td>2016-02-02</td>\n",
       "      <td>7668</td>\n",
       "    </tr>\n",
       "    <tr>\n",
       "      <th>2</th>\n",
       "      <td>2016-02-03</td>\n",
       "      <td>7828</td>\n",
       "    </tr>\n",
       "    <tr>\n",
       "      <th>3</th>\n",
       "      <td>2016-02-07</td>\n",
       "      <td>7821</td>\n",
       "    </tr>\n",
       "    <tr>\n",
       "      <th>4</th>\n",
       "      <td>2016-02-08</td>\n",
       "      <td>7110</td>\n",
       "    </tr>\n",
       "    <tr>\n",
       "      <th>5</th>\n",
       "      <td>2016-02-09</td>\n",
       "      <td>7620</td>\n",
       "    </tr>\n",
       "    <tr>\n",
       "      <th>6</th>\n",
       "      <td>2016-02-15</td>\n",
       "      <td>7373</td>\n",
       "    </tr>\n",
       "    <tr>\n",
       "      <th>7</th>\n",
       "      <td>2016-02-16</td>\n",
       "      <td>7646</td>\n",
       "    </tr>\n",
       "    <tr>\n",
       "      <th>8</th>\n",
       "      <td>2016-02-21</td>\n",
       "      <td>7683</td>\n",
       "    </tr>\n",
       "    <tr>\n",
       "      <th>9</th>\n",
       "      <td>2016-02-22</td>\n",
       "      <td>7209</td>\n",
       "    </tr>\n",
       "    <tr>\n",
       "      <th>10</th>\n",
       "      <td>2016-02-28</td>\n",
       "      <td>7777</td>\n",
       "    </tr>\n",
       "    <tr>\n",
       "      <th>11</th>\n",
       "      <td>2016-02-29</td>\n",
       "      <td>7402</td>\n",
       "    </tr>\n",
       "  </tbody>\n",
       "</table>\n",
       "</div>"
      ],
      "text/plain": [
       "   pickup_datetime  count\n",
       "0       2016-02-01   7064\n",
       "1       2016-02-02   7668\n",
       "2       2016-02-03   7828\n",
       "3       2016-02-07   7821\n",
       "4       2016-02-08   7110\n",
       "5       2016-02-09   7620\n",
       "6       2016-02-15   7373\n",
       "7       2016-02-16   7646\n",
       "8       2016-02-21   7683\n",
       "9       2016-02-22   7209\n",
       "10      2016-02-28   7777\n",
       "11      2016-02-29   7402"
      ]
     },
     "metadata": {},
     "output_type": "display_data"
    },
    {
     "data": {
      "text/html": [
       "<div>\n",
       "<style scoped>\n",
       "    .dataframe tbody tr th:only-of-type {\n",
       "        vertical-align: middle;\n",
       "    }\n",
       "\n",
       "    .dataframe tbody tr th {\n",
       "        vertical-align: top;\n",
       "    }\n",
       "\n",
       "    .dataframe thead th {\n",
       "        text-align: right;\n",
       "    }\n",
       "</style>\n",
       "<table border=\"1\" class=\"dataframe\">\n",
       "  <thead>\n",
       "    <tr style=\"text-align: right;\">\n",
       "      <th></th>\n",
       "      <th>pickup_datetime</th>\n",
       "      <th>count</th>\n",
       "    </tr>\n",
       "  </thead>\n",
       "  <tbody>\n",
       "    <tr>\n",
       "      <th>0</th>\n",
       "      <td>2016-03-01</td>\n",
       "      <td>7839</td>\n",
       "    </tr>\n",
       "    <tr>\n",
       "      <th>1</th>\n",
       "      <td>2016-03-07</td>\n",
       "      <td>7395</td>\n",
       "    </tr>\n",
       "    <tr>\n",
       "      <th>2</th>\n",
       "      <td>2016-03-08</td>\n",
       "      <td>7879</td>\n",
       "    </tr>\n",
       "    <tr>\n",
       "      <th>3</th>\n",
       "      <td>2016-03-13</td>\n",
       "      <td>7738</td>\n",
       "    </tr>\n",
       "    <tr>\n",
       "      <th>4</th>\n",
       "      <td>2016-03-21</td>\n",
       "      <td>7248</td>\n",
       "    </tr>\n",
       "    <tr>\n",
       "      <th>5</th>\n",
       "      <td>2016-03-22</td>\n",
       "      <td>7622</td>\n",
       "    </tr>\n",
       "    <tr>\n",
       "      <th>6</th>\n",
       "      <td>2016-03-23</td>\n",
       "      <td>7852</td>\n",
       "    </tr>\n",
       "    <tr>\n",
       "      <th>7</th>\n",
       "      <td>2016-03-27</td>\n",
       "      <td>7364</td>\n",
       "    </tr>\n",
       "    <tr>\n",
       "      <th>8</th>\n",
       "      <td>2016-03-28</td>\n",
       "      <td>7233</td>\n",
       "    </tr>\n",
       "    <tr>\n",
       "      <th>9</th>\n",
       "      <td>2016-03-29</td>\n",
       "      <td>7943</td>\n",
       "    </tr>\n",
       "  </tbody>\n",
       "</table>\n",
       "</div>"
      ],
      "text/plain": [
       "  pickup_datetime  count\n",
       "0      2016-03-01   7839\n",
       "1      2016-03-07   7395\n",
       "2      2016-03-08   7879\n",
       "3      2016-03-13   7738\n",
       "4      2016-03-21   7248\n",
       "5      2016-03-22   7622\n",
       "6      2016-03-23   7852\n",
       "7      2016-03-27   7364\n",
       "8      2016-03-28   7233\n",
       "9      2016-03-29   7943"
      ]
     },
     "metadata": {},
     "output_type": "display_data"
    },
    {
     "data": {
      "text/html": [
       "<div>\n",
       "<style scoped>\n",
       "    .dataframe tbody tr th:only-of-type {\n",
       "        vertical-align: middle;\n",
       "    }\n",
       "\n",
       "    .dataframe tbody tr th {\n",
       "        vertical-align: top;\n",
       "    }\n",
       "\n",
       "    .dataframe thead th {\n",
       "        text-align: right;\n",
       "    }\n",
       "</style>\n",
       "<table border=\"1\" class=\"dataframe\">\n",
       "  <thead>\n",
       "    <tr style=\"text-align: right;\">\n",
       "      <th></th>\n",
       "      <th>pickup_datetime</th>\n",
       "      <th>count</th>\n",
       "    </tr>\n",
       "  </thead>\n",
       "  <tbody>\n",
       "    <tr>\n",
       "      <th>0</th>\n",
       "      <td>2016-04-04</td>\n",
       "      <td>7891</td>\n",
       "    </tr>\n",
       "    <tr>\n",
       "      <th>1</th>\n",
       "      <td>2016-04-11</td>\n",
       "      <td>7485</td>\n",
       "    </tr>\n",
       "    <tr>\n",
       "      <th>2</th>\n",
       "      <td>2016-04-18</td>\n",
       "      <td>7459</td>\n",
       "    </tr>\n",
       "    <tr>\n",
       "      <th>3</th>\n",
       "      <td>2016-04-19</td>\n",
       "      <td>7990</td>\n",
       "    </tr>\n",
       "    <tr>\n",
       "      <th>4</th>\n",
       "      <td>2016-04-24</td>\n",
       "      <td>7529</td>\n",
       "    </tr>\n",
       "    <tr>\n",
       "      <th>5</th>\n",
       "      <td>2016-04-25</td>\n",
       "      <td>7028</td>\n",
       "    </tr>\n",
       "    <tr>\n",
       "      <th>6</th>\n",
       "      <td>2016-04-26</td>\n",
       "      <td>7858</td>\n",
       "    </tr>\n",
       "    <tr>\n",
       "      <th>7</th>\n",
       "      <td>2016-04-27</td>\n",
       "      <td>7949</td>\n",
       "    </tr>\n",
       "  </tbody>\n",
       "</table>\n",
       "</div>"
      ],
      "text/plain": [
       "  pickup_datetime  count\n",
       "0      2016-04-04   7891\n",
       "1      2016-04-11   7485\n",
       "2      2016-04-18   7459\n",
       "3      2016-04-19   7990\n",
       "4      2016-04-24   7529\n",
       "5      2016-04-25   7028\n",
       "6      2016-04-26   7858\n",
       "7      2016-04-27   7949"
      ]
     },
     "metadata": {},
     "output_type": "display_data"
    },
    {
     "data": {
      "text/html": [
       "<div>\n",
       "<style scoped>\n",
       "    .dataframe tbody tr th:only-of-type {\n",
       "        vertical-align: middle;\n",
       "    }\n",
       "\n",
       "    .dataframe tbody tr th {\n",
       "        vertical-align: top;\n",
       "    }\n",
       "\n",
       "    .dataframe thead th {\n",
       "        text-align: right;\n",
       "    }\n",
       "</style>\n",
       "<table border=\"1\" class=\"dataframe\">\n",
       "  <thead>\n",
       "    <tr style=\"text-align: right;\">\n",
       "      <th></th>\n",
       "      <th>pickup_datetime</th>\n",
       "      <th>count</th>\n",
       "    </tr>\n",
       "  </thead>\n",
       "  <tbody>\n",
       "    <tr>\n",
       "      <th>0</th>\n",
       "      <td>2016-05-01</td>\n",
       "      <td>7964</td>\n",
       "    </tr>\n",
       "    <tr>\n",
       "      <th>1</th>\n",
       "      <td>2016-05-02</td>\n",
       "      <td>7344</td>\n",
       "    </tr>\n",
       "    <tr>\n",
       "      <th>2</th>\n",
       "      <td>2016-05-08</td>\n",
       "      <td>7801</td>\n",
       "    </tr>\n",
       "    <tr>\n",
       "      <th>3</th>\n",
       "      <td>2016-05-09</td>\n",
       "      <td>7174</td>\n",
       "    </tr>\n",
       "    <tr>\n",
       "      <th>4</th>\n",
       "      <td>2016-05-10</td>\n",
       "      <td>7789</td>\n",
       "    </tr>\n",
       "    <tr>\n",
       "      <th>5</th>\n",
       "      <td>2016-05-11</td>\n",
       "      <td>7941</td>\n",
       "    </tr>\n",
       "    <tr>\n",
       "      <th>6</th>\n",
       "      <td>2016-05-18</td>\n",
       "      <td>7971</td>\n",
       "    </tr>\n",
       "    <tr>\n",
       "      <th>7</th>\n",
       "      <td>2016-05-22</td>\n",
       "      <td>7745</td>\n",
       "    </tr>\n",
       "    <tr>\n",
       "      <th>8</th>\n",
       "      <td>2016-05-23</td>\n",
       "      <td>7300</td>\n",
       "    </tr>\n",
       "    <tr>\n",
       "      <th>9</th>\n",
       "      <td>2016-05-24</td>\n",
       "      <td>7762</td>\n",
       "    </tr>\n",
       "    <tr>\n",
       "      <th>10</th>\n",
       "      <td>2016-05-27</td>\n",
       "      <td>7530</td>\n",
       "    </tr>\n",
       "    <tr>\n",
       "      <th>11</th>\n",
       "      <td>2016-05-28</td>\n",
       "      <td>7004</td>\n",
       "    </tr>\n",
       "    <tr>\n",
       "      <th>12</th>\n",
       "      <td>2016-05-29</td>\n",
       "      <td>6372</td>\n",
       "    </tr>\n",
       "    <tr>\n",
       "      <th>13</th>\n",
       "      <td>2016-05-30</td>\n",
       "      <td>5570</td>\n",
       "    </tr>\n",
       "    <tr>\n",
       "      <th>14</th>\n",
       "      <td>2016-05-31</td>\n",
       "      <td>7131</td>\n",
       "    </tr>\n",
       "  </tbody>\n",
       "</table>\n",
       "</div>"
      ],
      "text/plain": [
       "   pickup_datetime  count\n",
       "0       2016-05-01   7964\n",
       "1       2016-05-02   7344\n",
       "2       2016-05-08   7801\n",
       "3       2016-05-09   7174\n",
       "4       2016-05-10   7789\n",
       "5       2016-05-11   7941\n",
       "6       2016-05-18   7971\n",
       "7       2016-05-22   7745\n",
       "8       2016-05-23   7300\n",
       "9       2016-05-24   7762\n",
       "10      2016-05-27   7530\n",
       "11      2016-05-28   7004\n",
       "12      2016-05-29   6372\n",
       "13      2016-05-30   5570\n",
       "14      2016-05-31   7131"
      ]
     },
     "metadata": {},
     "output_type": "display_data"
    },
    {
     "data": {
      "text/html": [
       "<div>\n",
       "<style scoped>\n",
       "    .dataframe tbody tr th:only-of-type {\n",
       "        vertical-align: middle;\n",
       "    }\n",
       "\n",
       "    .dataframe tbody tr th {\n",
       "        vertical-align: top;\n",
       "    }\n",
       "\n",
       "    .dataframe thead th {\n",
       "        text-align: right;\n",
       "    }\n",
       "</style>\n",
       "<table border=\"1\" class=\"dataframe\">\n",
       "  <thead>\n",
       "    <tr style=\"text-align: right;\">\n",
       "      <th></th>\n",
       "      <th>pickup_datetime</th>\n",
       "      <th>count</th>\n",
       "    </tr>\n",
       "  </thead>\n",
       "  <tbody>\n",
       "    <tr>\n",
       "      <th>0</th>\n",
       "      <td>2016-06-01</td>\n",
       "      <td>7943</td>\n",
       "    </tr>\n",
       "    <tr>\n",
       "      <th>1</th>\n",
       "      <td>2016-06-05</td>\n",
       "      <td>7589</td>\n",
       "    </tr>\n",
       "    <tr>\n",
       "      <th>2</th>\n",
       "      <td>2016-06-06</td>\n",
       "      <td>7399</td>\n",
       "    </tr>\n",
       "    <tr>\n",
       "      <th>3</th>\n",
       "      <td>2016-06-07</td>\n",
       "      <td>7852</td>\n",
       "    </tr>\n",
       "    <tr>\n",
       "      <th>4</th>\n",
       "      <td>2016-06-08</td>\n",
       "      <td>8014</td>\n",
       "    </tr>\n",
       "    <tr>\n",
       "      <th>5</th>\n",
       "      <td>2016-06-12</td>\n",
       "      <td>7112</td>\n",
       "    </tr>\n",
       "    <tr>\n",
       "      <th>6</th>\n",
       "      <td>2016-06-13</td>\n",
       "      <td>7114</td>\n",
       "    </tr>\n",
       "    <tr>\n",
       "      <th>7</th>\n",
       "      <td>2016-06-14</td>\n",
       "      <td>7654</td>\n",
       "    </tr>\n",
       "    <tr>\n",
       "      <th>8</th>\n",
       "      <td>2016-06-18</td>\n",
       "      <td>7662</td>\n",
       "    </tr>\n",
       "    <tr>\n",
       "      <th>9</th>\n",
       "      <td>2016-06-19</td>\n",
       "      <td>6962</td>\n",
       "    </tr>\n",
       "    <tr>\n",
       "      <th>10</th>\n",
       "      <td>2016-06-20</td>\n",
       "      <td>6910</td>\n",
       "    </tr>\n",
       "    <tr>\n",
       "      <th>11</th>\n",
       "      <td>2016-06-21</td>\n",
       "      <td>7782</td>\n",
       "    </tr>\n",
       "    <tr>\n",
       "      <th>12</th>\n",
       "      <td>2016-06-22</td>\n",
       "      <td>7811</td>\n",
       "    </tr>\n",
       "    <tr>\n",
       "      <th>13</th>\n",
       "      <td>2016-06-26</td>\n",
       "      <td>7084</td>\n",
       "    </tr>\n",
       "    <tr>\n",
       "      <th>14</th>\n",
       "      <td>2016-06-27</td>\n",
       "      <td>7311</td>\n",
       "    </tr>\n",
       "    <tr>\n",
       "      <th>15</th>\n",
       "      <td>2016-06-28</td>\n",
       "      <td>7253</td>\n",
       "    </tr>\n",
       "    <tr>\n",
       "      <th>16</th>\n",
       "      <td>2016-06-29</td>\n",
       "      <td>7623</td>\n",
       "    </tr>\n",
       "    <tr>\n",
       "      <th>17</th>\n",
       "      <td>2016-06-30</td>\n",
       "      <td>7588</td>\n",
       "    </tr>\n",
       "  </tbody>\n",
       "</table>\n",
       "</div>"
      ],
      "text/plain": [
       "   pickup_datetime  count\n",
       "0       2016-06-01   7943\n",
       "1       2016-06-05   7589\n",
       "2       2016-06-06   7399\n",
       "3       2016-06-07   7852\n",
       "4       2016-06-08   8014\n",
       "5       2016-06-12   7112\n",
       "6       2016-06-13   7114\n",
       "7       2016-06-14   7654\n",
       "8       2016-06-18   7662\n",
       "9       2016-06-19   6962\n",
       "10      2016-06-20   6910\n",
       "11      2016-06-21   7782\n",
       "12      2016-06-22   7811\n",
       "13      2016-06-26   7084\n",
       "14      2016-06-27   7311\n",
       "15      2016-06-28   7253\n",
       "16      2016-06-29   7623\n",
       "17      2016-06-30   7588"
      ]
     },
     "metadata": {},
     "output_type": "display_data"
    }
   ],
   "source": [
    "# dates where the pickups were below average for each month as compared to the daily average\n",
    "\n",
    "temp_df = daily_avg_dates[daily_avg_dates < daily_pickups_mean].reset_index().sort_values('pickup_datetime')\n",
    "\n",
    "temp_df['pickup_datetime'] = pd.to_datetime(temp_df['pickup_datetime'])\n",
    "temp_df['month'] = temp_df['pickup_datetime'].dt.month\n",
    "\n",
    "for month in np.sort(train_df_new['pickup_month'].unique()):\n",
    "    filter_month = temp_df['month'] == month\n",
    "    display(temp_df.loc[filter_month,['pickup_datetime','count']].reset_index(drop=True))"
   ]
  },
  {
   "cell_type": "code",
   "execution_count": 48,
   "id": "d75e279e",
   "metadata": {
    "execution": {
     "iopub.execute_input": "2024-01-21T13:08:33.137693Z",
     "iopub.status.busy": "2024-01-21T13:08:33.136587Z",
     "iopub.status.idle": "2024-01-21T13:08:33.146052Z",
     "shell.execute_reply": "2024-01-21T13:08:33.145202Z"
    },
    "papermill": {
     "duration": 0.052055,
     "end_time": "2024-01-21T13:08:33.148230",
     "exception": false,
     "start_time": "2024-01-21T13:08:33.096175",
     "status": "completed"
    },
    "tags": []
   },
   "outputs": [
    {
     "data": {
      "text/plain": [
       "pickup_date\n",
       "23    1648\n",
       "24    3383\n",
       "25    6084\n",
       "26    6941\n",
       "27    7571\n",
       "20    8018\n",
       "28    8066\n",
       "21    8375\n",
       "29    8735\n",
       "22    8805\n",
       "30    9166\n",
       "Name: count, dtype: int64"
      ]
     },
     "execution_count": 48,
     "metadata": {},
     "output_type": "execute_result"
    }
   ],
   "source": [
    "ban_df['pickup_date'] \\\n",
    ".value_counts() \\\n",
    ".sort_values() "
   ]
  },
  {
   "cell_type": "code",
   "execution_count": 49,
   "id": "f49d4f56",
   "metadata": {
    "execution": {
     "iopub.execute_input": "2024-01-21T13:08:33.227870Z",
     "iopub.status.busy": "2024-01-21T13:08:33.226794Z",
     "iopub.status.idle": "2024-01-21T13:08:33.242046Z",
     "shell.execute_reply": "2024-01-21T13:08:33.241267Z"
    },
    "papermill": {
     "duration": 0.057138,
     "end_time": "2024-01-21T13:08:33.244302",
     "exception": false,
     "start_time": "2024-01-21T13:08:33.187164",
     "status": "completed"
    },
    "tags": []
   },
   "outputs": [
    {
     "data": {
      "text/plain": [
       "array([3, 6, 1, 4, 5, 2], dtype=int32)"
      ]
     },
     "execution_count": 49,
     "metadata": {},
     "output_type": "execute_result"
    }
   ],
   "source": [
    "train_df_new['pickup_month'].unique()"
   ]
  },
  {
   "cell_type": "code",
   "execution_count": 50,
   "id": "c06efb21",
   "metadata": {
    "execution": {
     "iopub.execute_input": "2024-01-21T13:08:33.324300Z",
     "iopub.status.busy": "2024-01-21T13:08:33.323085Z",
     "iopub.status.idle": "2024-01-21T13:08:33.332913Z",
     "shell.execute_reply": "2024-01-21T13:08:33.331497Z"
    },
    "papermill": {
     "duration": 0.051903,
     "end_time": "2024-01-21T13:08:33.335177",
     "exception": false,
     "start_time": "2024-01-21T13:08:33.283274",
     "status": "completed"
    },
    "tags": []
   },
   "outputs": [
    {
     "name": "stdout",
     "output_type": "stream",
     "text": [
      "Number of Pickups on banned days are 5031\n"
     ]
    }
   ],
   "source": [
    "# number of pickups on travel ban days ie. 23rd & 24th Jan,2016\n",
    "\n",
    "ban_pickups = ban_df['pickup_date'] \\\n",
    ".value_counts() \\\n",
    ".sort_values()\n",
    "\n",
    "print(f'Number of Pickups on banned days are {ban_pickups[[23,24]].sum()}')"
   ]
  },
  {
   "cell_type": "markdown",
   "id": "28d191a2",
   "metadata": {
    "papermill": {
     "duration": 0.039137,
     "end_time": "2024-01-21T13:08:33.413397",
     "exception": false,
     "start_time": "2024-01-21T13:08:33.374260",
     "status": "completed"
    },
    "tags": []
   },
   "source": [
    "**Instead of the travel ban there were passengers taking cabs may be due to some emergency trips to the local hospital or to the airport for some reason**\n",
    "\n",
    "More investigation has to be done to see what is the actual reason behind these travels instaed of a travel ban"
   ]
  },
  {
   "cell_type": "code",
   "execution_count": 51,
   "id": "62a422f5",
   "metadata": {
    "execution": {
     "iopub.execute_input": "2024-01-21T13:08:33.492141Z",
     "iopub.status.busy": "2024-01-21T13:08:33.491698Z",
     "iopub.status.idle": "2024-01-21T13:08:33.549129Z",
     "shell.execute_reply": "2024-01-21T13:08:33.548171Z"
    },
    "papermill": {
     "duration": 0.10014,
     "end_time": "2024-01-21T13:08:33.551780",
     "exception": false,
     "start_time": "2024-01-21T13:08:33.451640",
     "status": "completed"
    },
    "tags": []
   },
   "outputs": [],
   "source": [
    "# borders of nyc \n",
    "\n",
    "latitude_coord = train_df_new['pickup_latitude'].quantile([0.01,0.99]).sort_values(ascending=False).values + np.array([0.05,-0.05])\n",
    "                                                                                                                                                                                                                             \n",
    "longitude_coord = train_df_new['pickup_longitude'].quantile([0.01,0.99]).sort_values(ascending=False).values + np.array([0.1,-0.1])"
   ]
  },
  {
   "cell_type": "code",
   "execution_count": 52,
   "id": "f391104e",
   "metadata": {
    "execution": {
     "iopub.execute_input": "2024-01-21T13:08:33.630583Z",
     "iopub.status.busy": "2024-01-21T13:08:33.630184Z",
     "iopub.status.idle": "2024-01-21T13:08:33.637078Z",
     "shell.execute_reply": "2024-01-21T13:08:33.635993Z"
    },
    "papermill": {
     "duration": 0.049175,
     "end_time": "2024-01-21T13:08:33.639321",
     "exception": false,
     "start_time": "2024-01-21T13:08:33.590146",
     "status": "completed"
    },
    "tags": []
   },
   "outputs": [
    {
     "data": {
      "text/plain": [
       "array([-73.68222656, -74.11431709])"
      ]
     },
     "execution_count": 52,
     "metadata": {},
     "output_type": "execute_result"
    }
   ],
   "source": [
    "longitude_coord"
   ]
  },
  {
   "cell_type": "code",
   "execution_count": 53,
   "id": "54cad7de",
   "metadata": {
    "execution": {
     "iopub.execute_input": "2024-01-21T13:08:33.719444Z",
     "iopub.status.busy": "2024-01-21T13:08:33.719052Z",
     "iopub.status.idle": "2024-01-21T13:08:33.724409Z",
     "shell.execute_reply": "2024-01-21T13:08:33.723669Z"
    },
    "papermill": {
     "duration": 0.048053,
     "end_time": "2024-01-21T13:08:33.726967",
     "exception": false,
     "start_time": "2024-01-21T13:08:33.678914",
     "status": "completed"
    },
    "tags": []
   },
   "outputs": [
    {
     "data": {
      "text/plain": [
       "array([40.85659866, 40.59482498])"
      ]
     },
     "execution_count": 53,
     "metadata": {},
     "output_type": "execute_result"
    }
   ],
   "source": [
    "latitude_coord"
   ]
  },
  {
   "cell_type": "code",
   "execution_count": 54,
   "id": "3a042c88",
   "metadata": {
    "execution": {
     "iopub.execute_input": "2024-01-21T13:08:33.806538Z",
     "iopub.status.busy": "2024-01-21T13:08:33.805909Z",
     "iopub.status.idle": "2024-01-21T13:08:34.303842Z",
     "shell.execute_reply": "2024-01-21T13:08:34.302780Z"
    },
    "papermill": {
     "duration": 0.54117,
     "end_time": "2024-01-21T13:08:34.306921",
     "exception": false,
     "start_time": "2024-01-21T13:08:33.765751",
     "status": "completed"
    },
    "tags": []
   },
   "outputs": [
    {
     "data": {
      "image/png": "[encoded data removed]",
      "text/plain": [
       "<Figure size 1500x600 with 2 Axes>"
      ]
     },
     "metadata": {},
     "output_type": "display_data"
    }
   ],
   "source": [
    "# heatmap of the pickups and dropoffs during the travel ban\n",
    "\n",
    "ban_df = ban_df.loc[ban_df['pickup_date'].isin([23,24])]\n",
    "\n",
    "fig,ax = plt.subplots(nrows=1,ncols=2,sharey=True,\n",
    "                     figsize=(15,6))\n",
    "\n",
    "ax[0].set_facecolor('k')\n",
    "ax[0].scatter(ban_df['pickup_latitude'],ban_df['pickup_longitude'],s=0.1,color='yellow')\n",
    "ax[0].set_ylim(longitude_coord)\n",
    "ax[0].set_xlim(latitude_coord)\n",
    "ax[0].set_title('Heatmap for Pickups')\n",
    "ax[0].set_xlabel('Latitude')\n",
    "ax[0].set_ylabel('Longitude')\n",
    "\n",
    "ax[1].set_facecolor('k')\n",
    "ax[1].scatter(ban_df['dropoff_latitude'],ban_df['dropoff_longitude'],s=0.1,color='yellow')\n",
    "ax[1].set_ylim(longitude_coord)\n",
    "ax[1].set_xlim(latitude_coord)\n",
    "ax[1].set_title('Heatmap for Dropoffs')\n",
    "ax[1].set_xlabel('Latitude')\n",
    "ax[1].set_ylabel('Longitude')\n",
    "\n",
    "plt.show()"
   ]
  },
  {
   "cell_type": "code",
   "execution_count": 55,
   "id": "6a9fc527",
   "metadata": {
    "execution": {
     "iopub.execute_input": "2024-01-21T13:08:34.390193Z",
     "iopub.status.busy": "2024-01-21T13:08:34.389718Z",
     "iopub.status.idle": "2024-01-21T13:08:34.686932Z",
     "shell.execute_reply": "2024-01-21T13:08:34.685446Z"
    },
    "papermill": {
     "duration": 0.343401,
     "end_time": "2024-01-21T13:08:34.690902",
     "exception": false,
     "start_time": "2024-01-21T13:08:34.347501",
     "status": "completed"
    },
    "tags": []
   },
   "outputs": [
    {
     "data": {
      "image/png": "[encoded data removed]",
      "text/plain": [
       "<Figure size 640x480 with 1 Axes>"
      ]
     },
     "metadata": {},
     "output_type": "display_data"
    }
   ],
   "source": [
    "# count of total pickups each month\n",
    "\n",
    "sns.countplot(data=train_df_new,x='pickup_month')\n",
    "plt.show()"
   ]
  },
  {
   "cell_type": "code",
   "execution_count": 56,
   "id": "7a566ae5",
   "metadata": {
    "execution": {
     "iopub.execute_input": "2024-01-21T13:08:34.775465Z",
     "iopub.status.busy": "2024-01-21T13:08:34.774393Z",
     "iopub.status.idle": "2024-01-21T13:08:35.020012Z",
     "shell.execute_reply": "2024-01-21T13:08:35.018971Z"
    },
    "papermill": {
     "duration": 0.290256,
     "end_time": "2024-01-21T13:08:35.022579",
     "exception": false,
     "start_time": "2024-01-21T13:08:34.732323",
     "status": "completed"
    },
    "tags": []
   },
   "outputs": [
    {
     "data": {
      "image/png": "[encoded data removed]",
      "text/plain": [
       "<Figure size 640x480 with 1 Axes>"
      ]
     },
     "metadata": {},
     "output_type": "display_data"
    }
   ],
   "source": [
    "# pickups month wise in sorted order\n",
    "\n",
    "train_df_new['pickup_month'] \\\n",
    ".value_counts() \\\n",
    ".sort_values(ascending=False)\\\n",
    ".plot(kind='bar')\n",
    "\n",
    "plt.show()"
   ]
  },
  {
   "cell_type": "markdown",
   "id": "2dbb6fae",
   "metadata": {
    "papermill": {
     "duration": 0.043111,
     "end_time": "2024-01-21T13:08:35.108806",
     "exception": false,
     "start_time": "2024-01-21T13:08:35.065695",
     "status": "completed"
    },
    "tags": []
   },
   "source": [
    "- Less Number of pickups in the month of January can be related to weather events like snow, heavy blizzards or festive season.\n",
    "- The other reason is that during festive season can drivers in New York expect heavier tips from the passengers, so passengers try to avoid taking can services and only take when required."
   ]
  },
  {
   "cell_type": "code",
   "execution_count": 57,
   "id": "211cd53f",
   "metadata": {
    "execution": {
     "iopub.execute_input": "2024-01-21T13:08:35.194953Z",
     "iopub.status.busy": "2024-01-21T13:08:35.194545Z",
     "iopub.status.idle": "2024-01-21T13:08:35.817873Z",
     "shell.execute_reply": "2024-01-21T13:08:35.816755Z"
    },
    "papermill": {
     "duration": 0.669684,
     "end_time": "2024-01-21T13:08:35.820367",
     "exception": false,
     "start_time": "2024-01-21T13:08:35.150683",
     "status": "completed"
    },
    "tags": []
   },
   "outputs": [
    {
     "data": {
      "image/png": "[encoded data removed]",
      "text/plain": [
       "<Figure size 640x480 with 1 Axes>"
      ]
     },
     "metadata": {},
     "output_type": "display_data"
    }
   ],
   "source": [
    "# rush hours for taxi pickups\n",
    "\n",
    "sns.countplot(data=train_df_new,x='pickup_hour')\n",
    "plt.show()"
   ]
  },
  {
   "cell_type": "markdown",
   "id": "71f2cd6b",
   "metadata": {
    "papermill": {
     "duration": 0.041591,
     "end_time": "2024-01-21T13:08:35.904227",
     "exception": false,
     "start_time": "2024-01-21T13:08:35.862636",
     "status": "completed"
    },
    "tags": []
   },
   "source": [
    "**Things to note**:\n",
    "1. Cab pickups reduce after midnight and pickup pace after daybreak around 6am.\n",
    "2. Pickups reach peak at 8am and then stabilize till 3pm.\n",
    "3. Again the pickups gain strength around 6pm till 10pm at night"
   ]
  },
  {
   "cell_type": "code",
   "execution_count": 58,
   "id": "6de27429",
   "metadata": {
    "execution": {
     "iopub.execute_input": "2024-01-21T13:08:35.991086Z",
     "iopub.status.busy": "2024-01-21T13:08:35.990694Z",
     "iopub.status.idle": "2024-01-21T13:08:36.268548Z",
     "shell.execute_reply": "2024-01-21T13:08:36.267411Z"
    },
    "papermill": {
     "duration": 0.325961,
     "end_time": "2024-01-21T13:08:36.272307",
     "exception": false,
     "start_time": "2024-01-21T13:08:35.946346",
     "status": "completed"
    },
    "tags": []
   },
   "outputs": [
    {
     "data": {
      "image/png": "[encoded data removed]",
      "text/plain": [
       "<Figure size 640x480 with 1 Axes>"
      ]
     },
     "metadata": {},
     "output_type": "display_data"
    }
   ],
   "source": [
    "# rush hours divided into 3 clusters. (high rush, avg rush, low rush)\n",
    "\n",
    "cluster_input = train_df_new['pickup_hour'] \\\n",
    ".value_counts() \\\n",
    ".sort_index() \\\n",
    ".reset_index()\n",
    "\n",
    "cluster_input.plot(x='pickup_hour',y='count',kind='scatter')\n",
    "\n",
    "plt.show()"
   ]
  },
  {
   "cell_type": "markdown",
   "id": "1b8cb066",
   "metadata": {
    "papermill": {
     "duration": 0.042249,
     "end_time": "2024-01-21T13:08:36.357503",
     "exception": false,
     "start_time": "2024-01-21T13:08:36.315254",
     "status": "completed"
    },
    "tags": []
   },
   "source": [
    "#### Agglomerative Clustering"
   ]
  },
  {
   "cell_type": "code",
   "execution_count": 59,
   "id": "ac1a8e9d",
   "metadata": {
    "execution": {
     "iopub.execute_input": "2024-01-21T13:08:36.446664Z",
     "iopub.status.busy": "2024-01-21T13:08:36.445988Z",
     "iopub.status.idle": "2024-01-21T13:08:36.928082Z",
     "shell.execute_reply": "2024-01-21T13:08:36.926939Z"
    },
    "papermill": {
     "duration": 0.528143,
     "end_time": "2024-01-21T13:08:36.930439",
     "exception": false,
     "start_time": "2024-01-21T13:08:36.402296",
     "status": "completed"
    },
    "tags": []
   },
   "outputs": [
    {
     "data": {
      "image/png": "[encoded data removed]",
      "text/plain": [
       "<Figure size 640x480 with 1 Axes>"
      ]
     },
     "metadata": {},
     "output_type": "display_data"
    }
   ],
   "source": [
    "# plot the dendrogram\n",
    "\n",
    "from scipy.cluster.hierarchy import dendrogram,linkage\n",
    "\n",
    "clustering = linkage(y=cluster_input.values,method='single')\n",
    "\n",
    "dendrogram(clustering)\n",
    "plt.show()"
   ]
  },
  {
   "cell_type": "code",
   "execution_count": 60,
   "id": "e3d7d048",
   "metadata": {
    "execution": {
     "iopub.execute_input": "2024-01-21T13:08:37.019744Z",
     "iopub.status.busy": "2024-01-21T13:08:37.019070Z",
     "iopub.status.idle": "2024-01-21T13:08:37.535129Z",
     "shell.execute_reply": "2024-01-21T13:08:37.534154Z"
    },
    "papermill": {
     "duration": 0.564108,
     "end_time": "2024-01-21T13:08:37.537671",
     "exception": false,
     "start_time": "2024-01-21T13:08:36.973563",
     "status": "completed"
    },
    "tags": []
   },
   "outputs": [
    {
     "data": {
      "text/html": [
       "<style>#sk-container-id-1 {color: black;background-color: white;}#sk-container-id-1 pre{padding: 0;}#sk-container-id-1 div.sk-toggleable {background-color: white;}#sk-container-id-1 label.sk-toggleable__label {cursor: pointer;display: block;width: 100%;margin-bottom: 0;padding: 0.3em;box-sizing: border-box;text-align: center;}#sk-container-id-1 label.sk-toggleable__label-arrow:before {content: \"▸\";float: left;margin-right: 0.25em;color: #696969;}#sk-container-id-1 label.sk-toggleable__label-arrow:hover:before {color: black;}#sk-container-id-1 div.sk-estimator:hover label.sk-toggleable__label-arrow:before {color: black;}#sk-container-id-1 div.sk-toggleable__content {max-height: 0;max-width: 0;overflow: hidden;text-align: left;background-color: #f0f8ff;}#sk-container-id-1 div.sk-toggleable__content pre {margin: 0.2em;color: black;border-radius: 0.25em;background-color: #f0f8ff;}#sk-container-id-1 input.sk-toggleable__control:checked~div.sk-toggleable__content {max-height: 200px;max-width: 100%;overflow: auto;}#sk-container-id-1 input.sk-toggleable__control:checked~label.sk-toggleable__label-arrow:before {content: \"▾\";}#sk-container-id-1 div.sk-estimator input.sk-toggleable__control:checked~label.sk-toggleable__label {background-color: #d4ebff;}#sk-container-id-1 div.sk-label input.sk-toggleable__control:checked~label.sk-toggleable__label {background-color: #d4ebff;}#sk-container-id-1 input.sk-hidden--visually {border: 0;clip: rect(1px 1px 1px 1px);clip: rect(1px, 1px, 1px, 1px);height: 1px;margin: -1px;overflow: hidden;padding: 0;position: absolute;width: 1px;}#sk-container-id-1 div.sk-estimator {font-family: monospace;background-color: #f0f8ff;border: 1px dotted black;border-radius: 0.25em;box-sizing: border-box;margin-bottom: 0.5em;}#sk-container-id-1 div.sk-estimator:hover {background-color: #d4ebff;}#sk-container-id-1 div.sk-parallel-item::after {content: \"\";width: 100%;border-bottom: 1px solid gray;flex-grow: 1;}#sk-container-id-1 div.sk-label:hover label.sk-toggleable__label {background-color: #d4ebff;}#sk-container-id-1 div.sk-serial::before {content: \"\";position: absolute;border-left: 1px solid gray;box-sizing: border-box;top: 0;bottom: 0;left: 50%;z-index: 0;}#sk-container-id-1 div.sk-serial {display: flex;flex-direction: column;align-items: center;background-color: white;padding-right: 0.2em;padding-left: 0.2em;position: relative;}#sk-container-id-1 div.sk-item {position: relative;z-index: 1;}#sk-container-id-1 div.sk-parallel {display: flex;align-items: stretch;justify-content: center;background-color: white;position: relative;}#sk-container-id-1 div.sk-item::before, #sk-container-id-1 div.sk-parallel-item::before {content: \"\";position: absolute;border-left: 1px solid gray;box-sizing: border-box;top: 0;bottom: 0;left: 50%;z-index: -1;}#sk-container-id-1 div.sk-parallel-item {display: flex;flex-direction: column;z-index: 1;position: relative;background-color: white;}#sk-container-id-1 div.sk-parallel-item:first-child::after {align-self: flex-end;width: 50%;}#sk-container-id-1 div.sk-parallel-item:last-child::after {align-self: flex-start;width: 50%;}#sk-container-id-1 div.sk-parallel-item:only-child::after {width: 0;}#sk-container-id-1 div.sk-dashed-wrapped {border: 1px dashed gray;margin: 0 0.4em 0.5em 0.4em;box-sizing: border-box;padding-bottom: 0.4em;background-color: white;}#sk-container-id-1 div.sk-label label {font-family: monospace;font-weight: bold;display: inline-block;line-height: 1.2em;}#sk-container-id-1 div.sk-label-container {text-align: center;}#sk-container-id-1 div.sk-container {/* jupyter's `normalize.less` sets `[hidden] { display: none; }` but bootstrap.min.css set `[hidden] { display: none !important; }` so we also need the `!important` here to be able to override the default hidden behavior on the sphinx rendered scikit-learn.org. See: https://github.com/scikit-learn/scikit-learn/issues/21755 */display: inline-block !important;position: relative;}#sk-container-id-1 div.sk-text-repr-fallback {display: none;}</style><div id=\"sk-container-id-1\" class=\"sk-top-container\"><div class=\"sk-text-repr-fallback\"><pre>AgglomerativeClustering(linkage=&#x27;single&#x27;, metric=&#x27;euclidean&#x27;)</pre><b>In a Jupyter environment, please rerun this cell to show the HTML representation or trust the notebook. <br />On GitHub, the HTML representation is unable to render, please try loading this page with nbviewer.org.</b></div><div class=\"sk-container\" hidden><div class=\"sk-item\"><div class=\"sk-estimator sk-toggleable\"><input class=\"sk-toggleable__control sk-hidden--visually\" id=\"sk-estimator-id-1\" type=\"checkbox\" checked><label for=\"sk-estimator-id-1\" class=\"sk-toggleable__label sk-toggleable__label-arrow\">AgglomerativeClustering</label><div class=\"sk-toggleable__content\"><pre>AgglomerativeClustering(linkage=&#x27;single&#x27;, metric=&#x27;euclidean&#x27;)</pre></div></div></div></div></div>"
      ],
      "text/plain": [
       "AgglomerativeClustering(linkage='single', metric='euclidean')"
      ]
     },
     "execution_count": 60,
     "metadata": {},
     "output_type": "execute_result"
    }
   ],
   "source": [
    "from sklearn.cluster import AgglomerativeClustering, KMeans\n",
    "\n",
    "agglo = AgglomerativeClustering(n_clusters=2,linkage='single',\n",
    "                                metric='euclidean')\n",
    "\n",
    "agglo"
   ]
  },
  {
   "cell_type": "code",
   "execution_count": 61,
   "id": "331b8b2f",
   "metadata": {
    "execution": {
     "iopub.execute_input": "2024-01-21T13:08:37.627068Z",
     "iopub.status.busy": "2024-01-21T13:08:37.626666Z",
     "iopub.status.idle": "2024-01-21T13:08:37.966982Z",
     "shell.execute_reply": "2024-01-21T13:08:37.966178Z"
    },
    "papermill": {
     "duration": 0.387978,
     "end_time": "2024-01-21T13:08:37.969411",
     "exception": false,
     "start_time": "2024-01-21T13:08:37.581433",
     "status": "completed"
    },
    "tags": []
   },
   "outputs": [
    {
     "data": {
      "image/png": "[encoded data removed]",
      "text/plain": [
       "<Figure size 640x480 with 1 Axes>"
      ]
     },
     "metadata": {},
     "output_type": "display_data"
    }
   ],
   "source": [
    "# plot the clusters\n",
    "predictions = agglo.fit_predict(cluster_input)\n",
    "sns.scatterplot(data=cluster_input,\n",
    "                x='pickup_hour',y='count',\n",
    "                hue=np.where(predictions == 0,'High Rush Hour','Low Rush Hour'))\n",
    "plt.show()"
   ]
  },
  {
   "cell_type": "markdown",
   "id": "67858895",
   "metadata": {
    "papermill": {
     "duration": 0.043798,
     "end_time": "2024-01-21T13:08:38.058522",
     "exception": false,
     "start_time": "2024-01-21T13:08:38.014724",
     "status": "completed"
    },
    "tags": []
   },
   "source": [
    "#### KMeans Clustering"
   ]
  },
  {
   "cell_type": "code",
   "execution_count": 62,
   "id": "134da19f",
   "metadata": {
    "execution": {
     "iopub.execute_input": "2024-01-21T13:08:38.151631Z",
     "iopub.status.busy": "2024-01-21T13:08:38.150906Z",
     "iopub.status.idle": "2024-01-21T13:08:38.155568Z",
     "shell.execute_reply": "2024-01-21T13:08:38.154411Z"
    },
    "papermill": {
     "duration": 0.054296,
     "end_time": "2024-01-21T13:08:38.157996",
     "exception": false,
     "start_time": "2024-01-21T13:08:38.103700",
     "status": "completed"
    },
    "tags": []
   },
   "outputs": [],
   "source": [
    "from sklearn.metrics import silhouette_score"
   ]
  },
  {
   "cell_type": "code",
   "execution_count": 63,
   "id": "dcb53125",
   "metadata": {
    "execution": {
     "iopub.execute_input": "2024-01-21T13:08:38.250423Z",
     "iopub.status.busy": "2024-01-21T13:08:38.249705Z",
     "iopub.status.idle": "2024-01-21T13:08:38.714643Z",
     "shell.execute_reply": "2024-01-21T13:08:38.713427Z"
    },
    "papermill": {
     "duration": 0.514233,
     "end_time": "2024-01-21T13:08:38.717249",
     "exception": false,
     "start_time": "2024-01-21T13:08:38.203016",
     "status": "completed"
    },
    "tags": []
   },
   "outputs": [
    {
     "name": "stdout",
     "output_type": "stream",
     "text": [
      "The silhouette score for 2 clusters is 0.730999345100762\n",
      "The silhouette score for 3 clusters is 0.6041879661284338\n",
      "The silhouette score for 4 clusters is 0.6015263924638993\n",
      "The silhouette score for 5 clusters is 0.643595821618139\n",
      "The silhouette score for 6 clusters is 0.5882669538095738\n"
     ]
    },
    {
     "data": {
      "image/png": "[encoded data removed]",
      "text/plain": [
       "<Figure size 640x480 with 1 Axes>"
      ]
     },
     "metadata": {},
     "output_type": "display_data"
    }
   ],
   "source": [
    "# elbow plot for the clusters along with silhouette score\n",
    "\n",
    "n_clusters= [1,2,3,4,5,6]\n",
    "inertia_kmeans = []\n",
    "\n",
    "for n in n_clusters:\n",
    "    kmeans = KMeans(n_clusters=n,n_init=10,max_iter=50)\n",
    "    # fit on the data\n",
    "    predictions = kmeans.fit_predict(cluster_input)\n",
    "    # append the wcss in the list\n",
    "    inertia_kmeans.append(kmeans.inertia_)\n",
    "    # calculate the silhouette score\n",
    "    if n < 2:\n",
    "        continue\n",
    "    else:\n",
    "        score = silhouette_score(X=cluster_input,labels=predictions)\n",
    "        print(f'The silhouette score for {n} clusters is {score}')\n",
    "    \n",
    "# plot the elcow curve\n",
    "plt.plot(n_clusters,inertia_kmeans,color='red')\n",
    "plt.title('Elbow Curve')\n",
    "plt.xlabel('Number of Clusters')\n",
    "plt.ylabel('WCSS')\n",
    "\n",
    "plt.show()"
   ]
  },
  {
   "cell_type": "code",
   "execution_count": 64,
   "id": "431c358d",
   "metadata": {
    "execution": {
     "iopub.execute_input": "2024-01-21T13:08:38.808161Z",
     "iopub.status.busy": "2024-01-21T13:08:38.807673Z",
     "iopub.status.idle": "2024-01-21T13:08:38.813142Z",
     "shell.execute_reply": "2024-01-21T13:08:38.811860Z"
    },
    "papermill": {
     "duration": 0.053745,
     "end_time": "2024-01-21T13:08:38.815740",
     "exception": false,
     "start_time": "2024-01-21T13:08:38.761995",
     "status": "completed"
    },
    "tags": []
   },
   "outputs": [],
   "source": [
    "from sklearn.cluster import KMeans"
   ]
  },
  {
   "cell_type": "code",
   "execution_count": 65,
   "id": "ebb9b275",
   "metadata": {
    "execution": {
     "iopub.execute_input": "2024-01-21T13:08:38.906854Z",
     "iopub.status.busy": "2024-01-21T13:08:38.906449Z",
     "iopub.status.idle": "2024-01-21T13:08:38.924595Z",
     "shell.execute_reply": "2024-01-21T13:08:38.923617Z"
    },
    "papermill": {
     "duration": 0.066903,
     "end_time": "2024-01-21T13:08:38.927281",
     "exception": false,
     "start_time": "2024-01-21T13:08:38.860378",
     "status": "completed"
    },
    "tags": []
   },
   "outputs": [],
   "source": [
    "# train kmeans for 2 clusters\n",
    "\n",
    "kmeans = KMeans(n_clusters=2,n_init=10,max_iter=50)\n",
    "\n",
    "# get the predictions\n",
    "predictions = kmeans.fit_predict(cluster_input)"
   ]
  },
  {
   "cell_type": "code",
   "execution_count": 66,
   "id": "02c409d3",
   "metadata": {
    "execution": {
     "iopub.execute_input": "2024-01-21T13:08:39.022456Z",
     "iopub.status.busy": "2024-01-21T13:08:39.022005Z",
     "iopub.status.idle": "2024-01-21T13:08:39.369622Z",
     "shell.execute_reply": "2024-01-21T13:08:39.368428Z"
    },
    "papermill": {
     "duration": 0.398267,
     "end_time": "2024-01-21T13:08:39.372042",
     "exception": false,
     "start_time": "2024-01-21T13:08:38.973775",
     "status": "completed"
    },
    "tags": []
   },
   "outputs": [
    {
     "data": {
      "image/png": "[encoded data removed]",
      "text/plain": [
       "<Figure size 640x480 with 1 Axes>"
      ]
     },
     "metadata": {},
     "output_type": "display_data"
    }
   ],
   "source": [
    "# get the centroids and plot on the curve\n",
    "cluster_centroids = kmeans.cluster_centers_\n",
    "# plot the scatter plot\n",
    "sns.scatterplot(data=cluster_input,\n",
    "                x='pickup_hour',y='count',\n",
    "                hue=np.where(predictions == 0,'High Rush Hour','Low Rush Hour'))\n",
    "#plt.scatter(cluster_input['pickup_hour'],cluster_input['count'],c=predictions)\n",
    "# plot the cluster centroids\n",
    "plt.scatter(cluster_centroids[:,0],cluster_centroids[:,1],marker='+',s=60,c='k',label='Avg Pickups')\n",
    "plt.legend()\n",
    "plt.show()"
   ]
  },
  {
   "cell_type": "code",
   "execution_count": 67,
   "id": "e3f671b1",
   "metadata": {
    "execution": {
     "iopub.execute_input": "2024-01-21T13:08:39.467895Z",
     "iopub.status.busy": "2024-01-21T13:08:39.467087Z",
     "iopub.status.idle": "2024-01-21T13:08:39.863055Z",
     "shell.execute_reply": "2024-01-21T13:08:39.861810Z"
    },
    "papermill": {
     "duration": 0.448206,
     "end_time": "2024-01-21T13:08:39.865462",
     "exception": false,
     "start_time": "2024-01-21T13:08:39.417256",
     "status": "completed"
    },
    "tags": []
   },
   "outputs": [
    {
     "data": {
      "image/png": "[encoded data removed]",
      "text/plain": [
       "<Figure size 640x480 with 1 Axes>"
      ]
     },
     "metadata": {},
     "output_type": "display_data"
    }
   ],
   "source": [
    "# get the centroids and plot on the curve\n",
    "cluster_centroids = kmeans.cluster_centers_\n",
    "# plot the scatter plot\n",
    "sns.scatterplot(data=cluster_input,\n",
    "                x='pickup_hour',y='count',\n",
    "                hue=np.where(predictions == 0,'High Rush Hour','Low Rush Hour'))\n",
    "#plt.scatter(cluster_input['pickup_hour'],cluster_input['count'],c=predictions)\n",
    "# plot the cluster centroids\n",
    "plt.scatter(cluster_centroids[:,0],cluster_centroids[:,1],marker='+',s=60,c='k',label='Avg Pickups')\n",
    "plt.axhline(y=cluster_centroids[:,1].mean(),linestyle='--',color='red',label='Avg')\n",
    "plt.legend()\n",
    "plt.show()"
   ]
  },
  {
   "cell_type": "code",
   "execution_count": null,
   "id": "4c23f047",
   "metadata": {
    "papermill": {
     "duration": 0.045589,
     "end_time": "2024-01-21T13:08:39.956417",
     "exception": false,
     "start_time": "2024-01-21T13:08:39.910828",
     "status": "completed"
    },
    "tags": []
   },
   "outputs": [],
   "source": []
  }
 ],
 "metadata": {
  "kaggle": {
   "accelerator": "none",
   "dataSources": [
    {
     "databundleVersionId": 44258,
     "sourceId": 6960,
     "sourceType": "competition"
    }
   ],
   "dockerImageVersionId": 30635,
   "isGpuEnabled": false,
   "isInternetEnabled": true,
   "language": "python",
   "sourceType": "notebook"
  },
  "kernelspec": {
   "display_name": "Python 3",
   "language": "python",
   "name": "python3"
  },
  "language_info": {
   "codemirror_mode": {
    "name": "ipython",
    "version": 3
   },
   "file_extension": ".py",
   "mimetype": "text/x-python",
   "name": "python",
   "nbconvert_exporter": "python",
   "pygments_lexer": "ipython3",
   "version": "3.10.12"
  },
  "papermill": {
   "default_parameters": {},
   "duration": 108.986409,
   "end_time": "2024-01-21T13:08:41.024708",
   "environment_variables": {},
   "exception": null,
   "input_path": "__notebook__.ipynb",
   "output_path": "__notebook__.ipynb",
   "parameters": {},
   "start_time": "2024-01-21T13:06:52.038299",
   "version": "2.4.0"
  }
 },
 "nbformat": 4,
 "nbformat_minor": 5
}
