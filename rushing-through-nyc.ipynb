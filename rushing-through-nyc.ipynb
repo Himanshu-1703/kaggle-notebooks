{
 "cells": [
  {
   "cell_type": "code",
   "execution_count": 1,
   "id": "ee1a1a5a",
   "metadata": {
    "_cell_guid": "b1076dfc-b9ad-4769-8c92-a6c4dae69d19",
    "_uuid": "8f2839f25d086af736a60e9eeb907d3b93b6e0e5",
    "execution": {
     "iopub.execute_input": "2024-01-18T14:30:08.402965Z",
     "iopub.status.busy": "2024-01-18T14:30:08.402486Z",
     "iopub.status.idle": "2024-01-18T14:30:08.801077Z",
     "shell.execute_reply": "2024-01-18T14:30:08.799338Z"
    },
    "papermill": {
     "duration": 0.418386,
     "end_time": "2024-01-18T14:30:08.803413",
     "exception": false,
     "start_time": "2024-01-18T14:30:08.385027",
     "status": "completed"
    },
    "tags": []
   },
   "outputs": [
    {
     "name": "stdout",
     "output_type": "stream",
     "text": [
      "/kaggle/input/nyc-taxi-trip-duration/train.zip\n",
      "/kaggle/input/nyc-taxi-trip-duration/test.zip\n",
      "/kaggle/input/nyc-taxi-trip-duration/sample_submission.zip\n"
     ]
    }
   ],
   "source": [
    "# This Python 3 environment comes with many helpful analytics libraries installed\n",
    "# It is defined by the kaggle/python Docker image: https://github.com/kaggle/docker-python\n",
    "# For example, here's several helpful packages to load\n",
    "\n",
    "import numpy as np # linear algebra\n",
    "import pandas as pd # data processing, CSV file I/O (e.g. pd.read_csv)\n",
    "\n",
    "# Input data files are available in the read-only \"../input/\" directory\n",
    "# For example, running this (by clicking run or pressing Shift+Enter) will list all files under the input directory\n",
    "\n",
    "import os\n",
    "for dirname, _, filenames in os.walk('/kaggle/input'):\n",
    "    for filename in filenames:\n",
    "        print(os.path.join(dirname, filename))\n",
    "\n",
    "# You can write up to 20GB to the current directory (/kaggle/working/) that gets preserved as output when you create a version using \"Save & Run All\" \n",
    "# You can also write temporary files to /kaggle/temp/, but they won't be saved outside of the current session"
   ]
  },
  {
   "cell_type": "code",
   "execution_count": 2,
   "id": "a9f138e4",
   "metadata": {
    "execution": {
     "iopub.execute_input": "2024-01-18T14:30:08.835891Z",
     "iopub.status.busy": "2024-01-18T14:30:08.835340Z",
     "iopub.status.idle": "2024-01-18T14:30:10.230674Z",
     "shell.execute_reply": "2024-01-18T14:30:10.229535Z"
    },
    "papermill": {
     "duration": 1.414382,
     "end_time": "2024-01-18T14:30:10.233322",
     "exception": false,
     "start_time": "2024-01-18T14:30:08.818940",
     "status": "completed"
    },
    "tags": []
   },
   "outputs": [],
   "source": [
    "import matplotlib.pyplot as plt\n",
    "import seaborn as sns"
   ]
  },
  {
   "cell_type": "markdown",
   "id": "28e8f84e",
   "metadata": {
    "papermill": {
     "duration": 0.016791,
     "end_time": "2024-01-18T14:30:10.265632",
     "exception": false,
     "start_time": "2024-01-18T14:30:10.248841",
     "status": "completed"
    },
    "tags": []
   },
   "source": [
    "# 🔃 Data Loading and Extraction"
   ]
  },
  {
   "cell_type": "code",
   "execution_count": 3,
   "id": "5f3e009a",
   "metadata": {
    "execution": {
     "iopub.execute_input": "2024-01-18T14:30:10.299051Z",
     "iopub.status.busy": "2024-01-18T14:30:10.298637Z",
     "iopub.status.idle": "2024-01-18T14:30:10.303480Z",
     "shell.execute_reply": "2024-01-18T14:30:10.302282Z"
    },
    "papermill": {
     "duration": 0.024466,
     "end_time": "2024-01-18T14:30:10.305755",
     "exception": false,
     "start_time": "2024-01-18T14:30:10.281289",
     "status": "completed"
    },
    "tags": []
   },
   "outputs": [],
   "source": [
    "from pathlib import Path\n",
    "from zipfile import ZipFile"
   ]
  },
  {
   "cell_type": "code",
   "execution_count": 4,
   "id": "4bb03086",
   "metadata": {
    "execution": {
     "iopub.execute_input": "2024-01-18T14:30:10.339035Z",
     "iopub.status.busy": "2024-01-18T14:30:10.338614Z",
     "iopub.status.idle": "2024-01-18T14:30:10.343801Z",
     "shell.execute_reply": "2024-01-18T14:30:10.342704Z"
    },
    "papermill": {
     "duration": 0.024391,
     "end_time": "2024-01-18T14:30:10.346039",
     "exception": false,
     "start_time": "2024-01-18T14:30:10.321648",
     "status": "completed"
    },
    "tags": []
   },
   "outputs": [],
   "source": [
    "# paths for the dataset\n",
    "train_path = '/kaggle/input/nyc-taxi-trip-duration/train.zip'\n",
    "test_path = '/kaggle/input/nyc-taxi-trip-duration/test.zip'"
   ]
  },
  {
   "cell_type": "code",
   "execution_count": 5,
   "id": "675ad928",
   "metadata": {
    "execution": {
     "iopub.execute_input": "2024-01-18T14:30:10.379146Z",
     "iopub.status.busy": "2024-01-18T14:30:10.378785Z",
     "iopub.status.idle": "2024-01-18T14:30:13.388360Z",
     "shell.execute_reply": "2024-01-18T14:30:13.387313Z"
    },
    "papermill": {
     "duration": 3.029473,
     "end_time": "2024-01-18T14:30:13.390960",
     "exception": false,
     "start_time": "2024-01-18T14:30:10.361487",
     "status": "completed"
    },
    "tags": []
   },
   "outputs": [],
   "source": [
    "# output path for the zip files\n",
    "def extract_zip_file(filepath):\n",
    "    output_path = Path('/kaggle/working/') / 'raw'\n",
    "    output_path.mkdir(parents=True,exist_ok=True)\n",
    "    with ZipFile(file=filepath) as f:\n",
    "        f.extractall(path=output_path)  \n",
    "        \n",
    "# extract the train file\n",
    "extract_zip_file(train_path)\n",
    "\n",
    "# extract the test file\n",
    "extract_zip_file(test_path)"
   ]
  },
  {
   "cell_type": "code",
   "execution_count": 6,
   "id": "ac5f3f8c",
   "metadata": {
    "execution": {
     "iopub.execute_input": "2024-01-18T14:30:13.424410Z",
     "iopub.status.busy": "2024-01-18T14:30:13.424036Z",
     "iopub.status.idle": "2024-01-18T14:30:20.560733Z",
     "shell.execute_reply": "2024-01-18T14:30:20.559520Z"
    },
    "papermill": {
     "duration": 7.15642,
     "end_time": "2024-01-18T14:30:20.563378",
     "exception": false,
     "start_time": "2024-01-18T14:30:13.406958",
     "status": "completed"
    },
    "tags": []
   },
   "outputs": [
    {
     "name": "stdout",
     "output_type": "stream",
     "text": [
      "The shape of train file is (1458644, 11)\n",
      "The shape of train file is (625134, 9)\n"
     ]
    }
   ],
   "source": [
    "# read the csv files\n",
    "train_df = pd.read_csv('/kaggle/working/raw/train.csv')\n",
    "test_df = pd.read_csv('/kaggle/working/raw/test.csv')\n",
    "\n",
    "print(f'The shape of train file is {train_df.shape}')\n",
    "print(f'The shape of train file is {test_df.shape}')"
   ]
  },
  {
   "cell_type": "markdown",
   "id": "aa90d6d0",
   "metadata": {
    "papermill": {
     "duration": 0.014817,
     "end_time": "2024-01-18T14:30:20.593543",
     "exception": false,
     "start_time": "2024-01-18T14:30:20.578726",
     "status": "completed"
    },
    "tags": []
   },
   "source": [
    "**Data Shape**\n",
    "- The Train Data has around 1.4 million rows and 11 columns.\n",
    "- The Test Data has around 625k rows and 9 columns."
   ]
  },
  {
   "cell_type": "markdown",
   "id": "395bac59",
   "metadata": {
    "papermill": {
     "duration": 0.015091,
     "end_time": "2024-01-18T14:30:20.624168",
     "exception": false,
     "start_time": "2024-01-18T14:30:20.609077",
     "status": "completed"
    },
    "tags": []
   },
   "source": [
    "# Understanding the Data"
   ]
  },
  {
   "cell_type": "code",
   "execution_count": 7,
   "id": "4c78ec08",
   "metadata": {
    "execution": {
     "iopub.execute_input": "2024-01-18T14:30:20.723164Z",
     "iopub.status.busy": "2024-01-18T14:30:20.722779Z",
     "iopub.status.idle": "2024-01-18T14:30:20.825984Z",
     "shell.execute_reply": "2024-01-18T14:30:20.824744Z"
    },
    "papermill": {
     "duration": 0.122863,
     "end_time": "2024-01-18T14:30:20.828308",
     "exception": false,
     "start_time": "2024-01-18T14:30:20.705445",
     "status": "completed"
    },
    "tags": []
   },
   "outputs": [
    {
     "data": {
      "text/html": [
       "<div>\n",
       "<style scoped>\n",
       "    .dataframe tbody tr th:only-of-type {\n",
       "        vertical-align: middle;\n",
       "    }\n",
       "\n",
       "    .dataframe tbody tr th {\n",
       "        vertical-align: top;\n",
       "    }\n",
       "\n",
       "    .dataframe thead th {\n",
       "        text-align: right;\n",
       "    }\n",
       "</style>\n",
       "<table border=\"1\" class=\"dataframe\">\n",
       "  <thead>\n",
       "    <tr style=\"text-align: right;\">\n",
       "      <th></th>\n",
       "      <th>id</th>\n",
       "      <th>vendor_id</th>\n",
       "      <th>pickup_datetime</th>\n",
       "      <th>dropoff_datetime</th>\n",
       "      <th>passenger_count</th>\n",
       "      <th>pickup_longitude</th>\n",
       "      <th>pickup_latitude</th>\n",
       "      <th>dropoff_longitude</th>\n",
       "      <th>dropoff_latitude</th>\n",
       "      <th>store_and_fwd_flag</th>\n",
       "      <th>trip_duration</th>\n",
       "    </tr>\n",
       "  </thead>\n",
       "  <tbody>\n",
       "    <tr>\n",
       "      <th>1080014</th>\n",
       "      <td>id1185451</td>\n",
       "      <td>2</td>\n",
       "      <td>2016-03-17 08:35:43</td>\n",
       "      <td>2016-03-17 08:42:45</td>\n",
       "      <td>1</td>\n",
       "      <td>-73.989899</td>\n",
       "      <td>40.757027</td>\n",
       "      <td>-73.985085</td>\n",
       "      <td>40.751877</td>\n",
       "      <td>N</td>\n",
       "      <td>422</td>\n",
       "    </tr>\n",
       "    <tr>\n",
       "      <th>198410</th>\n",
       "      <td>id1830791</td>\n",
       "      <td>1</td>\n",
       "      <td>2016-01-05 18:59:35</td>\n",
       "      <td>2016-01-05 19:14:36</td>\n",
       "      <td>1</td>\n",
       "      <td>-73.874542</td>\n",
       "      <td>40.774151</td>\n",
       "      <td>-73.974136</td>\n",
       "      <td>40.750305</td>\n",
       "      <td>N</td>\n",
       "      <td>901</td>\n",
       "    </tr>\n",
       "    <tr>\n",
       "      <th>206379</th>\n",
       "      <td>id1206313</td>\n",
       "      <td>1</td>\n",
       "      <td>2016-01-01 13:00:02</td>\n",
       "      <td>2016-01-01 13:08:51</td>\n",
       "      <td>1</td>\n",
       "      <td>-73.979889</td>\n",
       "      <td>40.745590</td>\n",
       "      <td>-74.000732</td>\n",
       "      <td>40.730824</td>\n",
       "      <td>N</td>\n",
       "      <td>529</td>\n",
       "    </tr>\n",
       "    <tr>\n",
       "      <th>23278</th>\n",
       "      <td>id3141311</td>\n",
       "      <td>1</td>\n",
       "      <td>2016-04-14 01:21:37</td>\n",
       "      <td>2016-04-14 01:38:08</td>\n",
       "      <td>1</td>\n",
       "      <td>-74.005585</td>\n",
       "      <td>40.742020</td>\n",
       "      <td>-73.951920</td>\n",
       "      <td>40.812908</td>\n",
       "      <td>N</td>\n",
       "      <td>991</td>\n",
       "    </tr>\n",
       "    <tr>\n",
       "      <th>602535</th>\n",
       "      <td>id1054869</td>\n",
       "      <td>1</td>\n",
       "      <td>2016-03-30 05:38:05</td>\n",
       "      <td>2016-03-30 05:43:43</td>\n",
       "      <td>1</td>\n",
       "      <td>-73.947197</td>\n",
       "      <td>40.779873</td>\n",
       "      <td>-73.961395</td>\n",
       "      <td>40.764591</td>\n",
       "      <td>N</td>\n",
       "      <td>338</td>\n",
       "    </tr>\n",
       "    <tr>\n",
       "      <th>1234367</th>\n",
       "      <td>id0487256</td>\n",
       "      <td>1</td>\n",
       "      <td>2016-06-07 11:13:23</td>\n",
       "      <td>2016-06-07 11:33:48</td>\n",
       "      <td>1</td>\n",
       "      <td>-73.978355</td>\n",
       "      <td>40.753471</td>\n",
       "      <td>-73.972023</td>\n",
       "      <td>40.757179</td>\n",
       "      <td>N</td>\n",
       "      <td>1225</td>\n",
       "    </tr>\n",
       "    <tr>\n",
       "      <th>847474</th>\n",
       "      <td>id1132396</td>\n",
       "      <td>2</td>\n",
       "      <td>2016-01-30 15:00:55</td>\n",
       "      <td>2016-01-30 15:16:35</td>\n",
       "      <td>5</td>\n",
       "      <td>-73.982521</td>\n",
       "      <td>40.771641</td>\n",
       "      <td>-73.991463</td>\n",
       "      <td>40.750118</td>\n",
       "      <td>N</td>\n",
       "      <td>940</td>\n",
       "    </tr>\n",
       "    <tr>\n",
       "      <th>69667</th>\n",
       "      <td>id0819395</td>\n",
       "      <td>2</td>\n",
       "      <td>2016-05-01 20:18:46</td>\n",
       "      <td>2016-05-01 20:25:16</td>\n",
       "      <td>5</td>\n",
       "      <td>-73.995750</td>\n",
       "      <td>40.745777</td>\n",
       "      <td>-73.992607</td>\n",
       "      <td>40.755898</td>\n",
       "      <td>N</td>\n",
       "      <td>390</td>\n",
       "    </tr>\n",
       "    <tr>\n",
       "      <th>1342798</th>\n",
       "      <td>id2122862</td>\n",
       "      <td>2</td>\n",
       "      <td>2016-05-12 00:52:03</td>\n",
       "      <td>2016-05-12 01:09:53</td>\n",
       "      <td>1</td>\n",
       "      <td>-73.986183</td>\n",
       "      <td>40.730492</td>\n",
       "      <td>-73.987038</td>\n",
       "      <td>40.671230</td>\n",
       "      <td>N</td>\n",
       "      <td>1070</td>\n",
       "    </tr>\n",
       "    <tr>\n",
       "      <th>843937</th>\n",
       "      <td>id0677366</td>\n",
       "      <td>2</td>\n",
       "      <td>2016-03-08 18:18:34</td>\n",
       "      <td>2016-03-08 18:23:18</td>\n",
       "      <td>1</td>\n",
       "      <td>-73.980400</td>\n",
       "      <td>40.782639</td>\n",
       "      <td>-73.982460</td>\n",
       "      <td>40.772579</td>\n",
       "      <td>N</td>\n",
       "      <td>284</td>\n",
       "    </tr>\n",
       "    <tr>\n",
       "      <th>1133477</th>\n",
       "      <td>id2657666</td>\n",
       "      <td>1</td>\n",
       "      <td>2016-02-05 07:46:34</td>\n",
       "      <td>2016-02-05 07:58:19</td>\n",
       "      <td>1</td>\n",
       "      <td>-73.956444</td>\n",
       "      <td>40.766994</td>\n",
       "      <td>-73.956627</td>\n",
       "      <td>40.783836</td>\n",
       "      <td>N</td>\n",
       "      <td>705</td>\n",
       "    </tr>\n",
       "    <tr>\n",
       "      <th>95330</th>\n",
       "      <td>id1686176</td>\n",
       "      <td>1</td>\n",
       "      <td>2016-06-18 01:37:15</td>\n",
       "      <td>2016-06-18 02:03:05</td>\n",
       "      <td>2</td>\n",
       "      <td>-74.004227</td>\n",
       "      <td>40.720058</td>\n",
       "      <td>-73.956924</td>\n",
       "      <td>40.771526</td>\n",
       "      <td>N</td>\n",
       "      <td>1550</td>\n",
       "    </tr>\n",
       "    <tr>\n",
       "      <th>115529</th>\n",
       "      <td>id3565774</td>\n",
       "      <td>1</td>\n",
       "      <td>2016-01-31 03:22:56</td>\n",
       "      <td>2016-01-31 03:40:25</td>\n",
       "      <td>1</td>\n",
       "      <td>-73.971428</td>\n",
       "      <td>40.761883</td>\n",
       "      <td>-73.871918</td>\n",
       "      <td>40.737720</td>\n",
       "      <td>N</td>\n",
       "      <td>1049</td>\n",
       "    </tr>\n",
       "    <tr>\n",
       "      <th>1021460</th>\n",
       "      <td>id2914862</td>\n",
       "      <td>1</td>\n",
       "      <td>2016-02-04 07:33:18</td>\n",
       "      <td>2016-02-04 07:48:29</td>\n",
       "      <td>1</td>\n",
       "      <td>-73.962387</td>\n",
       "      <td>40.759251</td>\n",
       "      <td>-73.978195</td>\n",
       "      <td>40.736790</td>\n",
       "      <td>N</td>\n",
       "      <td>911</td>\n",
       "    </tr>\n",
       "    <tr>\n",
       "      <th>151118</th>\n",
       "      <td>id2460153</td>\n",
       "      <td>2</td>\n",
       "      <td>2016-06-20 18:08:15</td>\n",
       "      <td>2016-06-20 18:15:16</td>\n",
       "      <td>1</td>\n",
       "      <td>-73.964951</td>\n",
       "      <td>40.792995</td>\n",
       "      <td>-73.952576</td>\n",
       "      <td>40.789551</td>\n",
       "      <td>N</td>\n",
       "      <td>421</td>\n",
       "    </tr>\n",
       "    <tr>\n",
       "      <th>522549</th>\n",
       "      <td>id2281148</td>\n",
       "      <td>1</td>\n",
       "      <td>2016-03-31 23:45:24</td>\n",
       "      <td>2016-03-31 23:53:07</td>\n",
       "      <td>1</td>\n",
       "      <td>-73.968185</td>\n",
       "      <td>40.754696</td>\n",
       "      <td>-73.948967</td>\n",
       "      <td>40.777481</td>\n",
       "      <td>N</td>\n",
       "      <td>463</td>\n",
       "    </tr>\n",
       "    <tr>\n",
       "      <th>745804</th>\n",
       "      <td>id0734662</td>\n",
       "      <td>1</td>\n",
       "      <td>2016-03-14 05:24:41</td>\n",
       "      <td>2016-03-14 05:38:34</td>\n",
       "      <td>1</td>\n",
       "      <td>-73.999619</td>\n",
       "      <td>40.761711</td>\n",
       "      <td>-73.982185</td>\n",
       "      <td>40.776695</td>\n",
       "      <td>N</td>\n",
       "      <td>833</td>\n",
       "    </tr>\n",
       "    <tr>\n",
       "      <th>423359</th>\n",
       "      <td>id2274065</td>\n",
       "      <td>1</td>\n",
       "      <td>2016-03-07 11:46:09</td>\n",
       "      <td>2016-03-07 12:01:55</td>\n",
       "      <td>1</td>\n",
       "      <td>-73.982651</td>\n",
       "      <td>40.761795</td>\n",
       "      <td>-73.972717</td>\n",
       "      <td>40.759323</td>\n",
       "      <td>N</td>\n",
       "      <td>946</td>\n",
       "    </tr>\n",
       "    <tr>\n",
       "      <th>643650</th>\n",
       "      <td>id2334016</td>\n",
       "      <td>2</td>\n",
       "      <td>2016-03-09 06:26:50</td>\n",
       "      <td>2016-03-09 06:49:49</td>\n",
       "      <td>1</td>\n",
       "      <td>-73.971642</td>\n",
       "      <td>40.788013</td>\n",
       "      <td>-74.009933</td>\n",
       "      <td>40.721344</td>\n",
       "      <td>N</td>\n",
       "      <td>1379</td>\n",
       "    </tr>\n",
       "    <tr>\n",
       "      <th>1150375</th>\n",
       "      <td>id0941524</td>\n",
       "      <td>2</td>\n",
       "      <td>2016-03-10 11:52:17</td>\n",
       "      <td>2016-03-10 12:04:33</td>\n",
       "      <td>1</td>\n",
       "      <td>-73.979324</td>\n",
       "      <td>40.771290</td>\n",
       "      <td>-73.975433</td>\n",
       "      <td>40.761295</td>\n",
       "      <td>N</td>\n",
       "      <td>736</td>\n",
       "    </tr>\n",
       "  </tbody>\n",
       "</table>\n",
       "</div>"
      ],
      "text/plain": [
       "                id  vendor_id      pickup_datetime     dropoff_datetime  \\\n",
       "1080014  id1185451          2  2016-03-17 08:35:43  2016-03-17 08:42:45   \n",
       "198410   id1830791          1  2016-01-05 18:59:35  2016-01-05 19:14:36   \n",
       "206379   id1206313          1  2016-01-01 13:00:02  2016-01-01 13:08:51   \n",
       "23278    id3141311          1  2016-04-14 01:21:37  2016-04-14 01:38:08   \n",
       "602535   id1054869          1  2016-03-30 05:38:05  2016-03-30 05:43:43   \n",
       "1234367  id0487256          1  2016-06-07 11:13:23  2016-06-07 11:33:48   \n",
       "847474   id1132396          2  2016-01-30 15:00:55  2016-01-30 15:16:35   \n",
       "69667    id0819395          2  2016-05-01 20:18:46  2016-05-01 20:25:16   \n",
       "1342798  id2122862          2  2016-05-12 00:52:03  2016-05-12 01:09:53   \n",
       "843937   id0677366          2  2016-03-08 18:18:34  2016-03-08 18:23:18   \n",
       "1133477  id2657666          1  2016-02-05 07:46:34  2016-02-05 07:58:19   \n",
       "95330    id1686176          1  2016-06-18 01:37:15  2016-06-18 02:03:05   \n",
       "115529   id3565774          1  2016-01-31 03:22:56  2016-01-31 03:40:25   \n",
       "1021460  id2914862          1  2016-02-04 07:33:18  2016-02-04 07:48:29   \n",
       "151118   id2460153          2  2016-06-20 18:08:15  2016-06-20 18:15:16   \n",
       "522549   id2281148          1  2016-03-31 23:45:24  2016-03-31 23:53:07   \n",
       "745804   id0734662          1  2016-03-14 05:24:41  2016-03-14 05:38:34   \n",
       "423359   id2274065          1  2016-03-07 11:46:09  2016-03-07 12:01:55   \n",
       "643650   id2334016          2  2016-03-09 06:26:50  2016-03-09 06:49:49   \n",
       "1150375  id0941524          2  2016-03-10 11:52:17  2016-03-10 12:04:33   \n",
       "\n",
       "         passenger_count  pickup_longitude  pickup_latitude  \\\n",
       "1080014                1        -73.989899        40.757027   \n",
       "198410                 1        -73.874542        40.774151   \n",
       "206379                 1        -73.979889        40.745590   \n",
       "23278                  1        -74.005585        40.742020   \n",
       "602535                 1        -73.947197        40.779873   \n",
       "1234367                1        -73.978355        40.753471   \n",
       "847474                 5        -73.982521        40.771641   \n",
       "69667                  5        -73.995750        40.745777   \n",
       "1342798                1        -73.986183        40.730492   \n",
       "843937                 1        -73.980400        40.782639   \n",
       "1133477                1        -73.956444        40.766994   \n",
       "95330                  2        -74.004227        40.720058   \n",
       "115529                 1        -73.971428        40.761883   \n",
       "1021460                1        -73.962387        40.759251   \n",
       "151118                 1        -73.964951        40.792995   \n",
       "522549                 1        -73.968185        40.754696   \n",
       "745804                 1        -73.999619        40.761711   \n",
       "423359                 1        -73.982651        40.761795   \n",
       "643650                 1        -73.971642        40.788013   \n",
       "1150375                1        -73.979324        40.771290   \n",
       "\n",
       "         dropoff_longitude  dropoff_latitude store_and_fwd_flag  trip_duration  \n",
       "1080014         -73.985085         40.751877                  N            422  \n",
       "198410          -73.974136         40.750305                  N            901  \n",
       "206379          -74.000732         40.730824                  N            529  \n",
       "23278           -73.951920         40.812908                  N            991  \n",
       "602535          -73.961395         40.764591                  N            338  \n",
       "1234367         -73.972023         40.757179                  N           1225  \n",
       "847474          -73.991463         40.750118                  N            940  \n",
       "69667           -73.992607         40.755898                  N            390  \n",
       "1342798         -73.987038         40.671230                  N           1070  \n",
       "843937          -73.982460         40.772579                  N            284  \n",
       "1133477         -73.956627         40.783836                  N            705  \n",
       "95330           -73.956924         40.771526                  N           1550  \n",
       "115529          -73.871918         40.737720                  N           1049  \n",
       "1021460         -73.978195         40.736790                  N            911  \n",
       "151118          -73.952576         40.789551                  N            421  \n",
       "522549          -73.948967         40.777481                  N            463  \n",
       "745804          -73.982185         40.776695                  N            833  \n",
       "423359          -73.972717         40.759323                  N            946  \n",
       "643650          -74.009933         40.721344                  N           1379  \n",
       "1150375         -73.975433         40.761295                  N            736  "
      ]
     },
     "execution_count": 7,
     "metadata": {},
     "output_type": "execute_result"
    }
   ],
   "source": [
    "train_df.sample(20)"
   ]
  },
  {
   "cell_type": "markdown",
   "id": "34783f14",
   "metadata": {
    "papermill": {
     "duration": 0.016823,
     "end_time": "2024-01-18T14:30:20.861842",
     "exception": false,
     "start_time": "2024-01-18T14:30:20.845019",
     "status": "completed"
    },
    "tags": []
   },
   "source": [
    "**About the columns** 💻:\n",
    "1. **id** - Starts with id and then a bunch of random numbers(7 to be exact).\n",
    "2. **vendor_id** - Integer column and categorical.\n",
    "3. **pickup_datetime** - Fmt YYYY-MM-DD HH:MM:SS\n",
    "4. **dropoff_datetime** - Fmt YYYY-MM-DD HH:MM:SS\n",
    "5. **passenger_count** - Integer column\n",
    "6. **pickup_longitude/latitude** - longitude is negative and latitude is positive(above Tropic of Cancer).\n",
    "7. **dropoff_longitude/latitude** - longitude is negative and latitude is positive(above Tropic of Cancer).\n",
    "8. **store_and_fwd_flagstore_and_fwd_flag** - String categorical - `Has to be encoded`.\n",
    "9. **trip_duration** - in seconds"
   ]
  },
  {
   "cell_type": "code",
   "execution_count": 8,
   "id": "02b9594b",
   "metadata": {
    "execution": {
     "iopub.execute_input": "2024-01-18T14:30:20.896960Z",
     "iopub.status.busy": "2024-01-18T14:30:20.895852Z",
     "iopub.status.idle": "2024-01-18T14:30:21.176898Z",
     "shell.execute_reply": "2024-01-18T14:30:21.175986Z"
    },
    "papermill": {
     "duration": 0.301044,
     "end_time": "2024-01-18T14:30:21.179153",
     "exception": false,
     "start_time": "2024-01-18T14:30:20.878109",
     "status": "completed"
    },
    "tags": []
   },
   "outputs": [
    {
     "data": {
      "text/plain": [
       "id                    0\n",
       "vendor_id             0\n",
       "pickup_datetime       0\n",
       "dropoff_datetime      0\n",
       "passenger_count       0\n",
       "pickup_longitude      0\n",
       "pickup_latitude       0\n",
       "dropoff_longitude     0\n",
       "dropoff_latitude      0\n",
       "store_and_fwd_flag    0\n",
       "trip_duration         0\n",
       "dtype: int64"
      ]
     },
     "execution_count": 8,
     "metadata": {},
     "output_type": "execute_result"
    }
   ],
   "source": [
    "# check for missing values\n",
    "\n",
    "# train_df\n",
    "train_df.isnull().sum()"
   ]
  },
  {
   "cell_type": "code",
   "execution_count": 9,
   "id": "e179c0a0",
   "metadata": {
    "execution": {
     "iopub.execute_input": "2024-01-18T14:30:21.215184Z",
     "iopub.status.busy": "2024-01-18T14:30:21.214186Z",
     "iopub.status.idle": "2024-01-18T14:30:21.312010Z",
     "shell.execute_reply": "2024-01-18T14:30:21.310904Z"
    },
    "papermill": {
     "duration": 0.119863,
     "end_time": "2024-01-18T14:30:21.315241",
     "exception": false,
     "start_time": "2024-01-18T14:30:21.195378",
     "status": "completed"
    },
    "tags": []
   },
   "outputs": [
    {
     "data": {
      "text/plain": [
       "id                    0\n",
       "vendor_id             0\n",
       "pickup_datetime       0\n",
       "passenger_count       0\n",
       "pickup_longitude      0\n",
       "pickup_latitude       0\n",
       "dropoff_longitude     0\n",
       "dropoff_latitude      0\n",
       "store_and_fwd_flag    0\n",
       "dtype: int64"
      ]
     },
     "execution_count": 9,
     "metadata": {},
     "output_type": "execute_result"
    }
   ],
   "source": [
    "# check for the test data\n",
    "test_df.isna().sum()"
   ]
  },
  {
   "cell_type": "code",
   "execution_count": 10,
   "id": "b01c96b9",
   "metadata": {
    "execution": {
     "iopub.execute_input": "2024-01-18T14:30:21.352353Z",
     "iopub.status.busy": "2024-01-18T14:30:21.351971Z",
     "iopub.status.idle": "2024-01-18T14:30:21.360076Z",
     "shell.execute_reply": "2024-01-18T14:30:21.358972Z"
    },
    "papermill": {
     "duration": 0.029309,
     "end_time": "2024-01-18T14:30:21.362501",
     "exception": false,
     "start_time": "2024-01-18T14:30:21.333192",
     "status": "completed"
    },
    "tags": []
   },
   "outputs": [
    {
     "data": {
      "text/plain": [
       "Index(['pickup_longitude', 'pickup_latitude', 'dropoff_longitude',\n",
       "       'dropoff_latitude', 'trip_duration'],\n",
       "      dtype='object')"
      ]
     },
     "execution_count": 10,
     "metadata": {},
     "output_type": "execute_result"
    }
   ],
   "source": [
    "# columns to run describe on\n",
    "\n",
    "cols_to_describe_num = train_df.columns[[5,6,7,8,10]]\n",
    "\n",
    "cols_to_describe_num"
   ]
  },
  {
   "cell_type": "code",
   "execution_count": 11,
   "id": "6cc2121a",
   "metadata": {
    "execution": {
     "iopub.execute_input": "2024-01-18T14:30:21.397501Z",
     "iopub.status.busy": "2024-01-18T14:30:21.396738Z",
     "iopub.status.idle": "2024-01-18T14:30:21.850108Z",
     "shell.execute_reply": "2024-01-18T14:30:21.849196Z"
    },
    "papermill": {
     "duration": 0.473191,
     "end_time": "2024-01-18T14:30:21.852194",
     "exception": false,
     "start_time": "2024-01-18T14:30:21.379003",
     "status": "completed"
    },
    "tags": []
   },
   "outputs": [
    {
     "data": {
      "text/html": [
       "<div>\n",
       "<style scoped>\n",
       "    .dataframe tbody tr th:only-of-type {\n",
       "        vertical-align: middle;\n",
       "    }\n",
       "\n",
       "    .dataframe tbody tr th {\n",
       "        vertical-align: top;\n",
       "    }\n",
       "\n",
       "    .dataframe thead th {\n",
       "        text-align: right;\n",
       "    }\n",
       "</style>\n",
       "<table border=\"1\" class=\"dataframe\">\n",
       "  <thead>\n",
       "    <tr style=\"text-align: right;\">\n",
       "      <th></th>\n",
       "      <th>pickup_longitude</th>\n",
       "      <th>pickup_latitude</th>\n",
       "      <th>dropoff_longitude</th>\n",
       "      <th>dropoff_latitude</th>\n",
       "      <th>trip_duration</th>\n",
       "    </tr>\n",
       "  </thead>\n",
       "  <tbody>\n",
       "    <tr>\n",
       "      <th>count</th>\n",
       "      <td>1.458644e+06</td>\n",
       "      <td>1.458644e+06</td>\n",
       "      <td>1.458644e+06</td>\n",
       "      <td>1.458644e+06</td>\n",
       "      <td>1.458644e+06</td>\n",
       "    </tr>\n",
       "    <tr>\n",
       "      <th>mean</th>\n",
       "      <td>-7.397349e+01</td>\n",
       "      <td>4.075092e+01</td>\n",
       "      <td>-7.397342e+01</td>\n",
       "      <td>4.075180e+01</td>\n",
       "      <td>9.594923e+02</td>\n",
       "    </tr>\n",
       "    <tr>\n",
       "      <th>std</th>\n",
       "      <td>7.090186e-02</td>\n",
       "      <td>3.288119e-02</td>\n",
       "      <td>7.064327e-02</td>\n",
       "      <td>3.589056e-02</td>\n",
       "      <td>5.237432e+03</td>\n",
       "    </tr>\n",
       "    <tr>\n",
       "      <th>min</th>\n",
       "      <td>-1.219333e+02</td>\n",
       "      <td>3.435970e+01</td>\n",
       "      <td>-1.219333e+02</td>\n",
       "      <td>3.218114e+01</td>\n",
       "      <td>1.000000e+00</td>\n",
       "    </tr>\n",
       "    <tr>\n",
       "      <th>25%</th>\n",
       "      <td>-7.399187e+01</td>\n",
       "      <td>4.073735e+01</td>\n",
       "      <td>-7.399133e+01</td>\n",
       "      <td>4.073588e+01</td>\n",
       "      <td>3.970000e+02</td>\n",
       "    </tr>\n",
       "    <tr>\n",
       "      <th>50%</th>\n",
       "      <td>-7.398174e+01</td>\n",
       "      <td>4.075410e+01</td>\n",
       "      <td>-7.397975e+01</td>\n",
       "      <td>4.075452e+01</td>\n",
       "      <td>6.620000e+02</td>\n",
       "    </tr>\n",
       "    <tr>\n",
       "      <th>75%</th>\n",
       "      <td>-7.396733e+01</td>\n",
       "      <td>4.076836e+01</td>\n",
       "      <td>-7.396301e+01</td>\n",
       "      <td>4.076981e+01</td>\n",
       "      <td>1.075000e+03</td>\n",
       "    </tr>\n",
       "    <tr>\n",
       "      <th>max</th>\n",
       "      <td>-6.133553e+01</td>\n",
       "      <td>5.188108e+01</td>\n",
       "      <td>-6.133553e+01</td>\n",
       "      <td>4.392103e+01</td>\n",
       "      <td>3.526282e+06</td>\n",
       "    </tr>\n",
       "  </tbody>\n",
       "</table>\n",
       "</div>"
      ],
      "text/plain": [
       "       pickup_longitude  pickup_latitude  dropoff_longitude  dropoff_latitude  \\\n",
       "count      1.458644e+06     1.458644e+06       1.458644e+06      1.458644e+06   \n",
       "mean      -7.397349e+01     4.075092e+01      -7.397342e+01      4.075180e+01   \n",
       "std        7.090186e-02     3.288119e-02       7.064327e-02      3.589056e-02   \n",
       "min       -1.219333e+02     3.435970e+01      -1.219333e+02      3.218114e+01   \n",
       "25%       -7.399187e+01     4.073735e+01      -7.399133e+01      4.073588e+01   \n",
       "50%       -7.398174e+01     4.075410e+01      -7.397975e+01      4.075452e+01   \n",
       "75%       -7.396733e+01     4.076836e+01      -7.396301e+01      4.076981e+01   \n",
       "max       -6.133553e+01     5.188108e+01      -6.133553e+01      4.392103e+01   \n",
       "\n",
       "       trip_duration  \n",
       "count   1.458644e+06  \n",
       "mean    9.594923e+02  \n",
       "std     5.237432e+03  \n",
       "min     1.000000e+00  \n",
       "25%     3.970000e+02  \n",
       "50%     6.620000e+02  \n",
       "75%     1.075000e+03  \n",
       "max     3.526282e+06  "
      ]
     },
     "execution_count": 11,
     "metadata": {},
     "output_type": "execute_result"
    }
   ],
   "source": [
    "# description about the data\n",
    "\n",
    "train_df[cols_to_describe_num].describe()"
   ]
  },
  {
   "cell_type": "markdown",
   "id": "64b3096f",
   "metadata": {
    "papermill": {
     "duration": 0.016407,
     "end_time": "2024-01-18T14:30:21.886695",
     "exception": false,
     "start_time": "2024-01-18T14:30:21.870288",
     "status": "completed"
    },
    "tags": []
   },
   "source": [
    "<div style=\"background-color:#F0B27A ; padding: 20px;\">\n",
    "\n",
    "<span style=\"font-size: 18px;\">\n",
    "    \n",
    "**Some Geography Facts**         \n",
    "Latitude and longitude are a pair of numbers that describe a position on a geographic coordinate system. They are measured in decimal degrees and range from **\\[-90 to 90] for latitude** and **\\[-180 to 180] for longitude**.\n",
    "</span>\n",
    "</div>"
   ]
  },
  {
   "cell_type": "code",
   "execution_count": 12,
   "id": "48487a8e",
   "metadata": {
    "execution": {
     "iopub.execute_input": "2024-01-18T14:30:21.923035Z",
     "iopub.status.busy": "2024-01-18T14:30:21.922207Z",
     "iopub.status.idle": "2024-01-18T14:30:22.280724Z",
     "shell.execute_reply": "2024-01-18T14:30:22.279858Z"
    },
    "papermill": {
     "duration": 0.379565,
     "end_time": "2024-01-18T14:30:22.282921",
     "exception": false,
     "start_time": "2024-01-18T14:30:21.903356",
     "status": "completed"
    },
    "tags": []
   },
   "outputs": [
    {
     "data": {
      "text/html": [
       "<div>\n",
       "<style scoped>\n",
       "    .dataframe tbody tr th:only-of-type {\n",
       "        vertical-align: middle;\n",
       "    }\n",
       "\n",
       "    .dataframe tbody tr th {\n",
       "        vertical-align: top;\n",
       "    }\n",
       "\n",
       "    .dataframe thead th {\n",
       "        text-align: right;\n",
       "    }\n",
       "</style>\n",
       "<table border=\"1\" class=\"dataframe\">\n",
       "  <thead>\n",
       "    <tr style=\"text-align: right;\">\n",
       "      <th></th>\n",
       "      <th>pickup_longitude</th>\n",
       "      <th>pickup_latitude</th>\n",
       "      <th>dropoff_longitude</th>\n",
       "      <th>dropoff_latitude</th>\n",
       "      <th>trip_duration</th>\n",
       "    </tr>\n",
       "  </thead>\n",
       "  <tbody>\n",
       "    <tr>\n",
       "      <th>count</th>\n",
       "      <td>1.458644e+06</td>\n",
       "      <td>1.458644e+06</td>\n",
       "      <td>1.458644e+06</td>\n",
       "      <td>1.458644e+06</td>\n",
       "      <td>1.458644e+06</td>\n",
       "    </tr>\n",
       "    <tr>\n",
       "      <th>mean</th>\n",
       "      <td>-7.397349e+01</td>\n",
       "      <td>4.075092e+01</td>\n",
       "      <td>-7.397342e+01</td>\n",
       "      <td>4.075180e+01</td>\n",
       "      <td>9.594923e+02</td>\n",
       "    </tr>\n",
       "    <tr>\n",
       "      <th>std</th>\n",
       "      <td>7.090186e-02</td>\n",
       "      <td>3.288119e-02</td>\n",
       "      <td>7.064327e-02</td>\n",
       "      <td>3.589056e-02</td>\n",
       "      <td>5.237432e+03</td>\n",
       "    </tr>\n",
       "    <tr>\n",
       "      <th>min</th>\n",
       "      <td>-1.219333e+02</td>\n",
       "      <td>3.435970e+01</td>\n",
       "      <td>-1.219333e+02</td>\n",
       "      <td>3.218114e+01</td>\n",
       "      <td>1.000000e+00</td>\n",
       "    </tr>\n",
       "    <tr>\n",
       "      <th>25%</th>\n",
       "      <td>-7.399187e+01</td>\n",
       "      <td>4.073735e+01</td>\n",
       "      <td>-7.399133e+01</td>\n",
       "      <td>4.073588e+01</td>\n",
       "      <td>3.970000e+02</td>\n",
       "    </tr>\n",
       "    <tr>\n",
       "      <th>50%</th>\n",
       "      <td>-7.398174e+01</td>\n",
       "      <td>4.075410e+01</td>\n",
       "      <td>-7.397975e+01</td>\n",
       "      <td>4.075452e+01</td>\n",
       "      <td>6.620000e+02</td>\n",
       "    </tr>\n",
       "    <tr>\n",
       "      <th>75%</th>\n",
       "      <td>-7.396733e+01</td>\n",
       "      <td>4.076836e+01</td>\n",
       "      <td>-7.396301e+01</td>\n",
       "      <td>4.076981e+01</td>\n",
       "      <td>1.075000e+03</td>\n",
       "    </tr>\n",
       "    <tr>\n",
       "      <th>max</th>\n",
       "      <td>-6.133553e+01</td>\n",
       "      <td>5.188108e+01</td>\n",
       "      <td>-6.133553e+01</td>\n",
       "      <td>4.392103e+01</td>\n",
       "      <td>3.526282e+06</td>\n",
       "    </tr>\n",
       "  </tbody>\n",
       "</table>\n",
       "</div>"
      ],
      "text/plain": [
       "       pickup_longitude  pickup_latitude  dropoff_longitude  dropoff_latitude  \\\n",
       "count      1.458644e+06     1.458644e+06       1.458644e+06      1.458644e+06   \n",
       "mean      -7.397349e+01     4.075092e+01      -7.397342e+01      4.075180e+01   \n",
       "std        7.090186e-02     3.288119e-02       7.064327e-02      3.589056e-02   \n",
       "min       -1.219333e+02     3.435970e+01      -1.219333e+02      3.218114e+01   \n",
       "25%       -7.399187e+01     4.073735e+01      -7.399133e+01      4.073588e+01   \n",
       "50%       -7.398174e+01     4.075410e+01      -7.397975e+01      4.075452e+01   \n",
       "75%       -7.396733e+01     4.076836e+01      -7.396301e+01      4.076981e+01   \n",
       "max       -6.133553e+01     5.188108e+01      -6.133553e+01      4.392103e+01   \n",
       "\n",
       "       trip_duration  \n",
       "count   1.458644e+06  \n",
       "mean    9.594923e+02  \n",
       "std     5.237432e+03  \n",
       "min     1.000000e+00  \n",
       "25%     3.970000e+02  \n",
       "50%     6.620000e+02  \n",
       "75%     1.075000e+03  \n",
       "max     3.526282e+06  "
      ]
     },
     "execution_count": 12,
     "metadata": {},
     "output_type": "execute_result"
    }
   ],
   "source": [
    "train_df[cols_to_describe_num].describe()"
   ]
  },
  {
   "cell_type": "markdown",
   "id": "4fd6509d",
   "metadata": {
    "papermill": {
     "duration": 0.017024,
     "end_time": "2024-01-18T14:30:22.317340",
     "exception": false,
     "start_time": "2024-01-18T14:30:22.300316",
     "status": "completed"
    },
    "tags": []
   },
   "source": [
    "<div style=\"background-color: #E6E6FA; padding: 10px;\">\n",
    "    \n",
    "**About the columns**\n",
    "- **pickup_longitude** - -121.9(min) and -61.33(max) value are way off the borders of NYC city. The median longitude value is around the -73.9 mark which seems fine. (The -ve sign is correct as NYC lies on the west of the meridian line)\n",
    "- **pickup_latitude** - The maximum value here which is 51.88 seems to be concerning.(The +ve sign for all values is ok as NYC lies above the equator mark).\n",
    "- **dropoff_longitude** - 121.9(min) and -61.33(max) value are way off the borders of NYC city. The median longitude value is around the -73.9 mark which seems fine. (The -ve sign is correct as NYC lies on the west of the meridian line).\n",
    "    - check whether the minimum and maximum are from the same entry for both the pickup and drop. This can indicate a faulty device showing the same coordinates every time.\n",
    "- **dropoff latitude** - The min value of 32.181 is of concern.\n",
    "\n",
    "**Target Column** (trip_duration)\n",
    "- The mean duration is 959 sec and the median is 662 sec. This indicates the column is skewed to the right. (Mean > Median).\n",
    "- This also indicates the presence of outliers in the data that are skewing the distribution.\n",
    "- The minimum trip duration value is 1 sec which indicates ride cancelled by the rider or rejected by the driver, after the taxi reached the pickup spot.\n",
    "- The maximum trip duration of 980 minutes or around 41 days is definitely an outlier and should be handled.\n",
    "- The Q3 of the data is around 17-18 minutes which shows that people in NYC prefer shorter cab trips.\n",
    "    \n",
    "</div>"
   ]
  },
  {
   "cell_type": "code",
   "execution_count": 13,
   "id": "d73e432c",
   "metadata": {
    "execution": {
     "iopub.execute_input": "2024-01-18T14:30:22.353561Z",
     "iopub.status.busy": "2024-01-18T14:30:22.352876Z",
     "iopub.status.idle": "2024-01-18T14:30:22.358343Z",
     "shell.execute_reply": "2024-01-18T14:30:22.357541Z"
    },
    "papermill": {
     "duration": 0.025907,
     "end_time": "2024-01-18T14:30:22.360416",
     "exception": false,
     "start_time": "2024-01-18T14:30:22.334509",
     "status": "completed"
    },
    "tags": []
   },
   "outputs": [
    {
     "data": {
      "text/plain": [
       "17.916666666666668"
      ]
     },
     "execution_count": 13,
     "metadata": {},
     "output_type": "execute_result"
    }
   ],
   "source": [
    "(1.075000e+03 * 60) / 3600"
   ]
  },
  {
   "cell_type": "markdown",
   "id": "2aec8252",
   "metadata": {
    "papermill": {
     "duration": 0.016694,
     "end_time": "2024-01-18T14:30:22.394530",
     "exception": false,
     "start_time": "2024-01-18T14:30:22.377836",
     "status": "completed"
    },
    "tags": []
   },
   "source": [
    "**Points to Ponder**:\n",
    "Check the minimum and maximum values of latitude and longitude and check whether they are outliers?\n",
    "- Check the extreme longitude and latitude values.\n",
    "- Trip timings for one booking is around 41 days -- An Outlier."
   ]
  },
  {
   "cell_type": "code",
   "execution_count": 14,
   "id": "eedf11e8",
   "metadata": {
    "execution": {
     "iopub.execute_input": "2024-01-18T14:30:22.430597Z",
     "iopub.status.busy": "2024-01-18T14:30:22.430138Z",
     "iopub.status.idle": "2024-01-18T14:30:22.438240Z",
     "shell.execute_reply": "2024-01-18T14:30:22.437158Z"
    },
    "papermill": {
     "duration": 0.029074,
     "end_time": "2024-01-18T14:30:22.440513",
     "exception": false,
     "start_time": "2024-01-18T14:30:22.411439",
     "status": "completed"
    },
    "tags": []
   },
   "outputs": [
    {
     "data": {
      "text/plain": [
       "array(['vendor_id', 'passenger_count', 'store_and_fwd_flag'], dtype='<U18')"
      ]
     },
     "execution_count": 14,
     "metadata": {},
     "output_type": "execute_result"
    }
   ],
   "source": [
    "# statistical summary for the categorical columns\n",
    "\n",
    "cols_to_describe_cat = [col for col in train_df.columns if col not in cols_to_describe_num]\n",
    "cols_to_describe_cat = np.array(cols_to_describe_cat)[[1,4,5]]\n",
    "cols_to_describe_cat"
   ]
  },
  {
   "cell_type": "code",
   "execution_count": 15,
   "id": "17de2f4f",
   "metadata": {
    "execution": {
     "iopub.execute_input": "2024-01-18T14:30:22.476657Z",
     "iopub.status.busy": "2024-01-18T14:30:22.476202Z",
     "iopub.status.idle": "2024-01-18T14:30:22.686850Z",
     "shell.execute_reply": "2024-01-18T14:30:22.685427Z"
    },
    "papermill": {
     "duration": 0.231419,
     "end_time": "2024-01-18T14:30:22.689309",
     "exception": false,
     "start_time": "2024-01-18T14:30:22.457890",
     "status": "completed"
    },
    "tags": []
   },
   "outputs": [
    {
     "name": "stdout",
     "output_type": "stream",
     "text": [
      "The unique value in vendor_id are ----> [1 2]\n",
      "vendor_id\n",
      "2    780302\n",
      "1    678342\n",
      "Name: count, dtype: int64\n",
      "****************************************************************************************************\n",
      "The unique value in passenger_count are ----> [0 1 2 3 4 5 6 7 8 9]\n",
      "passenger_count\n",
      "1    1033540\n",
      "2     210318\n",
      "5      78088\n",
      "3      59896\n",
      "6      48333\n",
      "4      28404\n",
      "0         60\n",
      "7          3\n",
      "9          1\n",
      "8          1\n",
      "Name: count, dtype: int64\n",
      "****************************************************************************************************\n",
      "The unique value in store_and_fwd_flag are ----> ['N' 'Y']\n",
      "store_and_fwd_flag\n",
      "N    1450599\n",
      "Y       8045\n",
      "Name: count, dtype: int64\n",
      "****************************************************************************************************\n"
     ]
    }
   ],
   "source": [
    "# value counts of each categorical column \n",
    "\n",
    "for col in cols_to_describe_cat:\n",
    "    print(f'The unique value in {col} are ---->',np.sort(train_df[col].unique()))\n",
    "    print(train_df[col].value_counts())\n",
    "    print('*' * 100,end='\\n')"
   ]
  },
  {
   "cell_type": "code",
   "execution_count": 16,
   "id": "a4f5fad1",
   "metadata": {
    "execution": {
     "iopub.execute_input": "2024-01-18T14:30:22.726424Z",
     "iopub.status.busy": "2024-01-18T14:30:22.726004Z",
     "iopub.status.idle": "2024-01-18T14:30:22.734684Z",
     "shell.execute_reply": "2024-01-18T14:30:22.733541Z"
    },
    "papermill": {
     "duration": 0.029636,
     "end_time": "2024-01-18T14:30:22.737008",
     "exception": false,
     "start_time": "2024-01-18T14:30:22.707372",
     "status": "completed"
    },
    "tags": []
   },
   "outputs": [
    {
     "data": {
      "text/plain": [
       "id                     object\n",
       "vendor_id               int64\n",
       "pickup_datetime        object\n",
       "dropoff_datetime       object\n",
       "passenger_count         int64\n",
       "pickup_longitude      float64\n",
       "pickup_latitude       float64\n",
       "dropoff_longitude     float64\n",
       "dropoff_latitude      float64\n",
       "store_and_fwd_flag     object\n",
       "trip_duration           int64\n",
       "dtype: object"
      ]
     },
     "execution_count": 16,
     "metadata": {},
     "output_type": "execute_result"
    }
   ],
   "source": [
    "# datatypes of train data\n",
    "\n",
    "train_df.dtypes"
   ]
  },
  {
   "cell_type": "code",
   "execution_count": 17,
   "id": "0cf0a963",
   "metadata": {
    "execution": {
     "iopub.execute_input": "2024-01-18T14:30:22.775355Z",
     "iopub.status.busy": "2024-01-18T14:30:22.774986Z",
     "iopub.status.idle": "2024-01-18T14:30:23.486689Z",
     "shell.execute_reply": "2024-01-18T14:30:23.485649Z"
    },
    "papermill": {
     "duration": 0.734395,
     "end_time": "2024-01-18T14:30:23.489366",
     "exception": false,
     "start_time": "2024-01-18T14:30:22.754971",
     "status": "completed"
    },
    "tags": []
   },
   "outputs": [
    {
     "name": "stdout",
     "output_type": "stream",
     "text": [
      "<class 'pandas.core.frame.DataFrame'>\n",
      "RangeIndex: 1458644 entries, 0 to 1458643\n",
      "Data columns (total 11 columns):\n",
      " #   Column              Dtype  \n",
      "---  ------              -----  \n",
      " 0   id                  object \n",
      " 1   vendor_id           int64  \n",
      " 2   pickup_datetime     object \n",
      " 3   dropoff_datetime    object \n",
      " 4   passenger_count     int64  \n",
      " 5   pickup_longitude    float64\n",
      " 6   pickup_latitude     float64\n",
      " 7   dropoff_longitude   float64\n",
      " 8   dropoff_latitude    float64\n",
      " 9   store_and_fwd_flag  object \n",
      " 10  trip_duration       int64  \n",
      "dtypes: float64(4), int64(3), object(4)\n",
      "memory usage: 461.8 MB\n"
     ]
    }
   ],
   "source": [
    "# info about the data frame\n",
    "\n",
    "train_df.info(memory_usage='deep',show_counts=False)"
   ]
  },
  {
   "cell_type": "markdown",
   "id": "64531ee6",
   "metadata": {
    "papermill": {
     "duration": 0.017525,
     "end_time": "2024-01-18T14:30:23.524404",
     "exception": false,
     "start_time": "2024-01-18T14:30:23.506879",
     "status": "completed"
    },
    "tags": []
   },
   "source": [
    "**The memory usage is 461.8 MB**"
   ]
  },
  {
   "cell_type": "code",
   "execution_count": 18,
   "id": "29d0284b",
   "metadata": {
    "execution": {
     "iopub.execute_input": "2024-01-18T14:30:23.562094Z",
     "iopub.status.busy": "2024-01-18T14:30:23.561103Z",
     "iopub.status.idle": "2024-01-18T14:30:23.571453Z",
     "shell.execute_reply": "2024-01-18T14:30:23.570526Z"
    },
    "papermill": {
     "duration": 0.032152,
     "end_time": "2024-01-18T14:30:23.573962",
     "exception": false,
     "start_time": "2024-01-18T14:30:23.541810",
     "status": "completed"
    },
    "tags": []
   },
   "outputs": [],
   "source": [
    "# convert the big sized integer columns to small size\n",
    "\n",
    "train_df['vendor_id'] = train_df['vendor_id'].astype(np.int8)\n",
    "train_df['passenger_count'] = train_df['vendor_id'].astype(np.int16)"
   ]
  },
  {
   "cell_type": "code",
   "execution_count": 19,
   "id": "ef87e98d",
   "metadata": {
    "execution": {
     "iopub.execute_input": "2024-01-18T14:30:23.611633Z",
     "iopub.status.busy": "2024-01-18T14:30:23.610959Z",
     "iopub.status.idle": "2024-01-18T14:30:24.377786Z",
     "shell.execute_reply": "2024-01-18T14:30:24.376241Z"
    },
    "papermill": {
     "duration": 0.788774,
     "end_time": "2024-01-18T14:30:24.380488",
     "exception": false,
     "start_time": "2024-01-18T14:30:23.591714",
     "status": "completed"
    },
    "tags": []
   },
   "outputs": [
    {
     "name": "stdout",
     "output_type": "stream",
     "text": [
      "<class 'pandas.core.frame.DataFrame'>\n",
      "RangeIndex: 1458644 entries, 0 to 1458643\n",
      "Data columns (total 11 columns):\n",
      " #   Column              Dtype  \n",
      "---  ------              -----  \n",
      " 0   id                  object \n",
      " 1   vendor_id           int8   \n",
      " 2   pickup_datetime     object \n",
      " 3   dropoff_datetime    object \n",
      " 4   passenger_count     int16  \n",
      " 5   pickup_longitude    float64\n",
      " 6   pickup_latitude     float64\n",
      " 7   dropoff_longitude   float64\n",
      " 8   dropoff_latitude    float64\n",
      " 9   store_and_fwd_flag  object \n",
      " 10  trip_duration       int64  \n",
      "dtypes: float64(4), int16(1), int64(1), int8(1), object(4)\n",
      "memory usage: 443.8 MB\n"
     ]
    }
   ],
   "source": [
    "train_df.info(memory_usage='deep',show_counts=False)"
   ]
  },
  {
   "cell_type": "markdown",
   "id": "5de18484",
   "metadata": {
    "papermill": {
     "duration": 0.020096,
     "end_time": "2024-01-18T14:30:24.487164",
     "exception": false,
     "start_time": "2024-01-18T14:30:24.467068",
     "status": "completed"
    },
    "tags": []
   },
   "source": [
    "**Convert data types**\n",
    "1. id - remove 'id' and make it numerical.\n",
    "2. pickup_datetime - change to datetime\n",
    "3. dropoff_datetime - change to datetime"
   ]
  },
  {
   "cell_type": "markdown",
   "id": "ef9eb950",
   "metadata": {
    "execution": {
     "iopub.execute_input": "2023-12-31T11:35:44.539791Z",
     "iopub.status.busy": "2023-12-31T11:35:44.539341Z",
     "iopub.status.idle": "2023-12-31T11:35:44.552673Z",
     "shell.execute_reply": "2023-12-31T11:35:44.551552Z",
     "shell.execute_reply.started": "2023-12-31T11:35:44.539747Z"
    },
    "papermill": {
     "duration": 0.017453,
     "end_time": "2024-01-18T14:30:24.533691",
     "exception": false,
     "start_time": "2024-01-18T14:30:24.516238",
     "status": "completed"
    },
    "tags": []
   },
   "source": [
    "# EDA(Exploratory Data Analysis)"
   ]
  },
  {
   "cell_type": "code",
   "execution_count": 20,
   "id": "07cea6e5",
   "metadata": {
    "execution": {
     "iopub.execute_input": "2024-01-18T14:30:24.571383Z",
     "iopub.status.busy": "2024-01-18T14:30:24.571010Z",
     "iopub.status.idle": "2024-01-18T14:30:24.578501Z",
     "shell.execute_reply": "2024-01-18T14:30:24.577670Z"
    },
    "papermill": {
     "duration": 0.029705,
     "end_time": "2024-01-18T14:30:24.581089",
     "exception": false,
     "start_time": "2024-01-18T14:30:24.551384",
     "status": "completed"
    },
    "tags": []
   },
   "outputs": [
    {
     "data": {
      "text/plain": [
       "Index(['id', 'vendor_id', 'pickup_datetime', 'dropoff_datetime',\n",
       "       'passenger_count', 'pickup_longitude', 'pickup_latitude',\n",
       "       'dropoff_longitude', 'dropoff_latitude', 'store_and_fwd_flag',\n",
       "       'trip_duration'],\n",
       "      dtype='object')"
      ]
     },
     "execution_count": 20,
     "metadata": {},
     "output_type": "execute_result"
    }
   ],
   "source": [
    "# train_df columns\n",
    "train_df.columns"
   ]
  },
  {
   "cell_type": "markdown",
   "id": "6864ab5b",
   "metadata": {
    "papermill": {
     "duration": 0.017276,
     "end_time": "2024-01-18T14:30:24.618059",
     "exception": false,
     "start_time": "2024-01-18T14:30:24.600783",
     "status": "completed"
    },
    "tags": []
   },
   "source": [
    "## id"
   ]
  },
  {
   "cell_type": "code",
   "execution_count": 21,
   "id": "a4f005e6",
   "metadata": {
    "execution": {
     "iopub.execute_input": "2024-01-18T14:30:24.661145Z",
     "iopub.status.busy": "2024-01-18T14:30:24.659520Z",
     "iopub.status.idle": "2024-01-18T14:30:24.668727Z",
     "shell.execute_reply": "2024-01-18T14:30:24.667554Z"
    },
    "papermill": {
     "duration": 0.035282,
     "end_time": "2024-01-18T14:30:24.671257",
     "exception": false,
     "start_time": "2024-01-18T14:30:24.635975",
     "status": "completed"
    },
    "tags": []
   },
   "outputs": [
    {
     "data": {
      "text/plain": [
       "0    id2875421\n",
       "1    id2377394\n",
       "2    id3858529\n",
       "3    id3504673\n",
       "4    id2181028\n",
       "Name: id, dtype: object"
      ]
     },
     "execution_count": 21,
     "metadata": {},
     "output_type": "execute_result"
    }
   ],
   "source": [
    "train_df['id'].head()"
   ]
  },
  {
   "cell_type": "code",
   "execution_count": 22,
   "id": "d7212610",
   "metadata": {
    "execution": {
     "iopub.execute_input": "2024-01-18T14:30:24.723699Z",
     "iopub.status.busy": "2024-01-18T14:30:24.722885Z",
     "iopub.status.idle": "2024-01-18T14:30:25.384001Z",
     "shell.execute_reply": "2024-01-18T14:30:25.383040Z"
    },
    "papermill": {
     "duration": 0.688123,
     "end_time": "2024-01-18T14:30:25.386279",
     "exception": false,
     "start_time": "2024-01-18T14:30:24.698156",
     "status": "completed"
    },
    "tags": []
   },
   "outputs": [
    {
     "data": {
      "text/plain": [
       "0          2875421\n",
       "1          2377394\n",
       "2          3858529\n",
       "3          3504673\n",
       "4          2181028\n",
       "            ...   \n",
       "1458639    2376096\n",
       "1458640    1049543\n",
       "1458641    2304944\n",
       "1458642    2714485\n",
       "1458643    1209952\n",
       "Name: id, Length: 1458644, dtype: object"
      ]
     },
     "execution_count": 22,
     "metadata": {},
     "output_type": "execute_result"
    }
   ],
   "source": [
    "# remove the id tag from all the rows\n",
    "\n",
    "def remove_id_tag(data):\n",
    "    data['id'] = data['id'].str.replace('id','')\n",
    "    return data['id']\n",
    "\n",
    "# remove tag from train data\n",
    "remove_id_tag(train_df)"
   ]
  },
  {
   "cell_type": "code",
   "execution_count": 23,
   "id": "76c01201",
   "metadata": {
    "execution": {
     "iopub.execute_input": "2024-01-18T14:30:25.424521Z",
     "iopub.status.busy": "2024-01-18T14:30:25.424119Z",
     "iopub.status.idle": "2024-01-18T14:30:25.708730Z",
     "shell.execute_reply": "2024-01-18T14:30:25.707541Z"
    },
    "papermill": {
     "duration": 0.307303,
     "end_time": "2024-01-18T14:30:25.712089",
     "exception": false,
     "start_time": "2024-01-18T14:30:25.404786",
     "status": "completed"
    },
    "tags": []
   },
   "outputs": [
    {
     "data": {
      "text/plain": [
       "0         3004672\n",
       "1         3505355\n",
       "2         1217141\n",
       "3         2150126\n",
       "4         1598245\n",
       "           ...   \n",
       "625129    3008929\n",
       "625130    3700764\n",
       "625131    2568735\n",
       "625132    1384355\n",
       "625133    0621643\n",
       "Name: id, Length: 625134, dtype: object"
      ]
     },
     "execution_count": 23,
     "metadata": {},
     "output_type": "execute_result"
    }
   ],
   "source": [
    "# remove tag from test data\n",
    "remove_id_tag(test_df)"
   ]
  },
  {
   "cell_type": "code",
   "execution_count": 24,
   "id": "6b706b12",
   "metadata": {
    "execution": {
     "iopub.execute_input": "2024-01-18T14:30:25.752296Z",
     "iopub.status.busy": "2024-01-18T14:30:25.751923Z",
     "iopub.status.idle": "2024-01-18T14:30:25.979747Z",
     "shell.execute_reply": "2024-01-18T14:30:25.978523Z"
    },
    "papermill": {
     "duration": 0.251113,
     "end_time": "2024-01-18T14:30:25.982388",
     "exception": false,
     "start_time": "2024-01-18T14:30:25.731275",
     "status": "completed"
    },
    "tags": []
   },
   "outputs": [],
   "source": [
    "# convert the id column to integer\n",
    "train_df['id'] = train_df['id'].astype('int')\n",
    "test_df['id'] = test_df['id'].astype('int')"
   ]
  },
  {
   "cell_type": "code",
   "execution_count": 25,
   "id": "cb822a7d",
   "metadata": {
    "execution": {
     "iopub.execute_input": "2024-01-18T14:30:26.021424Z",
     "iopub.status.busy": "2024-01-18T14:30:26.021047Z",
     "iopub.status.idle": "2024-01-18T14:30:26.298603Z",
     "shell.execute_reply": "2024-01-18T14:30:26.297482Z"
    },
    "papermill": {
     "duration": 0.300022,
     "end_time": "2024-01-18T14:30:26.301172",
     "exception": false,
     "start_time": "2024-01-18T14:30:26.001150",
     "status": "completed"
    },
    "tags": []
   },
   "outputs": [],
   "source": [
    "# test if id column is required\n",
    "\n",
    "def test_id_column(data):\n",
    "    if data.shape[0] == data['id'].nunique():\n",
    "        new_data = data.drop(columns='id')\n",
    "        return new_data\n",
    "    else:\n",
    "        return data\n",
    "    \n",
    "train_df_new = test_id_column(train_df)\n",
    "test_df_new = test_id_column(test_df)"
   ]
  },
  {
   "cell_type": "code",
   "execution_count": 26,
   "id": "9ee63534",
   "metadata": {
    "execution": {
     "iopub.execute_input": "2024-01-18T14:30:26.340400Z",
     "iopub.status.busy": "2024-01-18T14:30:26.340029Z",
     "iopub.status.idle": "2024-01-18T14:30:26.360127Z",
     "shell.execute_reply": "2024-01-18T14:30:26.358934Z"
    },
    "papermill": {
     "duration": 0.042843,
     "end_time": "2024-01-18T14:30:26.362510",
     "exception": false,
     "start_time": "2024-01-18T14:30:26.319667",
     "status": "completed"
    },
    "tags": []
   },
   "outputs": [
    {
     "data": {
      "text/html": [
       "<div>\n",
       "<style scoped>\n",
       "    .dataframe tbody tr th:only-of-type {\n",
       "        vertical-align: middle;\n",
       "    }\n",
       "\n",
       "    .dataframe tbody tr th {\n",
       "        vertical-align: top;\n",
       "    }\n",
       "\n",
       "    .dataframe thead th {\n",
       "        text-align: right;\n",
       "    }\n",
       "</style>\n",
       "<table border=\"1\" class=\"dataframe\">\n",
       "  <thead>\n",
       "    <tr style=\"text-align: right;\">\n",
       "      <th></th>\n",
       "      <th>vendor_id</th>\n",
       "      <th>pickup_datetime</th>\n",
       "      <th>dropoff_datetime</th>\n",
       "      <th>passenger_count</th>\n",
       "      <th>pickup_longitude</th>\n",
       "      <th>pickup_latitude</th>\n",
       "      <th>dropoff_longitude</th>\n",
       "      <th>dropoff_latitude</th>\n",
       "      <th>store_and_fwd_flag</th>\n",
       "      <th>trip_duration</th>\n",
       "    </tr>\n",
       "  </thead>\n",
       "  <tbody>\n",
       "    <tr>\n",
       "      <th>0</th>\n",
       "      <td>2</td>\n",
       "      <td>2016-03-14 17:24:55</td>\n",
       "      <td>2016-03-14 17:32:30</td>\n",
       "      <td>2</td>\n",
       "      <td>-73.982155</td>\n",
       "      <td>40.767937</td>\n",
       "      <td>-73.964630</td>\n",
       "      <td>40.765602</td>\n",
       "      <td>N</td>\n",
       "      <td>455</td>\n",
       "    </tr>\n",
       "    <tr>\n",
       "      <th>1</th>\n",
       "      <td>1</td>\n",
       "      <td>2016-06-12 00:43:35</td>\n",
       "      <td>2016-06-12 00:54:38</td>\n",
       "      <td>1</td>\n",
       "      <td>-73.980415</td>\n",
       "      <td>40.738564</td>\n",
       "      <td>-73.999481</td>\n",
       "      <td>40.731152</td>\n",
       "      <td>N</td>\n",
       "      <td>663</td>\n",
       "    </tr>\n",
       "    <tr>\n",
       "      <th>2</th>\n",
       "      <td>2</td>\n",
       "      <td>2016-01-19 11:35:24</td>\n",
       "      <td>2016-01-19 12:10:48</td>\n",
       "      <td>2</td>\n",
       "      <td>-73.979027</td>\n",
       "      <td>40.763939</td>\n",
       "      <td>-74.005333</td>\n",
       "      <td>40.710087</td>\n",
       "      <td>N</td>\n",
       "      <td>2124</td>\n",
       "    </tr>\n",
       "    <tr>\n",
       "      <th>3</th>\n",
       "      <td>2</td>\n",
       "      <td>2016-04-06 19:32:31</td>\n",
       "      <td>2016-04-06 19:39:40</td>\n",
       "      <td>2</td>\n",
       "      <td>-74.010040</td>\n",
       "      <td>40.719971</td>\n",
       "      <td>-74.012268</td>\n",
       "      <td>40.706718</td>\n",
       "      <td>N</td>\n",
       "      <td>429</td>\n",
       "    </tr>\n",
       "    <tr>\n",
       "      <th>4</th>\n",
       "      <td>2</td>\n",
       "      <td>2016-03-26 13:30:55</td>\n",
       "      <td>2016-03-26 13:38:10</td>\n",
       "      <td>2</td>\n",
       "      <td>-73.973053</td>\n",
       "      <td>40.793209</td>\n",
       "      <td>-73.972923</td>\n",
       "      <td>40.782520</td>\n",
       "      <td>N</td>\n",
       "      <td>435</td>\n",
       "    </tr>\n",
       "    <tr>\n",
       "      <th>...</th>\n",
       "      <td>...</td>\n",
       "      <td>...</td>\n",
       "      <td>...</td>\n",
       "      <td>...</td>\n",
       "      <td>...</td>\n",
       "      <td>...</td>\n",
       "      <td>...</td>\n",
       "      <td>...</td>\n",
       "      <td>...</td>\n",
       "      <td>...</td>\n",
       "    </tr>\n",
       "    <tr>\n",
       "      <th>1458639</th>\n",
       "      <td>2</td>\n",
       "      <td>2016-04-08 13:31:04</td>\n",
       "      <td>2016-04-08 13:44:02</td>\n",
       "      <td>2</td>\n",
       "      <td>-73.982201</td>\n",
       "      <td>40.745522</td>\n",
       "      <td>-73.994911</td>\n",
       "      <td>40.740170</td>\n",
       "      <td>N</td>\n",
       "      <td>778</td>\n",
       "    </tr>\n",
       "    <tr>\n",
       "      <th>1458640</th>\n",
       "      <td>1</td>\n",
       "      <td>2016-01-10 07:35:15</td>\n",
       "      <td>2016-01-10 07:46:10</td>\n",
       "      <td>1</td>\n",
       "      <td>-74.000946</td>\n",
       "      <td>40.747379</td>\n",
       "      <td>-73.970184</td>\n",
       "      <td>40.796547</td>\n",
       "      <td>N</td>\n",
       "      <td>655</td>\n",
       "    </tr>\n",
       "    <tr>\n",
       "      <th>1458641</th>\n",
       "      <td>2</td>\n",
       "      <td>2016-04-22 06:57:41</td>\n",
       "      <td>2016-04-22 07:10:25</td>\n",
       "      <td>2</td>\n",
       "      <td>-73.959129</td>\n",
       "      <td>40.768799</td>\n",
       "      <td>-74.004433</td>\n",
       "      <td>40.707371</td>\n",
       "      <td>N</td>\n",
       "      <td>764</td>\n",
       "    </tr>\n",
       "    <tr>\n",
       "      <th>1458642</th>\n",
       "      <td>1</td>\n",
       "      <td>2016-01-05 15:56:26</td>\n",
       "      <td>2016-01-05 16:02:39</td>\n",
       "      <td>1</td>\n",
       "      <td>-73.982079</td>\n",
       "      <td>40.749062</td>\n",
       "      <td>-73.974632</td>\n",
       "      <td>40.757107</td>\n",
       "      <td>N</td>\n",
       "      <td>373</td>\n",
       "    </tr>\n",
       "    <tr>\n",
       "      <th>1458643</th>\n",
       "      <td>1</td>\n",
       "      <td>2016-04-05 14:44:25</td>\n",
       "      <td>2016-04-05 14:47:43</td>\n",
       "      <td>1</td>\n",
       "      <td>-73.979538</td>\n",
       "      <td>40.781750</td>\n",
       "      <td>-73.972809</td>\n",
       "      <td>40.790585</td>\n",
       "      <td>N</td>\n",
       "      <td>198</td>\n",
       "    </tr>\n",
       "  </tbody>\n",
       "</table>\n",
       "<p>1458644 rows × 10 columns</p>\n",
       "</div>"
      ],
      "text/plain": [
       "         vendor_id      pickup_datetime     dropoff_datetime  passenger_count  \\\n",
       "0                2  2016-03-14 17:24:55  2016-03-14 17:32:30                2   \n",
       "1                1  2016-06-12 00:43:35  2016-06-12 00:54:38                1   \n",
       "2                2  2016-01-19 11:35:24  2016-01-19 12:10:48                2   \n",
       "3                2  2016-04-06 19:32:31  2016-04-06 19:39:40                2   \n",
       "4                2  2016-03-26 13:30:55  2016-03-26 13:38:10                2   \n",
       "...            ...                  ...                  ...              ...   \n",
       "1458639          2  2016-04-08 13:31:04  2016-04-08 13:44:02                2   \n",
       "1458640          1  2016-01-10 07:35:15  2016-01-10 07:46:10                1   \n",
       "1458641          2  2016-04-22 06:57:41  2016-04-22 07:10:25                2   \n",
       "1458642          1  2016-01-05 15:56:26  2016-01-05 16:02:39                1   \n",
       "1458643          1  2016-04-05 14:44:25  2016-04-05 14:47:43                1   \n",
       "\n",
       "         pickup_longitude  pickup_latitude  dropoff_longitude  \\\n",
       "0              -73.982155        40.767937         -73.964630   \n",
       "1              -73.980415        40.738564         -73.999481   \n",
       "2              -73.979027        40.763939         -74.005333   \n",
       "3              -74.010040        40.719971         -74.012268   \n",
       "4              -73.973053        40.793209         -73.972923   \n",
       "...                   ...              ...                ...   \n",
       "1458639        -73.982201        40.745522         -73.994911   \n",
       "1458640        -74.000946        40.747379         -73.970184   \n",
       "1458641        -73.959129        40.768799         -74.004433   \n",
       "1458642        -73.982079        40.749062         -73.974632   \n",
       "1458643        -73.979538        40.781750         -73.972809   \n",
       "\n",
       "         dropoff_latitude store_and_fwd_flag  trip_duration  \n",
       "0               40.765602                  N            455  \n",
       "1               40.731152                  N            663  \n",
       "2               40.710087                  N           2124  \n",
       "3               40.706718                  N            429  \n",
       "4               40.782520                  N            435  \n",
       "...                   ...                ...            ...  \n",
       "1458639         40.740170                  N            778  \n",
       "1458640         40.796547                  N            655  \n",
       "1458641         40.707371                  N            764  \n",
       "1458642         40.757107                  N            373  \n",
       "1458643         40.790585                  N            198  \n",
       "\n",
       "[1458644 rows x 10 columns]"
      ]
     },
     "execution_count": 26,
     "metadata": {},
     "output_type": "execute_result"
    }
   ],
   "source": [
    "train_df_new"
   ]
  },
  {
   "cell_type": "markdown",
   "id": "2f123004",
   "metadata": {
    "papermill": {
     "duration": 0.018343,
     "end_time": "2024-01-18T14:30:26.399423",
     "exception": false,
     "start_time": "2024-01-18T14:30:26.381080",
     "status": "completed"
    },
    "tags": []
   },
   "source": [
    "## vendor_id"
   ]
  },
  {
   "cell_type": "code",
   "execution_count": 27,
   "id": "93aeee6e",
   "metadata": {
    "execution": {
     "iopub.execute_input": "2024-01-18T14:30:26.438281Z",
     "iopub.status.busy": "2024-01-18T14:30:26.437880Z",
     "iopub.status.idle": "2024-01-18T14:30:26.461365Z",
     "shell.execute_reply": "2024-01-18T14:30:26.460430Z"
    },
    "papermill": {
     "duration": 0.0454,
     "end_time": "2024-01-18T14:30:26.463557",
     "exception": false,
     "start_time": "2024-01-18T14:30:26.418157",
     "status": "completed"
    },
    "tags": []
   },
   "outputs": [
    {
     "data": {
      "text/plain": [
       "vendor_id\n",
       "1    678342\n",
       "2    780302\n",
       "Name: count, dtype: int64"
      ]
     },
     "execution_count": 27,
     "metadata": {},
     "output_type": "execute_result"
    }
   ],
   "source": [
    "# categories in the vendor id column\n",
    "\n",
    "train_df_new['vendor_id'].value_counts().sort_index()"
   ]
  },
  {
   "cell_type": "code",
   "execution_count": 28,
   "id": "d1003a10",
   "metadata": {
    "execution": {
     "iopub.execute_input": "2024-01-18T14:30:26.503752Z",
     "iopub.status.busy": "2024-01-18T14:30:26.503271Z",
     "iopub.status.idle": "2024-01-18T14:30:26.722132Z",
     "shell.execute_reply": "2024-01-18T14:30:26.720799Z"
    },
    "papermill": {
     "duration": 0.242478,
     "end_time": "2024-01-18T14:30:26.725455",
     "exception": false,
     "start_time": "2024-01-18T14:30:26.482977",
     "status": "completed"
    },
    "tags": []
   },
   "outputs": [
    {
     "data": {
      "image/png": "[encoded data removed]",
      "text/plain": [
       "<Figure size 1200x600 with 1 Axes>"
      ]
     },
     "metadata": {},
     "output_type": "display_data"
    }
   ],
   "source": [
    "# pie chart showing distribution\n",
    "fig = plt.figure(figsize=(12,6))\n",
    "plt.pie(train_df_new['vendor_id'].value_counts().sort_index(),autopct='%.2f%%',\n",
    "        explode=[0.2,0],shadow=True,labels=['Vendor 1','Vendor 2'],labeldistance=0.2)\n",
    "plt.title('Distribution of Rides according to vendor id')\n",
    "plt.show()"
   ]
  },
  {
   "cell_type": "markdown",
   "id": "56e46ae2",
   "metadata": {
    "papermill": {
     "duration": 0.021336,
     "end_time": "2024-01-18T14:30:26.781263",
     "exception": false,
     "start_time": "2024-01-18T14:30:26.759927",
     "status": "completed"
    },
    "tags": []
   },
   "source": [
    "- People are more likely to select vendor 2 for its services as compared to vendor 1."
   ]
  },
  {
   "cell_type": "markdown",
   "id": "654b3203",
   "metadata": {
    "papermill": {
     "duration": 0.019032,
     "end_time": "2024-01-18T14:30:26.820802",
     "exception": false,
     "start_time": "2024-01-18T14:30:26.801770",
     "status": "completed"
    },
    "tags": []
   },
   "source": [
    "## pickup datetime"
   ]
  },
  {
   "cell_type": "code",
   "execution_count": 29,
   "id": "c1395728",
   "metadata": {
    "execution": {
     "iopub.execute_input": "2024-01-18T14:30:26.862414Z",
     "iopub.status.busy": "2024-01-18T14:30:26.861696Z",
     "iopub.status.idle": "2024-01-18T14:30:27.632288Z",
     "shell.execute_reply": "2024-01-18T14:30:27.631335Z"
    },
    "papermill": {
     "duration": 0.794361,
     "end_time": "2024-01-18T14:30:27.634848",
     "exception": false,
     "start_time": "2024-01-18T14:30:26.840487",
     "status": "completed"
    },
    "tags": []
   },
   "outputs": [],
   "source": [
    "# change the column to datetime\n",
    "train_df_new['pickup_datetime'] = pd.to_datetime(train_df_new['pickup_datetime'])\n",
    "test_df_new['pickup_datetime'] = pd.to_datetime(test_df_new['pickup_datetime'])"
   ]
  },
  {
   "cell_type": "code",
   "execution_count": 30,
   "id": "22593d0c",
   "metadata": {
    "execution": {
     "iopub.execute_input": "2024-01-18T14:30:27.677531Z",
     "iopub.status.busy": "2024-01-18T14:30:27.677087Z",
     "iopub.status.idle": "2024-01-18T14:30:27.683539Z",
     "shell.execute_reply": "2024-01-18T14:30:27.682525Z"
    },
    "papermill": {
     "duration": 0.031323,
     "end_time": "2024-01-18T14:30:27.685721",
     "exception": false,
     "start_time": "2024-01-18T14:30:27.654398",
     "status": "completed"
    },
    "tags": []
   },
   "outputs": [
    {
     "data": {
      "text/plain": [
       "(1458644, 10)"
      ]
     },
     "execution_count": 30,
     "metadata": {},
     "output_type": "execute_result"
    }
   ],
   "source": [
    "train_df_new.shape"
   ]
  },
  {
   "cell_type": "code",
   "execution_count": 31,
   "id": "ee796232",
   "metadata": {
    "execution": {
     "iopub.execute_input": "2024-01-18T14:30:27.726044Z",
     "iopub.status.busy": "2024-01-18T14:30:27.725639Z",
     "iopub.status.idle": "2024-01-18T14:30:27.899842Z",
     "shell.execute_reply": "2024-01-18T14:30:27.898934Z"
    },
    "papermill": {
     "duration": 0.197283,
     "end_time": "2024-01-18T14:30:27.902223",
     "exception": false,
     "start_time": "2024-01-18T14:30:27.704940",
     "status": "completed"
    },
    "tags": []
   },
   "outputs": [
    {
     "data": {
      "text/plain": [
       "0          0\n",
       "1          6\n",
       "2          1\n",
       "3          2\n",
       "4          5\n",
       "          ..\n",
       "1458639    4\n",
       "1458640    6\n",
       "1458641    4\n",
       "1458642    1\n",
       "1458643    1\n",
       "Name: pickup_datetime, Length: 1458644, dtype: int32"
      ]
     },
     "execution_count": 31,
     "metadata": {},
     "output_type": "execute_result"
    }
   ],
   "source": [
    "train_df_new['pickup_datetime'].dt.weekday"
   ]
  },
  {
   "cell_type": "code",
   "execution_count": 32,
   "id": "ebc76578",
   "metadata": {
    "execution": {
     "iopub.execute_input": "2024-01-18T14:30:27.945142Z",
     "iopub.status.busy": "2024-01-18T14:30:27.944473Z",
     "iopub.status.idle": "2024-01-18T14:30:27.950980Z",
     "shell.execute_reply": "2024-01-18T14:30:27.949786Z"
    },
    "papermill": {
     "duration": 0.031661,
     "end_time": "2024-01-18T14:30:27.953528",
     "exception": false,
     "start_time": "2024-01-18T14:30:27.921867",
     "status": "completed"
    },
    "tags": []
   },
   "outputs": [],
   "source": [
    "# feature extraction\n",
    "\n",
    "def make_datetime_features(data,column_type):\n",
    "    data[f'{column_type}_hour'] = data[f'{column_type}_datetime'].dt.hour \n",
    "    data[f'{column_type}_date'] = data[f'{column_type}_datetime'].dt.day\n",
    "    data[f'{column_type}_month'] = data[f'{column_type}_datetime'].dt.month\n",
    "    data[f'{column_type}_day'] = data[f'{column_type}_datetime'].dt.weekday\n",
    "    data[f'is_weekend'] = data.apply(lambda row: row[f'{column_type}_day'] >= 5,axis=1).astype('int')\n",
    "    return data"
   ]
  },
  {
   "cell_type": "code",
   "execution_count": 33,
   "id": "381f5f0e",
   "metadata": {
    "execution": {
     "iopub.execute_input": "2024-01-18T14:30:27.994994Z",
     "iopub.status.busy": "2024-01-18T14:30:27.994353Z",
     "iopub.status.idle": "2024-01-18T14:30:48.424985Z",
     "shell.execute_reply": "2024-01-18T14:30:48.423745Z"
    },
    "papermill": {
     "duration": 20.454289,
     "end_time": "2024-01-18T14:30:48.427388",
     "exception": false,
     "start_time": "2024-01-18T14:30:27.973099",
     "status": "completed"
    },
    "tags": []
   },
   "outputs": [
    {
     "data": {
      "text/html": [
       "<div>\n",
       "<style scoped>\n",
       "    .dataframe tbody tr th:only-of-type {\n",
       "        vertical-align: middle;\n",
       "    }\n",
       "\n",
       "    .dataframe tbody tr th {\n",
       "        vertical-align: top;\n",
       "    }\n",
       "\n",
       "    .dataframe thead th {\n",
       "        text-align: right;\n",
       "    }\n",
       "</style>\n",
       "<table border=\"1\" class=\"dataframe\">\n",
       "  <thead>\n",
       "    <tr style=\"text-align: right;\">\n",
       "      <th></th>\n",
       "      <th>vendor_id</th>\n",
       "      <th>pickup_datetime</th>\n",
       "      <th>passenger_count</th>\n",
       "      <th>pickup_longitude</th>\n",
       "      <th>pickup_latitude</th>\n",
       "      <th>dropoff_longitude</th>\n",
       "      <th>dropoff_latitude</th>\n",
       "      <th>store_and_fwd_flag</th>\n",
       "      <th>pickup_hour</th>\n",
       "      <th>pickup_date</th>\n",
       "      <th>pickup_month</th>\n",
       "      <th>pickup_day</th>\n",
       "      <th>is_weekend</th>\n",
       "    </tr>\n",
       "  </thead>\n",
       "  <tbody>\n",
       "    <tr>\n",
       "      <th>0</th>\n",
       "      <td>1</td>\n",
       "      <td>2016-06-30 23:59:58</td>\n",
       "      <td>1</td>\n",
       "      <td>-73.988129</td>\n",
       "      <td>40.732029</td>\n",
       "      <td>-73.990173</td>\n",
       "      <td>40.756680</td>\n",
       "      <td>N</td>\n",
       "      <td>23</td>\n",
       "      <td>30</td>\n",
       "      <td>6</td>\n",
       "      <td>3</td>\n",
       "      <td>0</td>\n",
       "    </tr>\n",
       "    <tr>\n",
       "      <th>1</th>\n",
       "      <td>1</td>\n",
       "      <td>2016-06-30 23:59:53</td>\n",
       "      <td>1</td>\n",
       "      <td>-73.964203</td>\n",
       "      <td>40.679993</td>\n",
       "      <td>-73.959808</td>\n",
       "      <td>40.655403</td>\n",
       "      <td>N</td>\n",
       "      <td>23</td>\n",
       "      <td>30</td>\n",
       "      <td>6</td>\n",
       "      <td>3</td>\n",
       "      <td>0</td>\n",
       "    </tr>\n",
       "    <tr>\n",
       "      <th>2</th>\n",
       "      <td>1</td>\n",
       "      <td>2016-06-30 23:59:47</td>\n",
       "      <td>1</td>\n",
       "      <td>-73.997437</td>\n",
       "      <td>40.737583</td>\n",
       "      <td>-73.986160</td>\n",
       "      <td>40.729523</td>\n",
       "      <td>N</td>\n",
       "      <td>23</td>\n",
       "      <td>30</td>\n",
       "      <td>6</td>\n",
       "      <td>3</td>\n",
       "      <td>0</td>\n",
       "    </tr>\n",
       "    <tr>\n",
       "      <th>3</th>\n",
       "      <td>2</td>\n",
       "      <td>2016-06-30 23:59:41</td>\n",
       "      <td>1</td>\n",
       "      <td>-73.956070</td>\n",
       "      <td>40.771900</td>\n",
       "      <td>-73.986427</td>\n",
       "      <td>40.730469</td>\n",
       "      <td>N</td>\n",
       "      <td>23</td>\n",
       "      <td>30</td>\n",
       "      <td>6</td>\n",
       "      <td>3</td>\n",
       "      <td>0</td>\n",
       "    </tr>\n",
       "    <tr>\n",
       "      <th>4</th>\n",
       "      <td>1</td>\n",
       "      <td>2016-06-30 23:59:33</td>\n",
       "      <td>1</td>\n",
       "      <td>-73.970215</td>\n",
       "      <td>40.761475</td>\n",
       "      <td>-73.961510</td>\n",
       "      <td>40.755890</td>\n",
       "      <td>N</td>\n",
       "      <td>23</td>\n",
       "      <td>30</td>\n",
       "      <td>6</td>\n",
       "      <td>3</td>\n",
       "      <td>0</td>\n",
       "    </tr>\n",
       "    <tr>\n",
       "      <th>...</th>\n",
       "      <td>...</td>\n",
       "      <td>...</td>\n",
       "      <td>...</td>\n",
       "      <td>...</td>\n",
       "      <td>...</td>\n",
       "      <td>...</td>\n",
       "      <td>...</td>\n",
       "      <td>...</td>\n",
       "      <td>...</td>\n",
       "      <td>...</td>\n",
       "      <td>...</td>\n",
       "      <td>...</td>\n",
       "      <td>...</td>\n",
       "    </tr>\n",
       "    <tr>\n",
       "      <th>625129</th>\n",
       "      <td>1</td>\n",
       "      <td>2016-01-01 00:02:52</td>\n",
       "      <td>1</td>\n",
       "      <td>-74.003464</td>\n",
       "      <td>40.725105</td>\n",
       "      <td>-74.001251</td>\n",
       "      <td>40.733643</td>\n",
       "      <td>N</td>\n",
       "      <td>0</td>\n",
       "      <td>1</td>\n",
       "      <td>1</td>\n",
       "      <td>4</td>\n",
       "      <td>0</td>\n",
       "    </tr>\n",
       "    <tr>\n",
       "      <th>625130</th>\n",
       "      <td>1</td>\n",
       "      <td>2016-01-01 00:01:52</td>\n",
       "      <td>1</td>\n",
       "      <td>-74.006363</td>\n",
       "      <td>40.743782</td>\n",
       "      <td>-73.953407</td>\n",
       "      <td>40.782467</td>\n",
       "      <td>N</td>\n",
       "      <td>0</td>\n",
       "      <td>1</td>\n",
       "      <td>1</td>\n",
       "      <td>4</td>\n",
       "      <td>0</td>\n",
       "    </tr>\n",
       "    <tr>\n",
       "      <th>625131</th>\n",
       "      <td>1</td>\n",
       "      <td>2016-01-01 00:01:24</td>\n",
       "      <td>2</td>\n",
       "      <td>-73.972267</td>\n",
       "      <td>40.759865</td>\n",
       "      <td>-73.876602</td>\n",
       "      <td>40.748665</td>\n",
       "      <td>N</td>\n",
       "      <td>0</td>\n",
       "      <td>1</td>\n",
       "      <td>1</td>\n",
       "      <td>4</td>\n",
       "      <td>0</td>\n",
       "    </tr>\n",
       "    <tr>\n",
       "      <th>625132</th>\n",
       "      <td>1</td>\n",
       "      <td>2016-01-01 00:00:28</td>\n",
       "      <td>1</td>\n",
       "      <td>-73.976501</td>\n",
       "      <td>40.733562</td>\n",
       "      <td>-73.854263</td>\n",
       "      <td>40.891788</td>\n",
       "      <td>N</td>\n",
       "      <td>0</td>\n",
       "      <td>1</td>\n",
       "      <td>1</td>\n",
       "      <td>4</td>\n",
       "      <td>0</td>\n",
       "    </tr>\n",
       "    <tr>\n",
       "      <th>625133</th>\n",
       "      <td>2</td>\n",
       "      <td>2016-01-01 00:00:22</td>\n",
       "      <td>2</td>\n",
       "      <td>-73.981850</td>\n",
       "      <td>40.716881</td>\n",
       "      <td>-73.969330</td>\n",
       "      <td>40.769379</td>\n",
       "      <td>N</td>\n",
       "      <td>0</td>\n",
       "      <td>1</td>\n",
       "      <td>1</td>\n",
       "      <td>4</td>\n",
       "      <td>0</td>\n",
       "    </tr>\n",
       "  </tbody>\n",
       "</table>\n",
       "<p>625134 rows × 13 columns</p>\n",
       "</div>"
      ],
      "text/plain": [
       "        vendor_id     pickup_datetime  passenger_count  pickup_longitude  \\\n",
       "0               1 2016-06-30 23:59:58                1        -73.988129   \n",
       "1               1 2016-06-30 23:59:53                1        -73.964203   \n",
       "2               1 2016-06-30 23:59:47                1        -73.997437   \n",
       "3               2 2016-06-30 23:59:41                1        -73.956070   \n",
       "4               1 2016-06-30 23:59:33                1        -73.970215   \n",
       "...           ...                 ...              ...               ...   \n",
       "625129          1 2016-01-01 00:02:52                1        -74.003464   \n",
       "625130          1 2016-01-01 00:01:52                1        -74.006363   \n",
       "625131          1 2016-01-01 00:01:24                2        -73.972267   \n",
       "625132          1 2016-01-01 00:00:28                1        -73.976501   \n",
       "625133          2 2016-01-01 00:00:22                2        -73.981850   \n",
       "\n",
       "        pickup_latitude  dropoff_longitude  dropoff_latitude  \\\n",
       "0             40.732029         -73.990173         40.756680   \n",
       "1             40.679993         -73.959808         40.655403   \n",
       "2             40.737583         -73.986160         40.729523   \n",
       "3             40.771900         -73.986427         40.730469   \n",
       "4             40.761475         -73.961510         40.755890   \n",
       "...                 ...                ...               ...   \n",
       "625129        40.725105         -74.001251         40.733643   \n",
       "625130        40.743782         -73.953407         40.782467   \n",
       "625131        40.759865         -73.876602         40.748665   \n",
       "625132        40.733562         -73.854263         40.891788   \n",
       "625133        40.716881         -73.969330         40.769379   \n",
       "\n",
       "       store_and_fwd_flag  pickup_hour  pickup_date  pickup_month  pickup_day  \\\n",
       "0                       N           23           30             6           3   \n",
       "1                       N           23           30             6           3   \n",
       "2                       N           23           30             6           3   \n",
       "3                       N           23           30             6           3   \n",
       "4                       N           23           30             6           3   \n",
       "...                   ...          ...          ...           ...         ...   \n",
       "625129                  N            0            1             1           4   \n",
       "625130                  N            0            1             1           4   \n",
       "625131                  N            0            1             1           4   \n",
       "625132                  N            0            1             1           4   \n",
       "625133                  N            0            1             1           4   \n",
       "\n",
       "        is_weekend  \n",
       "0                0  \n",
       "1                0  \n",
       "2                0  \n",
       "3                0  \n",
       "4                0  \n",
       "...            ...  \n",
       "625129           0  \n",
       "625130           0  \n",
       "625131           0  \n",
       "625132           0  \n",
       "625133           0  \n",
       "\n",
       "[625134 rows x 13 columns]"
      ]
     },
     "execution_count": 33,
     "metadata": {},
     "output_type": "execute_result"
    }
   ],
   "source": [
    "# datetime features for pickup column in train data \n",
    "make_datetime_features(train_df_new,'pickup')\n",
    "# datetime features for pickup column in test data\n",
    "make_datetime_features(test_df_new,'pickup')"
   ]
  },
  {
   "cell_type": "code",
   "execution_count": 34,
   "id": "3465c0b5",
   "metadata": {
    "execution": {
     "iopub.execute_input": "2024-01-18T14:30:48.469744Z",
     "iopub.status.busy": "2024-01-18T14:30:48.469316Z",
     "iopub.status.idle": "2024-01-18T14:30:48.476096Z",
     "shell.execute_reply": "2024-01-18T14:30:48.474994Z"
    },
    "papermill": {
     "duration": 0.030607,
     "end_time": "2024-01-18T14:30:48.478224",
     "exception": false,
     "start_time": "2024-01-18T14:30:48.447617",
     "status": "completed"
    },
    "tags": []
   },
   "outputs": [
    {
     "data": {
      "text/plain": [
       "(1458644, 15)"
      ]
     },
     "execution_count": 34,
     "metadata": {},
     "output_type": "execute_result"
    }
   ],
   "source": [
    "train_df_new.shape"
   ]
  },
  {
   "cell_type": "code",
   "execution_count": 35,
   "id": "a7477347",
   "metadata": {
    "execution": {
     "iopub.execute_input": "2024-01-18T14:30:48.521392Z",
     "iopub.status.busy": "2024-01-18T14:30:48.520145Z",
     "iopub.status.idle": "2024-01-18T14:30:48.538327Z",
     "shell.execute_reply": "2024-01-18T14:30:48.537140Z"
    },
    "papermill": {
     "duration": 0.042252,
     "end_time": "2024-01-18T14:30:48.540741",
     "exception": false,
     "start_time": "2024-01-18T14:30:48.498489",
     "status": "completed"
    },
    "tags": []
   },
   "outputs": [
    {
     "data": {
      "text/html": [
       "<div>\n",
       "<style scoped>\n",
       "    .dataframe tbody tr th:only-of-type {\n",
       "        vertical-align: middle;\n",
       "    }\n",
       "\n",
       "    .dataframe tbody tr th {\n",
       "        vertical-align: top;\n",
       "    }\n",
       "\n",
       "    .dataframe thead th {\n",
       "        text-align: right;\n",
       "    }\n",
       "</style>\n",
       "<table border=\"1\" class=\"dataframe\">\n",
       "  <thead>\n",
       "    <tr style=\"text-align: right;\">\n",
       "      <th></th>\n",
       "      <th>vendor_id</th>\n",
       "      <th>pickup_datetime</th>\n",
       "      <th>dropoff_datetime</th>\n",
       "      <th>passenger_count</th>\n",
       "      <th>pickup_longitude</th>\n",
       "      <th>pickup_latitude</th>\n",
       "      <th>dropoff_longitude</th>\n",
       "      <th>dropoff_latitude</th>\n",
       "      <th>store_and_fwd_flag</th>\n",
       "      <th>trip_duration</th>\n",
       "      <th>pickup_hour</th>\n",
       "      <th>pickup_date</th>\n",
       "      <th>pickup_month</th>\n",
       "      <th>pickup_day</th>\n",
       "      <th>is_weekend</th>\n",
       "    </tr>\n",
       "  </thead>\n",
       "  <tbody>\n",
       "    <tr>\n",
       "      <th>0</th>\n",
       "      <td>2</td>\n",
       "      <td>2016-03-14 17:24:55</td>\n",
       "      <td>2016-03-14 17:32:30</td>\n",
       "      <td>2</td>\n",
       "      <td>-73.982155</td>\n",
       "      <td>40.767937</td>\n",
       "      <td>-73.964630</td>\n",
       "      <td>40.765602</td>\n",
       "      <td>N</td>\n",
       "      <td>455</td>\n",
       "      <td>17</td>\n",
       "      <td>14</td>\n",
       "      <td>3</td>\n",
       "      <td>0</td>\n",
       "      <td>0</td>\n",
       "    </tr>\n",
       "    <tr>\n",
       "      <th>1</th>\n",
       "      <td>1</td>\n",
       "      <td>2016-06-12 00:43:35</td>\n",
       "      <td>2016-06-12 00:54:38</td>\n",
       "      <td>1</td>\n",
       "      <td>-73.980415</td>\n",
       "      <td>40.738564</td>\n",
       "      <td>-73.999481</td>\n",
       "      <td>40.731152</td>\n",
       "      <td>N</td>\n",
       "      <td>663</td>\n",
       "      <td>0</td>\n",
       "      <td>12</td>\n",
       "      <td>6</td>\n",
       "      <td>6</td>\n",
       "      <td>1</td>\n",
       "    </tr>\n",
       "    <tr>\n",
       "      <th>2</th>\n",
       "      <td>2</td>\n",
       "      <td>2016-01-19 11:35:24</td>\n",
       "      <td>2016-01-19 12:10:48</td>\n",
       "      <td>2</td>\n",
       "      <td>-73.979027</td>\n",
       "      <td>40.763939</td>\n",
       "      <td>-74.005333</td>\n",
       "      <td>40.710087</td>\n",
       "      <td>N</td>\n",
       "      <td>2124</td>\n",
       "      <td>11</td>\n",
       "      <td>19</td>\n",
       "      <td>1</td>\n",
       "      <td>1</td>\n",
       "      <td>0</td>\n",
       "    </tr>\n",
       "    <tr>\n",
       "      <th>3</th>\n",
       "      <td>2</td>\n",
       "      <td>2016-04-06 19:32:31</td>\n",
       "      <td>2016-04-06 19:39:40</td>\n",
       "      <td>2</td>\n",
       "      <td>-74.010040</td>\n",
       "      <td>40.719971</td>\n",
       "      <td>-74.012268</td>\n",
       "      <td>40.706718</td>\n",
       "      <td>N</td>\n",
       "      <td>429</td>\n",
       "      <td>19</td>\n",
       "      <td>6</td>\n",
       "      <td>4</td>\n",
       "      <td>2</td>\n",
       "      <td>0</td>\n",
       "    </tr>\n",
       "    <tr>\n",
       "      <th>4</th>\n",
       "      <td>2</td>\n",
       "      <td>2016-03-26 13:30:55</td>\n",
       "      <td>2016-03-26 13:38:10</td>\n",
       "      <td>2</td>\n",
       "      <td>-73.973053</td>\n",
       "      <td>40.793209</td>\n",
       "      <td>-73.972923</td>\n",
       "      <td>40.782520</td>\n",
       "      <td>N</td>\n",
       "      <td>435</td>\n",
       "      <td>13</td>\n",
       "      <td>26</td>\n",
       "      <td>3</td>\n",
       "      <td>5</td>\n",
       "      <td>1</td>\n",
       "    </tr>\n",
       "  </tbody>\n",
       "</table>\n",
       "</div>"
      ],
      "text/plain": [
       "   vendor_id     pickup_datetime     dropoff_datetime  passenger_count  \\\n",
       "0          2 2016-03-14 17:24:55  2016-03-14 17:32:30                2   \n",
       "1          1 2016-06-12 00:43:35  2016-06-12 00:54:38                1   \n",
       "2          2 2016-01-19 11:35:24  2016-01-19 12:10:48                2   \n",
       "3          2 2016-04-06 19:32:31  2016-04-06 19:39:40                2   \n",
       "4          2 2016-03-26 13:30:55  2016-03-26 13:38:10                2   \n",
       "\n",
       "   pickup_longitude  pickup_latitude  dropoff_longitude  dropoff_latitude  \\\n",
       "0        -73.982155        40.767937         -73.964630         40.765602   \n",
       "1        -73.980415        40.738564         -73.999481         40.731152   \n",
       "2        -73.979027        40.763939         -74.005333         40.710087   \n",
       "3        -74.010040        40.719971         -74.012268         40.706718   \n",
       "4        -73.973053        40.793209         -73.972923         40.782520   \n",
       "\n",
       "  store_and_fwd_flag  trip_duration  pickup_hour  pickup_date  pickup_month  \\\n",
       "0                  N            455           17           14             3   \n",
       "1                  N            663            0           12             6   \n",
       "2                  N           2124           11           19             1   \n",
       "3                  N            429           19            6             4   \n",
       "4                  N            435           13           26             3   \n",
       "\n",
       "   pickup_day  is_weekend  \n",
       "0           0           0  \n",
       "1           6           1  \n",
       "2           1           0  \n",
       "3           2           0  \n",
       "4           5           1  "
      ]
     },
     "execution_count": 35,
     "metadata": {},
     "output_type": "execute_result"
    }
   ],
   "source": [
    "train_df_new.head()"
   ]
  },
  {
   "cell_type": "code",
   "execution_count": 36,
   "id": "c40128e5",
   "metadata": {
    "execution": {
     "iopub.execute_input": "2024-01-18T14:30:48.584204Z",
     "iopub.status.busy": "2024-01-18T14:30:48.583082Z",
     "iopub.status.idle": "2024-01-18T14:31:12.350825Z",
     "shell.execute_reply": "2024-01-18T14:31:12.349545Z"
    },
    "papermill": {
     "duration": 23.792585,
     "end_time": "2024-01-18T14:31:12.353868",
     "exception": false,
     "start_time": "2024-01-18T14:30:48.561283",
     "status": "completed"
    },
    "tags": []
   },
   "outputs": [],
   "source": [
    "# save the data \n",
    "# make the directory as datetime\n",
    "save_path = Path('/kaggle/working/') / 'datetime'\n",
    "save_path.mkdir(parents=True,exist_ok=True)\n",
    "\n",
    "# save the train file\n",
    "train_df_new.to_csv(save_path / 'train.csv')\n",
    "\n",
    "# save the test file\n",
    "test_df_new.to_csv(save_path / 'test.csv')"
   ]
  },
  {
   "cell_type": "markdown",
   "id": "f9393913",
   "metadata": {
    "papermill": {
     "duration": 0.020295,
     "end_time": "2024-01-18T14:31:12.395308",
     "exception": false,
     "start_time": "2024-01-18T14:31:12.375013",
     "status": "completed"
    },
    "tags": []
   },
   "source": [
    "## EDA on the Datetime Columns"
   ]
  },
  {
   "cell_type": "code",
   "execution_count": 37,
   "id": "7dc256db",
   "metadata": {
    "execution": {
     "iopub.execute_input": "2024-01-18T14:31:12.438580Z",
     "iopub.status.busy": "2024-01-18T14:31:12.438157Z",
     "iopub.status.idle": "2024-01-18T14:31:12.454792Z",
     "shell.execute_reply": "2024-01-18T14:31:12.453605Z"
    },
    "papermill": {
     "duration": 0.041197,
     "end_time": "2024-01-18T14:31:12.457222",
     "exception": false,
     "start_time": "2024-01-18T14:31:12.416025",
     "status": "completed"
    },
    "tags": []
   },
   "outputs": [
    {
     "data": {
      "text/plain": [
       "Timedelta('181 days 23:59:22')"
      ]
     },
     "execution_count": 37,
     "metadata": {},
     "output_type": "execute_result"
    }
   ],
   "source": [
    "# time range for the train data\n",
    "\n",
    "train_df_new['pickup_datetime'].max() - train_df_new['pickup_datetime'].min() "
   ]
  },
  {
   "cell_type": "markdown",
   "id": "2421937e",
   "metadata": {
    "papermill": {
     "duration": 0.021001,
     "end_time": "2024-01-18T14:31:12.499092",
     "exception": false,
     "start_time": "2024-01-18T14:31:12.478091",
     "status": "completed"
    },
    "tags": []
   },
   "source": [
    "**The time range shows that we have the data for 6 months**"
   ]
  },
  {
   "cell_type": "code",
   "execution_count": 38,
   "id": "c63e1b8f",
   "metadata": {
    "execution": {
     "iopub.execute_input": "2024-01-18T14:31:12.541539Z",
     "iopub.status.busy": "2024-01-18T14:31:12.541153Z",
     "iopub.status.idle": "2024-01-18T14:31:12.556314Z",
     "shell.execute_reply": "2024-01-18T14:31:12.555156Z"
    },
    "papermill": {
     "duration": 0.039582,
     "end_time": "2024-01-18T14:31:12.559123",
     "exception": false,
     "start_time": "2024-01-18T14:31:12.519541",
     "status": "completed"
    },
    "tags": []
   },
   "outputs": [
    {
     "data": {
      "text/plain": [
       "Timedelta('181 days 23:59:22')"
      ]
     },
     "execution_count": 38,
     "metadata": {},
     "output_type": "execute_result"
    }
   ],
   "source": [
    "# time range for the test data\n",
    "\n",
    "train_df_new['pickup_datetime'].max() - train_df_new['pickup_datetime'].min() "
   ]
  },
  {
   "cell_type": "code",
   "execution_count": 39,
   "id": "20219e1c",
   "metadata": {
    "execution": {
     "iopub.execute_input": "2024-01-18T14:31:12.604428Z",
     "iopub.status.busy": "2024-01-18T14:31:12.604021Z",
     "iopub.status.idle": "2024-01-18T14:31:12.627847Z",
     "shell.execute_reply": "2024-01-18T14:31:12.626690Z"
    },
    "papermill": {
     "duration": 0.048738,
     "end_time": "2024-01-18T14:31:12.630290",
     "exception": false,
     "start_time": "2024-01-18T14:31:12.581552",
     "status": "completed"
    },
    "tags": []
   },
   "outputs": [
    {
     "data": {
      "text/html": [
       "<div>\n",
       "<style scoped>\n",
       "    .dataframe tbody tr th:only-of-type {\n",
       "        vertical-align: middle;\n",
       "    }\n",
       "\n",
       "    .dataframe tbody tr th {\n",
       "        vertical-align: top;\n",
       "    }\n",
       "\n",
       "    .dataframe thead th {\n",
       "        text-align: right;\n",
       "    }\n",
       "</style>\n",
       "<table border=\"1\" class=\"dataframe\">\n",
       "  <thead>\n",
       "    <tr style=\"text-align: right;\">\n",
       "      <th></th>\n",
       "      <th>train</th>\n",
       "      <th>test</th>\n",
       "    </tr>\n",
       "  </thead>\n",
       "  <tbody>\n",
       "    <tr>\n",
       "      <th>Opening_date</th>\n",
       "      <td>2016-01-01 00:00:17</td>\n",
       "      <td>2016-01-01 00:00:22</td>\n",
       "    </tr>\n",
       "    <tr>\n",
       "      <th>Closing_date</th>\n",
       "      <td>2016-06-30 23:59:39</td>\n",
       "      <td>2016-06-30 23:59:58</td>\n",
       "    </tr>\n",
       "  </tbody>\n",
       "</table>\n",
       "</div>"
      ],
      "text/plain": [
       "                           train                test\n",
       "Opening_date 2016-01-01 00:00:17 2016-01-01 00:00:22\n",
       "Closing_date 2016-06-30 23:59:39 2016-06-30 23:59:58"
      ]
     },
     "execution_count": 39,
     "metadata": {},
     "output_type": "execute_result"
    }
   ],
   "source": [
    "# time range for the train and test data\n",
    "\n",
    "data_temp = {'Opening_date':[train_df_new['pickup_datetime'].min(),test_df_new['pickup_datetime'].min()],\n",
    "            'Closing_date':[train_df_new['pickup_datetime'].max(),test_df_new['pickup_datetime'].max()]}\n",
    "\n",
    "pd.DataFrame(data=data_temp,index=['train','test']).T"
   ]
  },
  {
   "cell_type": "markdown",
   "id": "1e3c76fb",
   "metadata": {
    "papermill": {
     "duration": 0.020688,
     "end_time": "2024-01-18T14:31:12.672143",
     "exception": false,
     "start_time": "2024-01-18T14:31:12.651455",
     "status": "completed"
    },
    "tags": []
   },
   "source": [
    "This shows that both the train and the test data have ranges from the same dates i.e. from **(Jan 1st, 2016)** till **(June 30th, 2016)**."
   ]
  },
  {
   "cell_type": "code",
   "execution_count": 40,
   "id": "32a890e1",
   "metadata": {
    "execution": {
     "iopub.execute_input": "2024-01-18T14:31:12.716426Z",
     "iopub.status.busy": "2024-01-18T14:31:12.715636Z",
     "iopub.status.idle": "2024-01-18T14:31:13.302430Z",
     "shell.execute_reply": "2024-01-18T14:31:13.301252Z"
    },
    "papermill": {
     "duration": 0.611859,
     "end_time": "2024-01-18T14:31:13.305139",
     "exception": false,
     "start_time": "2024-01-18T14:31:12.693280",
     "status": "completed"
    },
    "tags": []
   },
   "outputs": [
    {
     "data": {
      "text/plain": [
       "pickup_datetime\n",
       "2016-01-01    7162\n",
       "2016-01-02    6512\n",
       "2016-01-03    6353\n",
       "2016-01-04    6725\n",
       "2016-01-05    7204\n",
       "              ... \n",
       "2016-06-26    7084\n",
       "2016-06-27    7311\n",
       "2016-06-28    7253\n",
       "2016-06-29    7623\n",
       "2016-06-30    7588\n",
       "Name: count, Length: 182, dtype: int64"
      ]
     },
     "execution_count": 40,
     "metadata": {},
     "output_type": "execute_result"
    }
   ],
   "source": [
    "# total pickups each day\n",
    "\n",
    "train_df_new['pickup_datetime'].dt.date \\\n",
    ".value_counts() \\\n",
    ".sort_index()"
   ]
  },
  {
   "cell_type": "markdown",
   "id": "ae97c571",
   "metadata": {
    "papermill": {
     "duration": 0.02065,
     "end_time": "2024-01-18T14:31:13.347027",
     "exception": false,
     "start_time": "2024-01-18T14:31:13.326377",
     "status": "completed"
    },
    "tags": []
   },
   "source": [
    "**Idea behind this code**:\n",
    "\n",
    "\n",
    "I needed to find out the pickup pattern of passengers on a particular date in line plots for both the train and test data.   \n",
    "To do this:  \n",
    "1. Calculated the value counts(count of rows) for each date, which will give me the total no. of pickups in the data for that particular date.\n",
    "2. Then I sorted the index to reorder the data in correct chronological order."
   ]
  },
  {
   "cell_type": "code",
   "execution_count": 41,
   "id": "763cca20",
   "metadata": {
    "execution": {
     "iopub.execute_input": "2024-01-18T14:31:13.392723Z",
     "iopub.status.busy": "2024-01-18T14:31:13.391691Z",
     "iopub.status.idle": "2024-01-18T14:31:14.507284Z",
     "shell.execute_reply": "2024-01-18T14:31:14.506077Z"
    },
    "papermill": {
     "duration": 1.141586,
     "end_time": "2024-01-18T14:31:14.510150",
     "exception": false,
     "start_time": "2024-01-18T14:31:13.368564",
     "status": "completed"
    },
    "tags": []
   },
   "outputs": [
    {
     "data": {
      "image/png": "[encoded data removed]",
      "text/plain": [
       "<Figure size 640x480 with 1 Axes>"
      ]
     },
     "metadata": {},
     "output_type": "display_data"
    }
   ],
   "source": [
    "# pickup patterns for train and test data\n",
    "\n",
    "plt.plot(train_df_new['pickup_datetime'].dt.date.value_counts().sort_index(),color='green',label='train')\n",
    "plt.plot(test_df_new['pickup_datetime'].dt.date.value_counts().sort_index(),color='red',label='test')\n",
    "plt.legend()\n",
    "plt.show()"
   ]
  },
  {
   "cell_type": "markdown",
   "id": "553fc57f",
   "metadata": {
    "papermill": {
     "duration": 0.02226,
     "end_time": "2024-01-18T14:31:14.554813",
     "exception": false,
     "start_time": "2024-01-18T14:31:14.532553",
     "status": "completed"
    },
    "tags": []
   },
   "source": []
  },
  {
   "cell_type": "code",
   "execution_count": 42,
   "id": "c36438cd",
   "metadata": {
    "execution": {
     "iopub.execute_input": "2024-01-18T14:31:14.603597Z",
     "iopub.status.busy": "2024-01-18T14:31:14.603151Z",
     "iopub.status.idle": "2024-01-18T14:31:15.744257Z",
     "shell.execute_reply": "2024-01-18T14:31:15.742978Z"
    },
    "papermill": {
     "duration": 1.169611,
     "end_time": "2024-01-18T14:31:15.747122",
     "exception": false,
     "start_time": "2024-01-18T14:31:14.577511",
     "status": "completed"
    },
    "tags": []
   },
   "outputs": [
    {
     "data": {
      "image/png": "[encoded data removed]",
      "text/plain": [
       "<Figure size 640x480 with 1 Axes>"
      ]
     },
     "metadata": {},
     "output_type": "display_data"
    }
   ],
   "source": [
    "# pickup patterns for train and test data (results normalized)\n",
    "\n",
    "plt.plot(train_df_new['pickup_datetime'].dt.date.value_counts(normalize=True).sort_index(),color='green',alpha=0.7,label='train')\n",
    "plt.plot(test_df_new['pickup_datetime'].dt.date.value_counts(normalize=True).sort_index(),color='red',label='test')\n",
    "plt.legend()\n",
    "plt.show()"
   ]
  },
  {
   "cell_type": "markdown",
   "id": "e8a08d77",
   "metadata": {
    "papermill": {
     "duration": 0.022707,
     "end_time": "2024-01-18T14:31:15.795094",
     "exception": false,
     "start_time": "2024-01-18T14:31:15.772387",
     "status": "completed"
    },
    "tags": []
   },
   "source": [
    "This graph clearly indicates that the pickup patterns for the train and test data are almost similar."
   ]
  },
  {
   "cell_type": "code",
   "execution_count": 43,
   "id": "638c0342",
   "metadata": {
    "execution": {
     "iopub.execute_input": "2024-01-18T14:31:15.846670Z",
     "iopub.status.busy": "2024-01-18T14:31:15.845913Z",
     "iopub.status.idle": "2024-01-18T14:31:16.167386Z",
     "shell.execute_reply": "2024-01-18T14:31:16.166605Z"
    },
    "papermill": {
     "duration": 0.350451,
     "end_time": "2024-01-18T14:31:16.169694",
     "exception": false,
     "start_time": "2024-01-18T14:31:15.819243",
     "status": "completed"
    },
    "tags": []
   },
   "outputs": [
    {
     "data": {
      "image/png": "[encoded data removed]",
      "text/plain": [
       "<Figure size 640x480 with 1 Axes>"
      ]
     },
     "metadata": {},
     "output_type": "display_data"
    }
   ],
   "source": [
    "# count of total pickups each month\n",
    "\n",
    "sns.countplot(data=train_df_new,x='pickup_month')\n",
    "plt.show()"
   ]
  },
  {
   "cell_type": "code",
   "execution_count": 44,
   "id": "5d827379",
   "metadata": {
    "execution": {
     "iopub.execute_input": "2024-01-18T14:31:16.218378Z",
     "iopub.status.busy": "2024-01-18T14:31:16.217790Z",
     "iopub.status.idle": "2024-01-18T14:31:16.460916Z",
     "shell.execute_reply": "2024-01-18T14:31:16.459685Z"
    },
    "papermill": {
     "duration": 0.270181,
     "end_time": "2024-01-18T14:31:16.463184",
     "exception": false,
     "start_time": "2024-01-18T14:31:16.193003",
     "status": "completed"
    },
    "tags": []
   },
   "outputs": [
    {
     "data": {
      "image/png": "[encoded data removed]",
      "text/plain": [
       "<Figure size 640x480 with 1 Axes>"
      ]
     },
     "metadata": {},
     "output_type": "display_data"
    }
   ],
   "source": [
    "# pickups month wise in sorted order\n",
    "\n",
    "train_df_new['pickup_month'] \\\n",
    ".value_counts() \\\n",
    ".sort_values(ascending=False)\\\n",
    ".plot(kind='bar')\n",
    "\n",
    "plt.show()"
   ]
  },
  {
   "cell_type": "markdown",
   "id": "fa6ee344",
   "metadata": {
    "papermill": {
     "duration": 0.024519,
     "end_time": "2024-01-18T14:31:16.512123",
     "exception": false,
     "start_time": "2024-01-18T14:31:16.487604",
     "status": "completed"
    },
    "tags": []
   },
   "source": [
    "- Less Number of pickups in the month of January can be related to weather events like snow, heavy blizzards or festive season.\n",
    "- The other reason is that during festive season can drivers in New York expect heavier tips from the passengers, so passengers try to avoid taking can services and only take when required."
   ]
  },
  {
   "cell_type": "code",
   "execution_count": 45,
   "id": "0ffca6bf",
   "metadata": {
    "execution": {
     "iopub.execute_input": "2024-01-18T14:31:16.562221Z",
     "iopub.status.busy": "2024-01-18T14:31:16.561789Z",
     "iopub.status.idle": "2024-01-18T14:31:17.074035Z",
     "shell.execute_reply": "2024-01-18T14:31:17.072645Z"
    },
    "papermill": {
     "duration": 0.540725,
     "end_time": "2024-01-18T14:31:17.076417",
     "exception": false,
     "start_time": "2024-01-18T14:31:16.535692",
     "status": "completed"
    },
    "tags": []
   },
   "outputs": [
    {
     "data": {
      "image/png": "[encoded data removed]",
      "text/plain": [
       "<Figure size 640x480 with 1 Axes>"
      ]
     },
     "metadata": {},
     "output_type": "display_data"
    }
   ],
   "source": [
    "# rush hours for taxi pickups\n",
    "\n",
    "sns.countplot(data=train_df_new,x='pickup_hour')\n",
    "plt.show()"
   ]
  },
  {
   "cell_type": "markdown",
   "id": "718169a9",
   "metadata": {
    "papermill": {
     "duration": 0.024364,
     "end_time": "2024-01-18T14:31:17.125223",
     "exception": false,
     "start_time": "2024-01-18T14:31:17.100859",
     "status": "completed"
    },
    "tags": []
   },
   "source": [
    "**Things to note**:\n",
    "1. Cab pickups reduce after midnight and pickup pace after daybreak around 6am.\n",
    "2. Pickups reach peak at 8am and then stabilize till 3pm.\n",
    "3. Again the pickups gain strength around 6pm till 10pm at night"
   ]
  },
  {
   "cell_type": "code",
   "execution_count": 46,
   "id": "77df9206",
   "metadata": {
    "execution": {
     "iopub.execute_input": "2024-01-18T14:31:17.175718Z",
     "iopub.status.busy": "2024-01-18T14:31:17.175296Z",
     "iopub.status.idle": "2024-01-18T14:31:17.437918Z",
     "shell.execute_reply": "2024-01-18T14:31:17.436746Z"
    },
    "papermill": {
     "duration": 0.29135,
     "end_time": "2024-01-18T14:31:17.440572",
     "exception": false,
     "start_time": "2024-01-18T14:31:17.149222",
     "status": "completed"
    },
    "tags": []
   },
   "outputs": [
    {
     "data": {
      "image/png": "[encoded data removed]",
      "text/plain": [
       "<Figure size 640x480 with 1 Axes>"
      ]
     },
     "metadata": {},
     "output_type": "display_data"
    }
   ],
   "source": [
    "# rush hours divided into 3 clusters. (high rush, avg rush, low rush)\n",
    "\n",
    "cluster_input = train_df_new['pickup_hour'] \\\n",
    ".value_counts() \\\n",
    ".sort_index() \\\n",
    ".reset_index()\n",
    "\n",
    "cluster_input.plot(x='pickup_hour',y='count',kind='scatter')\n",
    "\n",
    "plt.show()"
   ]
  },
  {
   "cell_type": "markdown",
   "id": "14408ce5",
   "metadata": {
    "papermill": {
     "duration": 0.025223,
     "end_time": "2024-01-18T14:31:17.490190",
     "exception": false,
     "start_time": "2024-01-18T14:31:17.464967",
     "status": "completed"
    },
    "tags": []
   },
   "source": [
    "#### Agglomerative Clustering"
   ]
  },
  {
   "cell_type": "code",
   "execution_count": 47,
   "id": "e2953f8d",
   "metadata": {
    "execution": {
     "iopub.execute_input": "2024-01-18T14:31:17.542019Z",
     "iopub.status.busy": "2024-01-18T14:31:17.541610Z",
     "iopub.status.idle": "2024-01-18T14:31:18.056593Z",
     "shell.execute_reply": "2024-01-18T14:31:18.055667Z"
    },
    "papermill": {
     "duration": 0.544388,
     "end_time": "2024-01-18T14:31:18.059064",
     "exception": false,
     "start_time": "2024-01-18T14:31:17.514676",
     "status": "completed"
    },
    "tags": []
   },
   "outputs": [
    {
     "data": {
      "image/png": "[encoded data removed]",
      "text/plain": [
       "<Figure size 640x480 with 1 Axes>"
      ]
     },
     "metadata": {},
     "output_type": "display_data"
    }
   ],
   "source": [
    "# plot the dendrogram\n",
    "\n",
    "from scipy.cluster.hierarchy import dendrogram,linkage\n",
    "\n",
    "clustering = linkage(y=cluster_input.values,method='single')\n",
    "\n",
    "dendrogram(clustering)\n",
    "plt.show()"
   ]
  },
  {
   "cell_type": "code",
   "execution_count": 48,
   "id": "d8ed64df",
   "metadata": {
    "execution": {
     "iopub.execute_input": "2024-01-18T14:31:18.111744Z",
     "iopub.status.busy": "2024-01-18T14:31:18.111327Z",
     "iopub.status.idle": "2024-01-18T14:31:18.699971Z",
     "shell.execute_reply": "2024-01-18T14:31:18.698852Z"
    },
    "papermill": {
     "duration": 0.618246,
     "end_time": "2024-01-18T14:31:18.702281",
     "exception": false,
     "start_time": "2024-01-18T14:31:18.084035",
     "status": "completed"
    },
    "tags": []
   },
   "outputs": [
    {
     "data": {
      "text/html": [
       "<style>#sk-container-id-1 {color: black;background-color: white;}#sk-container-id-1 pre{padding: 0;}#sk-container-id-1 div.sk-toggleable {background-color: white;}#sk-container-id-1 label.sk-toggleable__label {cursor: pointer;display: block;width: 100%;margin-bottom: 0;padding: 0.3em;box-sizing: border-box;text-align: center;}#sk-container-id-1 label.sk-toggleable__label-arrow:before {content: \"▸\";float: left;margin-right: 0.25em;color: #696969;}#sk-container-id-1 label.sk-toggleable__label-arrow:hover:before {color: black;}#sk-container-id-1 div.sk-estimator:hover label.sk-toggleable__label-arrow:before {color: black;}#sk-container-id-1 div.sk-toggleable__content {max-height: 0;max-width: 0;overflow: hidden;text-align: left;background-color: #f0f8ff;}#sk-container-id-1 div.sk-toggleable__content pre {margin: 0.2em;color: black;border-radius: 0.25em;background-color: #f0f8ff;}#sk-container-id-1 input.sk-toggleable__control:checked~div.sk-toggleable__content {max-height: 200px;max-width: 100%;overflow: auto;}#sk-container-id-1 input.sk-toggleable__control:checked~label.sk-toggleable__label-arrow:before {content: \"▾\";}#sk-container-id-1 div.sk-estimator input.sk-toggleable__control:checked~label.sk-toggleable__label {background-color: #d4ebff;}#sk-container-id-1 div.sk-label input.sk-toggleable__control:checked~label.sk-toggleable__label {background-color: #d4ebff;}#sk-container-id-1 input.sk-hidden--visually {border: 0;clip: rect(1px 1px 1px 1px);clip: rect(1px, 1px, 1px, 1px);height: 1px;margin: -1px;overflow: hidden;padding: 0;position: absolute;width: 1px;}#sk-container-id-1 div.sk-estimator {font-family: monospace;background-color: #f0f8ff;border: 1px dotted black;border-radius: 0.25em;box-sizing: border-box;margin-bottom: 0.5em;}#sk-container-id-1 div.sk-estimator:hover {background-color: #d4ebff;}#sk-container-id-1 div.sk-parallel-item::after {content: \"\";width: 100%;border-bottom: 1px solid gray;flex-grow: 1;}#sk-container-id-1 div.sk-label:hover label.sk-toggleable__label {background-color: #d4ebff;}#sk-container-id-1 div.sk-serial::before {content: \"\";position: absolute;border-left: 1px solid gray;box-sizing: border-box;top: 0;bottom: 0;left: 50%;z-index: 0;}#sk-container-id-1 div.sk-serial {display: flex;flex-direction: column;align-items: center;background-color: white;padding-right: 0.2em;padding-left: 0.2em;position: relative;}#sk-container-id-1 div.sk-item {position: relative;z-index: 1;}#sk-container-id-1 div.sk-parallel {display: flex;align-items: stretch;justify-content: center;background-color: white;position: relative;}#sk-container-id-1 div.sk-item::before, #sk-container-id-1 div.sk-parallel-item::before {content: \"\";position: absolute;border-left: 1px solid gray;box-sizing: border-box;top: 0;bottom: 0;left: 50%;z-index: -1;}#sk-container-id-1 div.sk-parallel-item {display: flex;flex-direction: column;z-index: 1;position: relative;background-color: white;}#sk-container-id-1 div.sk-parallel-item:first-child::after {align-self: flex-end;width: 50%;}#sk-container-id-1 div.sk-parallel-item:last-child::after {align-self: flex-start;width: 50%;}#sk-container-id-1 div.sk-parallel-item:only-child::after {width: 0;}#sk-container-id-1 div.sk-dashed-wrapped {border: 1px dashed gray;margin: 0 0.4em 0.5em 0.4em;box-sizing: border-box;padding-bottom: 0.4em;background-color: white;}#sk-container-id-1 div.sk-label label {font-family: monospace;font-weight: bold;display: inline-block;line-height: 1.2em;}#sk-container-id-1 div.sk-label-container {text-align: center;}#sk-container-id-1 div.sk-container {/* jupyter's `normalize.less` sets `[hidden] { display: none; }` but bootstrap.min.css set `[hidden] { display: none !important; }` so we also need the `!important` here to be able to override the default hidden behavior on the sphinx rendered scikit-learn.org. See: https://github.com/scikit-learn/scikit-learn/issues/21755 */display: inline-block !important;position: relative;}#sk-container-id-1 div.sk-text-repr-fallback {display: none;}</style><div id=\"sk-container-id-1\" class=\"sk-top-container\"><div class=\"sk-text-repr-fallback\"><pre>AgglomerativeClustering(linkage=&#x27;single&#x27;, metric=&#x27;euclidean&#x27;)</pre><b>In a Jupyter environment, please rerun this cell to show the HTML representation or trust the notebook. <br />On GitHub, the HTML representation is unable to render, please try loading this page with nbviewer.org.</b></div><div class=\"sk-container\" hidden><div class=\"sk-item\"><div class=\"sk-estimator sk-toggleable\"><input class=\"sk-toggleable__control sk-hidden--visually\" id=\"sk-estimator-id-1\" type=\"checkbox\" checked><label for=\"sk-estimator-id-1\" class=\"sk-toggleable__label sk-toggleable__label-arrow\">AgglomerativeClustering</label><div class=\"sk-toggleable__content\"><pre>AgglomerativeClustering(linkage=&#x27;single&#x27;, metric=&#x27;euclidean&#x27;)</pre></div></div></div></div></div>"
      ],
      "text/plain": [
       "AgglomerativeClustering(linkage='single', metric='euclidean')"
      ]
     },
     "execution_count": 48,
     "metadata": {},
     "output_type": "execute_result"
    }
   ],
   "source": [
    "from sklearn.cluster import AgglomerativeClustering, KMeans\n",
    "\n",
    "agglo = AgglomerativeClustering(n_clusters=2,linkage='single',\n",
    "                                metric='euclidean')\n",
    "\n",
    "agglo"
   ]
  },
  {
   "cell_type": "code",
   "execution_count": 49,
   "id": "813f69de",
   "metadata": {
    "execution": {
     "iopub.execute_input": "2024-01-18T14:31:18.755595Z",
     "iopub.status.busy": "2024-01-18T14:31:18.755194Z",
     "iopub.status.idle": "2024-01-18T14:31:19.072206Z",
     "shell.execute_reply": "2024-01-18T14:31:19.070948Z"
    },
    "papermill": {
     "duration": 0.346867,
     "end_time": "2024-01-18T14:31:19.074716",
     "exception": false,
     "start_time": "2024-01-18T14:31:18.727849",
     "status": "completed"
    },
    "tags": []
   },
   "outputs": [
    {
     "data": {
      "image/png": "[encoded data removed]",
      "text/plain": [
       "<Figure size 640x480 with 1 Axes>"
      ]
     },
     "metadata": {},
     "output_type": "display_data"
    }
   ],
   "source": [
    "# plot the clusters\n",
    "predictions = agglo.fit_predict(cluster_input)\n",
    "sns.scatterplot(data=cluster_input,\n",
    "                x='pickup_hour',y='count',\n",
    "                hue=np.where(predictions == 0,'High Rush Hour','Low Rush Hour'))\n",
    "plt.show()"
   ]
  },
  {
   "cell_type": "markdown",
   "id": "08207719",
   "metadata": {
    "papermill": {
     "duration": 0.02553,
     "end_time": "2024-01-18T14:31:19.126077",
     "exception": false,
     "start_time": "2024-01-18T14:31:19.100547",
     "status": "completed"
    },
    "tags": []
   },
   "source": [
    "#### KMeans Clustering"
   ]
  },
  {
   "cell_type": "code",
   "execution_count": 50,
   "id": "3451b849",
   "metadata": {
    "execution": {
     "iopub.execute_input": "2024-01-18T14:31:19.179636Z",
     "iopub.status.busy": "2024-01-18T14:31:19.178845Z",
     "iopub.status.idle": "2024-01-18T14:31:19.184260Z",
     "shell.execute_reply": "2024-01-18T14:31:19.183424Z"
    },
    "papermill": {
     "duration": 0.03416,
     "end_time": "2024-01-18T14:31:19.186310",
     "exception": false,
     "start_time": "2024-01-18T14:31:19.152150",
     "status": "completed"
    },
    "tags": []
   },
   "outputs": [],
   "source": [
    "from sklearn.metrics import silhouette_score"
   ]
  },
  {
   "cell_type": "code",
   "execution_count": 51,
   "id": "21141380",
   "metadata": {
    "execution": {
     "iopub.execute_input": "2024-01-18T14:31:19.240279Z",
     "iopub.status.busy": "2024-01-18T14:31:19.239360Z",
     "iopub.status.idle": "2024-01-18T14:31:19.640584Z",
     "shell.execute_reply": "2024-01-18T14:31:19.639425Z"
    },
    "papermill": {
     "duration": 0.430483,
     "end_time": "2024-01-18T14:31:19.642916",
     "exception": false,
     "start_time": "2024-01-18T14:31:19.212433",
     "status": "completed"
    },
    "tags": []
   },
   "outputs": [
    {
     "name": "stdout",
     "output_type": "stream",
     "text": [
      "The silhouette score for 2 clusters is 0.730999345100762\n",
      "The silhouette score for 3 clusters is 0.6041879661284338\n",
      "The silhouette score for 4 clusters is 0.6015263924638993\n",
      "The silhouette score for 5 clusters is 0.643595821618139\n",
      "The silhouette score for 6 clusters is 0.5882506032665346\n"
     ]
    },
    {
     "data": {
      "image/png": "[encoded data removed]",
      "text/plain": [
       "<Figure size 640x480 with 1 Axes>"
      ]
     },
     "metadata": {},
     "output_type": "display_data"
    }
   ],
   "source": [
    "# elbow plot for the clusters along with silhouette score\n",
    "\n",
    "n_clusters= [1,2,3,4,5,6]\n",
    "inertia_kmeans = []\n",
    "\n",
    "for n in n_clusters:\n",
    "    kmeans = KMeans(n_clusters=n,n_init=10,max_iter=50)\n",
    "    # fit on the data\n",
    "    predictions = kmeans.fit_predict(cluster_input)\n",
    "    # append the wcss in the list\n",
    "    inertia_kmeans.append(kmeans.inertia_)\n",
    "    # calculate the silhouette score\n",
    "    if n < 2:\n",
    "        continue\n",
    "    else:\n",
    "        score = silhouette_score(X=cluster_input,labels=predictions)\n",
    "        print(f'The silhouette score for {n} clusters is {score}')\n",
    "    \n",
    "# plot the elcow curve\n",
    "plt.plot(n_clusters,inertia_kmeans,color='red')\n",
    "plt.title('Elbow Curve')\n",
    "plt.xlabel('Number of Clusters')\n",
    "plt.ylabel('WCSS')\n",
    "\n",
    "plt.show()"
   ]
  },
  {
   "cell_type": "code",
   "execution_count": 52,
   "id": "a239ec6a",
   "metadata": {
    "execution": {
     "iopub.execute_input": "2024-01-18T14:31:19.698118Z",
     "iopub.status.busy": "2024-01-18T14:31:19.697356Z",
     "iopub.status.idle": "2024-01-18T14:31:19.711840Z",
     "shell.execute_reply": "2024-01-18T14:31:19.710937Z"
    },
    "papermill": {
     "duration": 0.046238,
     "end_time": "2024-01-18T14:31:19.715765",
     "exception": false,
     "start_time": "2024-01-18T14:31:19.669527",
     "status": "completed"
    },
    "tags": []
   },
   "outputs": [],
   "source": [
    "# train kmeans for 2 clusters\n",
    "\n",
    "kmeans = KMeans(n_clusters=2,n_init=10,max_iter=50)\n",
    "\n",
    "# get the predictions\n",
    "predictions = kmeans.fit_predict(cluster_input)"
   ]
  },
  {
   "cell_type": "code",
   "execution_count": 53,
   "id": "78e677d7",
   "metadata": {
    "execution": {
     "iopub.execute_input": "2024-01-18T14:31:19.770144Z",
     "iopub.status.busy": "2024-01-18T14:31:19.769658Z",
     "iopub.status.idle": "2024-01-18T14:31:20.085320Z",
     "shell.execute_reply": "2024-01-18T14:31:20.083927Z"
    },
    "papermill": {
     "duration": 0.346004,
     "end_time": "2024-01-18T14:31:20.087749",
     "exception": false,
     "start_time": "2024-01-18T14:31:19.741745",
     "status": "completed"
    },
    "tags": []
   },
   "outputs": [
    {
     "data": {
      "image/png": "[encoded data removed]",
      "text/plain": [
       "<Figure size 640x480 with 1 Axes>"
      ]
     },
     "metadata": {},
     "output_type": "display_data"
    }
   ],
   "source": [
    "# get the centroids and plot on the curve\n",
    "cluster_centroids = kmeans.cluster_centers_\n",
    "# plot the scatter plot\n",
    "sns.scatterplot(data=cluster_input,\n",
    "                x='pickup_hour',y='count',\n",
    "                hue=np.where(predictions == 0,'High Rush Hour','Low Rush Hour'))\n",
    "#plt.scatter(cluster_input['pickup_hour'],cluster_input['count'],c=predictions)\n",
    "# plot the cluster centroids\n",
    "plt.scatter(cluster_centroids[:,0],cluster_centroids[:,1],marker='+',s=60,c='k',label='Avg Pickups')\n",
    "plt.legend()\n",
    "plt.show()"
   ]
  },
  {
   "cell_type": "markdown",
   "id": "61904ac0",
   "metadata": {
    "papermill": {
     "duration": 0.026484,
     "end_time": "2024-01-18T14:31:20.141616",
     "exception": false,
     "start_time": "2024-01-18T14:31:20.115132",
     "status": "completed"
    },
    "tags": []
   },
   "source": [
    "**Things to do**\n",
    "1. Calculate the avg pickups for both clusters and and then take the avg of that as well.\n",
    "2. Plot the value in the graph and see the results."
   ]
  },
  {
   "cell_type": "code",
   "execution_count": null,
   "id": "08cbb5cf",
   "metadata": {
    "papermill": {
     "duration": 0.026842,
     "end_time": "2024-01-18T14:31:20.195901",
     "exception": false,
     "start_time": "2024-01-18T14:31:20.169059",
     "status": "completed"
    },
    "tags": []
   },
   "outputs": [],
   "source": []
  }
 ],
 "metadata": {
  "kaggle": {
   "accelerator": "none",
   "dataSources": [
    {
     "databundleVersionId": 44258,
     "sourceId": 6960,
     "sourceType": "competition"
    }
   ],
   "dockerImageVersionId": 30635,
   "isGpuEnabled": false,
   "isInternetEnabled": true,
   "language": "python",
   "sourceType": "notebook"
  },
  "kernelspec": {
   "display_name": "Python 3",
   "language": "python",
   "name": "python3"
  },
  "language_info": {
   "codemirror_mode": {
    "name": "ipython",
    "version": 3
   },
   "file_extension": ".py",
   "mimetype": "text/x-python",
   "name": "python",
   "nbconvert_exporter": "python",
   "pygments_lexer": "ipython3",
   "version": "3.10.12"
  },
  "papermill": {
   "default_parameters": {},
   "duration": 75.851359,
   "end_time": "2024-01-18T14:31:21.045114",
   "environment_variables": {},
   "exception": null,
   "input_path": "__notebook__.ipynb",
   "output_path": "__notebook__.ipynb",
   "parameters": {},
   "start_time": "2024-01-18T14:30:05.193755",
   "version": "2.4.0"
  }
 },
 "nbformat": 4,
 "nbformat_minor": 5
}
