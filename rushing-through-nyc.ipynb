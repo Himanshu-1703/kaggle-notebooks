{
 "cells": [
  {
   "cell_type": "code",
   "execution_count": 1,
   "id": "0764fb73",
   "metadata": {
    "_cell_guid": "b1076dfc-b9ad-4769-8c92-a6c4dae69d19",
    "_uuid": "8f2839f25d086af736a60e9eeb907d3b93b6e0e5",
    "execution": {
     "iopub.execute_input": "2024-01-21T07:36:56.676010Z",
     "iopub.status.busy": "2024-01-21T07:36:56.675245Z",
     "iopub.status.idle": "2024-01-21T07:36:57.122923Z",
     "shell.execute_reply": "2024-01-21T07:36:57.121775Z"
    },
    "papermill": {
     "duration": 0.479976,
     "end_time": "2024-01-21T07:36:57.126202",
     "exception": false,
     "start_time": "2024-01-21T07:36:56.646226",
     "status": "completed"
    },
    "tags": []
   },
   "outputs": [
    {
     "name": "stdout",
     "output_type": "stream",
     "text": [
      "/kaggle/input/nyc-taxi-trip-duration/train.zip\n",
      "/kaggle/input/nyc-taxi-trip-duration/test.zip\n",
      "/kaggle/input/nyc-taxi-trip-duration/sample_submission.zip\n"
     ]
    }
   ],
   "source": [
    "# This Python 3 environment comes with many helpful analytics libraries installed\n",
    "# It is defined by the kaggle/python Docker image: https://github.com/kaggle/docker-python\n",
    "# For example, here's several helpful packages to load\n",
    "\n",
    "import numpy as np # linear algebra\n",
    "import pandas as pd # data processing, CSV file I/O (e.g. pd.read_csv)\n",
    "\n",
    "# Input data files are available in the read-only \"../input/\" directory\n",
    "# For example, running this (by clicking run or pressing Shift+Enter) will list all files under the input directory\n",
    "\n",
    "import os\n",
    "for dirname, _, filenames in os.walk('/kaggle/input'):\n",
    "    for filename in filenames:\n",
    "        print(os.path.join(dirname, filename))\n",
    "\n",
    "# You can write up to 20GB to the current directory (/kaggle/working/) that gets preserved as output when you create a version using \"Save & Run All\" \n",
    "# You can also write temporary files to /kaggle/temp/, but they won't be saved outside of the current session"
   ]
  },
  {
   "cell_type": "code",
   "execution_count": 2,
   "id": "c42e5a2b",
   "metadata": {
    "execution": {
     "iopub.execute_input": "2024-01-21T07:36:57.184061Z",
     "iopub.status.busy": "2024-01-21T07:36:57.183250Z",
     "iopub.status.idle": "2024-01-21T07:36:58.669359Z",
     "shell.execute_reply": "2024-01-21T07:36:58.668442Z"
    },
    "papermill": {
     "duration": 1.518311,
     "end_time": "2024-01-21T07:36:58.671989",
     "exception": false,
     "start_time": "2024-01-21T07:36:57.153678",
     "status": "completed"
    },
    "tags": []
   },
   "outputs": [],
   "source": [
    "import matplotlib.pyplot as plt\n",
    "import seaborn as sns"
   ]
  },
  {
   "cell_type": "markdown",
   "id": "439a3133",
   "metadata": {
    "papermill": {
     "duration": 0.025936,
     "end_time": "2024-01-21T07:36:58.724615",
     "exception": false,
     "start_time": "2024-01-21T07:36:58.698679",
     "status": "completed"
    },
    "tags": []
   },
   "source": [
    "# 🔃 Data Loading and Extraction"
   ]
  },
  {
   "cell_type": "code",
   "execution_count": 3,
   "id": "a04f116d",
   "metadata": {
    "execution": {
     "iopub.execute_input": "2024-01-21T07:36:58.780602Z",
     "iopub.status.busy": "2024-01-21T07:36:58.779911Z",
     "iopub.status.idle": "2024-01-21T07:36:58.784515Z",
     "shell.execute_reply": "2024-01-21T07:36:58.783300Z"
    },
    "papermill": {
     "duration": 0.034976,
     "end_time": "2024-01-21T07:36:58.786904",
     "exception": false,
     "start_time": "2024-01-21T07:36:58.751928",
     "status": "completed"
    },
    "tags": []
   },
   "outputs": [],
   "source": [
    "from pathlib import Path\n",
    "from zipfile import ZipFile"
   ]
  },
  {
   "cell_type": "code",
   "execution_count": 4,
   "id": "edc4cf30",
   "metadata": {
    "execution": {
     "iopub.execute_input": "2024-01-21T07:36:58.842296Z",
     "iopub.status.busy": "2024-01-21T07:36:58.841881Z",
     "iopub.status.idle": "2024-01-21T07:36:58.847777Z",
     "shell.execute_reply": "2024-01-21T07:36:58.846329Z"
    },
    "papermill": {
     "duration": 0.036566,
     "end_time": "2024-01-21T07:36:58.850087",
     "exception": false,
     "start_time": "2024-01-21T07:36:58.813521",
     "status": "completed"
    },
    "tags": []
   },
   "outputs": [],
   "source": [
    "# paths for the dataset\n",
    "train_path = '/kaggle/input/nyc-taxi-trip-duration/train.zip'\n",
    "test_path = '/kaggle/input/nyc-taxi-trip-duration/test.zip'"
   ]
  },
  {
   "cell_type": "code",
   "execution_count": 5,
   "id": "f2a9eee2",
   "metadata": {
    "execution": {
     "iopub.execute_input": "2024-01-21T07:36:58.976990Z",
     "iopub.status.busy": "2024-01-21T07:36:58.976589Z",
     "iopub.status.idle": "2024-01-21T07:37:01.970332Z",
     "shell.execute_reply": "2024-01-21T07:37:01.968893Z"
    },
    "papermill": {
     "duration": 3.02438,
     "end_time": "2024-01-21T07:37:01.973282",
     "exception": false,
     "start_time": "2024-01-21T07:36:58.948902",
     "status": "completed"
    },
    "tags": []
   },
   "outputs": [],
   "source": [
    "# output path for the zip files\n",
    "def extract_zip_file(filepath):\n",
    "    output_path = Path('/kaggle/working/') / 'raw'\n",
    "    output_path.mkdir(parents=True,exist_ok=True)\n",
    "    with ZipFile(file=filepath) as f:\n",
    "        f.extractall(path=output_path)  \n",
    "        \n",
    "# extract the train file\n",
    "extract_zip_file(train_path)\n",
    "\n",
    "# extract the test file\n",
    "extract_zip_file(test_path)"
   ]
  },
  {
   "cell_type": "code",
   "execution_count": 6,
   "id": "0f65bcaf",
   "metadata": {
    "execution": {
     "iopub.execute_input": "2024-01-21T07:37:02.031251Z",
     "iopub.status.busy": "2024-01-21T07:37:02.030257Z",
     "iopub.status.idle": "2024-01-21T07:37:10.001101Z",
     "shell.execute_reply": "2024-01-21T07:37:09.999938Z"
    },
    "papermill": {
     "duration": 8.002743,
     "end_time": "2024-01-21T07:37:10.004315",
     "exception": false,
     "start_time": "2024-01-21T07:37:02.001572",
     "status": "completed"
    },
    "tags": []
   },
   "outputs": [
    {
     "name": "stdout",
     "output_type": "stream",
     "text": [
      "The shape of train file is (1458644, 11)\n",
      "The shape of train file is (625134, 9)\n"
     ]
    }
   ],
   "source": [
    "# read the csv files\n",
    "train_df = pd.read_csv('/kaggle/working/raw/train.csv')\n",
    "test_df = pd.read_csv('/kaggle/working/raw/test.csv')\n",
    "\n",
    "print(f'The shape of train file is {train_df.shape}')\n",
    "print(f'The shape of train file is {test_df.shape}')"
   ]
  },
  {
   "cell_type": "markdown",
   "id": "a8fcd963",
   "metadata": {
    "papermill": {
     "duration": 0.026646,
     "end_time": "2024-01-21T07:37:10.062252",
     "exception": false,
     "start_time": "2024-01-21T07:37:10.035606",
     "status": "completed"
    },
    "tags": []
   },
   "source": [
    "**Data Shape**\n",
    "- The Train Data has around 1.4 million rows and 11 columns.\n",
    "- The Test Data has around 625k rows and 9 columns."
   ]
  },
  {
   "cell_type": "markdown",
   "id": "34af7f24",
   "metadata": {
    "papermill": {
     "duration": 0.02654,
     "end_time": "2024-01-21T07:37:10.116714",
     "exception": false,
     "start_time": "2024-01-21T07:37:10.090174",
     "status": "completed"
    },
    "tags": []
   },
   "source": [
    "# Understanding the Data"
   ]
  },
  {
   "cell_type": "code",
   "execution_count": 7,
   "id": "ae60057b",
   "metadata": {
    "execution": {
     "iopub.execute_input": "2024-01-21T07:37:10.174781Z",
     "iopub.status.busy": "2024-01-21T07:37:10.173807Z",
     "iopub.status.idle": "2024-01-21T07:37:10.287206Z",
     "shell.execute_reply": "2024-01-21T07:37:10.285964Z"
    },
    "papermill": {
     "duration": 0.145511,
     "end_time": "2024-01-21T07:37:10.290621",
     "exception": false,
     "start_time": "2024-01-21T07:37:10.145110",
     "status": "completed"
    },
    "tags": []
   },
   "outputs": [
    {
     "data": {
      "text/html": [
       "<div>\n",
       "<style scoped>\n",
       "    .dataframe tbody tr th:only-of-type {\n",
       "        vertical-align: middle;\n",
       "    }\n",
       "\n",
       "    .dataframe tbody tr th {\n",
       "        vertical-align: top;\n",
       "    }\n",
       "\n",
       "    .dataframe thead th {\n",
       "        text-align: right;\n",
       "    }\n",
       "</style>\n",
       "<table border=\"1\" class=\"dataframe\">\n",
       "  <thead>\n",
       "    <tr style=\"text-align: right;\">\n",
       "      <th></th>\n",
       "      <th>id</th>\n",
       "      <th>vendor_id</th>\n",
       "      <th>pickup_datetime</th>\n",
       "      <th>dropoff_datetime</th>\n",
       "      <th>passenger_count</th>\n",
       "      <th>pickup_longitude</th>\n",
       "      <th>pickup_latitude</th>\n",
       "      <th>dropoff_longitude</th>\n",
       "      <th>dropoff_latitude</th>\n",
       "      <th>store_and_fwd_flag</th>\n",
       "      <th>trip_duration</th>\n",
       "    </tr>\n",
       "  </thead>\n",
       "  <tbody>\n",
       "    <tr>\n",
       "      <th>645404</th>\n",
       "      <td>id2070943</td>\n",
       "      <td>2</td>\n",
       "      <td>2016-05-23 19:17:41</td>\n",
       "      <td>2016-05-23 19:27:05</td>\n",
       "      <td>5</td>\n",
       "      <td>-73.986877</td>\n",
       "      <td>40.766449</td>\n",
       "      <td>-73.994179</td>\n",
       "      <td>40.751339</td>\n",
       "      <td>N</td>\n",
       "      <td>564</td>\n",
       "    </tr>\n",
       "    <tr>\n",
       "      <th>817512</th>\n",
       "      <td>id2581840</td>\n",
       "      <td>1</td>\n",
       "      <td>2016-04-03 18:58:28</td>\n",
       "      <td>2016-04-03 19:00:55</td>\n",
       "      <td>1</td>\n",
       "      <td>-73.957207</td>\n",
       "      <td>40.782700</td>\n",
       "      <td>-73.952866</td>\n",
       "      <td>40.783276</td>\n",
       "      <td>N</td>\n",
       "      <td>147</td>\n",
       "    </tr>\n",
       "    <tr>\n",
       "      <th>1284430</th>\n",
       "      <td>id1082729</td>\n",
       "      <td>1</td>\n",
       "      <td>2016-04-15 20:32:18</td>\n",
       "      <td>2016-04-15 20:36:25</td>\n",
       "      <td>1</td>\n",
       "      <td>-73.953972</td>\n",
       "      <td>40.772797</td>\n",
       "      <td>-73.959679</td>\n",
       "      <td>40.781265</td>\n",
       "      <td>N</td>\n",
       "      <td>247</td>\n",
       "    </tr>\n",
       "    <tr>\n",
       "      <th>162909</th>\n",
       "      <td>id1518793</td>\n",
       "      <td>1</td>\n",
       "      <td>2016-01-10 06:38:59</td>\n",
       "      <td>2016-01-10 06:47:27</td>\n",
       "      <td>1</td>\n",
       "      <td>-73.925270</td>\n",
       "      <td>40.762081</td>\n",
       "      <td>-73.872124</td>\n",
       "      <td>40.771423</td>\n",
       "      <td>N</td>\n",
       "      <td>508</td>\n",
       "    </tr>\n",
       "    <tr>\n",
       "      <th>773798</th>\n",
       "      <td>id1798666</td>\n",
       "      <td>2</td>\n",
       "      <td>2016-05-21 20:08:56</td>\n",
       "      <td>2016-05-21 20:18:07</td>\n",
       "      <td>5</td>\n",
       "      <td>-73.976387</td>\n",
       "      <td>40.748753</td>\n",
       "      <td>-73.991219</td>\n",
       "      <td>40.750393</td>\n",
       "      <td>N</td>\n",
       "      <td>551</td>\n",
       "    </tr>\n",
       "    <tr>\n",
       "      <th>298496</th>\n",
       "      <td>id2583085</td>\n",
       "      <td>1</td>\n",
       "      <td>2016-04-18 23:00:52</td>\n",
       "      <td>2016-04-18 23:04:56</td>\n",
       "      <td>1</td>\n",
       "      <td>-73.984505</td>\n",
       "      <td>40.736301</td>\n",
       "      <td>-73.992409</td>\n",
       "      <td>40.743347</td>\n",
       "      <td>N</td>\n",
       "      <td>244</td>\n",
       "    </tr>\n",
       "    <tr>\n",
       "      <th>742559</th>\n",
       "      <td>id1639244</td>\n",
       "      <td>1</td>\n",
       "      <td>2016-04-23 10:42:45</td>\n",
       "      <td>2016-04-23 10:53:34</td>\n",
       "      <td>1</td>\n",
       "      <td>-73.982124</td>\n",
       "      <td>40.774448</td>\n",
       "      <td>-73.968956</td>\n",
       "      <td>40.761398</td>\n",
       "      <td>N</td>\n",
       "      <td>649</td>\n",
       "    </tr>\n",
       "    <tr>\n",
       "      <th>909577</th>\n",
       "      <td>id0047410</td>\n",
       "      <td>2</td>\n",
       "      <td>2016-01-30 11:29:53</td>\n",
       "      <td>2016-01-30 11:42:38</td>\n",
       "      <td>5</td>\n",
       "      <td>-73.990242</td>\n",
       "      <td>40.737278</td>\n",
       "      <td>-74.006966</td>\n",
       "      <td>40.735626</td>\n",
       "      <td>N</td>\n",
       "      <td>765</td>\n",
       "    </tr>\n",
       "    <tr>\n",
       "      <th>566125</th>\n",
       "      <td>id0015214</td>\n",
       "      <td>2</td>\n",
       "      <td>2016-03-20 12:15:36</td>\n",
       "      <td>2016-03-20 12:24:35</td>\n",
       "      <td>2</td>\n",
       "      <td>-73.983269</td>\n",
       "      <td>40.781651</td>\n",
       "      <td>-73.995827</td>\n",
       "      <td>40.769024</td>\n",
       "      <td>N</td>\n",
       "      <td>539</td>\n",
       "    </tr>\n",
       "    <tr>\n",
       "      <th>1420597</th>\n",
       "      <td>id1798751</td>\n",
       "      <td>1</td>\n",
       "      <td>2016-02-26 06:35:28</td>\n",
       "      <td>2016-02-26 06:41:15</td>\n",
       "      <td>3</td>\n",
       "      <td>-73.991112</td>\n",
       "      <td>40.749882</td>\n",
       "      <td>-73.977333</td>\n",
       "      <td>40.743855</td>\n",
       "      <td>N</td>\n",
       "      <td>347</td>\n",
       "    </tr>\n",
       "    <tr>\n",
       "      <th>486664</th>\n",
       "      <td>id2109448</td>\n",
       "      <td>2</td>\n",
       "      <td>2016-02-16 19:31:38</td>\n",
       "      <td>2016-02-16 19:45:40</td>\n",
       "      <td>1</td>\n",
       "      <td>-73.968987</td>\n",
       "      <td>40.757641</td>\n",
       "      <td>-73.940224</td>\n",
       "      <td>40.792320</td>\n",
       "      <td>N</td>\n",
       "      <td>842</td>\n",
       "    </tr>\n",
       "    <tr>\n",
       "      <th>1226530</th>\n",
       "      <td>id1293700</td>\n",
       "      <td>1</td>\n",
       "      <td>2016-02-22 07:47:20</td>\n",
       "      <td>2016-02-22 08:16:01</td>\n",
       "      <td>1</td>\n",
       "      <td>-73.963135</td>\n",
       "      <td>40.771873</td>\n",
       "      <td>-73.870255</td>\n",
       "      <td>40.772999</td>\n",
       "      <td>N</td>\n",
       "      <td>1721</td>\n",
       "    </tr>\n",
       "    <tr>\n",
       "      <th>673297</th>\n",
       "      <td>id0013056</td>\n",
       "      <td>2</td>\n",
       "      <td>2016-05-14 11:44:37</td>\n",
       "      <td>2016-05-14 12:28:42</td>\n",
       "      <td>1</td>\n",
       "      <td>-73.784042</td>\n",
       "      <td>40.648617</td>\n",
       "      <td>-73.976395</td>\n",
       "      <td>40.778915</td>\n",
       "      <td>N</td>\n",
       "      <td>2645</td>\n",
       "    </tr>\n",
       "    <tr>\n",
       "      <th>1407806</th>\n",
       "      <td>id3748032</td>\n",
       "      <td>1</td>\n",
       "      <td>2016-03-22 18:14:31</td>\n",
       "      <td>2016-03-22 18:33:26</td>\n",
       "      <td>1</td>\n",
       "      <td>-74.015213</td>\n",
       "      <td>40.715698</td>\n",
       "      <td>-73.981491</td>\n",
       "      <td>40.766300</td>\n",
       "      <td>N</td>\n",
       "      <td>1135</td>\n",
       "    </tr>\n",
       "    <tr>\n",
       "      <th>1202263</th>\n",
       "      <td>id0604978</td>\n",
       "      <td>1</td>\n",
       "      <td>2016-04-04 20:32:35</td>\n",
       "      <td>2016-04-04 20:38:19</td>\n",
       "      <td>1</td>\n",
       "      <td>-73.974350</td>\n",
       "      <td>40.762329</td>\n",
       "      <td>-73.986107</td>\n",
       "      <td>40.762188</td>\n",
       "      <td>N</td>\n",
       "      <td>344</td>\n",
       "    </tr>\n",
       "    <tr>\n",
       "      <th>529002</th>\n",
       "      <td>id3250562</td>\n",
       "      <td>2</td>\n",
       "      <td>2016-02-12 09:48:07</td>\n",
       "      <td>2016-02-12 09:55:10</td>\n",
       "      <td>1</td>\n",
       "      <td>-74.002563</td>\n",
       "      <td>40.739563</td>\n",
       "      <td>-74.006950</td>\n",
       "      <td>40.752228</td>\n",
       "      <td>N</td>\n",
       "      <td>423</td>\n",
       "    </tr>\n",
       "    <tr>\n",
       "      <th>729137</th>\n",
       "      <td>id1064860</td>\n",
       "      <td>1</td>\n",
       "      <td>2016-03-09 14:06:20</td>\n",
       "      <td>2016-03-09 14:34:52</td>\n",
       "      <td>1</td>\n",
       "      <td>-74.007118</td>\n",
       "      <td>40.717407</td>\n",
       "      <td>-73.980095</td>\n",
       "      <td>40.754230</td>\n",
       "      <td>N</td>\n",
       "      <td>1712</td>\n",
       "    </tr>\n",
       "    <tr>\n",
       "      <th>1086202</th>\n",
       "      <td>id1081004</td>\n",
       "      <td>2</td>\n",
       "      <td>2016-01-17 05:19:08</td>\n",
       "      <td>2016-01-17 05:19:12</td>\n",
       "      <td>1</td>\n",
       "      <td>-73.989983</td>\n",
       "      <td>40.743050</td>\n",
       "      <td>-73.991707</td>\n",
       "      <td>40.743771</td>\n",
       "      <td>N</td>\n",
       "      <td>4</td>\n",
       "    </tr>\n",
       "    <tr>\n",
       "      <th>1081066</th>\n",
       "      <td>id2350332</td>\n",
       "      <td>2</td>\n",
       "      <td>2016-01-10 15:06:43</td>\n",
       "      <td>2016-01-10 15:14:54</td>\n",
       "      <td>1</td>\n",
       "      <td>-73.990776</td>\n",
       "      <td>40.737915</td>\n",
       "      <td>-73.979965</td>\n",
       "      <td>40.743088</td>\n",
       "      <td>N</td>\n",
       "      <td>491</td>\n",
       "    </tr>\n",
       "    <tr>\n",
       "      <th>1164159</th>\n",
       "      <td>id2521192</td>\n",
       "      <td>1</td>\n",
       "      <td>2016-06-25 11:17:31</td>\n",
       "      <td>2016-06-25 11:20:41</td>\n",
       "      <td>1</td>\n",
       "      <td>-73.953812</td>\n",
       "      <td>40.778763</td>\n",
       "      <td>-73.946358</td>\n",
       "      <td>40.772484</td>\n",
       "      <td>N</td>\n",
       "      <td>190</td>\n",
       "    </tr>\n",
       "  </tbody>\n",
       "</table>\n",
       "</div>"
      ],
      "text/plain": [
       "                id  vendor_id      pickup_datetime     dropoff_datetime  \\\n",
       "645404   id2070943          2  2016-05-23 19:17:41  2016-05-23 19:27:05   \n",
       "817512   id2581840          1  2016-04-03 18:58:28  2016-04-03 19:00:55   \n",
       "1284430  id1082729          1  2016-04-15 20:32:18  2016-04-15 20:36:25   \n",
       "162909   id1518793          1  2016-01-10 06:38:59  2016-01-10 06:47:27   \n",
       "773798   id1798666          2  2016-05-21 20:08:56  2016-05-21 20:18:07   \n",
       "298496   id2583085          1  2016-04-18 23:00:52  2016-04-18 23:04:56   \n",
       "742559   id1639244          1  2016-04-23 10:42:45  2016-04-23 10:53:34   \n",
       "909577   id0047410          2  2016-01-30 11:29:53  2016-01-30 11:42:38   \n",
       "566125   id0015214          2  2016-03-20 12:15:36  2016-03-20 12:24:35   \n",
       "1420597  id1798751          1  2016-02-26 06:35:28  2016-02-26 06:41:15   \n",
       "486664   id2109448          2  2016-02-16 19:31:38  2016-02-16 19:45:40   \n",
       "1226530  id1293700          1  2016-02-22 07:47:20  2016-02-22 08:16:01   \n",
       "673297   id0013056          2  2016-05-14 11:44:37  2016-05-14 12:28:42   \n",
       "1407806  id3748032          1  2016-03-22 18:14:31  2016-03-22 18:33:26   \n",
       "1202263  id0604978          1  2016-04-04 20:32:35  2016-04-04 20:38:19   \n",
       "529002   id3250562          2  2016-02-12 09:48:07  2016-02-12 09:55:10   \n",
       "729137   id1064860          1  2016-03-09 14:06:20  2016-03-09 14:34:52   \n",
       "1086202  id1081004          2  2016-01-17 05:19:08  2016-01-17 05:19:12   \n",
       "1081066  id2350332          2  2016-01-10 15:06:43  2016-01-10 15:14:54   \n",
       "1164159  id2521192          1  2016-06-25 11:17:31  2016-06-25 11:20:41   \n",
       "\n",
       "         passenger_count  pickup_longitude  pickup_latitude  \\\n",
       "645404                 5        -73.986877        40.766449   \n",
       "817512                 1        -73.957207        40.782700   \n",
       "1284430                1        -73.953972        40.772797   \n",
       "162909                 1        -73.925270        40.762081   \n",
       "773798                 5        -73.976387        40.748753   \n",
       "298496                 1        -73.984505        40.736301   \n",
       "742559                 1        -73.982124        40.774448   \n",
       "909577                 5        -73.990242        40.737278   \n",
       "566125                 2        -73.983269        40.781651   \n",
       "1420597                3        -73.991112        40.749882   \n",
       "486664                 1        -73.968987        40.757641   \n",
       "1226530                1        -73.963135        40.771873   \n",
       "673297                 1        -73.784042        40.648617   \n",
       "1407806                1        -74.015213        40.715698   \n",
       "1202263                1        -73.974350        40.762329   \n",
       "529002                 1        -74.002563        40.739563   \n",
       "729137                 1        -74.007118        40.717407   \n",
       "1086202                1        -73.989983        40.743050   \n",
       "1081066                1        -73.990776        40.737915   \n",
       "1164159                1        -73.953812        40.778763   \n",
       "\n",
       "         dropoff_longitude  dropoff_latitude store_and_fwd_flag  trip_duration  \n",
       "645404          -73.994179         40.751339                  N            564  \n",
       "817512          -73.952866         40.783276                  N            147  \n",
       "1284430         -73.959679         40.781265                  N            247  \n",
       "162909          -73.872124         40.771423                  N            508  \n",
       "773798          -73.991219         40.750393                  N            551  \n",
       "298496          -73.992409         40.743347                  N            244  \n",
       "742559          -73.968956         40.761398                  N            649  \n",
       "909577          -74.006966         40.735626                  N            765  \n",
       "566125          -73.995827         40.769024                  N            539  \n",
       "1420597         -73.977333         40.743855                  N            347  \n",
       "486664          -73.940224         40.792320                  N            842  \n",
       "1226530         -73.870255         40.772999                  N           1721  \n",
       "673297          -73.976395         40.778915                  N           2645  \n",
       "1407806         -73.981491         40.766300                  N           1135  \n",
       "1202263         -73.986107         40.762188                  N            344  \n",
       "529002          -74.006950         40.752228                  N            423  \n",
       "729137          -73.980095         40.754230                  N           1712  \n",
       "1086202         -73.991707         40.743771                  N              4  \n",
       "1081066         -73.979965         40.743088                  N            491  \n",
       "1164159         -73.946358         40.772484                  N            190  "
      ]
     },
     "execution_count": 7,
     "metadata": {},
     "output_type": "execute_result"
    }
   ],
   "source": [
    "train_df.sample(20)"
   ]
  },
  {
   "cell_type": "markdown",
   "id": "bf624cc1",
   "metadata": {
    "papermill": {
     "duration": 0.027042,
     "end_time": "2024-01-21T07:37:10.348364",
     "exception": false,
     "start_time": "2024-01-21T07:37:10.321322",
     "status": "completed"
    },
    "tags": []
   },
   "source": [
    "**About the columns** 💻:\n",
    "1. **id** - Starts with id and then a bunch of random numbers(7 to be exact).\n",
    "2. **vendor_id** - Integer column and categorical.\n",
    "3. **pickup_datetime** - Fmt YYYY-MM-DD HH:MM:SS\n",
    "4. **dropoff_datetime** - Fmt YYYY-MM-DD HH:MM:SS\n",
    "5. **passenger_count** - Integer column\n",
    "6. **pickup_longitude/latitude** - longitude is negative and latitude is positive(above Tropic of Cancer).\n",
    "7. **dropoff_longitude/latitude** - longitude is negative and latitude is positive(above Tropic of Cancer).\n",
    "8. **store_and_fwd_flagstore_and_fwd_flag** - String categorical - `Has to be encoded`.\n",
    "9. **trip_duration** - in seconds"
   ]
  },
  {
   "cell_type": "code",
   "execution_count": 8,
   "id": "dcee2cc6",
   "metadata": {
    "execution": {
     "iopub.execute_input": "2024-01-21T07:37:10.408151Z",
     "iopub.status.busy": "2024-01-21T07:37:10.407251Z",
     "iopub.status.idle": "2024-01-21T07:37:11.032084Z",
     "shell.execute_reply": "2024-01-21T07:37:11.030849Z"
    },
    "papermill": {
     "duration": 0.657435,
     "end_time": "2024-01-21T07:37:11.034862",
     "exception": false,
     "start_time": "2024-01-21T07:37:10.377427",
     "status": "completed"
    },
    "tags": []
   },
   "outputs": [
    {
     "data": {
      "text/plain": [
       "id                    0\n",
       "vendor_id             0\n",
       "pickup_datetime       0\n",
       "dropoff_datetime      0\n",
       "passenger_count       0\n",
       "pickup_longitude      0\n",
       "pickup_latitude       0\n",
       "dropoff_longitude     0\n",
       "dropoff_latitude      0\n",
       "store_and_fwd_flag    0\n",
       "trip_duration         0\n",
       "dtype: int64"
      ]
     },
     "execution_count": 8,
     "metadata": {},
     "output_type": "execute_result"
    }
   ],
   "source": [
    "# check for missing values\n",
    "\n",
    "# train_df\n",
    "train_df.isnull().sum()"
   ]
  },
  {
   "cell_type": "code",
   "execution_count": 9,
   "id": "13b858c6",
   "metadata": {
    "execution": {
     "iopub.execute_input": "2024-01-21T07:37:11.091721Z",
     "iopub.status.busy": "2024-01-21T07:37:11.091337Z",
     "iopub.status.idle": "2024-01-21T07:37:11.295455Z",
     "shell.execute_reply": "2024-01-21T07:37:11.294309Z"
    },
    "papermill": {
     "duration": 0.235651,
     "end_time": "2024-01-21T07:37:11.298034",
     "exception": false,
     "start_time": "2024-01-21T07:37:11.062383",
     "status": "completed"
    },
    "tags": []
   },
   "outputs": [
    {
     "data": {
      "text/plain": [
       "id                    0\n",
       "vendor_id             0\n",
       "pickup_datetime       0\n",
       "passenger_count       0\n",
       "pickup_longitude      0\n",
       "pickup_latitude       0\n",
       "dropoff_longitude     0\n",
       "dropoff_latitude      0\n",
       "store_and_fwd_flag    0\n",
       "dtype: int64"
      ]
     },
     "execution_count": 9,
     "metadata": {},
     "output_type": "execute_result"
    }
   ],
   "source": [
    "# check for the test data\n",
    "test_df.isna().sum()"
   ]
  },
  {
   "cell_type": "code",
   "execution_count": 10,
   "id": "7928992d",
   "metadata": {
    "execution": {
     "iopub.execute_input": "2024-01-21T07:37:11.354715Z",
     "iopub.status.busy": "2024-01-21T07:37:11.354335Z",
     "iopub.status.idle": "2024-01-21T07:37:11.362704Z",
     "shell.execute_reply": "2024-01-21T07:37:11.361620Z"
    },
    "papermill": {
     "duration": 0.03937,
     "end_time": "2024-01-21T07:37:11.364926",
     "exception": false,
     "start_time": "2024-01-21T07:37:11.325556",
     "status": "completed"
    },
    "tags": []
   },
   "outputs": [
    {
     "data": {
      "text/plain": [
       "Index(['pickup_longitude', 'pickup_latitude', 'dropoff_longitude',\n",
       "       'dropoff_latitude', 'trip_duration'],\n",
       "      dtype='object')"
      ]
     },
     "execution_count": 10,
     "metadata": {},
     "output_type": "execute_result"
    }
   ],
   "source": [
    "# columns to run describe on\n",
    "\n",
    "cols_to_describe_num = train_df.columns[[5,6,7,8,10]]\n",
    "\n",
    "cols_to_describe_num"
   ]
  },
  {
   "cell_type": "code",
   "execution_count": 11,
   "id": "1d0c4cc8",
   "metadata": {
    "execution": {
     "iopub.execute_input": "2024-01-21T07:37:11.423769Z",
     "iopub.status.busy": "2024-01-21T07:37:11.423338Z",
     "iopub.status.idle": "2024-01-21T07:37:11.878377Z",
     "shell.execute_reply": "2024-01-21T07:37:11.877283Z"
    },
    "papermill": {
     "duration": 0.487053,
     "end_time": "2024-01-21T07:37:11.880958",
     "exception": false,
     "start_time": "2024-01-21T07:37:11.393905",
     "status": "completed"
    },
    "tags": []
   },
   "outputs": [
    {
     "data": {
      "text/html": [
       "<div>\n",
       "<style scoped>\n",
       "    .dataframe tbody tr th:only-of-type {\n",
       "        vertical-align: middle;\n",
       "    }\n",
       "\n",
       "    .dataframe tbody tr th {\n",
       "        vertical-align: top;\n",
       "    }\n",
       "\n",
       "    .dataframe thead th {\n",
       "        text-align: right;\n",
       "    }\n",
       "</style>\n",
       "<table border=\"1\" class=\"dataframe\">\n",
       "  <thead>\n",
       "    <tr style=\"text-align: right;\">\n",
       "      <th></th>\n",
       "      <th>pickup_longitude</th>\n",
       "      <th>pickup_latitude</th>\n",
       "      <th>dropoff_longitude</th>\n",
       "      <th>dropoff_latitude</th>\n",
       "      <th>trip_duration</th>\n",
       "    </tr>\n",
       "  </thead>\n",
       "  <tbody>\n",
       "    <tr>\n",
       "      <th>count</th>\n",
       "      <td>1.458644e+06</td>\n",
       "      <td>1.458644e+06</td>\n",
       "      <td>1.458644e+06</td>\n",
       "      <td>1.458644e+06</td>\n",
       "      <td>1.458644e+06</td>\n",
       "    </tr>\n",
       "    <tr>\n",
       "      <th>mean</th>\n",
       "      <td>-7.397349e+01</td>\n",
       "      <td>4.075092e+01</td>\n",
       "      <td>-7.397342e+01</td>\n",
       "      <td>4.075180e+01</td>\n",
       "      <td>9.594923e+02</td>\n",
       "    </tr>\n",
       "    <tr>\n",
       "      <th>std</th>\n",
       "      <td>7.090186e-02</td>\n",
       "      <td>3.288119e-02</td>\n",
       "      <td>7.064327e-02</td>\n",
       "      <td>3.589056e-02</td>\n",
       "      <td>5.237432e+03</td>\n",
       "    </tr>\n",
       "    <tr>\n",
       "      <th>min</th>\n",
       "      <td>-1.219333e+02</td>\n",
       "      <td>3.435970e+01</td>\n",
       "      <td>-1.219333e+02</td>\n",
       "      <td>3.218114e+01</td>\n",
       "      <td>1.000000e+00</td>\n",
       "    </tr>\n",
       "    <tr>\n",
       "      <th>25%</th>\n",
       "      <td>-7.399187e+01</td>\n",
       "      <td>4.073735e+01</td>\n",
       "      <td>-7.399133e+01</td>\n",
       "      <td>4.073588e+01</td>\n",
       "      <td>3.970000e+02</td>\n",
       "    </tr>\n",
       "    <tr>\n",
       "      <th>50%</th>\n",
       "      <td>-7.398174e+01</td>\n",
       "      <td>4.075410e+01</td>\n",
       "      <td>-7.397975e+01</td>\n",
       "      <td>4.075452e+01</td>\n",
       "      <td>6.620000e+02</td>\n",
       "    </tr>\n",
       "    <tr>\n",
       "      <th>75%</th>\n",
       "      <td>-7.396733e+01</td>\n",
       "      <td>4.076836e+01</td>\n",
       "      <td>-7.396301e+01</td>\n",
       "      <td>4.076981e+01</td>\n",
       "      <td>1.075000e+03</td>\n",
       "    </tr>\n",
       "    <tr>\n",
       "      <th>max</th>\n",
       "      <td>-6.133553e+01</td>\n",
       "      <td>5.188108e+01</td>\n",
       "      <td>-6.133553e+01</td>\n",
       "      <td>4.392103e+01</td>\n",
       "      <td>3.526282e+06</td>\n",
       "    </tr>\n",
       "  </tbody>\n",
       "</table>\n",
       "</div>"
      ],
      "text/plain": [
       "       pickup_longitude  pickup_latitude  dropoff_longitude  dropoff_latitude  \\\n",
       "count      1.458644e+06     1.458644e+06       1.458644e+06      1.458644e+06   \n",
       "mean      -7.397349e+01     4.075092e+01      -7.397342e+01      4.075180e+01   \n",
       "std        7.090186e-02     3.288119e-02       7.064327e-02      3.589056e-02   \n",
       "min       -1.219333e+02     3.435970e+01      -1.219333e+02      3.218114e+01   \n",
       "25%       -7.399187e+01     4.073735e+01      -7.399133e+01      4.073588e+01   \n",
       "50%       -7.398174e+01     4.075410e+01      -7.397975e+01      4.075452e+01   \n",
       "75%       -7.396733e+01     4.076836e+01      -7.396301e+01      4.076981e+01   \n",
       "max       -6.133553e+01     5.188108e+01      -6.133553e+01      4.392103e+01   \n",
       "\n",
       "       trip_duration  \n",
       "count   1.458644e+06  \n",
       "mean    9.594923e+02  \n",
       "std     5.237432e+03  \n",
       "min     1.000000e+00  \n",
       "25%     3.970000e+02  \n",
       "50%     6.620000e+02  \n",
       "75%     1.075000e+03  \n",
       "max     3.526282e+06  "
      ]
     },
     "execution_count": 11,
     "metadata": {},
     "output_type": "execute_result"
    }
   ],
   "source": [
    "# description about the data\n",
    "\n",
    "train_df[cols_to_describe_num].describe()"
   ]
  },
  {
   "cell_type": "markdown",
   "id": "0c84918b",
   "metadata": {
    "papermill": {
     "duration": 0.027431,
     "end_time": "2024-01-21T07:37:11.936507",
     "exception": false,
     "start_time": "2024-01-21T07:37:11.909076",
     "status": "completed"
    },
    "tags": []
   },
   "source": [
    "<div style=\"background-color:#F0B27A ; padding: 20px;\">\n",
    "\n",
    "<span style=\"font-size: 18px;\">\n",
    "    \n",
    "**Some Geography Facts**         \n",
    "Latitude and longitude are a pair of numbers that describe a position on a geographic coordinate system. They are measured in decimal degrees and range from **\\[-90 to 90] for latitude** and **\\[-180 to 180] for longitude**.\n",
    "</span>\n",
    "</div>"
   ]
  },
  {
   "cell_type": "code",
   "execution_count": 12,
   "id": "5a54baf5",
   "metadata": {
    "execution": {
     "iopub.execute_input": "2024-01-21T07:37:11.994608Z",
     "iopub.status.busy": "2024-01-21T07:37:11.993946Z",
     "iopub.status.idle": "2024-01-21T07:37:12.353776Z",
     "shell.execute_reply": "2024-01-21T07:37:12.352663Z"
    },
    "papermill": {
     "duration": 0.391694,
     "end_time": "2024-01-21T07:37:12.356201",
     "exception": false,
     "start_time": "2024-01-21T07:37:11.964507",
     "status": "completed"
    },
    "tags": []
   },
   "outputs": [
    {
     "data": {
      "text/html": [
       "<div>\n",
       "<style scoped>\n",
       "    .dataframe tbody tr th:only-of-type {\n",
       "        vertical-align: middle;\n",
       "    }\n",
       "\n",
       "    .dataframe tbody tr th {\n",
       "        vertical-align: top;\n",
       "    }\n",
       "\n",
       "    .dataframe thead th {\n",
       "        text-align: right;\n",
       "    }\n",
       "</style>\n",
       "<table border=\"1\" class=\"dataframe\">\n",
       "  <thead>\n",
       "    <tr style=\"text-align: right;\">\n",
       "      <th></th>\n",
       "      <th>pickup_longitude</th>\n",
       "      <th>pickup_latitude</th>\n",
       "      <th>dropoff_longitude</th>\n",
       "      <th>dropoff_latitude</th>\n",
       "      <th>trip_duration</th>\n",
       "    </tr>\n",
       "  </thead>\n",
       "  <tbody>\n",
       "    <tr>\n",
       "      <th>count</th>\n",
       "      <td>1.458644e+06</td>\n",
       "      <td>1.458644e+06</td>\n",
       "      <td>1.458644e+06</td>\n",
       "      <td>1.458644e+06</td>\n",
       "      <td>1.458644e+06</td>\n",
       "    </tr>\n",
       "    <tr>\n",
       "      <th>mean</th>\n",
       "      <td>-7.397349e+01</td>\n",
       "      <td>4.075092e+01</td>\n",
       "      <td>-7.397342e+01</td>\n",
       "      <td>4.075180e+01</td>\n",
       "      <td>9.594923e+02</td>\n",
       "    </tr>\n",
       "    <tr>\n",
       "      <th>std</th>\n",
       "      <td>7.090186e-02</td>\n",
       "      <td>3.288119e-02</td>\n",
       "      <td>7.064327e-02</td>\n",
       "      <td>3.589056e-02</td>\n",
       "      <td>5.237432e+03</td>\n",
       "    </tr>\n",
       "    <tr>\n",
       "      <th>min</th>\n",
       "      <td>-1.219333e+02</td>\n",
       "      <td>3.435970e+01</td>\n",
       "      <td>-1.219333e+02</td>\n",
       "      <td>3.218114e+01</td>\n",
       "      <td>1.000000e+00</td>\n",
       "    </tr>\n",
       "    <tr>\n",
       "      <th>25%</th>\n",
       "      <td>-7.399187e+01</td>\n",
       "      <td>4.073735e+01</td>\n",
       "      <td>-7.399133e+01</td>\n",
       "      <td>4.073588e+01</td>\n",
       "      <td>3.970000e+02</td>\n",
       "    </tr>\n",
       "    <tr>\n",
       "      <th>50%</th>\n",
       "      <td>-7.398174e+01</td>\n",
       "      <td>4.075410e+01</td>\n",
       "      <td>-7.397975e+01</td>\n",
       "      <td>4.075452e+01</td>\n",
       "      <td>6.620000e+02</td>\n",
       "    </tr>\n",
       "    <tr>\n",
       "      <th>75%</th>\n",
       "      <td>-7.396733e+01</td>\n",
       "      <td>4.076836e+01</td>\n",
       "      <td>-7.396301e+01</td>\n",
       "      <td>4.076981e+01</td>\n",
       "      <td>1.075000e+03</td>\n",
       "    </tr>\n",
       "    <tr>\n",
       "      <th>max</th>\n",
       "      <td>-6.133553e+01</td>\n",
       "      <td>5.188108e+01</td>\n",
       "      <td>-6.133553e+01</td>\n",
       "      <td>4.392103e+01</td>\n",
       "      <td>3.526282e+06</td>\n",
       "    </tr>\n",
       "  </tbody>\n",
       "</table>\n",
       "</div>"
      ],
      "text/plain": [
       "       pickup_longitude  pickup_latitude  dropoff_longitude  dropoff_latitude  \\\n",
       "count      1.458644e+06     1.458644e+06       1.458644e+06      1.458644e+06   \n",
       "mean      -7.397349e+01     4.075092e+01      -7.397342e+01      4.075180e+01   \n",
       "std        7.090186e-02     3.288119e-02       7.064327e-02      3.589056e-02   \n",
       "min       -1.219333e+02     3.435970e+01      -1.219333e+02      3.218114e+01   \n",
       "25%       -7.399187e+01     4.073735e+01      -7.399133e+01      4.073588e+01   \n",
       "50%       -7.398174e+01     4.075410e+01      -7.397975e+01      4.075452e+01   \n",
       "75%       -7.396733e+01     4.076836e+01      -7.396301e+01      4.076981e+01   \n",
       "max       -6.133553e+01     5.188108e+01      -6.133553e+01      4.392103e+01   \n",
       "\n",
       "       trip_duration  \n",
       "count   1.458644e+06  \n",
       "mean    9.594923e+02  \n",
       "std     5.237432e+03  \n",
       "min     1.000000e+00  \n",
       "25%     3.970000e+02  \n",
       "50%     6.620000e+02  \n",
       "75%     1.075000e+03  \n",
       "max     3.526282e+06  "
      ]
     },
     "execution_count": 12,
     "metadata": {},
     "output_type": "execute_result"
    }
   ],
   "source": [
    "train_df[cols_to_describe_num].describe()"
   ]
  },
  {
   "cell_type": "markdown",
   "id": "42f9d749",
   "metadata": {
    "papermill": {
     "duration": 0.028045,
     "end_time": "2024-01-21T07:37:12.413352",
     "exception": false,
     "start_time": "2024-01-21T07:37:12.385307",
     "status": "completed"
    },
    "tags": []
   },
   "source": [
    "<div style=\"background-color: #E6E6FA; padding: 10px;\">\n",
    "    \n",
    "**About the columns**\n",
    "- **pickup_longitude** - -121.9(min) and -61.33(max) value are way off the borders of NYC city. The median longitude value is around the -73.9 mark which seems fine. (The -ve sign is correct as NYC lies on the west of the meridian line)\n",
    "- **pickup_latitude** - The maximum value here which is 51.88 seems to be concerning.(The +ve sign for all values is ok as NYC lies above the equator mark).\n",
    "- **dropoff_longitude** - 121.9(min) and -61.33(max) value are way off the borders of NYC city. The median longitude value is around the -73.9 mark which seems fine. (The -ve sign is correct as NYC lies on the west of the meridian line).\n",
    "    - check whether the minimum and maximum are from the same entry for both the pickup and drop. This can indicate a faulty device showing the same coordinates every time.\n",
    "- **dropoff latitude** - The min value of 32.181 is of concern.\n",
    "\n",
    "**Target Column** (trip_duration)\n",
    "- The mean duration is 959 sec and the median is 662 sec. This indicates the column is skewed to the right. (Mean > Median).\n",
    "- This also indicates the presence of outliers in the data that are skewing the distribution.\n",
    "- The minimum trip duration value is 1 sec which indicates ride cancelled by the rider or rejected by the driver, after the taxi reached the pickup spot.\n",
    "- The maximum trip duration of 980 minutes or around 41 days is definitely an outlier and should be handled.\n",
    "- The Q3 of the data is around 17-18 minutes which shows that people in NYC prefer shorter cab trips.\n",
    "    \n",
    "</div>"
   ]
  },
  {
   "cell_type": "code",
   "execution_count": 13,
   "id": "725c1214",
   "metadata": {
    "execution": {
     "iopub.execute_input": "2024-01-21T07:37:12.489054Z",
     "iopub.status.busy": "2024-01-21T07:37:12.488232Z",
     "iopub.status.idle": "2024-01-21T07:37:12.495582Z",
     "shell.execute_reply": "2024-01-21T07:37:12.494583Z"
    },
    "papermill": {
     "duration": 0.052883,
     "end_time": "2024-01-21T07:37:12.498428",
     "exception": false,
     "start_time": "2024-01-21T07:37:12.445545",
     "status": "completed"
    },
    "tags": []
   },
   "outputs": [
    {
     "data": {
      "text/plain": [
       "17.916666666666668"
      ]
     },
     "execution_count": 13,
     "metadata": {},
     "output_type": "execute_result"
    }
   ],
   "source": [
    "(1.075000e+03 * 60) / 3600"
   ]
  },
  {
   "cell_type": "markdown",
   "id": "2ca55c55",
   "metadata": {
    "papermill": {
     "duration": 0.029305,
     "end_time": "2024-01-21T07:37:12.559473",
     "exception": false,
     "start_time": "2024-01-21T07:37:12.530168",
     "status": "completed"
    },
    "tags": []
   },
   "source": [
    "**Points to Ponder**:\n",
    "Check the minimum and maximum values of latitude and longitude and check whether they are outliers?\n",
    "- Check the extreme longitude and latitude values.\n",
    "- Trip timings for one booking is around 41 days -- An Outlier."
   ]
  },
  {
   "cell_type": "code",
   "execution_count": 14,
   "id": "4301ccd1",
   "metadata": {
    "execution": {
     "iopub.execute_input": "2024-01-21T07:37:12.618995Z",
     "iopub.status.busy": "2024-01-21T07:37:12.618214Z",
     "iopub.status.idle": "2024-01-21T07:37:12.626680Z",
     "shell.execute_reply": "2024-01-21T07:37:12.625606Z"
    },
    "papermill": {
     "duration": 0.040988,
     "end_time": "2024-01-21T07:37:12.629188",
     "exception": false,
     "start_time": "2024-01-21T07:37:12.588200",
     "status": "completed"
    },
    "tags": []
   },
   "outputs": [
    {
     "data": {
      "text/plain": [
       "array(['vendor_id', 'passenger_count', 'store_and_fwd_flag'], dtype='<U18')"
      ]
     },
     "execution_count": 14,
     "metadata": {},
     "output_type": "execute_result"
    }
   ],
   "source": [
    "# statistical summary for the categorical columns\n",
    "\n",
    "cols_to_describe_cat = [col for col in train_df.columns if col not in cols_to_describe_num]\n",
    "cols_to_describe_cat = np.array(cols_to_describe_cat)[[1,4,5]]\n",
    "cols_to_describe_cat"
   ]
  },
  {
   "cell_type": "code",
   "execution_count": 15,
   "id": "0c57fab4",
   "metadata": {
    "execution": {
     "iopub.execute_input": "2024-01-21T07:37:12.689142Z",
     "iopub.status.busy": "2024-01-21T07:37:12.688729Z",
     "iopub.status.idle": "2024-01-21T07:37:13.043183Z",
     "shell.execute_reply": "2024-01-21T07:37:13.042091Z"
    },
    "papermill": {
     "duration": 0.387936,
     "end_time": "2024-01-21T07:37:13.045956",
     "exception": false,
     "start_time": "2024-01-21T07:37:12.658020",
     "status": "completed"
    },
    "tags": []
   },
   "outputs": [
    {
     "name": "stdout",
     "output_type": "stream",
     "text": [
      "The unique value in vendor_id are ----> [1 2]\n",
      "vendor_id\n",
      "2    780302\n",
      "1    678342\n",
      "Name: count, dtype: int64\n",
      "****************************************************************************************************\n",
      "The unique value in passenger_count are ----> [0 1 2 3 4 5 6 7 8 9]\n",
      "passenger_count\n",
      "1    1033540\n",
      "2     210318\n",
      "5      78088\n",
      "3      59896\n",
      "6      48333\n",
      "4      28404\n",
      "0         60\n",
      "7          3\n",
      "9          1\n",
      "8          1\n",
      "Name: count, dtype: int64\n",
      "****************************************************************************************************\n",
      "The unique value in store_and_fwd_flag are ----> ['N' 'Y']\n",
      "store_and_fwd_flag\n",
      "N    1450599\n",
      "Y       8045\n",
      "Name: count, dtype: int64\n",
      "****************************************************************************************************\n"
     ]
    }
   ],
   "source": [
    "# value counts of each categorical column \n",
    "\n",
    "for col in cols_to_describe_cat:\n",
    "    print(f'The unique value in {col} are ---->',np.sort(train_df[col].unique()))\n",
    "    print(train_df[col].value_counts())\n",
    "    print('*' * 100,end='\\n')"
   ]
  },
  {
   "cell_type": "code",
   "execution_count": 16,
   "id": "5113c43b",
   "metadata": {
    "execution": {
     "iopub.execute_input": "2024-01-21T07:37:13.106208Z",
     "iopub.status.busy": "2024-01-21T07:37:13.105806Z",
     "iopub.status.idle": "2024-01-21T07:37:13.115023Z",
     "shell.execute_reply": "2024-01-21T07:37:13.113846Z"
    },
    "papermill": {
     "duration": 0.042436,
     "end_time": "2024-01-21T07:37:13.117937",
     "exception": false,
     "start_time": "2024-01-21T07:37:13.075501",
     "status": "completed"
    },
    "tags": []
   },
   "outputs": [
    {
     "data": {
      "text/plain": [
       "id                     object\n",
       "vendor_id               int64\n",
       "pickup_datetime        object\n",
       "dropoff_datetime       object\n",
       "passenger_count         int64\n",
       "pickup_longitude      float64\n",
       "pickup_latitude       float64\n",
       "dropoff_longitude     float64\n",
       "dropoff_latitude      float64\n",
       "store_and_fwd_flag     object\n",
       "trip_duration           int64\n",
       "dtype: object"
      ]
     },
     "execution_count": 16,
     "metadata": {},
     "output_type": "execute_result"
    }
   ],
   "source": [
    "# datatypes of train data\n",
    "\n",
    "train_df.dtypes"
   ]
  },
  {
   "cell_type": "code",
   "execution_count": 17,
   "id": "8fd8009f",
   "metadata": {
    "execution": {
     "iopub.execute_input": "2024-01-21T07:37:13.178661Z",
     "iopub.status.busy": "2024-01-21T07:37:13.178269Z",
     "iopub.status.idle": "2024-01-21T07:37:14.584581Z",
     "shell.execute_reply": "2024-01-21T07:37:14.582903Z"
    },
    "papermill": {
     "duration": 1.439154,
     "end_time": "2024-01-21T07:37:14.587090",
     "exception": false,
     "start_time": "2024-01-21T07:37:13.147936",
     "status": "completed"
    },
    "tags": []
   },
   "outputs": [
    {
     "name": "stdout",
     "output_type": "stream",
     "text": [
      "<class 'pandas.core.frame.DataFrame'>\n",
      "RangeIndex: 1458644 entries, 0 to 1458643\n",
      "Data columns (total 11 columns):\n",
      " #   Column              Dtype  \n",
      "---  ------              -----  \n",
      " 0   id                  object \n",
      " 1   vendor_id           int64  \n",
      " 2   pickup_datetime     object \n",
      " 3   dropoff_datetime    object \n",
      " 4   passenger_count     int64  \n",
      " 5   pickup_longitude    float64\n",
      " 6   pickup_latitude     float64\n",
      " 7   dropoff_longitude   float64\n",
      " 8   dropoff_latitude    float64\n",
      " 9   store_and_fwd_flag  object \n",
      " 10  trip_duration       int64  \n",
      "dtypes: float64(4), int64(3), object(4)\n",
      "memory usage: 461.8 MB\n"
     ]
    }
   ],
   "source": [
    "# info about the data frame\n",
    "\n",
    "train_df.info(memory_usage='deep',show_counts=False)"
   ]
  },
  {
   "cell_type": "markdown",
   "id": "ce0ceced",
   "metadata": {
    "papermill": {
     "duration": 0.028767,
     "end_time": "2024-01-21T07:37:14.645103",
     "exception": false,
     "start_time": "2024-01-21T07:37:14.616336",
     "status": "completed"
    },
    "tags": []
   },
   "source": [
    "**The memory usage is 461.8 MB**"
   ]
  },
  {
   "cell_type": "code",
   "execution_count": 18,
   "id": "bbc365cc",
   "metadata": {
    "execution": {
     "iopub.execute_input": "2024-01-21T07:37:14.706050Z",
     "iopub.status.busy": "2024-01-21T07:37:14.705608Z",
     "iopub.status.idle": "2024-01-21T07:37:14.716058Z",
     "shell.execute_reply": "2024-01-21T07:37:14.714709Z"
    },
    "papermill": {
     "duration": 0.044298,
     "end_time": "2024-01-21T07:37:14.718740",
     "exception": false,
     "start_time": "2024-01-21T07:37:14.674442",
     "status": "completed"
    },
    "tags": []
   },
   "outputs": [],
   "source": [
    "# convert the big sized integer columns to small size\n",
    "\n",
    "train_df['vendor_id'] = train_df['vendor_id'].astype(np.int8)\n",
    "train_df['passenger_count'] = train_df['vendor_id'].astype(np.int16)"
   ]
  },
  {
   "cell_type": "code",
   "execution_count": 19,
   "id": "6e01e60b",
   "metadata": {
    "execution": {
     "iopub.execute_input": "2024-01-21T07:37:14.779096Z",
     "iopub.status.busy": "2024-01-21T07:37:14.778673Z",
     "iopub.status.idle": "2024-01-21T07:37:16.191732Z",
     "shell.execute_reply": "2024-01-21T07:37:16.189857Z"
    },
    "papermill": {
     "duration": 1.44632,
     "end_time": "2024-01-21T07:37:16.194624",
     "exception": false,
     "start_time": "2024-01-21T07:37:14.748304",
     "status": "completed"
    },
    "tags": []
   },
   "outputs": [
    {
     "name": "stdout",
     "output_type": "stream",
     "text": [
      "<class 'pandas.core.frame.DataFrame'>\n",
      "RangeIndex: 1458644 entries, 0 to 1458643\n",
      "Data columns (total 11 columns):\n",
      " #   Column              Dtype  \n",
      "---  ------              -----  \n",
      " 0   id                  object \n",
      " 1   vendor_id           int8   \n",
      " 2   pickup_datetime     object \n",
      " 3   dropoff_datetime    object \n",
      " 4   passenger_count     int16  \n",
      " 5   pickup_longitude    float64\n",
      " 6   pickup_latitude     float64\n",
      " 7   dropoff_longitude   float64\n",
      " 8   dropoff_latitude    float64\n",
      " 9   store_and_fwd_flag  object \n",
      " 10  trip_duration       int64  \n",
      "dtypes: float64(4), int16(1), int64(1), int8(1), object(4)\n",
      "memory usage: 443.8 MB\n"
     ]
    }
   ],
   "source": [
    "train_df.info(memory_usage='deep',show_counts=False)"
   ]
  },
  {
   "cell_type": "markdown",
   "id": "c5de6d25",
   "metadata": {
    "papermill": {
     "duration": 0.029363,
     "end_time": "2024-01-21T07:37:16.255527",
     "exception": false,
     "start_time": "2024-01-21T07:37:16.226164",
     "status": "completed"
    },
    "tags": []
   },
   "source": [
    "**Convert data types**\n",
    "1. id - remove 'id' and make it numerical.\n",
    "2. pickup_datetime - change to datetime\n",
    "3. dropoff_datetime - change to datetime"
   ]
  },
  {
   "cell_type": "markdown",
   "id": "91045d0f",
   "metadata": {
    "execution": {
     "iopub.execute_input": "2023-12-31T11:35:44.539791Z",
     "iopub.status.busy": "2023-12-31T11:35:44.539341Z",
     "iopub.status.idle": "2023-12-31T11:35:44.552673Z",
     "shell.execute_reply": "2023-12-31T11:35:44.551552Z",
     "shell.execute_reply.started": "2023-12-31T11:35:44.539747Z"
    },
    "papermill": {
     "duration": 0.02967,
     "end_time": "2024-01-21T07:37:16.315468",
     "exception": false,
     "start_time": "2024-01-21T07:37:16.285798",
     "status": "completed"
    },
    "tags": []
   },
   "source": [
    "# EDA(Exploratory Data Analysis)"
   ]
  },
  {
   "cell_type": "code",
   "execution_count": 20,
   "id": "e85cdf01",
   "metadata": {
    "execution": {
     "iopub.execute_input": "2024-01-21T07:37:16.378442Z",
     "iopub.status.busy": "2024-01-21T07:37:16.377952Z",
     "iopub.status.idle": "2024-01-21T07:37:16.385990Z",
     "shell.execute_reply": "2024-01-21T07:37:16.384825Z"
    },
    "papermill": {
     "duration": 0.042175,
     "end_time": "2024-01-21T07:37:16.388499",
     "exception": false,
     "start_time": "2024-01-21T07:37:16.346324",
     "status": "completed"
    },
    "tags": []
   },
   "outputs": [
    {
     "data": {
      "text/plain": [
       "Index(['id', 'vendor_id', 'pickup_datetime', 'dropoff_datetime',\n",
       "       'passenger_count', 'pickup_longitude', 'pickup_latitude',\n",
       "       'dropoff_longitude', 'dropoff_latitude', 'store_and_fwd_flag',\n",
       "       'trip_duration'],\n",
       "      dtype='object')"
      ]
     },
     "execution_count": 20,
     "metadata": {},
     "output_type": "execute_result"
    }
   ],
   "source": [
    "# train_df columns\n",
    "train_df.columns"
   ]
  },
  {
   "cell_type": "markdown",
   "id": "7c3c2923",
   "metadata": {
    "papermill": {
     "duration": 0.029268,
     "end_time": "2024-01-21T07:37:16.449322",
     "exception": false,
     "start_time": "2024-01-21T07:37:16.420054",
     "status": "completed"
    },
    "tags": []
   },
   "source": [
    "## id"
   ]
  },
  {
   "cell_type": "code",
   "execution_count": 21,
   "id": "c5b9ba30",
   "metadata": {
    "execution": {
     "iopub.execute_input": "2024-01-21T07:37:16.511668Z",
     "iopub.status.busy": "2024-01-21T07:37:16.511170Z",
     "iopub.status.idle": "2024-01-21T07:37:16.520582Z",
     "shell.execute_reply": "2024-01-21T07:37:16.519344Z"
    },
    "papermill": {
     "duration": 0.043678,
     "end_time": "2024-01-21T07:37:16.523013",
     "exception": false,
     "start_time": "2024-01-21T07:37:16.479335",
     "status": "completed"
    },
    "tags": []
   },
   "outputs": [
    {
     "data": {
      "text/plain": [
       "0    id2875421\n",
       "1    id2377394\n",
       "2    id3858529\n",
       "3    id3504673\n",
       "4    id2181028\n",
       "Name: id, dtype: object"
      ]
     },
     "execution_count": 21,
     "metadata": {},
     "output_type": "execute_result"
    }
   ],
   "source": [
    "train_df['id'].head()"
   ]
  },
  {
   "cell_type": "code",
   "execution_count": 22,
   "id": "b6c14c39",
   "metadata": {
    "execution": {
     "iopub.execute_input": "2024-01-21T07:37:16.584528Z",
     "iopub.status.busy": "2024-01-21T07:37:16.584031Z",
     "iopub.status.idle": "2024-01-21T07:37:17.569767Z",
     "shell.execute_reply": "2024-01-21T07:37:17.568431Z"
    },
    "papermill": {
     "duration": 1.019664,
     "end_time": "2024-01-21T07:37:17.572406",
     "exception": false,
     "start_time": "2024-01-21T07:37:16.552742",
     "status": "completed"
    },
    "tags": []
   },
   "outputs": [
    {
     "data": {
      "text/plain": [
       "0          2875421\n",
       "1          2377394\n",
       "2          3858529\n",
       "3          3504673\n",
       "4          2181028\n",
       "            ...   \n",
       "1458639    2376096\n",
       "1458640    1049543\n",
       "1458641    2304944\n",
       "1458642    2714485\n",
       "1458643    1209952\n",
       "Name: id, Length: 1458644, dtype: object"
      ]
     },
     "execution_count": 22,
     "metadata": {},
     "output_type": "execute_result"
    }
   ],
   "source": [
    "# remove the id tag from all the rows\n",
    "\n",
    "def remove_id_tag(data):\n",
    "    data['id'] = data['id'].str.replace('id','')\n",
    "    return data['id']\n",
    "\n",
    "# remove tag from train data\n",
    "remove_id_tag(train_df)"
   ]
  },
  {
   "cell_type": "code",
   "execution_count": 23,
   "id": "2abeb896",
   "metadata": {
    "execution": {
     "iopub.execute_input": "2024-01-21T07:37:17.635662Z",
     "iopub.status.busy": "2024-01-21T07:37:17.634784Z",
     "iopub.status.idle": "2024-01-21T07:37:18.059009Z",
     "shell.execute_reply": "2024-01-21T07:37:18.057735Z"
    },
    "papermill": {
     "duration": 0.458689,
     "end_time": "2024-01-21T07:37:18.061654",
     "exception": false,
     "start_time": "2024-01-21T07:37:17.602965",
     "status": "completed"
    },
    "tags": []
   },
   "outputs": [
    {
     "data": {
      "text/plain": [
       "0         3004672\n",
       "1         3505355\n",
       "2         1217141\n",
       "3         2150126\n",
       "4         1598245\n",
       "           ...   \n",
       "625129    3008929\n",
       "625130    3700764\n",
       "625131    2568735\n",
       "625132    1384355\n",
       "625133    0621643\n",
       "Name: id, Length: 625134, dtype: object"
      ]
     },
     "execution_count": 23,
     "metadata": {},
     "output_type": "execute_result"
    }
   ],
   "source": [
    "# remove tag from test data\n",
    "remove_id_tag(test_df)"
   ]
  },
  {
   "cell_type": "code",
   "execution_count": 24,
   "id": "8635c401",
   "metadata": {
    "execution": {
     "iopub.execute_input": "2024-01-21T07:37:18.124413Z",
     "iopub.status.busy": "2024-01-21T07:37:18.124033Z",
     "iopub.status.idle": "2024-01-21T07:37:18.459574Z",
     "shell.execute_reply": "2024-01-21T07:37:18.458445Z"
    },
    "papermill": {
     "duration": 0.36982,
     "end_time": "2024-01-21T07:37:18.462529",
     "exception": false,
     "start_time": "2024-01-21T07:37:18.092709",
     "status": "completed"
    },
    "tags": []
   },
   "outputs": [],
   "source": [
    "# convert the id column to integer\n",
    "train_df['id'] = train_df['id'].astype('int')\n",
    "test_df['id'] = test_df['id'].astype('int')"
   ]
  },
  {
   "cell_type": "code",
   "execution_count": 25,
   "id": "6d74983c",
   "metadata": {
    "execution": {
     "iopub.execute_input": "2024-01-21T07:37:18.525172Z",
     "iopub.status.busy": "2024-01-21T07:37:18.524771Z",
     "iopub.status.idle": "2024-01-21T07:37:18.789993Z",
     "shell.execute_reply": "2024-01-21T07:37:18.788900Z"
    },
    "papermill": {
     "duration": 0.299243,
     "end_time": "2024-01-21T07:37:18.792699",
     "exception": false,
     "start_time": "2024-01-21T07:37:18.493456",
     "status": "completed"
    },
    "tags": []
   },
   "outputs": [],
   "source": [
    "# test if id column is required\n",
    "\n",
    "def test_id_column(data):\n",
    "    if data.shape[0] == data['id'].nunique():\n",
    "        new_data = data.drop(columns='id')\n",
    "        return new_data\n",
    "    else:\n",
    "        return data\n",
    "    \n",
    "train_df_new = test_id_column(train_df)\n",
    "test_df_new = test_id_column(test_df)"
   ]
  },
  {
   "cell_type": "code",
   "execution_count": 26,
   "id": "4f45880e",
   "metadata": {
    "execution": {
     "iopub.execute_input": "2024-01-21T07:37:18.854332Z",
     "iopub.status.busy": "2024-01-21T07:37:18.853966Z",
     "iopub.status.idle": "2024-01-21T07:37:18.875267Z",
     "shell.execute_reply": "2024-01-21T07:37:18.874176Z"
    },
    "papermill": {
     "duration": 0.055084,
     "end_time": "2024-01-21T07:37:18.877700",
     "exception": false,
     "start_time": "2024-01-21T07:37:18.822616",
     "status": "completed"
    },
    "tags": []
   },
   "outputs": [
    {
     "data": {
      "text/html": [
       "<div>\n",
       "<style scoped>\n",
       "    .dataframe tbody tr th:only-of-type {\n",
       "        vertical-align: middle;\n",
       "    }\n",
       "\n",
       "    .dataframe tbody tr th {\n",
       "        vertical-align: top;\n",
       "    }\n",
       "\n",
       "    .dataframe thead th {\n",
       "        text-align: right;\n",
       "    }\n",
       "</style>\n",
       "<table border=\"1\" class=\"dataframe\">\n",
       "  <thead>\n",
       "    <tr style=\"text-align: right;\">\n",
       "      <th></th>\n",
       "      <th>vendor_id</th>\n",
       "      <th>pickup_datetime</th>\n",
       "      <th>dropoff_datetime</th>\n",
       "      <th>passenger_count</th>\n",
       "      <th>pickup_longitude</th>\n",
       "      <th>pickup_latitude</th>\n",
       "      <th>dropoff_longitude</th>\n",
       "      <th>dropoff_latitude</th>\n",
       "      <th>store_and_fwd_flag</th>\n",
       "      <th>trip_duration</th>\n",
       "    </tr>\n",
       "  </thead>\n",
       "  <tbody>\n",
       "    <tr>\n",
       "      <th>0</th>\n",
       "      <td>2</td>\n",
       "      <td>2016-03-14 17:24:55</td>\n",
       "      <td>2016-03-14 17:32:30</td>\n",
       "      <td>2</td>\n",
       "      <td>-73.982155</td>\n",
       "      <td>40.767937</td>\n",
       "      <td>-73.964630</td>\n",
       "      <td>40.765602</td>\n",
       "      <td>N</td>\n",
       "      <td>455</td>\n",
       "    </tr>\n",
       "    <tr>\n",
       "      <th>1</th>\n",
       "      <td>1</td>\n",
       "      <td>2016-06-12 00:43:35</td>\n",
       "      <td>2016-06-12 00:54:38</td>\n",
       "      <td>1</td>\n",
       "      <td>-73.980415</td>\n",
       "      <td>40.738564</td>\n",
       "      <td>-73.999481</td>\n",
       "      <td>40.731152</td>\n",
       "      <td>N</td>\n",
       "      <td>663</td>\n",
       "    </tr>\n",
       "    <tr>\n",
       "      <th>2</th>\n",
       "      <td>2</td>\n",
       "      <td>2016-01-19 11:35:24</td>\n",
       "      <td>2016-01-19 12:10:48</td>\n",
       "      <td>2</td>\n",
       "      <td>-73.979027</td>\n",
       "      <td>40.763939</td>\n",
       "      <td>-74.005333</td>\n",
       "      <td>40.710087</td>\n",
       "      <td>N</td>\n",
       "      <td>2124</td>\n",
       "    </tr>\n",
       "    <tr>\n",
       "      <th>3</th>\n",
       "      <td>2</td>\n",
       "      <td>2016-04-06 19:32:31</td>\n",
       "      <td>2016-04-06 19:39:40</td>\n",
       "      <td>2</td>\n",
       "      <td>-74.010040</td>\n",
       "      <td>40.719971</td>\n",
       "      <td>-74.012268</td>\n",
       "      <td>40.706718</td>\n",
       "      <td>N</td>\n",
       "      <td>429</td>\n",
       "    </tr>\n",
       "    <tr>\n",
       "      <th>4</th>\n",
       "      <td>2</td>\n",
       "      <td>2016-03-26 13:30:55</td>\n",
       "      <td>2016-03-26 13:38:10</td>\n",
       "      <td>2</td>\n",
       "      <td>-73.973053</td>\n",
       "      <td>40.793209</td>\n",
       "      <td>-73.972923</td>\n",
       "      <td>40.782520</td>\n",
       "      <td>N</td>\n",
       "      <td>435</td>\n",
       "    </tr>\n",
       "    <tr>\n",
       "      <th>...</th>\n",
       "      <td>...</td>\n",
       "      <td>...</td>\n",
       "      <td>...</td>\n",
       "      <td>...</td>\n",
       "      <td>...</td>\n",
       "      <td>...</td>\n",
       "      <td>...</td>\n",
       "      <td>...</td>\n",
       "      <td>...</td>\n",
       "      <td>...</td>\n",
       "    </tr>\n",
       "    <tr>\n",
       "      <th>1458639</th>\n",
       "      <td>2</td>\n",
       "      <td>2016-04-08 13:31:04</td>\n",
       "      <td>2016-04-08 13:44:02</td>\n",
       "      <td>2</td>\n",
       "      <td>-73.982201</td>\n",
       "      <td>40.745522</td>\n",
       "      <td>-73.994911</td>\n",
       "      <td>40.740170</td>\n",
       "      <td>N</td>\n",
       "      <td>778</td>\n",
       "    </tr>\n",
       "    <tr>\n",
       "      <th>1458640</th>\n",
       "      <td>1</td>\n",
       "      <td>2016-01-10 07:35:15</td>\n",
       "      <td>2016-01-10 07:46:10</td>\n",
       "      <td>1</td>\n",
       "      <td>-74.000946</td>\n",
       "      <td>40.747379</td>\n",
       "      <td>-73.970184</td>\n",
       "      <td>40.796547</td>\n",
       "      <td>N</td>\n",
       "      <td>655</td>\n",
       "    </tr>\n",
       "    <tr>\n",
       "      <th>1458641</th>\n",
       "      <td>2</td>\n",
       "      <td>2016-04-22 06:57:41</td>\n",
       "      <td>2016-04-22 07:10:25</td>\n",
       "      <td>2</td>\n",
       "      <td>-73.959129</td>\n",
       "      <td>40.768799</td>\n",
       "      <td>-74.004433</td>\n",
       "      <td>40.707371</td>\n",
       "      <td>N</td>\n",
       "      <td>764</td>\n",
       "    </tr>\n",
       "    <tr>\n",
       "      <th>1458642</th>\n",
       "      <td>1</td>\n",
       "      <td>2016-01-05 15:56:26</td>\n",
       "      <td>2016-01-05 16:02:39</td>\n",
       "      <td>1</td>\n",
       "      <td>-73.982079</td>\n",
       "      <td>40.749062</td>\n",
       "      <td>-73.974632</td>\n",
       "      <td>40.757107</td>\n",
       "      <td>N</td>\n",
       "      <td>373</td>\n",
       "    </tr>\n",
       "    <tr>\n",
       "      <th>1458643</th>\n",
       "      <td>1</td>\n",
       "      <td>2016-04-05 14:44:25</td>\n",
       "      <td>2016-04-05 14:47:43</td>\n",
       "      <td>1</td>\n",
       "      <td>-73.979538</td>\n",
       "      <td>40.781750</td>\n",
       "      <td>-73.972809</td>\n",
       "      <td>40.790585</td>\n",
       "      <td>N</td>\n",
       "      <td>198</td>\n",
       "    </tr>\n",
       "  </tbody>\n",
       "</table>\n",
       "<p>1458644 rows × 10 columns</p>\n",
       "</div>"
      ],
      "text/plain": [
       "         vendor_id      pickup_datetime     dropoff_datetime  passenger_count  \\\n",
       "0                2  2016-03-14 17:24:55  2016-03-14 17:32:30                2   \n",
       "1                1  2016-06-12 00:43:35  2016-06-12 00:54:38                1   \n",
       "2                2  2016-01-19 11:35:24  2016-01-19 12:10:48                2   \n",
       "3                2  2016-04-06 19:32:31  2016-04-06 19:39:40                2   \n",
       "4                2  2016-03-26 13:30:55  2016-03-26 13:38:10                2   \n",
       "...            ...                  ...                  ...              ...   \n",
       "1458639          2  2016-04-08 13:31:04  2016-04-08 13:44:02                2   \n",
       "1458640          1  2016-01-10 07:35:15  2016-01-10 07:46:10                1   \n",
       "1458641          2  2016-04-22 06:57:41  2016-04-22 07:10:25                2   \n",
       "1458642          1  2016-01-05 15:56:26  2016-01-05 16:02:39                1   \n",
       "1458643          1  2016-04-05 14:44:25  2016-04-05 14:47:43                1   \n",
       "\n",
       "         pickup_longitude  pickup_latitude  dropoff_longitude  \\\n",
       "0              -73.982155        40.767937         -73.964630   \n",
       "1              -73.980415        40.738564         -73.999481   \n",
       "2              -73.979027        40.763939         -74.005333   \n",
       "3              -74.010040        40.719971         -74.012268   \n",
       "4              -73.973053        40.793209         -73.972923   \n",
       "...                   ...              ...                ...   \n",
       "1458639        -73.982201        40.745522         -73.994911   \n",
       "1458640        -74.000946        40.747379         -73.970184   \n",
       "1458641        -73.959129        40.768799         -74.004433   \n",
       "1458642        -73.982079        40.749062         -73.974632   \n",
       "1458643        -73.979538        40.781750         -73.972809   \n",
       "\n",
       "         dropoff_latitude store_and_fwd_flag  trip_duration  \n",
       "0               40.765602                  N            455  \n",
       "1               40.731152                  N            663  \n",
       "2               40.710087                  N           2124  \n",
       "3               40.706718                  N            429  \n",
       "4               40.782520                  N            435  \n",
       "...                   ...                ...            ...  \n",
       "1458639         40.740170                  N            778  \n",
       "1458640         40.796547                  N            655  \n",
       "1458641         40.707371                  N            764  \n",
       "1458642         40.757107                  N            373  \n",
       "1458643         40.790585                  N            198  \n",
       "\n",
       "[1458644 rows x 10 columns]"
      ]
     },
     "execution_count": 26,
     "metadata": {},
     "output_type": "execute_result"
    }
   ],
   "source": [
    "train_df_new"
   ]
  },
  {
   "cell_type": "markdown",
   "id": "47e8258c",
   "metadata": {
    "papermill": {
     "duration": 0.030685,
     "end_time": "2024-01-21T07:37:18.939715",
     "exception": false,
     "start_time": "2024-01-21T07:37:18.909030",
     "status": "completed"
    },
    "tags": []
   },
   "source": [
    "## vendor_id"
   ]
  },
  {
   "cell_type": "code",
   "execution_count": 27,
   "id": "c2a20d33",
   "metadata": {
    "execution": {
     "iopub.execute_input": "2024-01-21T07:37:19.002624Z",
     "iopub.status.busy": "2024-01-21T07:37:19.002183Z",
     "iopub.status.idle": "2024-01-21T07:37:19.031643Z",
     "shell.execute_reply": "2024-01-21T07:37:19.030123Z"
    },
    "papermill": {
     "duration": 0.063893,
     "end_time": "2024-01-21T07:37:19.034147",
     "exception": false,
     "start_time": "2024-01-21T07:37:18.970254",
     "status": "completed"
    },
    "tags": []
   },
   "outputs": [
    {
     "data": {
      "text/plain": [
       "vendor_id\n",
       "1    678342\n",
       "2    780302\n",
       "Name: count, dtype: int64"
      ]
     },
     "execution_count": 27,
     "metadata": {},
     "output_type": "execute_result"
    }
   ],
   "source": [
    "# categories in the vendor id column\n",
    "\n",
    "train_df_new['vendor_id'].value_counts().sort_index()"
   ]
  },
  {
   "cell_type": "code",
   "execution_count": 28,
   "id": "78cc4c5a",
   "metadata": {
    "execution": {
     "iopub.execute_input": "2024-01-21T07:37:19.098168Z",
     "iopub.status.busy": "2024-01-21T07:37:19.097707Z",
     "iopub.status.idle": "2024-01-21T07:37:19.350155Z",
     "shell.execute_reply": "2024-01-21T07:37:19.348608Z"
    },
    "papermill": {
     "duration": 0.287309,
     "end_time": "2024-01-21T07:37:19.352627",
     "exception": false,
     "start_time": "2024-01-21T07:37:19.065318",
     "status": "completed"
    },
    "tags": []
   },
   "outputs": [
    {
     "data": {
      "image/png": "[encoded data removed]",
      "text/plain": [
       "<Figure size 1200x600 with 1 Axes>"
      ]
     },
     "metadata": {},
     "output_type": "display_data"
    }
   ],
   "source": [
    "# pie chart showing distribution\n",
    "fig = plt.figure(figsize=(12,6))\n",
    "plt.pie(train_df_new['vendor_id'].value_counts().sort_index(),autopct='%.2f%%',\n",
    "        explode=[0.2,0],shadow=True,labels=['Vendor 1','Vendor 2'],labeldistance=0.2)\n",
    "plt.title('Distribution of Rides according to vendor id')\n",
    "plt.show()"
   ]
  },
  {
   "cell_type": "markdown",
   "id": "774e0e1a",
   "metadata": {
    "papermill": {
     "duration": 0.033992,
     "end_time": "2024-01-21T07:37:19.429804",
     "exception": false,
     "start_time": "2024-01-21T07:37:19.395812",
     "status": "completed"
    },
    "tags": []
   },
   "source": [
    "- People are more likely to select vendor 2 for its services as compared to vendor 1."
   ]
  },
  {
   "cell_type": "markdown",
   "id": "194277c5",
   "metadata": {
    "papermill": {
     "duration": 0.031764,
     "end_time": "2024-01-21T07:37:19.492881",
     "exception": false,
     "start_time": "2024-01-21T07:37:19.461117",
     "status": "completed"
    },
    "tags": []
   },
   "source": [
    "## pickup datetime"
   ]
  },
  {
   "cell_type": "code",
   "execution_count": 29,
   "id": "d5f8fcf9",
   "metadata": {
    "execution": {
     "iopub.execute_input": "2024-01-21T07:37:19.560593Z",
     "iopub.status.busy": "2024-01-21T07:37:19.559780Z",
     "iopub.status.idle": "2024-01-21T07:37:20.479910Z",
     "shell.execute_reply": "2024-01-21T07:37:20.478171Z"
    },
    "papermill": {
     "duration": 0.958295,
     "end_time": "2024-01-21T07:37:20.483087",
     "exception": false,
     "start_time": "2024-01-21T07:37:19.524792",
     "status": "completed"
    },
    "tags": []
   },
   "outputs": [],
   "source": [
    "# change the column to datetime\n",
    "train_df_new['pickup_datetime'] = pd.to_datetime(train_df_new['pickup_datetime'])\n",
    "test_df_new['pickup_datetime'] = pd.to_datetime(test_df_new['pickup_datetime'])"
   ]
  },
  {
   "cell_type": "code",
   "execution_count": 30,
   "id": "7c3ad6e6",
   "metadata": {
    "execution": {
     "iopub.execute_input": "2024-01-21T07:37:20.548580Z",
     "iopub.status.busy": "2024-01-21T07:37:20.548149Z",
     "iopub.status.idle": "2024-01-21T07:37:20.554991Z",
     "shell.execute_reply": "2024-01-21T07:37:20.553845Z"
    },
    "papermill": {
     "duration": 0.042161,
     "end_time": "2024-01-21T07:37:20.557263",
     "exception": false,
     "start_time": "2024-01-21T07:37:20.515102",
     "status": "completed"
    },
    "tags": []
   },
   "outputs": [
    {
     "data": {
      "text/plain": [
       "(1458644, 10)"
      ]
     },
     "execution_count": 30,
     "metadata": {},
     "output_type": "execute_result"
    }
   ],
   "source": [
    "train_df_new.shape"
   ]
  },
  {
   "cell_type": "code",
   "execution_count": 31,
   "id": "6abb0433",
   "metadata": {
    "execution": {
     "iopub.execute_input": "2024-01-21T07:37:20.623999Z",
     "iopub.status.busy": "2024-01-21T07:37:20.623575Z",
     "iopub.status.idle": "2024-01-21T07:37:20.801420Z",
     "shell.execute_reply": "2024-01-21T07:37:20.800405Z"
    },
    "papermill": {
     "duration": 0.21372,
     "end_time": "2024-01-21T07:37:20.803666",
     "exception": false,
     "start_time": "2024-01-21T07:37:20.589946",
     "status": "completed"
    },
    "tags": []
   },
   "outputs": [
    {
     "data": {
      "text/plain": [
       "0          0\n",
       "1          6\n",
       "2          1\n",
       "3          2\n",
       "4          5\n",
       "          ..\n",
       "1458639    4\n",
       "1458640    6\n",
       "1458641    4\n",
       "1458642    1\n",
       "1458643    1\n",
       "Name: pickup_datetime, Length: 1458644, dtype: int32"
      ]
     },
     "execution_count": 31,
     "metadata": {},
     "output_type": "execute_result"
    }
   ],
   "source": [
    "train_df_new['pickup_datetime'].dt.weekday"
   ]
  },
  {
   "cell_type": "code",
   "execution_count": 32,
   "id": "21ebc172",
   "metadata": {
    "execution": {
     "iopub.execute_input": "2024-01-21T07:37:20.870881Z",
     "iopub.status.busy": "2024-01-21T07:37:20.869045Z",
     "iopub.status.idle": "2024-01-21T07:37:20.878080Z",
     "shell.execute_reply": "2024-01-21T07:37:20.877032Z"
    },
    "papermill": {
     "duration": 0.045387,
     "end_time": "2024-01-21T07:37:20.880739",
     "exception": false,
     "start_time": "2024-01-21T07:37:20.835352",
     "status": "completed"
    },
    "tags": []
   },
   "outputs": [],
   "source": [
    "# feature extraction\n",
    "\n",
    "def make_datetime_features(data,column_type):\n",
    "    data[f'{column_type}_hour'] = data[f'{column_type}_datetime'].dt.hour \n",
    "    data[f'{column_type}_date'] = data[f'{column_type}_datetime'].dt.day\n",
    "    data[f'{column_type}_month'] = data[f'{column_type}_datetime'].dt.month\n",
    "    data[f'{column_type}_day'] = data[f'{column_type}_datetime'].dt.weekday\n",
    "    data[f'is_weekend'] = data.apply(lambda row: row[f'{column_type}_day'] >= 5,axis=1).astype('int')\n",
    "    return data"
   ]
  },
  {
   "cell_type": "code",
   "execution_count": 33,
   "id": "b27548f5",
   "metadata": {
    "execution": {
     "iopub.execute_input": "2024-01-21T07:37:20.947264Z",
     "iopub.status.busy": "2024-01-21T07:37:20.945985Z",
     "iopub.status.idle": "2024-01-21T07:37:51.075619Z",
     "shell.execute_reply": "2024-01-21T07:37:51.074369Z"
    },
    "papermill": {
     "duration": 30.198534,
     "end_time": "2024-01-21T07:37:51.110746",
     "exception": false,
     "start_time": "2024-01-21T07:37:20.912212",
     "status": "completed"
    },
    "tags": []
   },
   "outputs": [
    {
     "data": {
      "text/html": [
       "<div>\n",
       "<style scoped>\n",
       "    .dataframe tbody tr th:only-of-type {\n",
       "        vertical-align: middle;\n",
       "    }\n",
       "\n",
       "    .dataframe tbody tr th {\n",
       "        vertical-align: top;\n",
       "    }\n",
       "\n",
       "    .dataframe thead th {\n",
       "        text-align: right;\n",
       "    }\n",
       "</style>\n",
       "<table border=\"1\" class=\"dataframe\">\n",
       "  <thead>\n",
       "    <tr style=\"text-align: right;\">\n",
       "      <th></th>\n",
       "      <th>vendor_id</th>\n",
       "      <th>pickup_datetime</th>\n",
       "      <th>passenger_count</th>\n",
       "      <th>pickup_longitude</th>\n",
       "      <th>pickup_latitude</th>\n",
       "      <th>dropoff_longitude</th>\n",
       "      <th>dropoff_latitude</th>\n",
       "      <th>store_and_fwd_flag</th>\n",
       "      <th>pickup_hour</th>\n",
       "      <th>pickup_date</th>\n",
       "      <th>pickup_month</th>\n",
       "      <th>pickup_day</th>\n",
       "      <th>is_weekend</th>\n",
       "    </tr>\n",
       "  </thead>\n",
       "  <tbody>\n",
       "    <tr>\n",
       "      <th>0</th>\n",
       "      <td>1</td>\n",
       "      <td>2016-06-30 23:59:58</td>\n",
       "      <td>1</td>\n",
       "      <td>-73.988129</td>\n",
       "      <td>40.732029</td>\n",
       "      <td>-73.990173</td>\n",
       "      <td>40.756680</td>\n",
       "      <td>N</td>\n",
       "      <td>23</td>\n",
       "      <td>30</td>\n",
       "      <td>6</td>\n",
       "      <td>3</td>\n",
       "      <td>0</td>\n",
       "    </tr>\n",
       "    <tr>\n",
       "      <th>1</th>\n",
       "      <td>1</td>\n",
       "      <td>2016-06-30 23:59:53</td>\n",
       "      <td>1</td>\n",
       "      <td>-73.964203</td>\n",
       "      <td>40.679993</td>\n",
       "      <td>-73.959808</td>\n",
       "      <td>40.655403</td>\n",
       "      <td>N</td>\n",
       "      <td>23</td>\n",
       "      <td>30</td>\n",
       "      <td>6</td>\n",
       "      <td>3</td>\n",
       "      <td>0</td>\n",
       "    </tr>\n",
       "    <tr>\n",
       "      <th>2</th>\n",
       "      <td>1</td>\n",
       "      <td>2016-06-30 23:59:47</td>\n",
       "      <td>1</td>\n",
       "      <td>-73.997437</td>\n",
       "      <td>40.737583</td>\n",
       "      <td>-73.986160</td>\n",
       "      <td>40.729523</td>\n",
       "      <td>N</td>\n",
       "      <td>23</td>\n",
       "      <td>30</td>\n",
       "      <td>6</td>\n",
       "      <td>3</td>\n",
       "      <td>0</td>\n",
       "    </tr>\n",
       "    <tr>\n",
       "      <th>3</th>\n",
       "      <td>2</td>\n",
       "      <td>2016-06-30 23:59:41</td>\n",
       "      <td>1</td>\n",
       "      <td>-73.956070</td>\n",
       "      <td>40.771900</td>\n",
       "      <td>-73.986427</td>\n",
       "      <td>40.730469</td>\n",
       "      <td>N</td>\n",
       "      <td>23</td>\n",
       "      <td>30</td>\n",
       "      <td>6</td>\n",
       "      <td>3</td>\n",
       "      <td>0</td>\n",
       "    </tr>\n",
       "    <tr>\n",
       "      <th>4</th>\n",
       "      <td>1</td>\n",
       "      <td>2016-06-30 23:59:33</td>\n",
       "      <td>1</td>\n",
       "      <td>-73.970215</td>\n",
       "      <td>40.761475</td>\n",
       "      <td>-73.961510</td>\n",
       "      <td>40.755890</td>\n",
       "      <td>N</td>\n",
       "      <td>23</td>\n",
       "      <td>30</td>\n",
       "      <td>6</td>\n",
       "      <td>3</td>\n",
       "      <td>0</td>\n",
       "    </tr>\n",
       "    <tr>\n",
       "      <th>...</th>\n",
       "      <td>...</td>\n",
       "      <td>...</td>\n",
       "      <td>...</td>\n",
       "      <td>...</td>\n",
       "      <td>...</td>\n",
       "      <td>...</td>\n",
       "      <td>...</td>\n",
       "      <td>...</td>\n",
       "      <td>...</td>\n",
       "      <td>...</td>\n",
       "      <td>...</td>\n",
       "      <td>...</td>\n",
       "      <td>...</td>\n",
       "    </tr>\n",
       "    <tr>\n",
       "      <th>625129</th>\n",
       "      <td>1</td>\n",
       "      <td>2016-01-01 00:02:52</td>\n",
       "      <td>1</td>\n",
       "      <td>-74.003464</td>\n",
       "      <td>40.725105</td>\n",
       "      <td>-74.001251</td>\n",
       "      <td>40.733643</td>\n",
       "      <td>N</td>\n",
       "      <td>0</td>\n",
       "      <td>1</td>\n",
       "      <td>1</td>\n",
       "      <td>4</td>\n",
       "      <td>0</td>\n",
       "    </tr>\n",
       "    <tr>\n",
       "      <th>625130</th>\n",
       "      <td>1</td>\n",
       "      <td>2016-01-01 00:01:52</td>\n",
       "      <td>1</td>\n",
       "      <td>-74.006363</td>\n",
       "      <td>40.743782</td>\n",
       "      <td>-73.953407</td>\n",
       "      <td>40.782467</td>\n",
       "      <td>N</td>\n",
       "      <td>0</td>\n",
       "      <td>1</td>\n",
       "      <td>1</td>\n",
       "      <td>4</td>\n",
       "      <td>0</td>\n",
       "    </tr>\n",
       "    <tr>\n",
       "      <th>625131</th>\n",
       "      <td>1</td>\n",
       "      <td>2016-01-01 00:01:24</td>\n",
       "      <td>2</td>\n",
       "      <td>-73.972267</td>\n",
       "      <td>40.759865</td>\n",
       "      <td>-73.876602</td>\n",
       "      <td>40.748665</td>\n",
       "      <td>N</td>\n",
       "      <td>0</td>\n",
       "      <td>1</td>\n",
       "      <td>1</td>\n",
       "      <td>4</td>\n",
       "      <td>0</td>\n",
       "    </tr>\n",
       "    <tr>\n",
       "      <th>625132</th>\n",
       "      <td>1</td>\n",
       "      <td>2016-01-01 00:00:28</td>\n",
       "      <td>1</td>\n",
       "      <td>-73.976501</td>\n",
       "      <td>40.733562</td>\n",
       "      <td>-73.854263</td>\n",
       "      <td>40.891788</td>\n",
       "      <td>N</td>\n",
       "      <td>0</td>\n",
       "      <td>1</td>\n",
       "      <td>1</td>\n",
       "      <td>4</td>\n",
       "      <td>0</td>\n",
       "    </tr>\n",
       "    <tr>\n",
       "      <th>625133</th>\n",
       "      <td>2</td>\n",
       "      <td>2016-01-01 00:00:22</td>\n",
       "      <td>2</td>\n",
       "      <td>-73.981850</td>\n",
       "      <td>40.716881</td>\n",
       "      <td>-73.969330</td>\n",
       "      <td>40.769379</td>\n",
       "      <td>N</td>\n",
       "      <td>0</td>\n",
       "      <td>1</td>\n",
       "      <td>1</td>\n",
       "      <td>4</td>\n",
       "      <td>0</td>\n",
       "    </tr>\n",
       "  </tbody>\n",
       "</table>\n",
       "<p>625134 rows × 13 columns</p>\n",
       "</div>"
      ],
      "text/plain": [
       "        vendor_id     pickup_datetime  passenger_count  pickup_longitude  \\\n",
       "0               1 2016-06-30 23:59:58                1        -73.988129   \n",
       "1               1 2016-06-30 23:59:53                1        -73.964203   \n",
       "2               1 2016-06-30 23:59:47                1        -73.997437   \n",
       "3               2 2016-06-30 23:59:41                1        -73.956070   \n",
       "4               1 2016-06-30 23:59:33                1        -73.970215   \n",
       "...           ...                 ...              ...               ...   \n",
       "625129          1 2016-01-01 00:02:52                1        -74.003464   \n",
       "625130          1 2016-01-01 00:01:52                1        -74.006363   \n",
       "625131          1 2016-01-01 00:01:24                2        -73.972267   \n",
       "625132          1 2016-01-01 00:00:28                1        -73.976501   \n",
       "625133          2 2016-01-01 00:00:22                2        -73.981850   \n",
       "\n",
       "        pickup_latitude  dropoff_longitude  dropoff_latitude  \\\n",
       "0             40.732029         -73.990173         40.756680   \n",
       "1             40.679993         -73.959808         40.655403   \n",
       "2             40.737583         -73.986160         40.729523   \n",
       "3             40.771900         -73.986427         40.730469   \n",
       "4             40.761475         -73.961510         40.755890   \n",
       "...                 ...                ...               ...   \n",
       "625129        40.725105         -74.001251         40.733643   \n",
       "625130        40.743782         -73.953407         40.782467   \n",
       "625131        40.759865         -73.876602         40.748665   \n",
       "625132        40.733562         -73.854263         40.891788   \n",
       "625133        40.716881         -73.969330         40.769379   \n",
       "\n",
       "       store_and_fwd_flag  pickup_hour  pickup_date  pickup_month  pickup_day  \\\n",
       "0                       N           23           30             6           3   \n",
       "1                       N           23           30             6           3   \n",
       "2                       N           23           30             6           3   \n",
       "3                       N           23           30             6           3   \n",
       "4                       N           23           30             6           3   \n",
       "...                   ...          ...          ...           ...         ...   \n",
       "625129                  N            0            1             1           4   \n",
       "625130                  N            0            1             1           4   \n",
       "625131                  N            0            1             1           4   \n",
       "625132                  N            0            1             1           4   \n",
       "625133                  N            0            1             1           4   \n",
       "\n",
       "        is_weekend  \n",
       "0                0  \n",
       "1                0  \n",
       "2                0  \n",
       "3                0  \n",
       "4                0  \n",
       "...            ...  \n",
       "625129           0  \n",
       "625130           0  \n",
       "625131           0  \n",
       "625132           0  \n",
       "625133           0  \n",
       "\n",
       "[625134 rows x 13 columns]"
      ]
     },
     "execution_count": 33,
     "metadata": {},
     "output_type": "execute_result"
    }
   ],
   "source": [
    "# datetime features for pickup column in train data \n",
    "make_datetime_features(train_df_new,'pickup')\n",
    "# datetime features for pickup column in test data\n",
    "make_datetime_features(test_df_new,'pickup')"
   ]
  },
  {
   "cell_type": "code",
   "execution_count": 34,
   "id": "e197fbde",
   "metadata": {
    "execution": {
     "iopub.execute_input": "2024-01-21T07:37:51.178424Z",
     "iopub.status.busy": "2024-01-21T07:37:51.177989Z",
     "iopub.status.idle": "2024-01-21T07:37:51.185336Z",
     "shell.execute_reply": "2024-01-21T07:37:51.184115Z"
    },
    "papermill": {
     "duration": 0.043751,
     "end_time": "2024-01-21T07:37:51.187818",
     "exception": false,
     "start_time": "2024-01-21T07:37:51.144067",
     "status": "completed"
    },
    "tags": []
   },
   "outputs": [
    {
     "data": {
      "text/plain": [
       "(1458644, 15)"
      ]
     },
     "execution_count": 34,
     "metadata": {},
     "output_type": "execute_result"
    }
   ],
   "source": [
    "train_df_new.shape"
   ]
  },
  {
   "cell_type": "code",
   "execution_count": 35,
   "id": "e4365728",
   "metadata": {
    "execution": {
     "iopub.execute_input": "2024-01-21T07:37:51.256432Z",
     "iopub.status.busy": "2024-01-21T07:37:51.256011Z",
     "iopub.status.idle": "2024-01-21T07:37:51.275055Z",
     "shell.execute_reply": "2024-01-21T07:37:51.273951Z"
    },
    "papermill": {
     "duration": 0.056768,
     "end_time": "2024-01-21T07:37:51.277509",
     "exception": false,
     "start_time": "2024-01-21T07:37:51.220741",
     "status": "completed"
    },
    "tags": []
   },
   "outputs": [
    {
     "data": {
      "text/html": [
       "<div>\n",
       "<style scoped>\n",
       "    .dataframe tbody tr th:only-of-type {\n",
       "        vertical-align: middle;\n",
       "    }\n",
       "\n",
       "    .dataframe tbody tr th {\n",
       "        vertical-align: top;\n",
       "    }\n",
       "\n",
       "    .dataframe thead th {\n",
       "        text-align: right;\n",
       "    }\n",
       "</style>\n",
       "<table border=\"1\" class=\"dataframe\">\n",
       "  <thead>\n",
       "    <tr style=\"text-align: right;\">\n",
       "      <th></th>\n",
       "      <th>vendor_id</th>\n",
       "      <th>pickup_datetime</th>\n",
       "      <th>dropoff_datetime</th>\n",
       "      <th>passenger_count</th>\n",
       "      <th>pickup_longitude</th>\n",
       "      <th>pickup_latitude</th>\n",
       "      <th>dropoff_longitude</th>\n",
       "      <th>dropoff_latitude</th>\n",
       "      <th>store_and_fwd_flag</th>\n",
       "      <th>trip_duration</th>\n",
       "      <th>pickup_hour</th>\n",
       "      <th>pickup_date</th>\n",
       "      <th>pickup_month</th>\n",
       "      <th>pickup_day</th>\n",
       "      <th>is_weekend</th>\n",
       "    </tr>\n",
       "  </thead>\n",
       "  <tbody>\n",
       "    <tr>\n",
       "      <th>0</th>\n",
       "      <td>2</td>\n",
       "      <td>2016-03-14 17:24:55</td>\n",
       "      <td>2016-03-14 17:32:30</td>\n",
       "      <td>2</td>\n",
       "      <td>-73.982155</td>\n",
       "      <td>40.767937</td>\n",
       "      <td>-73.964630</td>\n",
       "      <td>40.765602</td>\n",
       "      <td>N</td>\n",
       "      <td>455</td>\n",
       "      <td>17</td>\n",
       "      <td>14</td>\n",
       "      <td>3</td>\n",
       "      <td>0</td>\n",
       "      <td>0</td>\n",
       "    </tr>\n",
       "    <tr>\n",
       "      <th>1</th>\n",
       "      <td>1</td>\n",
       "      <td>2016-06-12 00:43:35</td>\n",
       "      <td>2016-06-12 00:54:38</td>\n",
       "      <td>1</td>\n",
       "      <td>-73.980415</td>\n",
       "      <td>40.738564</td>\n",
       "      <td>-73.999481</td>\n",
       "      <td>40.731152</td>\n",
       "      <td>N</td>\n",
       "      <td>663</td>\n",
       "      <td>0</td>\n",
       "      <td>12</td>\n",
       "      <td>6</td>\n",
       "      <td>6</td>\n",
       "      <td>1</td>\n",
       "    </tr>\n",
       "    <tr>\n",
       "      <th>2</th>\n",
       "      <td>2</td>\n",
       "      <td>2016-01-19 11:35:24</td>\n",
       "      <td>2016-01-19 12:10:48</td>\n",
       "      <td>2</td>\n",
       "      <td>-73.979027</td>\n",
       "      <td>40.763939</td>\n",
       "      <td>-74.005333</td>\n",
       "      <td>40.710087</td>\n",
       "      <td>N</td>\n",
       "      <td>2124</td>\n",
       "      <td>11</td>\n",
       "      <td>19</td>\n",
       "      <td>1</td>\n",
       "      <td>1</td>\n",
       "      <td>0</td>\n",
       "    </tr>\n",
       "    <tr>\n",
       "      <th>3</th>\n",
       "      <td>2</td>\n",
       "      <td>2016-04-06 19:32:31</td>\n",
       "      <td>2016-04-06 19:39:40</td>\n",
       "      <td>2</td>\n",
       "      <td>-74.010040</td>\n",
       "      <td>40.719971</td>\n",
       "      <td>-74.012268</td>\n",
       "      <td>40.706718</td>\n",
       "      <td>N</td>\n",
       "      <td>429</td>\n",
       "      <td>19</td>\n",
       "      <td>6</td>\n",
       "      <td>4</td>\n",
       "      <td>2</td>\n",
       "      <td>0</td>\n",
       "    </tr>\n",
       "    <tr>\n",
       "      <th>4</th>\n",
       "      <td>2</td>\n",
       "      <td>2016-03-26 13:30:55</td>\n",
       "      <td>2016-03-26 13:38:10</td>\n",
       "      <td>2</td>\n",
       "      <td>-73.973053</td>\n",
       "      <td>40.793209</td>\n",
       "      <td>-73.972923</td>\n",
       "      <td>40.782520</td>\n",
       "      <td>N</td>\n",
       "      <td>435</td>\n",
       "      <td>13</td>\n",
       "      <td>26</td>\n",
       "      <td>3</td>\n",
       "      <td>5</td>\n",
       "      <td>1</td>\n",
       "    </tr>\n",
       "  </tbody>\n",
       "</table>\n",
       "</div>"
      ],
      "text/plain": [
       "   vendor_id     pickup_datetime     dropoff_datetime  passenger_count  \\\n",
       "0          2 2016-03-14 17:24:55  2016-03-14 17:32:30                2   \n",
       "1          1 2016-06-12 00:43:35  2016-06-12 00:54:38                1   \n",
       "2          2 2016-01-19 11:35:24  2016-01-19 12:10:48                2   \n",
       "3          2 2016-04-06 19:32:31  2016-04-06 19:39:40                2   \n",
       "4          2 2016-03-26 13:30:55  2016-03-26 13:38:10                2   \n",
       "\n",
       "   pickup_longitude  pickup_latitude  dropoff_longitude  dropoff_latitude  \\\n",
       "0        -73.982155        40.767937         -73.964630         40.765602   \n",
       "1        -73.980415        40.738564         -73.999481         40.731152   \n",
       "2        -73.979027        40.763939         -74.005333         40.710087   \n",
       "3        -74.010040        40.719971         -74.012268         40.706718   \n",
       "4        -73.973053        40.793209         -73.972923         40.782520   \n",
       "\n",
       "  store_and_fwd_flag  trip_duration  pickup_hour  pickup_date  pickup_month  \\\n",
       "0                  N            455           17           14             3   \n",
       "1                  N            663            0           12             6   \n",
       "2                  N           2124           11           19             1   \n",
       "3                  N            429           19            6             4   \n",
       "4                  N            435           13           26             3   \n",
       "\n",
       "   pickup_day  is_weekend  \n",
       "0           0           0  \n",
       "1           6           1  \n",
       "2           1           0  \n",
       "3           2           0  \n",
       "4           5           1  "
      ]
     },
     "execution_count": 35,
     "metadata": {},
     "output_type": "execute_result"
    }
   ],
   "source": [
    "train_df_new.head()"
   ]
  },
  {
   "cell_type": "code",
   "execution_count": 36,
   "id": "244de0c9",
   "metadata": {
    "execution": {
     "iopub.execute_input": "2024-01-21T07:37:51.344970Z",
     "iopub.status.busy": "2024-01-21T07:37:51.344561Z",
     "iopub.status.idle": "2024-01-21T07:38:27.471595Z",
     "shell.execute_reply": "2024-01-21T07:38:27.470538Z"
    },
    "papermill": {
     "duration": 36.164493,
     "end_time": "2024-01-21T07:38:27.474552",
     "exception": false,
     "start_time": "2024-01-21T07:37:51.310059",
     "status": "completed"
    },
    "tags": []
   },
   "outputs": [],
   "source": [
    "# save the data \n",
    "# make the directory as datetime\n",
    "save_path = Path('/kaggle/working/') / 'datetime'\n",
    "save_path.mkdir(parents=True,exist_ok=True)\n",
    "\n",
    "# save the train file\n",
    "train_df_new.to_csv(save_path / 'train.csv')\n",
    "\n",
    "# save the test file\n",
    "test_df_new.to_csv(save_path / 'test.csv')"
   ]
  },
  {
   "cell_type": "markdown",
   "id": "4c317038",
   "metadata": {
    "papermill": {
     "duration": 0.032888,
     "end_time": "2024-01-21T07:38:27.541798",
     "exception": false,
     "start_time": "2024-01-21T07:38:27.508910",
     "status": "completed"
    },
    "tags": []
   },
   "source": [
    "## EDA on the Datetime Columns"
   ]
  },
  {
   "cell_type": "code",
   "execution_count": 37,
   "id": "9be5cc2e",
   "metadata": {
    "execution": {
     "iopub.execute_input": "2024-01-21T07:38:27.609607Z",
     "iopub.status.busy": "2024-01-21T07:38:27.609222Z",
     "iopub.status.idle": "2024-01-21T07:38:27.625816Z",
     "shell.execute_reply": "2024-01-21T07:38:27.624676Z"
    },
    "papermill": {
     "duration": 0.053803,
     "end_time": "2024-01-21T07:38:27.628079",
     "exception": false,
     "start_time": "2024-01-21T07:38:27.574276",
     "status": "completed"
    },
    "tags": []
   },
   "outputs": [
    {
     "data": {
      "text/plain": [
       "Timedelta('181 days 23:59:22')"
      ]
     },
     "execution_count": 37,
     "metadata": {},
     "output_type": "execute_result"
    }
   ],
   "source": [
    "# time range for the train data\n",
    "\n",
    "train_df_new['pickup_datetime'].max() - train_df_new['pickup_datetime'].min() "
   ]
  },
  {
   "cell_type": "markdown",
   "id": "dcc10755",
   "metadata": {
    "papermill": {
     "duration": 0.03574,
     "end_time": "2024-01-21T07:38:27.696647",
     "exception": false,
     "start_time": "2024-01-21T07:38:27.660907",
     "status": "completed"
    },
    "tags": []
   },
   "source": [
    "**The time range shows that we have the data for 6 months**"
   ]
  },
  {
   "cell_type": "code",
   "execution_count": 38,
   "id": "e2454835",
   "metadata": {
    "execution": {
     "iopub.execute_input": "2024-01-21T07:38:27.764725Z",
     "iopub.status.busy": "2024-01-21T07:38:27.764335Z",
     "iopub.status.idle": "2024-01-21T07:38:27.777478Z",
     "shell.execute_reply": "2024-01-21T07:38:27.776236Z"
    },
    "papermill": {
     "duration": 0.050458,
     "end_time": "2024-01-21T07:38:27.780102",
     "exception": false,
     "start_time": "2024-01-21T07:38:27.729644",
     "status": "completed"
    },
    "tags": []
   },
   "outputs": [
    {
     "data": {
      "text/plain": [
       "Timedelta('181 days 23:59:22')"
      ]
     },
     "execution_count": 38,
     "metadata": {},
     "output_type": "execute_result"
    }
   ],
   "source": [
    "# time range for the test data\n",
    "\n",
    "train_df_new['pickup_datetime'].max() - train_df_new['pickup_datetime'].min() "
   ]
  },
  {
   "cell_type": "code",
   "execution_count": 39,
   "id": "4953a7eb",
   "metadata": {
    "execution": {
     "iopub.execute_input": "2024-01-21T07:38:27.848276Z",
     "iopub.status.busy": "2024-01-21T07:38:27.847887Z",
     "iopub.status.idle": "2024-01-21T07:38:27.871231Z",
     "shell.execute_reply": "2024-01-21T07:38:27.870080Z"
    },
    "papermill": {
     "duration": 0.060255,
     "end_time": "2024-01-21T07:38:27.873601",
     "exception": false,
     "start_time": "2024-01-21T07:38:27.813346",
     "status": "completed"
    },
    "tags": []
   },
   "outputs": [
    {
     "data": {
      "text/html": [
       "<div>\n",
       "<style scoped>\n",
       "    .dataframe tbody tr th:only-of-type {\n",
       "        vertical-align: middle;\n",
       "    }\n",
       "\n",
       "    .dataframe tbody tr th {\n",
       "        vertical-align: top;\n",
       "    }\n",
       "\n",
       "    .dataframe thead th {\n",
       "        text-align: right;\n",
       "    }\n",
       "</style>\n",
       "<table border=\"1\" class=\"dataframe\">\n",
       "  <thead>\n",
       "    <tr style=\"text-align: right;\">\n",
       "      <th></th>\n",
       "      <th>train</th>\n",
       "      <th>test</th>\n",
       "    </tr>\n",
       "  </thead>\n",
       "  <tbody>\n",
       "    <tr>\n",
       "      <th>Opening_date</th>\n",
       "      <td>2016-01-01 00:00:17</td>\n",
       "      <td>2016-01-01 00:00:22</td>\n",
       "    </tr>\n",
       "    <tr>\n",
       "      <th>Closing_date</th>\n",
       "      <td>2016-06-30 23:59:39</td>\n",
       "      <td>2016-06-30 23:59:58</td>\n",
       "    </tr>\n",
       "  </tbody>\n",
       "</table>\n",
       "</div>"
      ],
      "text/plain": [
       "                           train                test\n",
       "Opening_date 2016-01-01 00:00:17 2016-01-01 00:00:22\n",
       "Closing_date 2016-06-30 23:59:39 2016-06-30 23:59:58"
      ]
     },
     "execution_count": 39,
     "metadata": {},
     "output_type": "execute_result"
    }
   ],
   "source": [
    "# time range for the train and test data\n",
    "\n",
    "data_temp = {'Opening_date':[train_df_new['pickup_datetime'].min(),test_df_new['pickup_datetime'].min()],\n",
    "            'Closing_date':[train_df_new['pickup_datetime'].max(),test_df_new['pickup_datetime'].max()]}\n",
    "\n",
    "pd.DataFrame(data=data_temp,index=['train','test']).T"
   ]
  },
  {
   "cell_type": "markdown",
   "id": "bb75d2da",
   "metadata": {
    "papermill": {
     "duration": 0.032904,
     "end_time": "2024-01-21T07:38:27.939799",
     "exception": false,
     "start_time": "2024-01-21T07:38:27.906895",
     "status": "completed"
    },
    "tags": []
   },
   "source": [
    "This shows that both the train and the test data have ranges from the same dates i.e. from **(Jan 1st, 2016)** till **(June 30th, 2016)**."
   ]
  },
  {
   "cell_type": "code",
   "execution_count": 40,
   "id": "f8f2883b",
   "metadata": {
    "execution": {
     "iopub.execute_input": "2024-01-21T07:38:28.008412Z",
     "iopub.status.busy": "2024-01-21T07:38:28.007978Z",
     "iopub.status.idle": "2024-01-21T07:38:29.026085Z",
     "shell.execute_reply": "2024-01-21T07:38:29.024836Z"
    },
    "papermill": {
     "duration": 1.05546,
     "end_time": "2024-01-21T07:38:29.028588",
     "exception": false,
     "start_time": "2024-01-21T07:38:27.973128",
     "status": "completed"
    },
    "tags": []
   },
   "outputs": [
    {
     "data": {
      "text/plain": [
       "pickup_datetime\n",
       "2016-01-01    7162\n",
       "2016-01-02    6512\n",
       "2016-01-03    6353\n",
       "2016-01-04    6725\n",
       "2016-01-05    7204\n",
       "              ... \n",
       "2016-06-26    7084\n",
       "2016-06-27    7311\n",
       "2016-06-28    7253\n",
       "2016-06-29    7623\n",
       "2016-06-30    7588\n",
       "Name: count, Length: 182, dtype: int64"
      ]
     },
     "execution_count": 40,
     "metadata": {},
     "output_type": "execute_result"
    }
   ],
   "source": [
    "# total pickups each day\n",
    "\n",
    "train_df_new['pickup_datetime'].dt.date \\\n",
    ".value_counts() \\\n",
    ".sort_index()"
   ]
  },
  {
   "cell_type": "markdown",
   "id": "fa2b14e9",
   "metadata": {
    "papermill": {
     "duration": 0.034237,
     "end_time": "2024-01-21T07:38:29.097361",
     "exception": false,
     "start_time": "2024-01-21T07:38:29.063124",
     "status": "completed"
    },
    "tags": []
   },
   "source": [
    "**Idea behind this code**:\n",
    "\n",
    "\n",
    "I needed to find out the pickup pattern of passengers on a particular date in line plots for both the train and test data.   \n",
    "To do this:  \n",
    "1. Calculated the value counts(count of rows) for each date, which will give me the total no. of pickups in the data for that particular date.\n",
    "2. Then I sorted the index to reorder the data in correct chronological order."
   ]
  },
  {
   "cell_type": "code",
   "execution_count": 41,
   "id": "c3893147",
   "metadata": {
    "execution": {
     "iopub.execute_input": "2024-01-21T07:38:29.167105Z",
     "iopub.status.busy": "2024-01-21T07:38:29.166346Z",
     "iopub.status.idle": "2024-01-21T07:38:30.930462Z",
     "shell.execute_reply": "2024-01-21T07:38:30.929563Z"
    },
    "papermill": {
     "duration": 1.801443,
     "end_time": "2024-01-21T07:38:30.932814",
     "exception": false,
     "start_time": "2024-01-21T07:38:29.131371",
     "status": "completed"
    },
    "tags": []
   },
   "outputs": [
    {
     "data": {
      "image/png": "[encoded data removed]",
      "text/plain": [
       "<Figure size 640x480 with 1 Axes>"
      ]
     },
     "metadata": {},
     "output_type": "display_data"
    }
   ],
   "source": [
    "# pickup patterns for train and test data\n",
    "\n",
    "plt.plot(train_df_new['pickup_datetime'].dt.date.value_counts().sort_index(),color='green',label='train')\n",
    "plt.plot(test_df_new['pickup_datetime'].dt.date.value_counts().sort_index(),color='red',label='test')\n",
    "plt.legend()\n",
    "plt.show()"
   ]
  },
  {
   "cell_type": "code",
   "execution_count": 42,
   "id": "6291d530",
   "metadata": {
    "execution": {
     "iopub.execute_input": "2024-01-21T07:38:31.006140Z",
     "iopub.status.busy": "2024-01-21T07:38:31.005281Z",
     "iopub.status.idle": "2024-01-21T07:38:32.769263Z",
     "shell.execute_reply": "2024-01-21T07:38:32.767698Z"
    },
    "papermill": {
     "duration": 1.804122,
     "end_time": "2024-01-21T07:38:32.771972",
     "exception": false,
     "start_time": "2024-01-21T07:38:30.967850",
     "status": "completed"
    },
    "tags": []
   },
   "outputs": [
    {
     "data": {
      "image/png": "[encoded data removed]",
      "text/plain": [
       "<Figure size 640x480 with 1 Axes>"
      ]
     },
     "metadata": {},
     "output_type": "display_data"
    }
   ],
   "source": [
    "# pickup patterns for train and test data (results normalized)\n",
    "\n",
    "plt.plot(train_df_new['pickup_datetime'].dt.date.value_counts(normalize=True).sort_index(),color='green',alpha=0.7,label='train')\n",
    "plt.plot(test_df_new['pickup_datetime'].dt.date.value_counts(normalize=True).sort_index(),color='red',label='test')\n",
    "plt.legend()\n",
    "plt.show()"
   ]
  },
  {
   "cell_type": "markdown",
   "id": "011b1449",
   "metadata": {
    "papermill": {
     "duration": 0.037364,
     "end_time": "2024-01-21T07:38:32.845622",
     "exception": false,
     "start_time": "2024-01-21T07:38:32.808258",
     "status": "completed"
    },
    "tags": []
   },
   "source": [
    "This graph clearly indicates that the pickup patterns for the train and test data are almost similar."
   ]
  },
  {
   "cell_type": "markdown",
   "id": "385eaf12",
   "metadata": {
    "papermill": {
     "duration": 0.036015,
     "end_time": "2024-01-21T07:38:32.917854",
     "exception": false,
     "start_time": "2024-01-21T07:38:32.881839",
     "status": "completed"
    },
    "tags": []
   },
   "source": [
    "The January 2016 United States blizzard produced up to 3 ft (91 cm) of snow in parts of the Mid-Atlantic and Northeastern United States during January 22–24, 2016\n",
    "\n",
    "> A travel ban was instituted for New York City and Newark, New Jersey, for January 23–24.\n",
    "> The blizzard that walloped New York City in January is officially the **biggest snowstorm in the history** of the five boroughs, according to a new report prompted by questions about the accuracy of snowfall measurements."
   ]
  },
  {
   "cell_type": "code",
   "execution_count": 43,
   "id": "94dadea0",
   "metadata": {
    "execution": {
     "iopub.execute_input": "2024-01-21T07:38:32.991019Z",
     "iopub.status.busy": "2024-01-21T07:38:32.990611Z",
     "iopub.status.idle": "2024-01-21T07:38:32.998602Z",
     "shell.execute_reply": "2024-01-21T07:38:32.997699Z"
    },
    "papermill": {
     "duration": 0.047861,
     "end_time": "2024-01-21T07:38:33.001331",
     "exception": false,
     "start_time": "2024-01-21T07:38:32.953470",
     "status": "completed"
    },
    "tags": []
   },
   "outputs": [
    {
     "data": {
      "text/plain": [
       "vendor_id                       int8\n",
       "pickup_datetime       datetime64[ns]\n",
       "dropoff_datetime              object\n",
       "passenger_count                int16\n",
       "pickup_longitude             float64\n",
       "pickup_latitude              float64\n",
       "dropoff_longitude            float64\n",
       "dropoff_latitude             float64\n",
       "store_and_fwd_flag            object\n",
       "trip_duration                  int64\n",
       "pickup_hour                    int32\n",
       "pickup_date                    int32\n",
       "pickup_month                   int32\n",
       "pickup_day                     int32\n",
       "is_weekend                     int64\n",
       "dtype: object"
      ]
     },
     "execution_count": 43,
     "metadata": {},
     "output_type": "execute_result"
    }
   ],
   "source": [
    "train_df_new.dtypes"
   ]
  },
  {
   "cell_type": "code",
   "execution_count": 44,
   "id": "3099a6b7",
   "metadata": {
    "execution": {
     "iopub.execute_input": "2024-01-21T07:38:33.075703Z",
     "iopub.status.busy": "2024-01-21T07:38:33.075320Z",
     "iopub.status.idle": "2024-01-21T07:38:33.171761Z",
     "shell.execute_reply": "2024-01-21T07:38:33.170543Z"
    },
    "papermill": {
     "duration": 0.136514,
     "end_time": "2024-01-21T07:38:33.174506",
     "exception": false,
     "start_time": "2024-01-21T07:38:33.037992",
     "status": "completed"
    },
    "tags": []
   },
   "outputs": [
    {
     "data": {
      "text/plain": [
       "8014.527472527472"
      ]
     },
     "execution_count": 44,
     "metadata": {},
     "output_type": "execute_result"
    }
   ],
   "source": [
    "# avg pickups daily across all months\n",
    "\n",
    "month_group = train_df_new.groupby(by='pickup_month')\n",
    "\n",
    "daily_pickups_mean = month_group['pickup_date'] \\\n",
    ".value_counts() \\\n",
    ".mean()\n",
    "\n",
    "daily_pickups_mean"
   ]
  },
  {
   "cell_type": "markdown",
   "id": "4ea8b2e2",
   "metadata": {
    "papermill": {
     "duration": 0.038241,
     "end_time": "2024-01-21T07:38:33.248934",
     "exception": false,
     "start_time": "2024-01-21T07:38:33.210693",
     "status": "completed"
    },
    "tags": []
   },
   "source": [
    "**Idea behind this code**:\n",
    "1. Group the pickups monthwise.\n",
    "2. Calculate the pickups for each day in a particular month.\n",
    "3. Then finally calculate the mean across all the months to get a daily avg."
   ]
  },
  {
   "cell_type": "code",
   "execution_count": 45,
   "id": "ee60a5c2",
   "metadata": {
    "execution": {
     "iopub.execute_input": "2024-01-21T07:38:33.324283Z",
     "iopub.status.busy": "2024-01-21T07:38:33.323908Z",
     "iopub.status.idle": "2024-01-21T07:38:33.673132Z",
     "shell.execute_reply": "2024-01-21T07:38:33.671845Z"
    },
    "papermill": {
     "duration": 0.391197,
     "end_time": "2024-01-21T07:38:33.676205",
     "exception": false,
     "start_time": "2024-01-21T07:38:33.285008",
     "status": "completed"
    },
    "tags": []
   },
   "outputs": [
    {
     "data": {
      "image/png": "[encoded data removed]",
      "text/plain": [
       "<Figure size 640x480 with 1 Axes>"
      ]
     },
     "metadata": {},
     "output_type": "display_data"
    }
   ],
   "source": [
    "# taxi trips instead of travel bans\n",
    "ban_df = train_df_new.loc[(train_df_new['pickup_date'].isin(list(range(20,31))) & (train_df_new['pickup_month'] == 1))]\n",
    "\n",
    "ban_df['pickup_date'] \\\n",
    ".value_counts() \\\n",
    ".sort_index() \\\n",
    ".plot()\n",
    "plt.show()"
   ]
  },
  {
   "cell_type": "code",
   "execution_count": 46,
   "id": "1ae102be",
   "metadata": {
    "execution": {
     "iopub.execute_input": "2024-01-21T07:38:33.753003Z",
     "iopub.status.busy": "2024-01-21T07:38:33.752570Z",
     "iopub.status.idle": "2024-01-21T07:38:34.754147Z",
     "shell.execute_reply": "2024-01-21T07:38:34.752996Z"
    },
    "papermill": {
     "duration": 1.042068,
     "end_time": "2024-01-21T07:38:34.756640",
     "exception": false,
     "start_time": "2024-01-21T07:38:33.714572",
     "status": "completed"
    },
    "tags": []
   },
   "outputs": [
    {
     "name": "stdout",
     "output_type": "stream",
     "text": [
      "The number of days where number of pickups is below the daily avg is 82 which is 45.05% of the total days\n"
     ]
    }
   ],
   "source": [
    "# no.of days when pickups were below the daily avg\n",
    "\n",
    "daily_avg_dates = train_df_new['pickup_datetime'].dt.date.value_counts()\n",
    "\n",
    "below_daily_avg_count = daily_avg_dates[daily_avg_dates < daily_pickups_mean].size\n",
    "\n",
    "percentage_below_avg = below_daily_avg_count / daily_avg_dates.index.size\n",
    "\n",
    "print(f'The number of days where number of pickups is below the daily avg is {below_daily_avg_count} which is {(percentage_below_avg * 100):.2f}% of the total days')\n"
   ]
  },
  {
   "cell_type": "code",
   "execution_count": 47,
   "id": "b69efb8c",
   "metadata": {
    "execution": {
     "iopub.execute_input": "2024-01-21T07:38:34.832937Z",
     "iopub.status.busy": "2024-01-21T07:38:34.832536Z",
     "iopub.status.idle": "2024-01-21T07:38:34.916929Z",
     "shell.execute_reply": "2024-01-21T07:38:34.915781Z"
    },
    "papermill": {
     "duration": 0.124774,
     "end_time": "2024-01-21T07:38:34.919149",
     "exception": false,
     "start_time": "2024-01-21T07:38:34.794375",
     "status": "completed"
    },
    "tags": []
   },
   "outputs": [
    {
     "data": {
      "text/html": [
       "<div>\n",
       "<style scoped>\n",
       "    .dataframe tbody tr th:only-of-type {\n",
       "        vertical-align: middle;\n",
       "    }\n",
       "\n",
       "    .dataframe tbody tr th {\n",
       "        vertical-align: top;\n",
       "    }\n",
       "\n",
       "    .dataframe thead th {\n",
       "        text-align: right;\n",
       "    }\n",
       "</style>\n",
       "<table border=\"1\" class=\"dataframe\">\n",
       "  <thead>\n",
       "    <tr style=\"text-align: right;\">\n",
       "      <th></th>\n",
       "      <th>pickup_month</th>\n",
       "      <th>pickup_date</th>\n",
       "      <th>count</th>\n",
       "    </tr>\n",
       "  </thead>\n",
       "  <tbody>\n",
       "    <tr>\n",
       "      <th>12</th>\n",
       "      <td>1</td>\n",
       "      <td>19</td>\n",
       "      <td>True</td>\n",
       "    </tr>\n",
       "    <tr>\n",
       "      <th>13</th>\n",
       "      <td>1</td>\n",
       "      <td>17</td>\n",
       "      <td>True</td>\n",
       "    </tr>\n",
       "    <tr>\n",
       "      <th>14</th>\n",
       "      <td>1</td>\n",
       "      <td>12</td>\n",
       "      <td>True</td>\n",
       "    </tr>\n",
       "    <tr>\n",
       "      <th>15</th>\n",
       "      <td>1</td>\n",
       "      <td>31</td>\n",
       "      <td>True</td>\n",
       "    </tr>\n",
       "    <tr>\n",
       "      <th>16</th>\n",
       "      <td>1</td>\n",
       "      <td>7</td>\n",
       "      <td>True</td>\n",
       "    </tr>\n",
       "    <tr>\n",
       "      <th>...</th>\n",
       "      <td>...</td>\n",
       "      <td>...</td>\n",
       "      <td>...</td>\n",
       "    </tr>\n",
       "    <tr>\n",
       "      <th>177</th>\n",
       "      <td>6</td>\n",
       "      <td>13</td>\n",
       "      <td>True</td>\n",
       "    </tr>\n",
       "    <tr>\n",
       "      <th>178</th>\n",
       "      <td>6</td>\n",
       "      <td>12</td>\n",
       "      <td>True</td>\n",
       "    </tr>\n",
       "    <tr>\n",
       "      <th>179</th>\n",
       "      <td>6</td>\n",
       "      <td>26</td>\n",
       "      <td>True</td>\n",
       "    </tr>\n",
       "    <tr>\n",
       "      <th>180</th>\n",
       "      <td>6</td>\n",
       "      <td>19</td>\n",
       "      <td>True</td>\n",
       "    </tr>\n",
       "    <tr>\n",
       "      <th>181</th>\n",
       "      <td>6</td>\n",
       "      <td>20</td>\n",
       "      <td>True</td>\n",
       "    </tr>\n",
       "  </tbody>\n",
       "</table>\n",
       "<p>82 rows × 3 columns</p>\n",
       "</div>"
      ],
      "text/plain": [
       "     pickup_month  pickup_date  count\n",
       "12              1           19   True\n",
       "13              1           17   True\n",
       "14              1           12   True\n",
       "15              1           31   True\n",
       "16              1            7   True\n",
       "..            ...          ...    ...\n",
       "177             6           13   True\n",
       "178             6           12   True\n",
       "179             6           26   True\n",
       "180             6           19   True\n",
       "181             6           20   True\n",
       "\n",
       "[82 rows x 3 columns]"
      ]
     },
     "execution_count": 47,
     "metadata": {},
     "output_type": "execute_result"
    }
   ],
   "source": [
    "# dates where the pickups were below average for each month\n",
    "\n",
    "temp_df = (month_group['pickup_date'].value_counts() < daily_pickups_mean).reset_index()\n",
    "\n",
    "temp_df.loc[temp_df['count'] == True]"
   ]
  },
  {
   "cell_type": "code",
   "execution_count": 48,
   "id": "34152a07",
   "metadata": {
    "execution": {
     "iopub.execute_input": "2024-01-21T07:38:34.995070Z",
     "iopub.status.busy": "2024-01-21T07:38:34.994654Z",
     "iopub.status.idle": "2024-01-21T07:38:35.005641Z",
     "shell.execute_reply": "2024-01-21T07:38:35.004432Z"
    },
    "papermill": {
     "duration": 0.051904,
     "end_time": "2024-01-21T07:38:35.008168",
     "exception": false,
     "start_time": "2024-01-21T07:38:34.956264",
     "status": "completed"
    },
    "tags": []
   },
   "outputs": [
    {
     "data": {
      "text/plain": [
       "pickup_date\n",
       "23    1648\n",
       "24    3383\n",
       "25    6084\n",
       "26    6941\n",
       "27    7571\n",
       "20    8018\n",
       "28    8066\n",
       "21    8375\n",
       "29    8735\n",
       "22    8805\n",
       "30    9166\n",
       "Name: count, dtype: int64"
      ]
     },
     "execution_count": 48,
     "metadata": {},
     "output_type": "execute_result"
    }
   ],
   "source": [
    "ban_df['pickup_date'] \\\n",
    ".value_counts() \\\n",
    ".sort_values() "
   ]
  },
  {
   "cell_type": "code",
   "execution_count": 49,
   "id": "41ae1a67",
   "metadata": {
    "execution": {
     "iopub.execute_input": "2024-01-21T07:38:35.085979Z",
     "iopub.status.busy": "2024-01-21T07:38:35.085579Z",
     "iopub.status.idle": "2024-01-21T07:38:35.101583Z",
     "shell.execute_reply": "2024-01-21T07:38:35.100451Z"
    },
    "papermill": {
     "duration": 0.057517,
     "end_time": "2024-01-21T07:38:35.103999",
     "exception": false,
     "start_time": "2024-01-21T07:38:35.046482",
     "status": "completed"
    },
    "tags": []
   },
   "outputs": [
    {
     "data": {
      "text/plain": [
       "array([3, 6, 1, 4, 5, 2], dtype=int32)"
      ]
     },
     "execution_count": 49,
     "metadata": {},
     "output_type": "execute_result"
    }
   ],
   "source": [
    "train_df_new['pickup_month'].unique()"
   ]
  },
  {
   "cell_type": "code",
   "execution_count": 50,
   "id": "78d4bb0f",
   "metadata": {
    "execution": {
     "iopub.execute_input": "2024-01-21T07:38:35.180827Z",
     "iopub.status.busy": "2024-01-21T07:38:35.180393Z",
     "iopub.status.idle": "2024-01-21T07:38:35.190265Z",
     "shell.execute_reply": "2024-01-21T07:38:35.189084Z"
    },
    "papermill": {
     "duration": 0.051256,
     "end_time": "2024-01-21T07:38:35.192741",
     "exception": false,
     "start_time": "2024-01-21T07:38:35.141485",
     "status": "completed"
    },
    "tags": []
   },
   "outputs": [
    {
     "name": "stdout",
     "output_type": "stream",
     "text": [
      "Number of Pickups on banned days are 5031\n"
     ]
    }
   ],
   "source": [
    "# number of pickups on travel ban days ie. 23rd & 24th Jan,2016\n",
    "\n",
    "ban_pickups = ban_df['pickup_date'] \\\n",
    ".value_counts() \\\n",
    ".sort_values()\n",
    "\n",
    "print(f'Number of Pickups on banned days are {ban_pickups[[23,24]].sum()}')"
   ]
  },
  {
   "cell_type": "markdown",
   "id": "ffb32f23",
   "metadata": {
    "papermill": {
     "duration": 0.037257,
     "end_time": "2024-01-21T07:38:35.268163",
     "exception": false,
     "start_time": "2024-01-21T07:38:35.230906",
     "status": "completed"
    },
    "tags": []
   },
   "source": [
    "**Instead of the travel ban there were passengers taking cabs may be due to some emergency trips to the local hospital or to the airport for some reason**\n",
    "\n",
    "More investigation has to be done to see what is the actual reason behind these travels instaed of a travel ban"
   ]
  },
  {
   "cell_type": "code",
   "execution_count": 51,
   "id": "35be5887",
   "metadata": {
    "execution": {
     "iopub.execute_input": "2024-01-21T07:38:35.344793Z",
     "iopub.status.busy": "2024-01-21T07:38:35.344048Z",
     "iopub.status.idle": "2024-01-21T07:38:35.407009Z",
     "shell.execute_reply": "2024-01-21T07:38:35.405965Z"
    },
    "papermill": {
     "duration": 0.104151,
     "end_time": "2024-01-21T07:38:35.409606",
     "exception": false,
     "start_time": "2024-01-21T07:38:35.305455",
     "status": "completed"
    },
    "tags": []
   },
   "outputs": [],
   "source": [
    "# borders of nyc \n",
    "\n",
    "latitude_coord = train_df_new['pickup_latitude'].quantile([0.01,0.99]).sort_values(ascending=False).values + np.array([0.05,-0.05])\n",
    "                                                                                                                                                                                                                             \n",
    "longitude_coord = train_df_new['pickup_longitude'].quantile([0.01,0.99]).sort_values(ascending=False).values + np.array([0.1,-0.1])"
   ]
  },
  {
   "cell_type": "code",
   "execution_count": 52,
   "id": "46f7b26a",
   "metadata": {
    "execution": {
     "iopub.execute_input": "2024-01-21T07:38:35.486259Z",
     "iopub.status.busy": "2024-01-21T07:38:35.485880Z",
     "iopub.status.idle": "2024-01-21T07:38:35.493364Z",
     "shell.execute_reply": "2024-01-21T07:38:35.492247Z"
    },
    "papermill": {
     "duration": 0.048206,
     "end_time": "2024-01-21T07:38:35.495445",
     "exception": false,
     "start_time": "2024-01-21T07:38:35.447239",
     "status": "completed"
    },
    "tags": []
   },
   "outputs": [
    {
     "data": {
      "text/plain": [
       "array([-73.68222656, -74.11431709])"
      ]
     },
     "execution_count": 52,
     "metadata": {},
     "output_type": "execute_result"
    }
   ],
   "source": [
    "longitude_coord"
   ]
  },
  {
   "cell_type": "code",
   "execution_count": 53,
   "id": "492dbdbf",
   "metadata": {
    "execution": {
     "iopub.execute_input": "2024-01-21T07:38:35.572515Z",
     "iopub.status.busy": "2024-01-21T07:38:35.571865Z",
     "iopub.status.idle": "2024-01-21T07:38:35.578998Z",
     "shell.execute_reply": "2024-01-21T07:38:35.577921Z"
    },
    "papermill": {
     "duration": 0.048437,
     "end_time": "2024-01-21T07:38:35.581477",
     "exception": false,
     "start_time": "2024-01-21T07:38:35.533040",
     "status": "completed"
    },
    "tags": []
   },
   "outputs": [
    {
     "data": {
      "text/plain": [
       "array([40.85659866, 40.59482498])"
      ]
     },
     "execution_count": 53,
     "metadata": {},
     "output_type": "execute_result"
    }
   ],
   "source": [
    "latitude_coord"
   ]
  },
  {
   "cell_type": "code",
   "execution_count": 54,
   "id": "5fefe07a",
   "metadata": {
    "execution": {
     "iopub.execute_input": "2024-01-21T07:38:35.658783Z",
     "iopub.status.busy": "2024-01-21T07:38:35.657787Z",
     "iopub.status.idle": "2024-01-21T07:38:36.280069Z",
     "shell.execute_reply": "2024-01-21T07:38:36.278833Z"
    },
    "papermill": {
     "duration": 0.664893,
     "end_time": "2024-01-21T07:38:36.283923",
     "exception": false,
     "start_time": "2024-01-21T07:38:35.619030",
     "status": "completed"
    },
    "tags": []
   },
   "outputs": [
    {
     "data": {
      "image/png": "[encoded data removed]",
      "text/plain": [
       "<Figure size 1500x600 with 2 Axes>"
      ]
     },
     "metadata": {},
     "output_type": "display_data"
    }
   ],
   "source": [
    "# heatmap of the pickups and dropoffs during the travel ban\n",
    "\n",
    "fig,ax = plt.subplots(nrows=1,ncols=2,sharey=True,\n",
    "                     figsize=(15,6))\n",
    "\n",
    "ax[0].set_facecolor('k')\n",
    "ax[0].scatter(ban_df['pickup_latitude'],ban_df['pickup_longitude'],s=0.07,color='yellow')\n",
    "ax[0].set_ylim(longitude_coord)\n",
    "ax[0].set_xlim(latitude_coord)\n",
    "ax[0].set_title('Heatmap for Pickups')\n",
    "ax[0].set_xlabel('Latitude')\n",
    "ax[0].set_ylabel('Longitude')\n",
    "\n",
    "ax[1].set_facecolor('k')\n",
    "ax[1].scatter(ban_df['dropoff_latitude'],ban_df['dropoff_longitude'],s=0.07,color='yellow')\n",
    "ax[1].set_ylim(longitude_coord)\n",
    "ax[1].set_xlim(latitude_coord)\n",
    "ax[1].set_title('Heatmap for Dropoffs')\n",
    "ax[1].set_xlabel('Latitude')\n",
    "ax[1].set_ylabel('Longitude')\n",
    "\n",
    "plt.show()"
   ]
  },
  {
   "cell_type": "code",
   "execution_count": 55,
   "id": "b538bac7",
   "metadata": {
    "execution": {
     "iopub.execute_input": "2024-01-21T07:38:36.365240Z",
     "iopub.status.busy": "2024-01-21T07:38:36.364853Z",
     "iopub.status.idle": "2024-01-21T07:38:36.724340Z",
     "shell.execute_reply": "2024-01-21T07:38:36.723023Z"
    },
    "papermill": {
     "duration": 0.403291,
     "end_time": "2024-01-21T07:38:36.726949",
     "exception": false,
     "start_time": "2024-01-21T07:38:36.323658",
     "status": "completed"
    },
    "tags": []
   },
   "outputs": [
    {
     "data": {
      "image/png": "[encoded data removed]",
      "text/plain": [
       "<Figure size 640x480 with 1 Axes>"
      ]
     },
     "metadata": {},
     "output_type": "display_data"
    }
   ],
   "source": [
    "# count of total pickups each month\n",
    "\n",
    "sns.countplot(data=train_df_new,x='pickup_month')\n",
    "plt.show()"
   ]
  },
  {
   "cell_type": "code",
   "execution_count": 56,
   "id": "08a6b35b",
   "metadata": {
    "execution": {
     "iopub.execute_input": "2024-01-21T07:38:36.809170Z",
     "iopub.status.busy": "2024-01-21T07:38:36.808736Z",
     "iopub.status.idle": "2024-01-21T07:38:37.059771Z",
     "shell.execute_reply": "2024-01-21T07:38:37.058532Z"
    },
    "papermill": {
     "duration": 0.295149,
     "end_time": "2024-01-21T07:38:37.062371",
     "exception": false,
     "start_time": "2024-01-21T07:38:36.767222",
     "status": "completed"
    },
    "tags": []
   },
   "outputs": [
    {
     "data": {
      "image/png": "[encoded data removed]",
      "text/plain": [
       "<Figure size 640x480 with 1 Axes>"
      ]
     },
     "metadata": {},
     "output_type": "display_data"
    }
   ],
   "source": [
    "# pickups month wise in sorted order\n",
    "\n",
    "train_df_new['pickup_month'] \\\n",
    ".value_counts() \\\n",
    ".sort_values(ascending=False)\\\n",
    ".plot(kind='bar')\n",
    "\n",
    "plt.show()"
   ]
  },
  {
   "cell_type": "markdown",
   "id": "bdc66bca",
   "metadata": {
    "papermill": {
     "duration": 0.041575,
     "end_time": "2024-01-21T07:38:37.145184",
     "exception": false,
     "start_time": "2024-01-21T07:38:37.103609",
     "status": "completed"
    },
    "tags": []
   },
   "source": [
    "- Less Number of pickups in the month of January can be related to weather events like snow, heavy blizzards or festive season.\n",
    "- The other reason is that during festive season can drivers in New York expect heavier tips from the passengers, so passengers try to avoid taking can services and only take when required."
   ]
  },
  {
   "cell_type": "code",
   "execution_count": 57,
   "id": "f81812ee",
   "metadata": {
    "execution": {
     "iopub.execute_input": "2024-01-21T07:38:37.229526Z",
     "iopub.status.busy": "2024-01-21T07:38:37.228529Z",
     "iopub.status.idle": "2024-01-21T07:38:37.868384Z",
     "shell.execute_reply": "2024-01-21T07:38:37.867296Z"
    },
    "papermill": {
     "duration": 0.685119,
     "end_time": "2024-01-21T07:38:37.871475",
     "exception": false,
     "start_time": "2024-01-21T07:38:37.186356",
     "status": "completed"
    },
    "tags": []
   },
   "outputs": [
    {
     "data": {
      "image/png": "[encoded data removed]",
      "text/plain": [
       "<Figure size 640x480 with 1 Axes>"
      ]
     },
     "metadata": {},
     "output_type": "display_data"
    }
   ],
   "source": [
    "# rush hours for taxi pickups\n",
    "\n",
    "sns.countplot(data=train_df_new,x='pickup_hour')\n",
    "plt.show()"
   ]
  },
  {
   "cell_type": "markdown",
   "id": "a9c2e2ab",
   "metadata": {
    "papermill": {
     "duration": 0.04638,
     "end_time": "2024-01-21T07:38:37.960388",
     "exception": false,
     "start_time": "2024-01-21T07:38:37.914008",
     "status": "completed"
    },
    "tags": []
   },
   "source": [
    "**Things to note**:\n",
    "1. Cab pickups reduce after midnight and pickup pace after daybreak around 6am.\n",
    "2. Pickups reach peak at 8am and then stabilize till 3pm.\n",
    "3. Again the pickups gain strength around 6pm till 10pm at night"
   ]
  },
  {
   "cell_type": "code",
   "execution_count": 58,
   "id": "a7feeea6",
   "metadata": {
    "execution": {
     "iopub.execute_input": "2024-01-21T07:38:38.044896Z",
     "iopub.status.busy": "2024-01-21T07:38:38.044444Z",
     "iopub.status.idle": "2024-01-21T07:38:38.330744Z",
     "shell.execute_reply": "2024-01-21T07:38:38.329573Z"
    },
    "papermill": {
     "duration": 0.331742,
     "end_time": "2024-01-21T07:38:38.333210",
     "exception": false,
     "start_time": "2024-01-21T07:38:38.001468",
     "status": "completed"
    },
    "tags": []
   },
   "outputs": [
    {
     "data": {
      "image/png": "[encoded data removed]",
      "text/plain": [
       "<Figure size 640x480 with 1 Axes>"
      ]
     },
     "metadata": {},
     "output_type": "display_data"
    }
   ],
   "source": [
    "# rush hours divided into 3 clusters. (high rush, avg rush, low rush)\n",
    "\n",
    "cluster_input = train_df_new['pickup_hour'] \\\n",
    ".value_counts() \\\n",
    ".sort_index() \\\n",
    ".reset_index()\n",
    "\n",
    "cluster_input.plot(x='pickup_hour',y='count',kind='scatter')\n",
    "\n",
    "plt.show()"
   ]
  },
  {
   "cell_type": "markdown",
   "id": "fada8b30",
   "metadata": {
    "papermill": {
     "duration": 0.041445,
     "end_time": "2024-01-21T07:38:38.416343",
     "exception": false,
     "start_time": "2024-01-21T07:38:38.374898",
     "status": "completed"
    },
    "tags": []
   },
   "source": [
    "#### Agglomerative Clustering"
   ]
  },
  {
   "cell_type": "code",
   "execution_count": 59,
   "id": "bee31a76",
   "metadata": {
    "execution": {
     "iopub.execute_input": "2024-01-21T07:38:38.502012Z",
     "iopub.status.busy": "2024-01-21T07:38:38.501281Z",
     "iopub.status.idle": "2024-01-21T07:38:39.003276Z",
     "shell.execute_reply": "2024-01-21T07:38:39.001872Z"
    },
    "papermill": {
     "duration": 0.547787,
     "end_time": "2024-01-21T07:38:39.006220",
     "exception": false,
     "start_time": "2024-01-21T07:38:38.458433",
     "status": "completed"
    },
    "tags": []
   },
   "outputs": [
    {
     "data": {
      "image/png": "[encoded data removed]",
      "text/plain": [
       "<Figure size 640x480 with 1 Axes>"
      ]
     },
     "metadata": {},
     "output_type": "display_data"
    }
   ],
   "source": [
    "# plot the dendrogram\n",
    "\n",
    "from scipy.cluster.hierarchy import dendrogram,linkage\n",
    "\n",
    "clustering = linkage(y=cluster_input.values,method='single')\n",
    "\n",
    "dendrogram(clustering)\n",
    "plt.show()"
   ]
  },
  {
   "cell_type": "code",
   "execution_count": 60,
   "id": "4e0a2353",
   "metadata": {
    "execution": {
     "iopub.execute_input": "2024-01-21T07:38:39.094141Z",
     "iopub.status.busy": "2024-01-21T07:38:39.093679Z",
     "iopub.status.idle": "2024-01-21T07:38:39.658999Z",
     "shell.execute_reply": "2024-01-21T07:38:39.657973Z"
    },
    "papermill": {
     "duration": 0.612417,
     "end_time": "2024-01-21T07:38:39.661933",
     "exception": false,
     "start_time": "2024-01-21T07:38:39.049516",
     "status": "completed"
    },
    "tags": []
   },
   "outputs": [
    {
     "data": {
      "text/html": [
       "<style>#sk-container-id-1 {color: black;background-color: white;}#sk-container-id-1 pre{padding: 0;}#sk-container-id-1 div.sk-toggleable {background-color: white;}#sk-container-id-1 label.sk-toggleable__label {cursor: pointer;display: block;width: 100%;margin-bottom: 0;padding: 0.3em;box-sizing: border-box;text-align: center;}#sk-container-id-1 label.sk-toggleable__label-arrow:before {content: \"▸\";float: left;margin-right: 0.25em;color: #696969;}#sk-container-id-1 label.sk-toggleable__label-arrow:hover:before {color: black;}#sk-container-id-1 div.sk-estimator:hover label.sk-toggleable__label-arrow:before {color: black;}#sk-container-id-1 div.sk-toggleable__content {max-height: 0;max-width: 0;overflow: hidden;text-align: left;background-color: #f0f8ff;}#sk-container-id-1 div.sk-toggleable__content pre {margin: 0.2em;color: black;border-radius: 0.25em;background-color: #f0f8ff;}#sk-container-id-1 input.sk-toggleable__control:checked~div.sk-toggleable__content {max-height: 200px;max-width: 100%;overflow: auto;}#sk-container-id-1 input.sk-toggleable__control:checked~label.sk-toggleable__label-arrow:before {content: \"▾\";}#sk-container-id-1 div.sk-estimator input.sk-toggleable__control:checked~label.sk-toggleable__label {background-color: #d4ebff;}#sk-container-id-1 div.sk-label input.sk-toggleable__control:checked~label.sk-toggleable__label {background-color: #d4ebff;}#sk-container-id-1 input.sk-hidden--visually {border: 0;clip: rect(1px 1px 1px 1px);clip: rect(1px, 1px, 1px, 1px);height: 1px;margin: -1px;overflow: hidden;padding: 0;position: absolute;width: 1px;}#sk-container-id-1 div.sk-estimator {font-family: monospace;background-color: #f0f8ff;border: 1px dotted black;border-radius: 0.25em;box-sizing: border-box;margin-bottom: 0.5em;}#sk-container-id-1 div.sk-estimator:hover {background-color: #d4ebff;}#sk-container-id-1 div.sk-parallel-item::after {content: \"\";width: 100%;border-bottom: 1px solid gray;flex-grow: 1;}#sk-container-id-1 div.sk-label:hover label.sk-toggleable__label {background-color: #d4ebff;}#sk-container-id-1 div.sk-serial::before {content: \"\";position: absolute;border-left: 1px solid gray;box-sizing: border-box;top: 0;bottom: 0;left: 50%;z-index: 0;}#sk-container-id-1 div.sk-serial {display: flex;flex-direction: column;align-items: center;background-color: white;padding-right: 0.2em;padding-left: 0.2em;position: relative;}#sk-container-id-1 div.sk-item {position: relative;z-index: 1;}#sk-container-id-1 div.sk-parallel {display: flex;align-items: stretch;justify-content: center;background-color: white;position: relative;}#sk-container-id-1 div.sk-item::before, #sk-container-id-1 div.sk-parallel-item::before {content: \"\";position: absolute;border-left: 1px solid gray;box-sizing: border-box;top: 0;bottom: 0;left: 50%;z-index: -1;}#sk-container-id-1 div.sk-parallel-item {display: flex;flex-direction: column;z-index: 1;position: relative;background-color: white;}#sk-container-id-1 div.sk-parallel-item:first-child::after {align-self: flex-end;width: 50%;}#sk-container-id-1 div.sk-parallel-item:last-child::after {align-self: flex-start;width: 50%;}#sk-container-id-1 div.sk-parallel-item:only-child::after {width: 0;}#sk-container-id-1 div.sk-dashed-wrapped {border: 1px dashed gray;margin: 0 0.4em 0.5em 0.4em;box-sizing: border-box;padding-bottom: 0.4em;background-color: white;}#sk-container-id-1 div.sk-label label {font-family: monospace;font-weight: bold;display: inline-block;line-height: 1.2em;}#sk-container-id-1 div.sk-label-container {text-align: center;}#sk-container-id-1 div.sk-container {/* jupyter's `normalize.less` sets `[hidden] { display: none; }` but bootstrap.min.css set `[hidden] { display: none !important; }` so we also need the `!important` here to be able to override the default hidden behavior on the sphinx rendered scikit-learn.org. See: https://github.com/scikit-learn/scikit-learn/issues/21755 */display: inline-block !important;position: relative;}#sk-container-id-1 div.sk-text-repr-fallback {display: none;}</style><div id=\"sk-container-id-1\" class=\"sk-top-container\"><div class=\"sk-text-repr-fallback\"><pre>AgglomerativeClustering(linkage=&#x27;single&#x27;, metric=&#x27;euclidean&#x27;)</pre><b>In a Jupyter environment, please rerun this cell to show the HTML representation or trust the notebook. <br />On GitHub, the HTML representation is unable to render, please try loading this page with nbviewer.org.</b></div><div class=\"sk-container\" hidden><div class=\"sk-item\"><div class=\"sk-estimator sk-toggleable\"><input class=\"sk-toggleable__control sk-hidden--visually\" id=\"sk-estimator-id-1\" type=\"checkbox\" checked><label for=\"sk-estimator-id-1\" class=\"sk-toggleable__label sk-toggleable__label-arrow\">AgglomerativeClustering</label><div class=\"sk-toggleable__content\"><pre>AgglomerativeClustering(linkage=&#x27;single&#x27;, metric=&#x27;euclidean&#x27;)</pre></div></div></div></div></div>"
      ],
      "text/plain": [
       "AgglomerativeClustering(linkage='single', metric='euclidean')"
      ]
     },
     "execution_count": 60,
     "metadata": {},
     "output_type": "execute_result"
    }
   ],
   "source": [
    "from sklearn.cluster import AgglomerativeClustering, KMeans\n",
    "\n",
    "agglo = AgglomerativeClustering(n_clusters=2,linkage='single',\n",
    "                                metric='euclidean')\n",
    "\n",
    "agglo"
   ]
  },
  {
   "cell_type": "code",
   "execution_count": 61,
   "id": "7912d9bc",
   "metadata": {
    "execution": {
     "iopub.execute_input": "2024-01-21T07:38:39.751045Z",
     "iopub.status.busy": "2024-01-21T07:38:39.750195Z",
     "iopub.status.idle": "2024-01-21T07:38:40.094301Z",
     "shell.execute_reply": "2024-01-21T07:38:40.092863Z"
    },
    "papermill": {
     "duration": 0.393156,
     "end_time": "2024-01-21T07:38:40.097108",
     "exception": false,
     "start_time": "2024-01-21T07:38:39.703952",
     "status": "completed"
    },
    "tags": []
   },
   "outputs": [
    {
     "data": {
      "image/png": "[encoded data removed]",
      "text/plain": [
       "<Figure size 640x480 with 1 Axes>"
      ]
     },
     "metadata": {},
     "output_type": "display_data"
    }
   ],
   "source": [
    "# plot the clusters\n",
    "predictions = agglo.fit_predict(cluster_input)\n",
    "sns.scatterplot(data=cluster_input,\n",
    "                x='pickup_hour',y='count',\n",
    "                hue=np.where(predictions == 0,'High Rush Hour','Low Rush Hour'))\n",
    "plt.show()"
   ]
  },
  {
   "cell_type": "markdown",
   "id": "ce5ae759",
   "metadata": {
    "papermill": {
     "duration": 0.042494,
     "end_time": "2024-01-21T07:38:40.182976",
     "exception": false,
     "start_time": "2024-01-21T07:38:40.140482",
     "status": "completed"
    },
    "tags": []
   },
   "source": [
    "#### KMeans Clustering"
   ]
  },
  {
   "cell_type": "code",
   "execution_count": 62,
   "id": "3ccdb99a",
   "metadata": {
    "execution": {
     "iopub.execute_input": "2024-01-21T07:38:40.272328Z",
     "iopub.status.busy": "2024-01-21T07:38:40.271918Z",
     "iopub.status.idle": "2024-01-21T07:38:40.277114Z",
     "shell.execute_reply": "2024-01-21T07:38:40.276066Z"
    },
    "papermill": {
     "duration": 0.053236,
     "end_time": "2024-01-21T07:38:40.279328",
     "exception": false,
     "start_time": "2024-01-21T07:38:40.226092",
     "status": "completed"
    },
    "tags": []
   },
   "outputs": [],
   "source": [
    "from sklearn.metrics import silhouette_score"
   ]
  },
  {
   "cell_type": "code",
   "execution_count": 63,
   "id": "3a074838",
   "metadata": {
    "execution": {
     "iopub.execute_input": "2024-01-21T07:38:40.369114Z",
     "iopub.status.busy": "2024-01-21T07:38:40.368567Z",
     "iopub.status.idle": "2024-01-21T07:38:40.834242Z",
     "shell.execute_reply": "2024-01-21T07:38:40.833031Z"
    },
    "papermill": {
     "duration": 0.513984,
     "end_time": "2024-01-21T07:38:40.836993",
     "exception": false,
     "start_time": "2024-01-21T07:38:40.323009",
     "status": "completed"
    },
    "tags": []
   },
   "outputs": [
    {
     "name": "stdout",
     "output_type": "stream",
     "text": [
      "The silhouette score for 2 clusters is 0.730999345100762\n",
      "The silhouette score for 3 clusters is 0.6041879661284338\n",
      "The silhouette score for 4 clusters is 0.6015263924638993\n",
      "The silhouette score for 5 clusters is 0.643595821618139\n",
      "The silhouette score for 6 clusters is 0.5882669538095738\n"
     ]
    },
    {
     "data": {
      "image/png": "[encoded data removed]",
      "text/plain": [
       "<Figure size 640x480 with 1 Axes>"
      ]
     },
     "metadata": {},
     "output_type": "display_data"
    }
   ],
   "source": [
    "# elbow plot for the clusters along with silhouette score\n",
    "\n",
    "n_clusters= [1,2,3,4,5,6]\n",
    "inertia_kmeans = []\n",
    "\n",
    "for n in n_clusters:\n",
    "    kmeans = KMeans(n_clusters=n,n_init=10,max_iter=50)\n",
    "    # fit on the data\n",
    "    predictions = kmeans.fit_predict(cluster_input)\n",
    "    # append the wcss in the list\n",
    "    inertia_kmeans.append(kmeans.inertia_)\n",
    "    # calculate the silhouette score\n",
    "    if n < 2:\n",
    "        continue\n",
    "    else:\n",
    "        score = silhouette_score(X=cluster_input,labels=predictions)\n",
    "        print(f'The silhouette score for {n} clusters is {score}')\n",
    "    \n",
    "# plot the elcow curve\n",
    "plt.plot(n_clusters,inertia_kmeans,color='red')\n",
    "plt.title('Elbow Curve')\n",
    "plt.xlabel('Number of Clusters')\n",
    "plt.ylabel('WCSS')\n",
    "\n",
    "plt.show()"
   ]
  },
  {
   "cell_type": "code",
   "execution_count": 64,
   "id": "9c997fa9",
   "metadata": {
    "execution": {
     "iopub.execute_input": "2024-01-21T07:38:40.926100Z",
     "iopub.status.busy": "2024-01-21T07:38:40.925665Z",
     "iopub.status.idle": "2024-01-21T07:38:40.946999Z",
     "shell.execute_reply": "2024-01-21T07:38:40.946067Z"
    },
    "papermill": {
     "duration": 0.069184,
     "end_time": "2024-01-21T07:38:40.949768",
     "exception": false,
     "start_time": "2024-01-21T07:38:40.880584",
     "status": "completed"
    },
    "tags": []
   },
   "outputs": [],
   "source": [
    "# train kmeans for 2 clusters\n",
    "\n",
    "kmeans = KMeans(n_clusters=2,n_init=10,max_iter=50)\n",
    "\n",
    "# get the predictions\n",
    "predictions = kmeans.fit_predict(cluster_input)"
   ]
  },
  {
   "cell_type": "code",
   "execution_count": 65,
   "id": "4145112b",
   "metadata": {
    "execution": {
     "iopub.execute_input": "2024-01-21T07:38:41.041803Z",
     "iopub.status.busy": "2024-01-21T07:38:41.041382Z",
     "iopub.status.idle": "2024-01-21T07:38:41.348067Z",
     "shell.execute_reply": "2024-01-21T07:38:41.347008Z"
    },
    "papermill": {
     "duration": 0.355521,
     "end_time": "2024-01-21T07:38:41.351069",
     "exception": false,
     "start_time": "2024-01-21T07:38:40.995548",
     "status": "completed"
    },
    "tags": []
   },
   "outputs": [
    {
     "data": {
      "image/png": "[encoded data removed]",
      "text/plain": [
       "<Figure size 640x480 with 1 Axes>"
      ]
     },
     "metadata": {},
     "output_type": "display_data"
    }
   ],
   "source": [
    "# get the centroids and plot on the curve\n",
    "cluster_centroids = kmeans.cluster_centers_\n",
    "# plot the scatter plot\n",
    "sns.scatterplot(data=cluster_input,\n",
    "                x='pickup_hour',y='count',\n",
    "                hue=np.where(predictions == 0,'High Rush Hour','Low Rush Hour'))\n",
    "#plt.scatter(cluster_input['pickup_hour'],cluster_input['count'],c=predictions)\n",
    "# plot the cluster centroids\n",
    "plt.scatter(cluster_centroids[:,0],cluster_centroids[:,1],marker='+',s=60,c='k',label='Avg Pickups')\n",
    "plt.legend()\n",
    "plt.show()"
   ]
  },
  {
   "cell_type": "code",
   "execution_count": 66,
   "id": "71a5fba8",
   "metadata": {
    "execution": {
     "iopub.execute_input": "2024-01-21T07:38:41.441207Z",
     "iopub.status.busy": "2024-01-21T07:38:41.440770Z",
     "iopub.status.idle": "2024-01-21T07:38:41.759699Z",
     "shell.execute_reply": "2024-01-21T07:38:41.758856Z"
    },
    "papermill": {
     "duration": 0.367206,
     "end_time": "2024-01-21T07:38:41.762317",
     "exception": false,
     "start_time": "2024-01-21T07:38:41.395111",
     "status": "completed"
    },
    "tags": []
   },
   "outputs": [
    {
     "data": {
      "image/png": "[encoded data removed]",
      "text/plain": [
       "<Figure size 640x480 with 1 Axes>"
      ]
     },
     "metadata": {},
     "output_type": "display_data"
    }
   ],
   "source": [
    "# get the centroids and plot on the curve\n",
    "cluster_centroids = kmeans.cluster_centers_\n",
    "# plot the scatter plot\n",
    "sns.scatterplot(data=cluster_input,\n",
    "                x='pickup_hour',y='count',\n",
    "                hue=np.where(predictions == 0,'High Rush Hour','Low Rush Hour'))\n",
    "#plt.scatter(cluster_input['pickup_hour'],cluster_input['count'],c=predictions)\n",
    "# plot the cluster centroids\n",
    "plt.scatter(cluster_centroids[:,0],cluster_centroids[:,1],marker='+',s=60,c='k',label='Avg Pickups')\n",
    "plt.axhline(y=cluster_centroids[:,1].mean(),linestyle='--',color='red',label='Avg')\n",
    "plt.legend()\n",
    "plt.show()"
   ]
  },
  {
   "cell_type": "code",
   "execution_count": 67,
   "id": "01b9baef",
   "metadata": {
    "execution": {
     "iopub.execute_input": "2024-01-21T07:38:41.853497Z",
     "iopub.status.busy": "2024-01-21T07:38:41.852816Z",
     "iopub.status.idle": "2024-01-21T07:38:41.955775Z",
     "shell.execute_reply": "2024-01-21T07:38:41.954495Z"
    },
    "papermill": {
     "duration": 0.15141,
     "end_time": "2024-01-21T07:38:41.958201",
     "exception": false,
     "start_time": "2024-01-21T07:38:41.806791",
     "status": "completed"
    },
    "tags": []
   },
   "outputs": [
    {
     "data": {
      "text/plain": [
       "is_weekend  pickup_hour\n",
       "0           19             67213\n",
       "            18             66579\n",
       "            21             64074\n",
       "            20             63708\n",
       "            22             60229\n",
       "            8              57240\n",
       "            17             54518\n",
       "            9              53427\n",
       "            14             52829\n",
       "            15             50749\n",
       "            23             50252\n",
       "            12             50002\n",
       "            13             49492\n",
       "            7              49029\n",
       "            11             48096\n",
       "            10             47348\n",
       "            16             44501\n",
       "            0              29210\n",
       "            6              28564\n",
       "            1              17722\n",
       "            2              11150\n",
       "            5              11043\n",
       "            3               7992\n",
       "            4               7443\n",
       "1           0              24038\n",
       "            18             24021\n",
       "            19             23095\n",
       "            13             21981\n",
       "            17             21965\n",
       "            12             21871\n",
       "            14             21463\n",
       "            15             21062\n",
       "            1              20849\n",
       "            11             20380\n",
       "            20             20364\n",
       "            22             20263\n",
       "            21             20111\n",
       "            16             19812\n",
       "            23             19533\n",
       "            10             18089\n",
       "            2              16822\n",
       "            9              14236\n",
       "            3              12903\n",
       "            8               9813\n",
       "            4               8349\n",
       "            7               6571\n",
       "            6               4684\n",
       "            5               3959\n",
       "Name: count, dtype: int64"
      ]
     },
     "execution_count": 67,
     "metadata": {},
     "output_type": "execute_result"
    }
   ],
   "source": [
    "# pickup patterns on weekdays and weekends\n",
    "\n",
    "is_weekend_grp = train_df_new.groupby('is_weekend')\n",
    "\n",
    "is_weekend_grp['pickup_hour'].value_counts()"
   ]
  },
  {
   "cell_type": "code",
   "execution_count": null,
   "id": "efb6be44",
   "metadata": {
    "papermill": {
     "duration": 0.045285,
     "end_time": "2024-01-21T07:38:42.048533",
     "exception": false,
     "start_time": "2024-01-21T07:38:42.003248",
     "status": "completed"
    },
    "tags": []
   },
   "outputs": [],
   "source": []
  }
 ],
 "metadata": {
  "kaggle": {
   "accelerator": "none",
   "dataSources": [
    {
     "databundleVersionId": 44258,
     "sourceId": 6960,
     "sourceType": "competition"
    }
   ],
   "dockerImageVersionId": 30635,
   "isGpuEnabled": false,
   "isInternetEnabled": true,
   "language": "python",
   "sourceType": "notebook"
  },
  "kernelspec": {
   "display_name": "Python 3",
   "language": "python",
   "name": "python3"
  },
  "language_info": {
   "codemirror_mode": {
    "name": "ipython",
    "version": 3
   },
   "file_extension": ".py",
   "mimetype": "text/x-python",
   "name": "python",
   "nbconvert_exporter": "python",
   "pygments_lexer": "ipython3",
   "version": "3.10.12"
  },
  "papermill": {
   "default_parameters": {},
   "duration": 110.273304,
   "end_time": "2024-01-21T07:38:43.120948",
   "environment_variables": {},
   "exception": null,
   "input_path": "__notebook__.ipynb",
   "output_path": "__notebook__.ipynb",
   "parameters": {},
   "start_time": "2024-01-21T07:36:52.847644",
   "version": "2.4.0"
  }
 },
 "nbformat": 4,
 "nbformat_minor": 5
}
