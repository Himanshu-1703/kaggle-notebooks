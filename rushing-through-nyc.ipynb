{
 "cells": [
  {
   "cell_type": "code",
   "execution_count": 1,
   "id": "72acb0ab",
   "metadata": {
    "_cell_guid": "b1076dfc-b9ad-4769-8c92-a6c4dae69d19",
    "_uuid": "8f2839f25d086af736a60e9eeb907d3b93b6e0e5",
    "execution": {
     "iopub.execute_input": "2024-01-17T13:07:56.876504Z",
     "iopub.status.busy": "2024-01-17T13:07:56.875736Z",
     "iopub.status.idle": "2024-01-17T13:07:57.323652Z",
     "shell.execute_reply": "2024-01-17T13:07:57.322463Z"
    },
    "papermill": {
     "duration": 0.472719,
     "end_time": "2024-01-17T13:07:57.327113",
     "exception": false,
     "start_time": "2024-01-17T13:07:56.854394",
     "status": "completed"
    },
    "tags": []
   },
   "outputs": [
    {
     "name": "stdout",
     "output_type": "stream",
     "text": [
      "/kaggle/input/nyc-taxi-trip-duration/train.zip\n",
      "/kaggle/input/nyc-taxi-trip-duration/test.zip\n",
      "/kaggle/input/nyc-taxi-trip-duration/sample_submission.zip\n"
     ]
    }
   ],
   "source": [
    "# This Python 3 environment comes with many helpful analytics libraries installed\n",
    "# It is defined by the kaggle/python Docker image: https://github.com/kaggle/docker-python\n",
    "# For example, here's several helpful packages to load\n",
    "\n",
    "import numpy as np # linear algebra\n",
    "import pandas as pd # data processing, CSV file I/O (e.g. pd.read_csv)\n",
    "\n",
    "# Input data files are available in the read-only \"../input/\" directory\n",
    "# For example, running this (by clicking run or pressing Shift+Enter) will list all files under the input directory\n",
    "\n",
    "import os\n",
    "for dirname, _, filenames in os.walk('/kaggle/input'):\n",
    "    for filename in filenames:\n",
    "        print(os.path.join(dirname, filename))\n",
    "\n",
    "# You can write up to 20GB to the current directory (/kaggle/working/) that gets preserved as output when you create a version using \"Save & Run All\" \n",
    "# You can also write temporary files to /kaggle/temp/, but they won't be saved outside of the current session"
   ]
  },
  {
   "cell_type": "code",
   "execution_count": 2,
   "id": "a688d1f7",
   "metadata": {
    "execution": {
     "iopub.execute_input": "2024-01-17T13:07:57.366555Z",
     "iopub.status.busy": "2024-01-17T13:07:57.365983Z",
     "iopub.status.idle": "2024-01-17T13:07:58.681844Z",
     "shell.execute_reply": "2024-01-17T13:07:58.680926Z"
    },
    "papermill": {
     "duration": 1.338612,
     "end_time": "2024-01-17T13:07:58.684488",
     "exception": false,
     "start_time": "2024-01-17T13:07:57.345876",
     "status": "completed"
    },
    "tags": []
   },
   "outputs": [],
   "source": [
    "import matplotlib.pyplot as plt\n",
    "import seaborn as sns"
   ]
  },
  {
   "cell_type": "markdown",
   "id": "2ea24eac",
   "metadata": {
    "papermill": {
     "duration": 0.018363,
     "end_time": "2024-01-17T13:07:58.721614",
     "exception": false,
     "start_time": "2024-01-17T13:07:58.703251",
     "status": "completed"
    },
    "tags": []
   },
   "source": [
    "# 🔃 Data Loading and Extraction"
   ]
  },
  {
   "cell_type": "code",
   "execution_count": 3,
   "id": "dff075ee",
   "metadata": {
    "execution": {
     "iopub.execute_input": "2024-01-17T13:07:58.762458Z",
     "iopub.status.busy": "2024-01-17T13:07:58.761686Z",
     "iopub.status.idle": "2024-01-17T13:07:58.766102Z",
     "shell.execute_reply": "2024-01-17T13:07:58.765253Z"
    },
    "papermill": {
     "duration": 0.028689,
     "end_time": "2024-01-17T13:07:58.768902",
     "exception": false,
     "start_time": "2024-01-17T13:07:58.740213",
     "status": "completed"
    },
    "tags": []
   },
   "outputs": [],
   "source": [
    "from pathlib import Path\n",
    "from zipfile import ZipFile"
   ]
  },
  {
   "cell_type": "code",
   "execution_count": 4,
   "id": "b306033e",
   "metadata": {
    "execution": {
     "iopub.execute_input": "2024-01-17T13:07:58.808708Z",
     "iopub.status.busy": "2024-01-17T13:07:58.808270Z",
     "iopub.status.idle": "2024-01-17T13:07:58.812943Z",
     "shell.execute_reply": "2024-01-17T13:07:58.812116Z"
    },
    "papermill": {
     "duration": 0.027673,
     "end_time": "2024-01-17T13:07:58.815209",
     "exception": false,
     "start_time": "2024-01-17T13:07:58.787536",
     "status": "completed"
    },
    "tags": []
   },
   "outputs": [],
   "source": [
    "# paths for the dataset\n",
    "train_path = '/kaggle/input/nyc-taxi-trip-duration/train.zip'\n",
    "test_path = '/kaggle/input/nyc-taxi-trip-duration/test.zip'"
   ]
  },
  {
   "cell_type": "code",
   "execution_count": 5,
   "id": "7cf38539",
   "metadata": {
    "execution": {
     "iopub.execute_input": "2024-01-17T13:07:58.856027Z",
     "iopub.status.busy": "2024-01-17T13:07:58.854928Z",
     "iopub.status.idle": "2024-01-17T13:08:01.745288Z",
     "shell.execute_reply": "2024-01-17T13:08:01.744107Z"
    },
    "papermill": {
     "duration": 2.913579,
     "end_time": "2024-01-17T13:08:01.748337",
     "exception": false,
     "start_time": "2024-01-17T13:07:58.834758",
     "status": "completed"
    },
    "tags": []
   },
   "outputs": [],
   "source": [
    "# output path for the zip files\n",
    "def extract_zip_file(filepath):\n",
    "    output_path = Path('/kaggle/working/') / 'raw'\n",
    "    output_path.mkdir(parents=True,exist_ok=True)\n",
    "    with ZipFile(file=filepath) as f:\n",
    "        f.extractall(path=output_path)  \n",
    "        \n",
    "# extract the train file\n",
    "extract_zip_file(train_path)\n",
    "\n",
    "# extract the test file\n",
    "extract_zip_file(test_path)"
   ]
  },
  {
   "cell_type": "code",
   "execution_count": 6,
   "id": "1f98ebe4",
   "metadata": {
    "execution": {
     "iopub.execute_input": "2024-01-17T13:08:01.788824Z",
     "iopub.status.busy": "2024-01-17T13:08:01.787595Z",
     "iopub.status.idle": "2024-01-17T13:08:09.474285Z",
     "shell.execute_reply": "2024-01-17T13:08:09.472942Z"
    },
    "papermill": {
     "duration": 7.709362,
     "end_time": "2024-01-17T13:08:09.477137",
     "exception": false,
     "start_time": "2024-01-17T13:08:01.767775",
     "status": "completed"
    },
    "tags": []
   },
   "outputs": [
    {
     "name": "stdout",
     "output_type": "stream",
     "text": [
      "The shape of train file is (1458644, 11)\n",
      "The shape of train file is (625134, 9)\n"
     ]
    }
   ],
   "source": [
    "# read the csv files\n",
    "train_df = pd.read_csv('/kaggle/working/raw/train.csv')\n",
    "test_df = pd.read_csv('/kaggle/working/raw/test.csv')\n",
    "\n",
    "print(f'The shape of train file is {train_df.shape}')\n",
    "print(f'The shape of train file is {test_df.shape}')"
   ]
  },
  {
   "cell_type": "markdown",
   "id": "47bba8f6",
   "metadata": {
    "papermill": {
     "duration": 0.018471,
     "end_time": "2024-01-17T13:08:09.514347",
     "exception": false,
     "start_time": "2024-01-17T13:08:09.495876",
     "status": "completed"
    },
    "tags": []
   },
   "source": [
    "**Data Shape**\n",
    "- The Train Data has around 1.4 million rows and 11 columns.\n",
    "- The Test Data has around 625k rows and 9 columns."
   ]
  },
  {
   "cell_type": "markdown",
   "id": "04013940",
   "metadata": {
    "papermill": {
     "duration": 0.0182,
     "end_time": "2024-01-17T13:08:09.551116",
     "exception": false,
     "start_time": "2024-01-17T13:08:09.532916",
     "status": "completed"
    },
    "tags": []
   },
   "source": [
    "# Understanding the Data"
   ]
  },
  {
   "cell_type": "code",
   "execution_count": 7,
   "id": "88571000",
   "metadata": {
    "execution": {
     "iopub.execute_input": "2024-01-17T13:08:09.590154Z",
     "iopub.status.busy": "2024-01-17T13:08:09.589704Z",
     "iopub.status.idle": "2024-01-17T13:08:09.690759Z",
     "shell.execute_reply": "2024-01-17T13:08:09.689708Z"
    },
    "papermill": {
     "duration": 0.124498,
     "end_time": "2024-01-17T13:08:09.694139",
     "exception": false,
     "start_time": "2024-01-17T13:08:09.569641",
     "status": "completed"
    },
    "tags": []
   },
   "outputs": [
    {
     "data": {
      "text/html": [
       "<div>\n",
       "<style scoped>\n",
       "    .dataframe tbody tr th:only-of-type {\n",
       "        vertical-align: middle;\n",
       "    }\n",
       "\n",
       "    .dataframe tbody tr th {\n",
       "        vertical-align: top;\n",
       "    }\n",
       "\n",
       "    .dataframe thead th {\n",
       "        text-align: right;\n",
       "    }\n",
       "</style>\n",
       "<table border=\"1\" class=\"dataframe\">\n",
       "  <thead>\n",
       "    <tr style=\"text-align: right;\">\n",
       "      <th></th>\n",
       "      <th>id</th>\n",
       "      <th>vendor_id</th>\n",
       "      <th>pickup_datetime</th>\n",
       "      <th>dropoff_datetime</th>\n",
       "      <th>passenger_count</th>\n",
       "      <th>pickup_longitude</th>\n",
       "      <th>pickup_latitude</th>\n",
       "      <th>dropoff_longitude</th>\n",
       "      <th>dropoff_latitude</th>\n",
       "      <th>store_and_fwd_flag</th>\n",
       "      <th>trip_duration</th>\n",
       "    </tr>\n",
       "  </thead>\n",
       "  <tbody>\n",
       "    <tr>\n",
       "      <th>120105</th>\n",
       "      <td>id3672513</td>\n",
       "      <td>1</td>\n",
       "      <td>2016-06-09 19:55:34</td>\n",
       "      <td>2016-06-09 20:18:16</td>\n",
       "      <td>1</td>\n",
       "      <td>-73.988358</td>\n",
       "      <td>40.727573</td>\n",
       "      <td>-73.958557</td>\n",
       "      <td>40.672550</td>\n",
       "      <td>N</td>\n",
       "      <td>1362</td>\n",
       "    </tr>\n",
       "    <tr>\n",
       "      <th>618331</th>\n",
       "      <td>id2577965</td>\n",
       "      <td>2</td>\n",
       "      <td>2016-06-20 13:24:30</td>\n",
       "      <td>2016-06-20 13:34:09</td>\n",
       "      <td>1</td>\n",
       "      <td>-73.983391</td>\n",
       "      <td>40.756191</td>\n",
       "      <td>-73.980843</td>\n",
       "      <td>40.744759</td>\n",
       "      <td>N</td>\n",
       "      <td>579</td>\n",
       "    </tr>\n",
       "    <tr>\n",
       "      <th>672496</th>\n",
       "      <td>id1141582</td>\n",
       "      <td>1</td>\n",
       "      <td>2016-05-09 19:03:17</td>\n",
       "      <td>2016-05-09 19:13:26</td>\n",
       "      <td>1</td>\n",
       "      <td>-73.993103</td>\n",
       "      <td>40.728039</td>\n",
       "      <td>-73.975876</td>\n",
       "      <td>40.740463</td>\n",
       "      <td>N</td>\n",
       "      <td>609</td>\n",
       "    </tr>\n",
       "    <tr>\n",
       "      <th>532220</th>\n",
       "      <td>id1535223</td>\n",
       "      <td>2</td>\n",
       "      <td>2016-06-26 14:15:01</td>\n",
       "      <td>2016-06-26 14:37:29</td>\n",
       "      <td>1</td>\n",
       "      <td>-73.974815</td>\n",
       "      <td>40.758018</td>\n",
       "      <td>-73.979546</td>\n",
       "      <td>40.755096</td>\n",
       "      <td>N</td>\n",
       "      <td>1348</td>\n",
       "    </tr>\n",
       "    <tr>\n",
       "      <th>1170237</th>\n",
       "      <td>id3231533</td>\n",
       "      <td>2</td>\n",
       "      <td>2016-01-28 11:17:08</td>\n",
       "      <td>2016-01-28 11:22:13</td>\n",
       "      <td>1</td>\n",
       "      <td>-73.957619</td>\n",
       "      <td>40.774513</td>\n",
       "      <td>-73.962791</td>\n",
       "      <td>40.775711</td>\n",
       "      <td>N</td>\n",
       "      <td>305</td>\n",
       "    </tr>\n",
       "    <tr>\n",
       "      <th>286844</th>\n",
       "      <td>id2947118</td>\n",
       "      <td>1</td>\n",
       "      <td>2016-02-11 22:26:21</td>\n",
       "      <td>2016-02-11 22:36:33</td>\n",
       "      <td>1</td>\n",
       "      <td>-73.980080</td>\n",
       "      <td>40.766254</td>\n",
       "      <td>-73.974785</td>\n",
       "      <td>40.753452</td>\n",
       "      <td>N</td>\n",
       "      <td>612</td>\n",
       "    </tr>\n",
       "    <tr>\n",
       "      <th>1236789</th>\n",
       "      <td>id3987295</td>\n",
       "      <td>1</td>\n",
       "      <td>2016-04-11 16:17:18</td>\n",
       "      <td>2016-04-11 16:30:47</td>\n",
       "      <td>1</td>\n",
       "      <td>-73.954933</td>\n",
       "      <td>40.777317</td>\n",
       "      <td>-73.952507</td>\n",
       "      <td>40.800331</td>\n",
       "      <td>N</td>\n",
       "      <td>809</td>\n",
       "    </tr>\n",
       "    <tr>\n",
       "      <th>269229</th>\n",
       "      <td>id2885253</td>\n",
       "      <td>1</td>\n",
       "      <td>2016-05-03 13:59:26</td>\n",
       "      <td>2016-05-03 14:07:16</td>\n",
       "      <td>2</td>\n",
       "      <td>-73.978424</td>\n",
       "      <td>40.782993</td>\n",
       "      <td>-73.966835</td>\n",
       "      <td>40.793533</td>\n",
       "      <td>N</td>\n",
       "      <td>470</td>\n",
       "    </tr>\n",
       "    <tr>\n",
       "      <th>824936</th>\n",
       "      <td>id2721777</td>\n",
       "      <td>2</td>\n",
       "      <td>2016-02-08 18:04:20</td>\n",
       "      <td>2016-02-08 18:14:45</td>\n",
       "      <td>1</td>\n",
       "      <td>-73.955200</td>\n",
       "      <td>40.779789</td>\n",
       "      <td>-73.966270</td>\n",
       "      <td>40.789871</td>\n",
       "      <td>N</td>\n",
       "      <td>625</td>\n",
       "    </tr>\n",
       "    <tr>\n",
       "      <th>1325288</th>\n",
       "      <td>id3789678</td>\n",
       "      <td>1</td>\n",
       "      <td>2016-03-27 00:01:15</td>\n",
       "      <td>2016-03-27 00:26:42</td>\n",
       "      <td>1</td>\n",
       "      <td>-73.969101</td>\n",
       "      <td>40.761433</td>\n",
       "      <td>-73.997932</td>\n",
       "      <td>40.736214</td>\n",
       "      <td>N</td>\n",
       "      <td>1527</td>\n",
       "    </tr>\n",
       "    <tr>\n",
       "      <th>711192</th>\n",
       "      <td>id0914020</td>\n",
       "      <td>1</td>\n",
       "      <td>2016-03-20 16:42:58</td>\n",
       "      <td>2016-03-20 16:50:29</td>\n",
       "      <td>2</td>\n",
       "      <td>-73.993065</td>\n",
       "      <td>40.742729</td>\n",
       "      <td>-73.977020</td>\n",
       "      <td>40.749321</td>\n",
       "      <td>N</td>\n",
       "      <td>451</td>\n",
       "    </tr>\n",
       "    <tr>\n",
       "      <th>1398427</th>\n",
       "      <td>id2941250</td>\n",
       "      <td>1</td>\n",
       "      <td>2016-01-17 09:30:43</td>\n",
       "      <td>2016-01-17 09:40:09</td>\n",
       "      <td>3</td>\n",
       "      <td>-73.988098</td>\n",
       "      <td>40.718658</td>\n",
       "      <td>-73.986671</td>\n",
       "      <td>40.742790</td>\n",
       "      <td>N</td>\n",
       "      <td>566</td>\n",
       "    </tr>\n",
       "    <tr>\n",
       "      <th>297577</th>\n",
       "      <td>id3019259</td>\n",
       "      <td>1</td>\n",
       "      <td>2016-04-10 00:54:55</td>\n",
       "      <td>2016-04-10 01:30:08</td>\n",
       "      <td>3</td>\n",
       "      <td>-73.974617</td>\n",
       "      <td>40.756794</td>\n",
       "      <td>-73.970093</td>\n",
       "      <td>40.638916</td>\n",
       "      <td>N</td>\n",
       "      <td>2113</td>\n",
       "    </tr>\n",
       "    <tr>\n",
       "      <th>451063</th>\n",
       "      <td>id0642966</td>\n",
       "      <td>2</td>\n",
       "      <td>2016-04-28 17:05:40</td>\n",
       "      <td>2016-04-28 17:17:05</td>\n",
       "      <td>5</td>\n",
       "      <td>-73.977310</td>\n",
       "      <td>40.748665</td>\n",
       "      <td>-73.978294</td>\n",
       "      <td>40.737186</td>\n",
       "      <td>N</td>\n",
       "      <td>685</td>\n",
       "    </tr>\n",
       "    <tr>\n",
       "      <th>1029427</th>\n",
       "      <td>id2985291</td>\n",
       "      <td>1</td>\n",
       "      <td>2016-05-07 17:38:25</td>\n",
       "      <td>2016-05-07 18:07:11</td>\n",
       "      <td>1</td>\n",
       "      <td>-74.014626</td>\n",
       "      <td>40.714340</td>\n",
       "      <td>-73.949615</td>\n",
       "      <td>40.712658</td>\n",
       "      <td>N</td>\n",
       "      <td>1726</td>\n",
       "    </tr>\n",
       "    <tr>\n",
       "      <th>1139927</th>\n",
       "      <td>id3612908</td>\n",
       "      <td>2</td>\n",
       "      <td>2016-02-19 13:45:27</td>\n",
       "      <td>2016-02-19 14:10:52</td>\n",
       "      <td>3</td>\n",
       "      <td>-73.994011</td>\n",
       "      <td>40.751114</td>\n",
       "      <td>-73.950920</td>\n",
       "      <td>40.769802</td>\n",
       "      <td>N</td>\n",
       "      <td>1525</td>\n",
       "    </tr>\n",
       "    <tr>\n",
       "      <th>1041125</th>\n",
       "      <td>id3086759</td>\n",
       "      <td>1</td>\n",
       "      <td>2016-03-19 19:48:20</td>\n",
       "      <td>2016-03-19 19:58:44</td>\n",
       "      <td>2</td>\n",
       "      <td>-73.932732</td>\n",
       "      <td>40.795837</td>\n",
       "      <td>-73.950195</td>\n",
       "      <td>40.811298</td>\n",
       "      <td>N</td>\n",
       "      <td>624</td>\n",
       "    </tr>\n",
       "    <tr>\n",
       "      <th>339905</th>\n",
       "      <td>id1587455</td>\n",
       "      <td>1</td>\n",
       "      <td>2016-04-16 20:40:51</td>\n",
       "      <td>2016-04-16 21:02:03</td>\n",
       "      <td>1</td>\n",
       "      <td>-73.997948</td>\n",
       "      <td>40.722610</td>\n",
       "      <td>-73.983620</td>\n",
       "      <td>40.764481</td>\n",
       "      <td>N</td>\n",
       "      <td>1272</td>\n",
       "    </tr>\n",
       "    <tr>\n",
       "      <th>314997</th>\n",
       "      <td>id0221714</td>\n",
       "      <td>2</td>\n",
       "      <td>2016-03-03 20:45:57</td>\n",
       "      <td>2016-03-03 20:58:46</td>\n",
       "      <td>2</td>\n",
       "      <td>-73.982460</td>\n",
       "      <td>40.763580</td>\n",
       "      <td>-73.990379</td>\n",
       "      <td>40.746838</td>\n",
       "      <td>N</td>\n",
       "      <td>769</td>\n",
       "    </tr>\n",
       "    <tr>\n",
       "      <th>895615</th>\n",
       "      <td>id2732494</td>\n",
       "      <td>2</td>\n",
       "      <td>2016-06-03 10:56:32</td>\n",
       "      <td>2016-06-03 11:16:11</td>\n",
       "      <td>1</td>\n",
       "      <td>-73.995522</td>\n",
       "      <td>40.736248</td>\n",
       "      <td>-73.978065</td>\n",
       "      <td>40.754333</td>\n",
       "      <td>N</td>\n",
       "      <td>1179</td>\n",
       "    </tr>\n",
       "  </tbody>\n",
       "</table>\n",
       "</div>"
      ],
      "text/plain": [
       "                id  vendor_id      pickup_datetime     dropoff_datetime  \\\n",
       "120105   id3672513          1  2016-06-09 19:55:34  2016-06-09 20:18:16   \n",
       "618331   id2577965          2  2016-06-20 13:24:30  2016-06-20 13:34:09   \n",
       "672496   id1141582          1  2016-05-09 19:03:17  2016-05-09 19:13:26   \n",
       "532220   id1535223          2  2016-06-26 14:15:01  2016-06-26 14:37:29   \n",
       "1170237  id3231533          2  2016-01-28 11:17:08  2016-01-28 11:22:13   \n",
       "286844   id2947118          1  2016-02-11 22:26:21  2016-02-11 22:36:33   \n",
       "1236789  id3987295          1  2016-04-11 16:17:18  2016-04-11 16:30:47   \n",
       "269229   id2885253          1  2016-05-03 13:59:26  2016-05-03 14:07:16   \n",
       "824936   id2721777          2  2016-02-08 18:04:20  2016-02-08 18:14:45   \n",
       "1325288  id3789678          1  2016-03-27 00:01:15  2016-03-27 00:26:42   \n",
       "711192   id0914020          1  2016-03-20 16:42:58  2016-03-20 16:50:29   \n",
       "1398427  id2941250          1  2016-01-17 09:30:43  2016-01-17 09:40:09   \n",
       "297577   id3019259          1  2016-04-10 00:54:55  2016-04-10 01:30:08   \n",
       "451063   id0642966          2  2016-04-28 17:05:40  2016-04-28 17:17:05   \n",
       "1029427  id2985291          1  2016-05-07 17:38:25  2016-05-07 18:07:11   \n",
       "1139927  id3612908          2  2016-02-19 13:45:27  2016-02-19 14:10:52   \n",
       "1041125  id3086759          1  2016-03-19 19:48:20  2016-03-19 19:58:44   \n",
       "339905   id1587455          1  2016-04-16 20:40:51  2016-04-16 21:02:03   \n",
       "314997   id0221714          2  2016-03-03 20:45:57  2016-03-03 20:58:46   \n",
       "895615   id2732494          2  2016-06-03 10:56:32  2016-06-03 11:16:11   \n",
       "\n",
       "         passenger_count  pickup_longitude  pickup_latitude  \\\n",
       "120105                 1        -73.988358        40.727573   \n",
       "618331                 1        -73.983391        40.756191   \n",
       "672496                 1        -73.993103        40.728039   \n",
       "532220                 1        -73.974815        40.758018   \n",
       "1170237                1        -73.957619        40.774513   \n",
       "286844                 1        -73.980080        40.766254   \n",
       "1236789                1        -73.954933        40.777317   \n",
       "269229                 2        -73.978424        40.782993   \n",
       "824936                 1        -73.955200        40.779789   \n",
       "1325288                1        -73.969101        40.761433   \n",
       "711192                 2        -73.993065        40.742729   \n",
       "1398427                3        -73.988098        40.718658   \n",
       "297577                 3        -73.974617        40.756794   \n",
       "451063                 5        -73.977310        40.748665   \n",
       "1029427                1        -74.014626        40.714340   \n",
       "1139927                3        -73.994011        40.751114   \n",
       "1041125                2        -73.932732        40.795837   \n",
       "339905                 1        -73.997948        40.722610   \n",
       "314997                 2        -73.982460        40.763580   \n",
       "895615                 1        -73.995522        40.736248   \n",
       "\n",
       "         dropoff_longitude  dropoff_latitude store_and_fwd_flag  trip_duration  \n",
       "120105          -73.958557         40.672550                  N           1362  \n",
       "618331          -73.980843         40.744759                  N            579  \n",
       "672496          -73.975876         40.740463                  N            609  \n",
       "532220          -73.979546         40.755096                  N           1348  \n",
       "1170237         -73.962791         40.775711                  N            305  \n",
       "286844          -73.974785         40.753452                  N            612  \n",
       "1236789         -73.952507         40.800331                  N            809  \n",
       "269229          -73.966835         40.793533                  N            470  \n",
       "824936          -73.966270         40.789871                  N            625  \n",
       "1325288         -73.997932         40.736214                  N           1527  \n",
       "711192          -73.977020         40.749321                  N            451  \n",
       "1398427         -73.986671         40.742790                  N            566  \n",
       "297577          -73.970093         40.638916                  N           2113  \n",
       "451063          -73.978294         40.737186                  N            685  \n",
       "1029427         -73.949615         40.712658                  N           1726  \n",
       "1139927         -73.950920         40.769802                  N           1525  \n",
       "1041125         -73.950195         40.811298                  N            624  \n",
       "339905          -73.983620         40.764481                  N           1272  \n",
       "314997          -73.990379         40.746838                  N            769  \n",
       "895615          -73.978065         40.754333                  N           1179  "
      ]
     },
     "execution_count": 7,
     "metadata": {},
     "output_type": "execute_result"
    }
   ],
   "source": [
    "train_df.sample(20)"
   ]
  },
  {
   "cell_type": "markdown",
   "id": "1342ba23",
   "metadata": {
    "papermill": {
     "duration": 0.01907,
     "end_time": "2024-01-17T13:08:09.796395",
     "exception": false,
     "start_time": "2024-01-17T13:08:09.777325",
     "status": "completed"
    },
    "tags": []
   },
   "source": [
    "**About the columns** 💻:\n",
    "1. **id** - Starts with id and then a bunch of random numbers(7 to be exact).\n",
    "2. **vendor_id** - Integer column and categorical.\n",
    "3. **pickup_datetime** - Fmt YYYY-MM-DD HH:MM:SS\n",
    "4. **dropoff_datetime** - Fmt YYYY-MM-DD HH:MM:SS\n",
    "5. **passenger_count** - Integer column\n",
    "6. **pickup_longitude/latitude** - longitude is negative and latitude is positive(above Tropic of Cancer).\n",
    "7. **dropoff_longitude/latitude** - longitude is negative and latitude is positive(above Tropic of Cancer).\n",
    "8. **store_and_fwd_flagstore_and_fwd_flag** - String categorical - `Has to be encoded`.\n",
    "9. **trip_duration** - in seconds"
   ]
  },
  {
   "cell_type": "code",
   "execution_count": 8,
   "id": "49de2070",
   "metadata": {
    "execution": {
     "iopub.execute_input": "2024-01-17T13:08:09.837469Z",
     "iopub.status.busy": "2024-01-17T13:08:09.836766Z",
     "iopub.status.idle": "2024-01-17T13:08:10.466381Z",
     "shell.execute_reply": "2024-01-17T13:08:10.465141Z"
    },
    "papermill": {
     "duration": 0.65311,
     "end_time": "2024-01-17T13:08:10.468974",
     "exception": false,
     "start_time": "2024-01-17T13:08:09.815864",
     "status": "completed"
    },
    "tags": []
   },
   "outputs": [
    {
     "data": {
      "text/plain": [
       "id                    0\n",
       "vendor_id             0\n",
       "pickup_datetime       0\n",
       "dropoff_datetime      0\n",
       "passenger_count       0\n",
       "pickup_longitude      0\n",
       "pickup_latitude       0\n",
       "dropoff_longitude     0\n",
       "dropoff_latitude      0\n",
       "store_and_fwd_flag    0\n",
       "trip_duration         0\n",
       "dtype: int64"
      ]
     },
     "execution_count": 8,
     "metadata": {},
     "output_type": "execute_result"
    }
   ],
   "source": [
    "# check for missing values\n",
    "\n",
    "# train_df\n",
    "train_df.isnull().sum()"
   ]
  },
  {
   "cell_type": "code",
   "execution_count": 9,
   "id": "d61c2467",
   "metadata": {
    "execution": {
     "iopub.execute_input": "2024-01-17T13:08:10.510085Z",
     "iopub.status.busy": "2024-01-17T13:08:10.509652Z",
     "iopub.status.idle": "2024-01-17T13:08:10.714352Z",
     "shell.execute_reply": "2024-01-17T13:08:10.713162Z"
    },
    "papermill": {
     "duration": 0.228834,
     "end_time": "2024-01-17T13:08:10.717529",
     "exception": false,
     "start_time": "2024-01-17T13:08:10.488695",
     "status": "completed"
    },
    "tags": []
   },
   "outputs": [
    {
     "data": {
      "text/plain": [
       "id                    0\n",
       "vendor_id             0\n",
       "pickup_datetime       0\n",
       "passenger_count       0\n",
       "pickup_longitude      0\n",
       "pickup_latitude       0\n",
       "dropoff_longitude     0\n",
       "dropoff_latitude      0\n",
       "store_and_fwd_flag    0\n",
       "dtype: int64"
      ]
     },
     "execution_count": 9,
     "metadata": {},
     "output_type": "execute_result"
    }
   ],
   "source": [
    "# check for the test data\n",
    "test_df.isna().sum()"
   ]
  },
  {
   "cell_type": "code",
   "execution_count": 10,
   "id": "204157c1",
   "metadata": {
    "execution": {
     "iopub.execute_input": "2024-01-17T13:08:10.759674Z",
     "iopub.status.busy": "2024-01-17T13:08:10.758853Z",
     "iopub.status.idle": "2024-01-17T13:08:10.766593Z",
     "shell.execute_reply": "2024-01-17T13:08:10.765480Z"
    },
    "papermill": {
     "duration": 0.031748,
     "end_time": "2024-01-17T13:08:10.769209",
     "exception": false,
     "start_time": "2024-01-17T13:08:10.737461",
     "status": "completed"
    },
    "tags": []
   },
   "outputs": [
    {
     "data": {
      "text/plain": [
       "Index(['pickup_longitude', 'pickup_latitude', 'dropoff_longitude',\n",
       "       'dropoff_latitude', 'trip_duration'],\n",
       "      dtype='object')"
      ]
     },
     "execution_count": 10,
     "metadata": {},
     "output_type": "execute_result"
    }
   ],
   "source": [
    "# columns to run describe on\n",
    "\n",
    "cols_to_describe_num = train_df.columns[[5,6,7,8,10]]\n",
    "\n",
    "cols_to_describe_num"
   ]
  },
  {
   "cell_type": "code",
   "execution_count": 11,
   "id": "02cf6800",
   "metadata": {
    "execution": {
     "iopub.execute_input": "2024-01-17T13:08:10.811691Z",
     "iopub.status.busy": "2024-01-17T13:08:10.810921Z",
     "iopub.status.idle": "2024-01-17T13:08:11.291452Z",
     "shell.execute_reply": "2024-01-17T13:08:11.290294Z"
    },
    "papermill": {
     "duration": 0.504493,
     "end_time": "2024-01-17T13:08:11.293822",
     "exception": false,
     "start_time": "2024-01-17T13:08:10.789329",
     "status": "completed"
    },
    "tags": []
   },
   "outputs": [
    {
     "data": {
      "text/html": [
       "<div>\n",
       "<style scoped>\n",
       "    .dataframe tbody tr th:only-of-type {\n",
       "        vertical-align: middle;\n",
       "    }\n",
       "\n",
       "    .dataframe tbody tr th {\n",
       "        vertical-align: top;\n",
       "    }\n",
       "\n",
       "    .dataframe thead th {\n",
       "        text-align: right;\n",
       "    }\n",
       "</style>\n",
       "<table border=\"1\" class=\"dataframe\">\n",
       "  <thead>\n",
       "    <tr style=\"text-align: right;\">\n",
       "      <th></th>\n",
       "      <th>pickup_longitude</th>\n",
       "      <th>pickup_latitude</th>\n",
       "      <th>dropoff_longitude</th>\n",
       "      <th>dropoff_latitude</th>\n",
       "      <th>trip_duration</th>\n",
       "    </tr>\n",
       "  </thead>\n",
       "  <tbody>\n",
       "    <tr>\n",
       "      <th>count</th>\n",
       "      <td>1.458644e+06</td>\n",
       "      <td>1.458644e+06</td>\n",
       "      <td>1.458644e+06</td>\n",
       "      <td>1.458644e+06</td>\n",
       "      <td>1.458644e+06</td>\n",
       "    </tr>\n",
       "    <tr>\n",
       "      <th>mean</th>\n",
       "      <td>-7.397349e+01</td>\n",
       "      <td>4.075092e+01</td>\n",
       "      <td>-7.397342e+01</td>\n",
       "      <td>4.075180e+01</td>\n",
       "      <td>9.594923e+02</td>\n",
       "    </tr>\n",
       "    <tr>\n",
       "      <th>std</th>\n",
       "      <td>7.090186e-02</td>\n",
       "      <td>3.288119e-02</td>\n",
       "      <td>7.064327e-02</td>\n",
       "      <td>3.589056e-02</td>\n",
       "      <td>5.237432e+03</td>\n",
       "    </tr>\n",
       "    <tr>\n",
       "      <th>min</th>\n",
       "      <td>-1.219333e+02</td>\n",
       "      <td>3.435970e+01</td>\n",
       "      <td>-1.219333e+02</td>\n",
       "      <td>3.218114e+01</td>\n",
       "      <td>1.000000e+00</td>\n",
       "    </tr>\n",
       "    <tr>\n",
       "      <th>25%</th>\n",
       "      <td>-7.399187e+01</td>\n",
       "      <td>4.073735e+01</td>\n",
       "      <td>-7.399133e+01</td>\n",
       "      <td>4.073588e+01</td>\n",
       "      <td>3.970000e+02</td>\n",
       "    </tr>\n",
       "    <tr>\n",
       "      <th>50%</th>\n",
       "      <td>-7.398174e+01</td>\n",
       "      <td>4.075410e+01</td>\n",
       "      <td>-7.397975e+01</td>\n",
       "      <td>4.075452e+01</td>\n",
       "      <td>6.620000e+02</td>\n",
       "    </tr>\n",
       "    <tr>\n",
       "      <th>75%</th>\n",
       "      <td>-7.396733e+01</td>\n",
       "      <td>4.076836e+01</td>\n",
       "      <td>-7.396301e+01</td>\n",
       "      <td>4.076981e+01</td>\n",
       "      <td>1.075000e+03</td>\n",
       "    </tr>\n",
       "    <tr>\n",
       "      <th>max</th>\n",
       "      <td>-6.133553e+01</td>\n",
       "      <td>5.188108e+01</td>\n",
       "      <td>-6.133553e+01</td>\n",
       "      <td>4.392103e+01</td>\n",
       "      <td>3.526282e+06</td>\n",
       "    </tr>\n",
       "  </tbody>\n",
       "</table>\n",
       "</div>"
      ],
      "text/plain": [
       "       pickup_longitude  pickup_latitude  dropoff_longitude  dropoff_latitude  \\\n",
       "count      1.458644e+06     1.458644e+06       1.458644e+06      1.458644e+06   \n",
       "mean      -7.397349e+01     4.075092e+01      -7.397342e+01      4.075180e+01   \n",
       "std        7.090186e-02     3.288119e-02       7.064327e-02      3.589056e-02   \n",
       "min       -1.219333e+02     3.435970e+01      -1.219333e+02      3.218114e+01   \n",
       "25%       -7.399187e+01     4.073735e+01      -7.399133e+01      4.073588e+01   \n",
       "50%       -7.398174e+01     4.075410e+01      -7.397975e+01      4.075452e+01   \n",
       "75%       -7.396733e+01     4.076836e+01      -7.396301e+01      4.076981e+01   \n",
       "max       -6.133553e+01     5.188108e+01      -6.133553e+01      4.392103e+01   \n",
       "\n",
       "       trip_duration  \n",
       "count   1.458644e+06  \n",
       "mean    9.594923e+02  \n",
       "std     5.237432e+03  \n",
       "min     1.000000e+00  \n",
       "25%     3.970000e+02  \n",
       "50%     6.620000e+02  \n",
       "75%     1.075000e+03  \n",
       "max     3.526282e+06  "
      ]
     },
     "execution_count": 11,
     "metadata": {},
     "output_type": "execute_result"
    }
   ],
   "source": [
    "# description about the data\n",
    "\n",
    "train_df[cols_to_describe_num].describe()"
   ]
  },
  {
   "cell_type": "markdown",
   "id": "8484d162",
   "metadata": {
    "papermill": {
     "duration": 0.028338,
     "end_time": "2024-01-17T13:08:11.342647",
     "exception": false,
     "start_time": "2024-01-17T13:08:11.314309",
     "status": "completed"
    },
    "tags": []
   },
   "source": [
    "<div style=\"background-color:#F0B27A ; padding: 20px;\">\n",
    "\n",
    "<span style=\"font-size: 18px;\">\n",
    "    \n",
    "**Some Geography Facts**         \n",
    "Latitude and longitude are a pair of numbers that describe a position on a geographic coordinate system. They are measured in decimal degrees and range from **\\[-90 to 90] for latitude** and **\\[-180 to 180] for longitude**.\n",
    "</span>\n",
    "</div>"
   ]
  },
  {
   "cell_type": "code",
   "execution_count": 12,
   "id": "ece0fe79",
   "metadata": {
    "execution": {
     "iopub.execute_input": "2024-01-17T13:08:11.386631Z",
     "iopub.status.busy": "2024-01-17T13:08:11.385852Z",
     "iopub.status.idle": "2024-01-17T13:08:11.758837Z",
     "shell.execute_reply": "2024-01-17T13:08:11.757663Z"
    },
    "papermill": {
     "duration": 0.397907,
     "end_time": "2024-01-17T13:08:11.761573",
     "exception": false,
     "start_time": "2024-01-17T13:08:11.363666",
     "status": "completed"
    },
    "tags": []
   },
   "outputs": [
    {
     "data": {
      "text/html": [
       "<div>\n",
       "<style scoped>\n",
       "    .dataframe tbody tr th:only-of-type {\n",
       "        vertical-align: middle;\n",
       "    }\n",
       "\n",
       "    .dataframe tbody tr th {\n",
       "        vertical-align: top;\n",
       "    }\n",
       "\n",
       "    .dataframe thead th {\n",
       "        text-align: right;\n",
       "    }\n",
       "</style>\n",
       "<table border=\"1\" class=\"dataframe\">\n",
       "  <thead>\n",
       "    <tr style=\"text-align: right;\">\n",
       "      <th></th>\n",
       "      <th>pickup_longitude</th>\n",
       "      <th>pickup_latitude</th>\n",
       "      <th>dropoff_longitude</th>\n",
       "      <th>dropoff_latitude</th>\n",
       "      <th>trip_duration</th>\n",
       "    </tr>\n",
       "  </thead>\n",
       "  <tbody>\n",
       "    <tr>\n",
       "      <th>count</th>\n",
       "      <td>1.458644e+06</td>\n",
       "      <td>1.458644e+06</td>\n",
       "      <td>1.458644e+06</td>\n",
       "      <td>1.458644e+06</td>\n",
       "      <td>1.458644e+06</td>\n",
       "    </tr>\n",
       "    <tr>\n",
       "      <th>mean</th>\n",
       "      <td>-7.397349e+01</td>\n",
       "      <td>4.075092e+01</td>\n",
       "      <td>-7.397342e+01</td>\n",
       "      <td>4.075180e+01</td>\n",
       "      <td>9.594923e+02</td>\n",
       "    </tr>\n",
       "    <tr>\n",
       "      <th>std</th>\n",
       "      <td>7.090186e-02</td>\n",
       "      <td>3.288119e-02</td>\n",
       "      <td>7.064327e-02</td>\n",
       "      <td>3.589056e-02</td>\n",
       "      <td>5.237432e+03</td>\n",
       "    </tr>\n",
       "    <tr>\n",
       "      <th>min</th>\n",
       "      <td>-1.219333e+02</td>\n",
       "      <td>3.435970e+01</td>\n",
       "      <td>-1.219333e+02</td>\n",
       "      <td>3.218114e+01</td>\n",
       "      <td>1.000000e+00</td>\n",
       "    </tr>\n",
       "    <tr>\n",
       "      <th>25%</th>\n",
       "      <td>-7.399187e+01</td>\n",
       "      <td>4.073735e+01</td>\n",
       "      <td>-7.399133e+01</td>\n",
       "      <td>4.073588e+01</td>\n",
       "      <td>3.970000e+02</td>\n",
       "    </tr>\n",
       "    <tr>\n",
       "      <th>50%</th>\n",
       "      <td>-7.398174e+01</td>\n",
       "      <td>4.075410e+01</td>\n",
       "      <td>-7.397975e+01</td>\n",
       "      <td>4.075452e+01</td>\n",
       "      <td>6.620000e+02</td>\n",
       "    </tr>\n",
       "    <tr>\n",
       "      <th>75%</th>\n",
       "      <td>-7.396733e+01</td>\n",
       "      <td>4.076836e+01</td>\n",
       "      <td>-7.396301e+01</td>\n",
       "      <td>4.076981e+01</td>\n",
       "      <td>1.075000e+03</td>\n",
       "    </tr>\n",
       "    <tr>\n",
       "      <th>max</th>\n",
       "      <td>-6.133553e+01</td>\n",
       "      <td>5.188108e+01</td>\n",
       "      <td>-6.133553e+01</td>\n",
       "      <td>4.392103e+01</td>\n",
       "      <td>3.526282e+06</td>\n",
       "    </tr>\n",
       "  </tbody>\n",
       "</table>\n",
       "</div>"
      ],
      "text/plain": [
       "       pickup_longitude  pickup_latitude  dropoff_longitude  dropoff_latitude  \\\n",
       "count      1.458644e+06     1.458644e+06       1.458644e+06      1.458644e+06   \n",
       "mean      -7.397349e+01     4.075092e+01      -7.397342e+01      4.075180e+01   \n",
       "std        7.090186e-02     3.288119e-02       7.064327e-02      3.589056e-02   \n",
       "min       -1.219333e+02     3.435970e+01      -1.219333e+02      3.218114e+01   \n",
       "25%       -7.399187e+01     4.073735e+01      -7.399133e+01      4.073588e+01   \n",
       "50%       -7.398174e+01     4.075410e+01      -7.397975e+01      4.075452e+01   \n",
       "75%       -7.396733e+01     4.076836e+01      -7.396301e+01      4.076981e+01   \n",
       "max       -6.133553e+01     5.188108e+01      -6.133553e+01      4.392103e+01   \n",
       "\n",
       "       trip_duration  \n",
       "count   1.458644e+06  \n",
       "mean    9.594923e+02  \n",
       "std     5.237432e+03  \n",
       "min     1.000000e+00  \n",
       "25%     3.970000e+02  \n",
       "50%     6.620000e+02  \n",
       "75%     1.075000e+03  \n",
       "max     3.526282e+06  "
      ]
     },
     "execution_count": 12,
     "metadata": {},
     "output_type": "execute_result"
    }
   ],
   "source": [
    "train_df[cols_to_describe_num].describe()"
   ]
  },
  {
   "cell_type": "markdown",
   "id": "c7b1fea9",
   "metadata": {
    "papermill": {
     "duration": 0.020642,
     "end_time": "2024-01-17T13:08:11.803787",
     "exception": false,
     "start_time": "2024-01-17T13:08:11.783145",
     "status": "completed"
    },
    "tags": []
   },
   "source": [
    "<div style=\"background-color: #E6E6FA; padding: 10px;\">\n",
    "    \n",
    "**About the columns**\n",
    "- **pickup_longitude** - -121.9(min) and -61.33(max) value are way off the borders of NYC city. The median longitude value is around the -73.9 mark which seems fine. (The -ve sign is correct as NYC lies on the west of the meridian line)\n",
    "- **pickup_latitude** - The maximum value here which is 51.88 seems to be concerning.(The +ve sign for all values is ok as NYC lies above the equator mark).\n",
    "- **dropoff_longitude** - 121.9(min) and -61.33(max) value are way off the borders of NYC city. The median longitude value is around the -73.9 mark which seems fine. (The -ve sign is correct as NYC lies on the west of the meridian line).\n",
    "    - check whether the minimum and maximum are from the same entry for both the pickup and drop. This can indicate a faulty device showing the same coordinates every time.\n",
    "- **dropoff latitude** - The min value of 32.181 is of concern.\n",
    "\n",
    "**Target Column** (trip_duration)\n",
    "- The mean duration is 959 sec and the median is 662 sec. This indicates the column is skewed to the right. (Mean > Median).\n",
    "- This also indicates the presence of outliers in the data that are skewing the distribution.\n",
    "- The minimum trip duration value is 1 sec which indicates ride cancelled by the rider or rejected by the driver, after the taxi reached the pickup spot.\n",
    "- The maximum trip duration of 980 minutes or around 41 days is definitely an outlier and should be handled.\n",
    "- The Q3 of the data is around 17-18 minutes which shows that people in NYC prefer shorter cab trips.\n",
    "    \n",
    "</div>"
   ]
  },
  {
   "cell_type": "code",
   "execution_count": 13,
   "id": "b1daf480",
   "metadata": {
    "execution": {
     "iopub.execute_input": "2024-01-17T13:08:11.848330Z",
     "iopub.status.busy": "2024-01-17T13:08:11.847308Z",
     "iopub.status.idle": "2024-01-17T13:08:11.855331Z",
     "shell.execute_reply": "2024-01-17T13:08:11.854258Z"
    },
    "papermill": {
     "duration": 0.032873,
     "end_time": "2024-01-17T13:08:11.857614",
     "exception": false,
     "start_time": "2024-01-17T13:08:11.824741",
     "status": "completed"
    },
    "tags": []
   },
   "outputs": [
    {
     "data": {
      "text/plain": [
       "17.916666666666668"
      ]
     },
     "execution_count": 13,
     "metadata": {},
     "output_type": "execute_result"
    }
   ],
   "source": [
    "(1.075000e+03 * 60) / 3600"
   ]
  },
  {
   "cell_type": "markdown",
   "id": "67186793",
   "metadata": {
    "papermill": {
     "duration": 0.02087,
     "end_time": "2024-01-17T13:08:11.900270",
     "exception": false,
     "start_time": "2024-01-17T13:08:11.879400",
     "status": "completed"
    },
    "tags": []
   },
   "source": [
    "**Points to Ponder**:\n",
    "Check the minimum and maximum values of latitude and longitude and check whether they are outliers?\n",
    "- Check the extreme longitude and latitude values.\n",
    "- Trip timings for one booking is around 41 days -- An Outlier."
   ]
  },
  {
   "cell_type": "code",
   "execution_count": 14,
   "id": "3f1020aa",
   "metadata": {
    "execution": {
     "iopub.execute_input": "2024-01-17T13:08:11.945436Z",
     "iopub.status.busy": "2024-01-17T13:08:11.944446Z",
     "iopub.status.idle": "2024-01-17T13:08:11.954267Z",
     "shell.execute_reply": "2024-01-17T13:08:11.953159Z"
    },
    "papermill": {
     "duration": 0.035398,
     "end_time": "2024-01-17T13:08:11.956886",
     "exception": false,
     "start_time": "2024-01-17T13:08:11.921488",
     "status": "completed"
    },
    "tags": []
   },
   "outputs": [
    {
     "data": {
      "text/plain": [
       "array(['vendor_id', 'passenger_count', 'store_and_fwd_flag'], dtype='<U18')"
      ]
     },
     "execution_count": 14,
     "metadata": {},
     "output_type": "execute_result"
    }
   ],
   "source": [
    "# statistical summary for the categorical columns\n",
    "\n",
    "cols_to_describe_cat = [col for col in train_df.columns if col not in cols_to_describe_num]\n",
    "cols_to_describe_cat = np.array(cols_to_describe_cat)[[1,4,5]]\n",
    "cols_to_describe_cat"
   ]
  },
  {
   "cell_type": "code",
   "execution_count": 15,
   "id": "4e038589",
   "metadata": {
    "execution": {
     "iopub.execute_input": "2024-01-17T13:08:12.002522Z",
     "iopub.status.busy": "2024-01-17T13:08:12.001497Z",
     "iopub.status.idle": "2024-01-17T13:08:12.383013Z",
     "shell.execute_reply": "2024-01-17T13:08:12.381408Z"
    },
    "papermill": {
     "duration": 0.407395,
     "end_time": "2024-01-17T13:08:12.385693",
     "exception": false,
     "start_time": "2024-01-17T13:08:11.978298",
     "status": "completed"
    },
    "tags": []
   },
   "outputs": [
    {
     "name": "stdout",
     "output_type": "stream",
     "text": [
      "The unique value in vendor_id are ----> [1 2]\n",
      "vendor_id\n",
      "2    780302\n",
      "1    678342\n",
      "Name: count, dtype: int64\n",
      "****************************************************************************************************\n",
      "The unique value in passenger_count are ----> [0 1 2 3 4 5 6 7 8 9]\n",
      "passenger_count\n",
      "1    1033540\n",
      "2     210318\n",
      "5      78088\n",
      "3      59896\n",
      "6      48333\n",
      "4      28404\n",
      "0         60\n",
      "7          3\n",
      "9          1\n",
      "8          1\n",
      "Name: count, dtype: int64\n",
      "****************************************************************************************************\n",
      "The unique value in store_and_fwd_flag are ----> ['N' 'Y']\n",
      "store_and_fwd_flag\n",
      "N    1450599\n",
      "Y       8045\n",
      "Name: count, dtype: int64\n",
      "****************************************************************************************************\n"
     ]
    }
   ],
   "source": [
    "# value counts of each categorical column \n",
    "\n",
    "for col in cols_to_describe_cat:\n",
    "    print(f'The unique value in {col} are ---->',np.sort(train_df[col].unique()))\n",
    "    print(train_df[col].value_counts())\n",
    "    print('*' * 100,end='\\n')"
   ]
  },
  {
   "cell_type": "code",
   "execution_count": 16,
   "id": "458adc98",
   "metadata": {
    "execution": {
     "iopub.execute_input": "2024-01-17T13:08:12.875401Z",
     "iopub.status.busy": "2024-01-17T13:08:12.874507Z",
     "iopub.status.idle": "2024-01-17T13:08:12.883565Z",
     "shell.execute_reply": "2024-01-17T13:08:12.882368Z"
    },
    "papermill": {
     "duration": 0.038033,
     "end_time": "2024-01-17T13:08:12.886084",
     "exception": false,
     "start_time": "2024-01-17T13:08:12.848051",
     "status": "completed"
    },
    "tags": []
   },
   "outputs": [
    {
     "data": {
      "text/plain": [
       "id                     object\n",
       "vendor_id               int64\n",
       "pickup_datetime        object\n",
       "dropoff_datetime       object\n",
       "passenger_count         int64\n",
       "pickup_longitude      float64\n",
       "pickup_latitude       float64\n",
       "dropoff_longitude     float64\n",
       "dropoff_latitude      float64\n",
       "store_and_fwd_flag     object\n",
       "trip_duration           int64\n",
       "dtype: object"
      ]
     },
     "execution_count": 16,
     "metadata": {},
     "output_type": "execute_result"
    }
   ],
   "source": [
    "# datatypes of train data\n",
    "\n",
    "train_df.dtypes"
   ]
  },
  {
   "cell_type": "code",
   "execution_count": 17,
   "id": "11c1b21a",
   "metadata": {
    "execution": {
     "iopub.execute_input": "2024-01-17T13:08:12.930800Z",
     "iopub.status.busy": "2024-01-17T13:08:12.929996Z",
     "iopub.status.idle": "2024-01-17T13:08:14.426862Z",
     "shell.execute_reply": "2024-01-17T13:08:14.425662Z"
    },
    "papermill": {
     "duration": 1.522251,
     "end_time": "2024-01-17T13:08:14.429539",
     "exception": false,
     "start_time": "2024-01-17T13:08:12.907288",
     "status": "completed"
    },
    "tags": []
   },
   "outputs": [
    {
     "name": "stdout",
     "output_type": "stream",
     "text": [
      "<class 'pandas.core.frame.DataFrame'>\n",
      "RangeIndex: 1458644 entries, 0 to 1458643\n",
      "Data columns (total 11 columns):\n",
      " #   Column              Dtype  \n",
      "---  ------              -----  \n",
      " 0   id                  object \n",
      " 1   vendor_id           int64  \n",
      " 2   pickup_datetime     object \n",
      " 3   dropoff_datetime    object \n",
      " 4   passenger_count     int64  \n",
      " 5   pickup_longitude    float64\n",
      " 6   pickup_latitude     float64\n",
      " 7   dropoff_longitude   float64\n",
      " 8   dropoff_latitude    float64\n",
      " 9   store_and_fwd_flag  object \n",
      " 10  trip_duration       int64  \n",
      "dtypes: float64(4), int64(3), object(4)\n",
      "memory usage: 461.8 MB\n"
     ]
    }
   ],
   "source": [
    "# info about the data frame\n",
    "\n",
    "train_df.info(memory_usage='deep',show_counts=False)"
   ]
  },
  {
   "cell_type": "markdown",
   "id": "0ed9a0e2",
   "metadata": {
    "papermill": {
     "duration": 0.021249,
     "end_time": "2024-01-17T13:08:14.472320",
     "exception": false,
     "start_time": "2024-01-17T13:08:14.451071",
     "status": "completed"
    },
    "tags": []
   },
   "source": [
    "**The memory usage is 461.8 MB**"
   ]
  },
  {
   "cell_type": "code",
   "execution_count": 18,
   "id": "cdd11239",
   "metadata": {
    "execution": {
     "iopub.execute_input": "2024-01-17T13:08:14.517945Z",
     "iopub.status.busy": "2024-01-17T13:08:14.517295Z",
     "iopub.status.idle": "2024-01-17T13:08:14.527698Z",
     "shell.execute_reply": "2024-01-17T13:08:14.526805Z"
    },
    "papermill": {
     "duration": 0.036503,
     "end_time": "2024-01-17T13:08:14.530259",
     "exception": false,
     "start_time": "2024-01-17T13:08:14.493756",
     "status": "completed"
    },
    "tags": []
   },
   "outputs": [],
   "source": [
    "# convert the big sized integer columns to small size\n",
    "\n",
    "train_df['vendor_id'] = train_df['vendor_id'].astype(np.int8)\n",
    "train_df['passenger_count'] = train_df['vendor_id'].astype(np.int16)"
   ]
  },
  {
   "cell_type": "code",
   "execution_count": 19,
   "id": "2ff6e871",
   "metadata": {
    "execution": {
     "iopub.execute_input": "2024-01-17T13:08:14.575403Z",
     "iopub.status.busy": "2024-01-17T13:08:14.574713Z",
     "iopub.status.idle": "2024-01-17T13:08:16.058040Z",
     "shell.execute_reply": "2024-01-17T13:08:16.056845Z"
    },
    "papermill": {
     "duration": 1.509998,
     "end_time": "2024-01-17T13:08:16.061754",
     "exception": false,
     "start_time": "2024-01-17T13:08:14.551756",
     "status": "completed"
    },
    "tags": []
   },
   "outputs": [
    {
     "name": "stdout",
     "output_type": "stream",
     "text": [
      "<class 'pandas.core.frame.DataFrame'>\n",
      "RangeIndex: 1458644 entries, 0 to 1458643\n",
      "Data columns (total 11 columns):\n",
      " #   Column              Dtype  \n",
      "---  ------              -----  \n",
      " 0   id                  object \n",
      " 1   vendor_id           int8   \n",
      " 2   pickup_datetime     object \n",
      " 3   dropoff_datetime    object \n",
      " 4   passenger_count     int16  \n",
      " 5   pickup_longitude    float64\n",
      " 6   pickup_latitude     float64\n",
      " 7   dropoff_longitude   float64\n",
      " 8   dropoff_latitude    float64\n",
      " 9   store_and_fwd_flag  object \n",
      " 10  trip_duration       int64  \n",
      "dtypes: float64(4), int16(1), int64(1), int8(1), object(4)\n",
      "memory usage: 443.8 MB\n"
     ]
    }
   ],
   "source": [
    "train_df.info(memory_usage='deep',show_counts=False)"
   ]
  },
  {
   "cell_type": "markdown",
   "id": "25528642",
   "metadata": {
    "papermill": {
     "duration": 0.021379,
     "end_time": "2024-01-17T13:08:16.104943",
     "exception": false,
     "start_time": "2024-01-17T13:08:16.083564",
     "status": "completed"
    },
    "tags": []
   },
   "source": [
    "**Convert data types**\n",
    "1. id - remove 'id' and make it numerical.\n",
    "2. pickup_datetime - change to datetime\n",
    "3. dropoff_datetime - change to datetime"
   ]
  },
  {
   "cell_type": "markdown",
   "id": "60e768f6",
   "metadata": {
    "execution": {
     "iopub.execute_input": "2023-12-31T11:35:44.539791Z",
     "iopub.status.busy": "2023-12-31T11:35:44.539341Z",
     "iopub.status.idle": "2023-12-31T11:35:44.552673Z",
     "shell.execute_reply": "2023-12-31T11:35:44.551552Z",
     "shell.execute_reply.started": "2023-12-31T11:35:44.539747Z"
    },
    "papermill": {
     "duration": 0.021371,
     "end_time": "2024-01-17T13:08:16.148585",
     "exception": false,
     "start_time": "2024-01-17T13:08:16.127214",
     "status": "completed"
    },
    "tags": []
   },
   "source": [
    "# EDA(Exploratory Data Analysis)"
   ]
  },
  {
   "cell_type": "code",
   "execution_count": 20,
   "id": "2ceb9706",
   "metadata": {
    "execution": {
     "iopub.execute_input": "2024-01-17T13:08:16.196465Z",
     "iopub.status.busy": "2024-01-17T13:08:16.196045Z",
     "iopub.status.idle": "2024-01-17T13:08:16.203790Z",
     "shell.execute_reply": "2024-01-17T13:08:16.202349Z"
    },
    "papermill": {
     "duration": 0.034465,
     "end_time": "2024-01-17T13:08:16.206564",
     "exception": false,
     "start_time": "2024-01-17T13:08:16.172099",
     "status": "completed"
    },
    "tags": []
   },
   "outputs": [
    {
     "data": {
      "text/plain": [
       "Index(['id', 'vendor_id', 'pickup_datetime', 'dropoff_datetime',\n",
       "       'passenger_count', 'pickup_longitude', 'pickup_latitude',\n",
       "       'dropoff_longitude', 'dropoff_latitude', 'store_and_fwd_flag',\n",
       "       'trip_duration'],\n",
       "      dtype='object')"
      ]
     },
     "execution_count": 20,
     "metadata": {},
     "output_type": "execute_result"
    }
   ],
   "source": [
    "# train_df columns\n",
    "train_df.columns"
   ]
  },
  {
   "cell_type": "markdown",
   "id": "db7e284f",
   "metadata": {
    "papermill": {
     "duration": 0.02154,
     "end_time": "2024-01-17T13:08:16.249881",
     "exception": false,
     "start_time": "2024-01-17T13:08:16.228341",
     "status": "completed"
    },
    "tags": []
   },
   "source": [
    "## id"
   ]
  },
  {
   "cell_type": "code",
   "execution_count": 21,
   "id": "1eb30615",
   "metadata": {
    "execution": {
     "iopub.execute_input": "2024-01-17T13:08:16.296390Z",
     "iopub.status.busy": "2024-01-17T13:08:16.295145Z",
     "iopub.status.idle": "2024-01-17T13:08:16.305080Z",
     "shell.execute_reply": "2024-01-17T13:08:16.303703Z"
    },
    "papermill": {
     "duration": 0.035699,
     "end_time": "2024-01-17T13:08:16.307661",
     "exception": false,
     "start_time": "2024-01-17T13:08:16.271962",
     "status": "completed"
    },
    "tags": []
   },
   "outputs": [
    {
     "data": {
      "text/plain": [
       "0    id2875421\n",
       "1    id2377394\n",
       "2    id3858529\n",
       "3    id3504673\n",
       "4    id2181028\n",
       "Name: id, dtype: object"
      ]
     },
     "execution_count": 21,
     "metadata": {},
     "output_type": "execute_result"
    }
   ],
   "source": [
    "train_df['id'].head()"
   ]
  },
  {
   "cell_type": "code",
   "execution_count": 22,
   "id": "15157670",
   "metadata": {
    "execution": {
     "iopub.execute_input": "2024-01-17T13:08:16.354162Z",
     "iopub.status.busy": "2024-01-17T13:08:16.352980Z",
     "iopub.status.idle": "2024-01-17T13:08:17.350810Z",
     "shell.execute_reply": "2024-01-17T13:08:17.349647Z"
    },
    "papermill": {
     "duration": 1.024006,
     "end_time": "2024-01-17T13:08:17.353625",
     "exception": false,
     "start_time": "2024-01-17T13:08:16.329619",
     "status": "completed"
    },
    "tags": []
   },
   "outputs": [
    {
     "data": {
      "text/plain": [
       "0          2875421\n",
       "1          2377394\n",
       "2          3858529\n",
       "3          3504673\n",
       "4          2181028\n",
       "            ...   \n",
       "1458639    2376096\n",
       "1458640    1049543\n",
       "1458641    2304944\n",
       "1458642    2714485\n",
       "1458643    1209952\n",
       "Name: id, Length: 1458644, dtype: object"
      ]
     },
     "execution_count": 22,
     "metadata": {},
     "output_type": "execute_result"
    }
   ],
   "source": [
    "# remove the id tag from all the rows\n",
    "\n",
    "def remove_id_tag(data):\n",
    "    data['id'] = data['id'].str.replace('id','')\n",
    "    return data['id']\n",
    "\n",
    "# remove tag from train data\n",
    "remove_id_tag(train_df)"
   ]
  },
  {
   "cell_type": "code",
   "execution_count": 23,
   "id": "a2d05ddf",
   "metadata": {
    "execution": {
     "iopub.execute_input": "2024-01-17T13:08:17.400726Z",
     "iopub.status.busy": "2024-01-17T13:08:17.400291Z",
     "iopub.status.idle": "2024-01-17T13:08:17.839426Z",
     "shell.execute_reply": "2024-01-17T13:08:17.838338Z"
    },
    "papermill": {
     "duration": 0.465868,
     "end_time": "2024-01-17T13:08:17.842109",
     "exception": false,
     "start_time": "2024-01-17T13:08:17.376241",
     "status": "completed"
    },
    "tags": []
   },
   "outputs": [
    {
     "data": {
      "text/plain": [
       "0         3004672\n",
       "1         3505355\n",
       "2         1217141\n",
       "3         2150126\n",
       "4         1598245\n",
       "           ...   \n",
       "625129    3008929\n",
       "625130    3700764\n",
       "625131    2568735\n",
       "625132    1384355\n",
       "625133    0621643\n",
       "Name: id, Length: 625134, dtype: object"
      ]
     },
     "execution_count": 23,
     "metadata": {},
     "output_type": "execute_result"
    }
   ],
   "source": [
    "# remove tag from test data\n",
    "remove_id_tag(test_df)"
   ]
  },
  {
   "cell_type": "code",
   "execution_count": 24,
   "id": "a261e134",
   "metadata": {
    "execution": {
     "iopub.execute_input": "2024-01-17T13:08:17.889223Z",
     "iopub.status.busy": "2024-01-17T13:08:17.888517Z",
     "iopub.status.idle": "2024-01-17T13:08:18.221266Z",
     "shell.execute_reply": "2024-01-17T13:08:18.220212Z"
    },
    "papermill": {
     "duration": 0.359155,
     "end_time": "2024-01-17T13:08:18.224082",
     "exception": false,
     "start_time": "2024-01-17T13:08:17.864927",
     "status": "completed"
    },
    "tags": []
   },
   "outputs": [],
   "source": [
    "# convert the id column to integer\n",
    "train_df['id'] = train_df['id'].astype('int')\n",
    "test_df['id'] = test_df['id'].astype('int')"
   ]
  },
  {
   "cell_type": "code",
   "execution_count": 25,
   "id": "13d1fcd1",
   "metadata": {
    "execution": {
     "iopub.execute_input": "2024-01-17T13:08:18.271697Z",
     "iopub.status.busy": "2024-01-17T13:08:18.271298Z",
     "iopub.status.idle": "2024-01-17T13:08:18.543869Z",
     "shell.execute_reply": "2024-01-17T13:08:18.542783Z"
    },
    "papermill": {
     "duration": 0.299586,
     "end_time": "2024-01-17T13:08:18.546618",
     "exception": false,
     "start_time": "2024-01-17T13:08:18.247032",
     "status": "completed"
    },
    "tags": []
   },
   "outputs": [],
   "source": [
    "# test if id column is required\n",
    "\n",
    "def test_id_column(data):\n",
    "    if data.shape[0] == data['id'].nunique():\n",
    "        new_data = data.drop(columns='id')\n",
    "        return new_data\n",
    "    else:\n",
    "        return data\n",
    "    \n",
    "train_df_new = test_id_column(train_df)\n",
    "test_df_new = test_id_column(test_df)"
   ]
  },
  {
   "cell_type": "code",
   "execution_count": 26,
   "id": "47b5ab3c",
   "metadata": {
    "execution": {
     "iopub.execute_input": "2024-01-17T13:08:18.594098Z",
     "iopub.status.busy": "2024-01-17T13:08:18.593698Z",
     "iopub.status.idle": "2024-01-17T13:08:18.615351Z",
     "shell.execute_reply": "2024-01-17T13:08:18.614449Z"
    },
    "papermill": {
     "duration": 0.048097,
     "end_time": "2024-01-17T13:08:18.617724",
     "exception": false,
     "start_time": "2024-01-17T13:08:18.569627",
     "status": "completed"
    },
    "tags": []
   },
   "outputs": [
    {
     "data": {
      "text/html": [
       "<div>\n",
       "<style scoped>\n",
       "    .dataframe tbody tr th:only-of-type {\n",
       "        vertical-align: middle;\n",
       "    }\n",
       "\n",
       "    .dataframe tbody tr th {\n",
       "        vertical-align: top;\n",
       "    }\n",
       "\n",
       "    .dataframe thead th {\n",
       "        text-align: right;\n",
       "    }\n",
       "</style>\n",
       "<table border=\"1\" class=\"dataframe\">\n",
       "  <thead>\n",
       "    <tr style=\"text-align: right;\">\n",
       "      <th></th>\n",
       "      <th>vendor_id</th>\n",
       "      <th>pickup_datetime</th>\n",
       "      <th>dropoff_datetime</th>\n",
       "      <th>passenger_count</th>\n",
       "      <th>pickup_longitude</th>\n",
       "      <th>pickup_latitude</th>\n",
       "      <th>dropoff_longitude</th>\n",
       "      <th>dropoff_latitude</th>\n",
       "      <th>store_and_fwd_flag</th>\n",
       "      <th>trip_duration</th>\n",
       "    </tr>\n",
       "  </thead>\n",
       "  <tbody>\n",
       "    <tr>\n",
       "      <th>0</th>\n",
       "      <td>2</td>\n",
       "      <td>2016-03-14 17:24:55</td>\n",
       "      <td>2016-03-14 17:32:30</td>\n",
       "      <td>2</td>\n",
       "      <td>-73.982155</td>\n",
       "      <td>40.767937</td>\n",
       "      <td>-73.964630</td>\n",
       "      <td>40.765602</td>\n",
       "      <td>N</td>\n",
       "      <td>455</td>\n",
       "    </tr>\n",
       "    <tr>\n",
       "      <th>1</th>\n",
       "      <td>1</td>\n",
       "      <td>2016-06-12 00:43:35</td>\n",
       "      <td>2016-06-12 00:54:38</td>\n",
       "      <td>1</td>\n",
       "      <td>-73.980415</td>\n",
       "      <td>40.738564</td>\n",
       "      <td>-73.999481</td>\n",
       "      <td>40.731152</td>\n",
       "      <td>N</td>\n",
       "      <td>663</td>\n",
       "    </tr>\n",
       "    <tr>\n",
       "      <th>2</th>\n",
       "      <td>2</td>\n",
       "      <td>2016-01-19 11:35:24</td>\n",
       "      <td>2016-01-19 12:10:48</td>\n",
       "      <td>2</td>\n",
       "      <td>-73.979027</td>\n",
       "      <td>40.763939</td>\n",
       "      <td>-74.005333</td>\n",
       "      <td>40.710087</td>\n",
       "      <td>N</td>\n",
       "      <td>2124</td>\n",
       "    </tr>\n",
       "    <tr>\n",
       "      <th>3</th>\n",
       "      <td>2</td>\n",
       "      <td>2016-04-06 19:32:31</td>\n",
       "      <td>2016-04-06 19:39:40</td>\n",
       "      <td>2</td>\n",
       "      <td>-74.010040</td>\n",
       "      <td>40.719971</td>\n",
       "      <td>-74.012268</td>\n",
       "      <td>40.706718</td>\n",
       "      <td>N</td>\n",
       "      <td>429</td>\n",
       "    </tr>\n",
       "    <tr>\n",
       "      <th>4</th>\n",
       "      <td>2</td>\n",
       "      <td>2016-03-26 13:30:55</td>\n",
       "      <td>2016-03-26 13:38:10</td>\n",
       "      <td>2</td>\n",
       "      <td>-73.973053</td>\n",
       "      <td>40.793209</td>\n",
       "      <td>-73.972923</td>\n",
       "      <td>40.782520</td>\n",
       "      <td>N</td>\n",
       "      <td>435</td>\n",
       "    </tr>\n",
       "    <tr>\n",
       "      <th>...</th>\n",
       "      <td>...</td>\n",
       "      <td>...</td>\n",
       "      <td>...</td>\n",
       "      <td>...</td>\n",
       "      <td>...</td>\n",
       "      <td>...</td>\n",
       "      <td>...</td>\n",
       "      <td>...</td>\n",
       "      <td>...</td>\n",
       "      <td>...</td>\n",
       "    </tr>\n",
       "    <tr>\n",
       "      <th>1458639</th>\n",
       "      <td>2</td>\n",
       "      <td>2016-04-08 13:31:04</td>\n",
       "      <td>2016-04-08 13:44:02</td>\n",
       "      <td>2</td>\n",
       "      <td>-73.982201</td>\n",
       "      <td>40.745522</td>\n",
       "      <td>-73.994911</td>\n",
       "      <td>40.740170</td>\n",
       "      <td>N</td>\n",
       "      <td>778</td>\n",
       "    </tr>\n",
       "    <tr>\n",
       "      <th>1458640</th>\n",
       "      <td>1</td>\n",
       "      <td>2016-01-10 07:35:15</td>\n",
       "      <td>2016-01-10 07:46:10</td>\n",
       "      <td>1</td>\n",
       "      <td>-74.000946</td>\n",
       "      <td>40.747379</td>\n",
       "      <td>-73.970184</td>\n",
       "      <td>40.796547</td>\n",
       "      <td>N</td>\n",
       "      <td>655</td>\n",
       "    </tr>\n",
       "    <tr>\n",
       "      <th>1458641</th>\n",
       "      <td>2</td>\n",
       "      <td>2016-04-22 06:57:41</td>\n",
       "      <td>2016-04-22 07:10:25</td>\n",
       "      <td>2</td>\n",
       "      <td>-73.959129</td>\n",
       "      <td>40.768799</td>\n",
       "      <td>-74.004433</td>\n",
       "      <td>40.707371</td>\n",
       "      <td>N</td>\n",
       "      <td>764</td>\n",
       "    </tr>\n",
       "    <tr>\n",
       "      <th>1458642</th>\n",
       "      <td>1</td>\n",
       "      <td>2016-01-05 15:56:26</td>\n",
       "      <td>2016-01-05 16:02:39</td>\n",
       "      <td>1</td>\n",
       "      <td>-73.982079</td>\n",
       "      <td>40.749062</td>\n",
       "      <td>-73.974632</td>\n",
       "      <td>40.757107</td>\n",
       "      <td>N</td>\n",
       "      <td>373</td>\n",
       "    </tr>\n",
       "    <tr>\n",
       "      <th>1458643</th>\n",
       "      <td>1</td>\n",
       "      <td>2016-04-05 14:44:25</td>\n",
       "      <td>2016-04-05 14:47:43</td>\n",
       "      <td>1</td>\n",
       "      <td>-73.979538</td>\n",
       "      <td>40.781750</td>\n",
       "      <td>-73.972809</td>\n",
       "      <td>40.790585</td>\n",
       "      <td>N</td>\n",
       "      <td>198</td>\n",
       "    </tr>\n",
       "  </tbody>\n",
       "</table>\n",
       "<p>1458644 rows × 10 columns</p>\n",
       "</div>"
      ],
      "text/plain": [
       "         vendor_id      pickup_datetime     dropoff_datetime  passenger_count  \\\n",
       "0                2  2016-03-14 17:24:55  2016-03-14 17:32:30                2   \n",
       "1                1  2016-06-12 00:43:35  2016-06-12 00:54:38                1   \n",
       "2                2  2016-01-19 11:35:24  2016-01-19 12:10:48                2   \n",
       "3                2  2016-04-06 19:32:31  2016-04-06 19:39:40                2   \n",
       "4                2  2016-03-26 13:30:55  2016-03-26 13:38:10                2   \n",
       "...            ...                  ...                  ...              ...   \n",
       "1458639          2  2016-04-08 13:31:04  2016-04-08 13:44:02                2   \n",
       "1458640          1  2016-01-10 07:35:15  2016-01-10 07:46:10                1   \n",
       "1458641          2  2016-04-22 06:57:41  2016-04-22 07:10:25                2   \n",
       "1458642          1  2016-01-05 15:56:26  2016-01-05 16:02:39                1   \n",
       "1458643          1  2016-04-05 14:44:25  2016-04-05 14:47:43                1   \n",
       "\n",
       "         pickup_longitude  pickup_latitude  dropoff_longitude  \\\n",
       "0              -73.982155        40.767937         -73.964630   \n",
       "1              -73.980415        40.738564         -73.999481   \n",
       "2              -73.979027        40.763939         -74.005333   \n",
       "3              -74.010040        40.719971         -74.012268   \n",
       "4              -73.973053        40.793209         -73.972923   \n",
       "...                   ...              ...                ...   \n",
       "1458639        -73.982201        40.745522         -73.994911   \n",
       "1458640        -74.000946        40.747379         -73.970184   \n",
       "1458641        -73.959129        40.768799         -74.004433   \n",
       "1458642        -73.982079        40.749062         -73.974632   \n",
       "1458643        -73.979538        40.781750         -73.972809   \n",
       "\n",
       "         dropoff_latitude store_and_fwd_flag  trip_duration  \n",
       "0               40.765602                  N            455  \n",
       "1               40.731152                  N            663  \n",
       "2               40.710087                  N           2124  \n",
       "3               40.706718                  N            429  \n",
       "4               40.782520                  N            435  \n",
       "...                   ...                ...            ...  \n",
       "1458639         40.740170                  N            778  \n",
       "1458640         40.796547                  N            655  \n",
       "1458641         40.707371                  N            764  \n",
       "1458642         40.757107                  N            373  \n",
       "1458643         40.790585                  N            198  \n",
       "\n",
       "[1458644 rows x 10 columns]"
      ]
     },
     "execution_count": 26,
     "metadata": {},
     "output_type": "execute_result"
    }
   ],
   "source": [
    "train_df_new"
   ]
  },
  {
   "cell_type": "markdown",
   "id": "54fa450d",
   "metadata": {
    "papermill": {
     "duration": 0.022809,
     "end_time": "2024-01-17T13:08:18.663408",
     "exception": false,
     "start_time": "2024-01-17T13:08:18.640599",
     "status": "completed"
    },
    "tags": []
   },
   "source": [
    "## vendor_id"
   ]
  },
  {
   "cell_type": "code",
   "execution_count": 27,
   "id": "5d79ff1e",
   "metadata": {
    "execution": {
     "iopub.execute_input": "2024-01-17T13:08:18.712252Z",
     "iopub.status.busy": "2024-01-17T13:08:18.710798Z",
     "iopub.status.idle": "2024-01-17T13:08:18.736029Z",
     "shell.execute_reply": "2024-01-17T13:08:18.734860Z"
    },
    "papermill": {
     "duration": 0.052155,
     "end_time": "2024-01-17T13:08:18.738772",
     "exception": false,
     "start_time": "2024-01-17T13:08:18.686617",
     "status": "completed"
    },
    "tags": []
   },
   "outputs": [
    {
     "data": {
      "text/plain": [
       "vendor_id\n",
       "1    678342\n",
       "2    780302\n",
       "Name: count, dtype: int64"
      ]
     },
     "execution_count": 27,
     "metadata": {},
     "output_type": "execute_result"
    }
   ],
   "source": [
    "# categories in the vendor id column\n",
    "\n",
    "train_df_new['vendor_id'].value_counts().sort_index()"
   ]
  },
  {
   "cell_type": "code",
   "execution_count": 28,
   "id": "50915453",
   "metadata": {
    "execution": {
     "iopub.execute_input": "2024-01-17T13:08:18.787402Z",
     "iopub.status.busy": "2024-01-17T13:08:18.786954Z",
     "iopub.status.idle": "2024-01-17T13:08:19.027430Z",
     "shell.execute_reply": "2024-01-17T13:08:19.026280Z"
    },
    "papermill": {
     "duration": 0.268171,
     "end_time": "2024-01-17T13:08:19.030583",
     "exception": false,
     "start_time": "2024-01-17T13:08:18.762412",
     "status": "completed"
    },
    "tags": []
   },
   "outputs": [
    {
     "data": {
      "image/png": "[encoded data removed]",
      "text/plain": [
       "<Figure size 1200x600 with 1 Axes>"
      ]
     },
     "metadata": {},
     "output_type": "display_data"
    }
   ],
   "source": [
    "# pie chart showing distribution\n",
    "fig = plt.figure(figsize=(12,6))\n",
    "plt.pie(train_df_new['vendor_id'].value_counts().sort_index(),autopct='%.2f%%',\n",
    "        explode=[0.2,0],shadow=True,labels=['Vendor 1','Vendor 2'],labeldistance=0.2)\n",
    "plt.title('Distribution of Rides according to vendor id')\n",
    "plt.show()"
   ]
  },
  {
   "cell_type": "markdown",
   "id": "2f4ad0d4",
   "metadata": {
    "papermill": {
     "duration": 0.023262,
     "end_time": "2024-01-17T13:08:19.090492",
     "exception": false,
     "start_time": "2024-01-17T13:08:19.067230",
     "status": "completed"
    },
    "tags": []
   },
   "source": [
    "- People are more likely to select vendor 2 for its services as compared to vendor 1."
   ]
  },
  {
   "cell_type": "markdown",
   "id": "a7717a99",
   "metadata": {
    "papermill": {
     "duration": 0.023295,
     "end_time": "2024-01-17T13:08:19.137415",
     "exception": false,
     "start_time": "2024-01-17T13:08:19.114120",
     "status": "completed"
    },
    "tags": []
   },
   "source": [
    "## pickup datetime"
   ]
  },
  {
   "cell_type": "code",
   "execution_count": 29,
   "id": "26240473",
   "metadata": {
    "execution": {
     "iopub.execute_input": "2024-01-17T13:08:19.186862Z",
     "iopub.status.busy": "2024-01-17T13:08:19.186457Z",
     "iopub.status.idle": "2024-01-17T13:08:20.076856Z",
     "shell.execute_reply": "2024-01-17T13:08:20.075535Z"
    },
    "papermill": {
     "duration": 0.918894,
     "end_time": "2024-01-17T13:08:20.079856",
     "exception": false,
     "start_time": "2024-01-17T13:08:19.160962",
     "status": "completed"
    },
    "tags": []
   },
   "outputs": [],
   "source": [
    "# change the column to datetime\n",
    "train_df_new['pickup_datetime'] = pd.to_datetime(train_df_new['pickup_datetime'])\n",
    "test_df_new['pickup_datetime'] = pd.to_datetime(test_df_new['pickup_datetime'])"
   ]
  },
  {
   "cell_type": "code",
   "execution_count": 30,
   "id": "ba7466f0",
   "metadata": {
    "execution": {
     "iopub.execute_input": "2024-01-17T13:08:20.129591Z",
     "iopub.status.busy": "2024-01-17T13:08:20.128831Z",
     "iopub.status.idle": "2024-01-17T13:08:20.136713Z",
     "shell.execute_reply": "2024-01-17T13:08:20.135526Z"
    },
    "papermill": {
     "duration": 0.035526,
     "end_time": "2024-01-17T13:08:20.139157",
     "exception": false,
     "start_time": "2024-01-17T13:08:20.103631",
     "status": "completed"
    },
    "tags": []
   },
   "outputs": [
    {
     "data": {
      "text/plain": [
       "(1458644, 10)"
      ]
     },
     "execution_count": 30,
     "metadata": {},
     "output_type": "execute_result"
    }
   ],
   "source": [
    "train_df_new.shape"
   ]
  },
  {
   "cell_type": "code",
   "execution_count": 31,
   "id": "4d6c8aa7",
   "metadata": {
    "execution": {
     "iopub.execute_input": "2024-01-17T13:08:20.192461Z",
     "iopub.status.busy": "2024-01-17T13:08:20.191786Z",
     "iopub.status.idle": "2024-01-17T13:08:20.367028Z",
     "shell.execute_reply": "2024-01-17T13:08:20.366158Z"
    },
    "papermill": {
     "duration": 0.205908,
     "end_time": "2024-01-17T13:08:20.369570",
     "exception": false,
     "start_time": "2024-01-17T13:08:20.163662",
     "status": "completed"
    },
    "tags": []
   },
   "outputs": [
    {
     "data": {
      "text/plain": [
       "0          0\n",
       "1          6\n",
       "2          1\n",
       "3          2\n",
       "4          5\n",
       "          ..\n",
       "1458639    4\n",
       "1458640    6\n",
       "1458641    4\n",
       "1458642    1\n",
       "1458643    1\n",
       "Name: pickup_datetime, Length: 1458644, dtype: int32"
      ]
     },
     "execution_count": 31,
     "metadata": {},
     "output_type": "execute_result"
    }
   ],
   "source": [
    "train_df_new['pickup_datetime'].dt.weekday"
   ]
  },
  {
   "cell_type": "code",
   "execution_count": 32,
   "id": "925f5733",
   "metadata": {
    "execution": {
     "iopub.execute_input": "2024-01-17T13:08:20.421555Z",
     "iopub.status.busy": "2024-01-17T13:08:20.420798Z",
     "iopub.status.idle": "2024-01-17T13:08:20.427911Z",
     "shell.execute_reply": "2024-01-17T13:08:20.427036Z"
    },
    "papermill": {
     "duration": 0.036471,
     "end_time": "2024-01-17T13:08:20.430547",
     "exception": false,
     "start_time": "2024-01-17T13:08:20.394076",
     "status": "completed"
    },
    "tags": []
   },
   "outputs": [],
   "source": [
    "# feature extraction\n",
    "\n",
    "def make_datetime_features(data,column_type):\n",
    "    data[f'{column_type}_hour'] = data[f'{column_type}_datetime'].dt.hour \n",
    "    data[f'{column_type}_date'] = data[f'{column_type}_datetime'].dt.day\n",
    "    data[f'{column_type}_month'] = data[f'{column_type}_datetime'].dt.month\n",
    "    data[f'{column_type}_day'] = data[f'{column_type}_datetime'].dt.weekday\n",
    "    data[f'is_weekend'] = data.apply(lambda row: row[f'{column_type}_day'] >= 5,axis=1).astype('int')\n",
    "    return data"
   ]
  },
  {
   "cell_type": "code",
   "execution_count": 33,
   "id": "a087cbcd",
   "metadata": {
    "execution": {
     "iopub.execute_input": "2024-01-17T13:08:20.482516Z",
     "iopub.status.busy": "2024-01-17T13:08:20.482060Z",
     "iopub.status.idle": "2024-01-17T13:08:50.340820Z",
     "shell.execute_reply": "2024-01-17T13:08:50.339517Z"
    },
    "papermill": {
     "duration": 29.888753,
     "end_time": "2024-01-17T13:08:50.343663",
     "exception": false,
     "start_time": "2024-01-17T13:08:20.454910",
     "status": "completed"
    },
    "tags": []
   },
   "outputs": [
    {
     "data": {
      "text/html": [
       "<div>\n",
       "<style scoped>\n",
       "    .dataframe tbody tr th:only-of-type {\n",
       "        vertical-align: middle;\n",
       "    }\n",
       "\n",
       "    .dataframe tbody tr th {\n",
       "        vertical-align: top;\n",
       "    }\n",
       "\n",
       "    .dataframe thead th {\n",
       "        text-align: right;\n",
       "    }\n",
       "</style>\n",
       "<table border=\"1\" class=\"dataframe\">\n",
       "  <thead>\n",
       "    <tr style=\"text-align: right;\">\n",
       "      <th></th>\n",
       "      <th>vendor_id</th>\n",
       "      <th>pickup_datetime</th>\n",
       "      <th>passenger_count</th>\n",
       "      <th>pickup_longitude</th>\n",
       "      <th>pickup_latitude</th>\n",
       "      <th>dropoff_longitude</th>\n",
       "      <th>dropoff_latitude</th>\n",
       "      <th>store_and_fwd_flag</th>\n",
       "      <th>pickup_hour</th>\n",
       "      <th>pickup_date</th>\n",
       "      <th>pickup_month</th>\n",
       "      <th>pickup_day</th>\n",
       "      <th>is_weekend</th>\n",
       "    </tr>\n",
       "  </thead>\n",
       "  <tbody>\n",
       "    <tr>\n",
       "      <th>0</th>\n",
       "      <td>1</td>\n",
       "      <td>2016-06-30 23:59:58</td>\n",
       "      <td>1</td>\n",
       "      <td>-73.988129</td>\n",
       "      <td>40.732029</td>\n",
       "      <td>-73.990173</td>\n",
       "      <td>40.756680</td>\n",
       "      <td>N</td>\n",
       "      <td>23</td>\n",
       "      <td>30</td>\n",
       "      <td>6</td>\n",
       "      <td>3</td>\n",
       "      <td>0</td>\n",
       "    </tr>\n",
       "    <tr>\n",
       "      <th>1</th>\n",
       "      <td>1</td>\n",
       "      <td>2016-06-30 23:59:53</td>\n",
       "      <td>1</td>\n",
       "      <td>-73.964203</td>\n",
       "      <td>40.679993</td>\n",
       "      <td>-73.959808</td>\n",
       "      <td>40.655403</td>\n",
       "      <td>N</td>\n",
       "      <td>23</td>\n",
       "      <td>30</td>\n",
       "      <td>6</td>\n",
       "      <td>3</td>\n",
       "      <td>0</td>\n",
       "    </tr>\n",
       "    <tr>\n",
       "      <th>2</th>\n",
       "      <td>1</td>\n",
       "      <td>2016-06-30 23:59:47</td>\n",
       "      <td>1</td>\n",
       "      <td>-73.997437</td>\n",
       "      <td>40.737583</td>\n",
       "      <td>-73.986160</td>\n",
       "      <td>40.729523</td>\n",
       "      <td>N</td>\n",
       "      <td>23</td>\n",
       "      <td>30</td>\n",
       "      <td>6</td>\n",
       "      <td>3</td>\n",
       "      <td>0</td>\n",
       "    </tr>\n",
       "    <tr>\n",
       "      <th>3</th>\n",
       "      <td>2</td>\n",
       "      <td>2016-06-30 23:59:41</td>\n",
       "      <td>1</td>\n",
       "      <td>-73.956070</td>\n",
       "      <td>40.771900</td>\n",
       "      <td>-73.986427</td>\n",
       "      <td>40.730469</td>\n",
       "      <td>N</td>\n",
       "      <td>23</td>\n",
       "      <td>30</td>\n",
       "      <td>6</td>\n",
       "      <td>3</td>\n",
       "      <td>0</td>\n",
       "    </tr>\n",
       "    <tr>\n",
       "      <th>4</th>\n",
       "      <td>1</td>\n",
       "      <td>2016-06-30 23:59:33</td>\n",
       "      <td>1</td>\n",
       "      <td>-73.970215</td>\n",
       "      <td>40.761475</td>\n",
       "      <td>-73.961510</td>\n",
       "      <td>40.755890</td>\n",
       "      <td>N</td>\n",
       "      <td>23</td>\n",
       "      <td>30</td>\n",
       "      <td>6</td>\n",
       "      <td>3</td>\n",
       "      <td>0</td>\n",
       "    </tr>\n",
       "    <tr>\n",
       "      <th>...</th>\n",
       "      <td>...</td>\n",
       "      <td>...</td>\n",
       "      <td>...</td>\n",
       "      <td>...</td>\n",
       "      <td>...</td>\n",
       "      <td>...</td>\n",
       "      <td>...</td>\n",
       "      <td>...</td>\n",
       "      <td>...</td>\n",
       "      <td>...</td>\n",
       "      <td>...</td>\n",
       "      <td>...</td>\n",
       "      <td>...</td>\n",
       "    </tr>\n",
       "    <tr>\n",
       "      <th>625129</th>\n",
       "      <td>1</td>\n",
       "      <td>2016-01-01 00:02:52</td>\n",
       "      <td>1</td>\n",
       "      <td>-74.003464</td>\n",
       "      <td>40.725105</td>\n",
       "      <td>-74.001251</td>\n",
       "      <td>40.733643</td>\n",
       "      <td>N</td>\n",
       "      <td>0</td>\n",
       "      <td>1</td>\n",
       "      <td>1</td>\n",
       "      <td>4</td>\n",
       "      <td>0</td>\n",
       "    </tr>\n",
       "    <tr>\n",
       "      <th>625130</th>\n",
       "      <td>1</td>\n",
       "      <td>2016-01-01 00:01:52</td>\n",
       "      <td>1</td>\n",
       "      <td>-74.006363</td>\n",
       "      <td>40.743782</td>\n",
       "      <td>-73.953407</td>\n",
       "      <td>40.782467</td>\n",
       "      <td>N</td>\n",
       "      <td>0</td>\n",
       "      <td>1</td>\n",
       "      <td>1</td>\n",
       "      <td>4</td>\n",
       "      <td>0</td>\n",
       "    </tr>\n",
       "    <tr>\n",
       "      <th>625131</th>\n",
       "      <td>1</td>\n",
       "      <td>2016-01-01 00:01:24</td>\n",
       "      <td>2</td>\n",
       "      <td>-73.972267</td>\n",
       "      <td>40.759865</td>\n",
       "      <td>-73.876602</td>\n",
       "      <td>40.748665</td>\n",
       "      <td>N</td>\n",
       "      <td>0</td>\n",
       "      <td>1</td>\n",
       "      <td>1</td>\n",
       "      <td>4</td>\n",
       "      <td>0</td>\n",
       "    </tr>\n",
       "    <tr>\n",
       "      <th>625132</th>\n",
       "      <td>1</td>\n",
       "      <td>2016-01-01 00:00:28</td>\n",
       "      <td>1</td>\n",
       "      <td>-73.976501</td>\n",
       "      <td>40.733562</td>\n",
       "      <td>-73.854263</td>\n",
       "      <td>40.891788</td>\n",
       "      <td>N</td>\n",
       "      <td>0</td>\n",
       "      <td>1</td>\n",
       "      <td>1</td>\n",
       "      <td>4</td>\n",
       "      <td>0</td>\n",
       "    </tr>\n",
       "    <tr>\n",
       "      <th>625133</th>\n",
       "      <td>2</td>\n",
       "      <td>2016-01-01 00:00:22</td>\n",
       "      <td>2</td>\n",
       "      <td>-73.981850</td>\n",
       "      <td>40.716881</td>\n",
       "      <td>-73.969330</td>\n",
       "      <td>40.769379</td>\n",
       "      <td>N</td>\n",
       "      <td>0</td>\n",
       "      <td>1</td>\n",
       "      <td>1</td>\n",
       "      <td>4</td>\n",
       "      <td>0</td>\n",
       "    </tr>\n",
       "  </tbody>\n",
       "</table>\n",
       "<p>625134 rows × 13 columns</p>\n",
       "</div>"
      ],
      "text/plain": [
       "        vendor_id     pickup_datetime  passenger_count  pickup_longitude  \\\n",
       "0               1 2016-06-30 23:59:58                1        -73.988129   \n",
       "1               1 2016-06-30 23:59:53                1        -73.964203   \n",
       "2               1 2016-06-30 23:59:47                1        -73.997437   \n",
       "3               2 2016-06-30 23:59:41                1        -73.956070   \n",
       "4               1 2016-06-30 23:59:33                1        -73.970215   \n",
       "...           ...                 ...              ...               ...   \n",
       "625129          1 2016-01-01 00:02:52                1        -74.003464   \n",
       "625130          1 2016-01-01 00:01:52                1        -74.006363   \n",
       "625131          1 2016-01-01 00:01:24                2        -73.972267   \n",
       "625132          1 2016-01-01 00:00:28                1        -73.976501   \n",
       "625133          2 2016-01-01 00:00:22                2        -73.981850   \n",
       "\n",
       "        pickup_latitude  dropoff_longitude  dropoff_latitude  \\\n",
       "0             40.732029         -73.990173         40.756680   \n",
       "1             40.679993         -73.959808         40.655403   \n",
       "2             40.737583         -73.986160         40.729523   \n",
       "3             40.771900         -73.986427         40.730469   \n",
       "4             40.761475         -73.961510         40.755890   \n",
       "...                 ...                ...               ...   \n",
       "625129        40.725105         -74.001251         40.733643   \n",
       "625130        40.743782         -73.953407         40.782467   \n",
       "625131        40.759865         -73.876602         40.748665   \n",
       "625132        40.733562         -73.854263         40.891788   \n",
       "625133        40.716881         -73.969330         40.769379   \n",
       "\n",
       "       store_and_fwd_flag  pickup_hour  pickup_date  pickup_month  pickup_day  \\\n",
       "0                       N           23           30             6           3   \n",
       "1                       N           23           30             6           3   \n",
       "2                       N           23           30             6           3   \n",
       "3                       N           23           30             6           3   \n",
       "4                       N           23           30             6           3   \n",
       "...                   ...          ...          ...           ...         ...   \n",
       "625129                  N            0            1             1           4   \n",
       "625130                  N            0            1             1           4   \n",
       "625131                  N            0            1             1           4   \n",
       "625132                  N            0            1             1           4   \n",
       "625133                  N            0            1             1           4   \n",
       "\n",
       "        is_weekend  \n",
       "0                0  \n",
       "1                0  \n",
       "2                0  \n",
       "3                0  \n",
       "4                0  \n",
       "...            ...  \n",
       "625129           0  \n",
       "625130           0  \n",
       "625131           0  \n",
       "625132           0  \n",
       "625133           0  \n",
       "\n",
       "[625134 rows x 13 columns]"
      ]
     },
     "execution_count": 33,
     "metadata": {},
     "output_type": "execute_result"
    }
   ],
   "source": [
    "# datetime features for pickup column in train data \n",
    "make_datetime_features(train_df_new,'pickup')\n",
    "# datetime features for pickup column in test data\n",
    "make_datetime_features(test_df_new,'pickup')"
   ]
  },
  {
   "cell_type": "code",
   "execution_count": 34,
   "id": "16dd7699",
   "metadata": {
    "execution": {
     "iopub.execute_input": "2024-01-17T13:08:50.396429Z",
     "iopub.status.busy": "2024-01-17T13:08:50.395417Z",
     "iopub.status.idle": "2024-01-17T13:08:50.401735Z",
     "shell.execute_reply": "2024-01-17T13:08:50.400894Z"
    },
    "papermill": {
     "duration": 0.034903,
     "end_time": "2024-01-17T13:08:50.404021",
     "exception": false,
     "start_time": "2024-01-17T13:08:50.369118",
     "status": "completed"
    },
    "tags": []
   },
   "outputs": [
    {
     "data": {
      "text/plain": [
       "(1458644, 15)"
      ]
     },
     "execution_count": 34,
     "metadata": {},
     "output_type": "execute_result"
    }
   ],
   "source": [
    "train_df_new.shape"
   ]
  },
  {
   "cell_type": "code",
   "execution_count": 35,
   "id": "e7d03820",
   "metadata": {
    "execution": {
     "iopub.execute_input": "2024-01-17T13:08:50.456022Z",
     "iopub.status.busy": "2024-01-17T13:08:50.455211Z",
     "iopub.status.idle": "2024-01-17T13:08:50.474075Z",
     "shell.execute_reply": "2024-01-17T13:08:50.472889Z"
    },
    "papermill": {
     "duration": 0.047872,
     "end_time": "2024-01-17T13:08:50.476684",
     "exception": false,
     "start_time": "2024-01-17T13:08:50.428812",
     "status": "completed"
    },
    "tags": []
   },
   "outputs": [
    {
     "data": {
      "text/html": [
       "<div>\n",
       "<style scoped>\n",
       "    .dataframe tbody tr th:only-of-type {\n",
       "        vertical-align: middle;\n",
       "    }\n",
       "\n",
       "    .dataframe tbody tr th {\n",
       "        vertical-align: top;\n",
       "    }\n",
       "\n",
       "    .dataframe thead th {\n",
       "        text-align: right;\n",
       "    }\n",
       "</style>\n",
       "<table border=\"1\" class=\"dataframe\">\n",
       "  <thead>\n",
       "    <tr style=\"text-align: right;\">\n",
       "      <th></th>\n",
       "      <th>vendor_id</th>\n",
       "      <th>pickup_datetime</th>\n",
       "      <th>dropoff_datetime</th>\n",
       "      <th>passenger_count</th>\n",
       "      <th>pickup_longitude</th>\n",
       "      <th>pickup_latitude</th>\n",
       "      <th>dropoff_longitude</th>\n",
       "      <th>dropoff_latitude</th>\n",
       "      <th>store_and_fwd_flag</th>\n",
       "      <th>trip_duration</th>\n",
       "      <th>pickup_hour</th>\n",
       "      <th>pickup_date</th>\n",
       "      <th>pickup_month</th>\n",
       "      <th>pickup_day</th>\n",
       "      <th>is_weekend</th>\n",
       "    </tr>\n",
       "  </thead>\n",
       "  <tbody>\n",
       "    <tr>\n",
       "      <th>0</th>\n",
       "      <td>2</td>\n",
       "      <td>2016-03-14 17:24:55</td>\n",
       "      <td>2016-03-14 17:32:30</td>\n",
       "      <td>2</td>\n",
       "      <td>-73.982155</td>\n",
       "      <td>40.767937</td>\n",
       "      <td>-73.964630</td>\n",
       "      <td>40.765602</td>\n",
       "      <td>N</td>\n",
       "      <td>455</td>\n",
       "      <td>17</td>\n",
       "      <td>14</td>\n",
       "      <td>3</td>\n",
       "      <td>0</td>\n",
       "      <td>0</td>\n",
       "    </tr>\n",
       "    <tr>\n",
       "      <th>1</th>\n",
       "      <td>1</td>\n",
       "      <td>2016-06-12 00:43:35</td>\n",
       "      <td>2016-06-12 00:54:38</td>\n",
       "      <td>1</td>\n",
       "      <td>-73.980415</td>\n",
       "      <td>40.738564</td>\n",
       "      <td>-73.999481</td>\n",
       "      <td>40.731152</td>\n",
       "      <td>N</td>\n",
       "      <td>663</td>\n",
       "      <td>0</td>\n",
       "      <td>12</td>\n",
       "      <td>6</td>\n",
       "      <td>6</td>\n",
       "      <td>1</td>\n",
       "    </tr>\n",
       "    <tr>\n",
       "      <th>2</th>\n",
       "      <td>2</td>\n",
       "      <td>2016-01-19 11:35:24</td>\n",
       "      <td>2016-01-19 12:10:48</td>\n",
       "      <td>2</td>\n",
       "      <td>-73.979027</td>\n",
       "      <td>40.763939</td>\n",
       "      <td>-74.005333</td>\n",
       "      <td>40.710087</td>\n",
       "      <td>N</td>\n",
       "      <td>2124</td>\n",
       "      <td>11</td>\n",
       "      <td>19</td>\n",
       "      <td>1</td>\n",
       "      <td>1</td>\n",
       "      <td>0</td>\n",
       "    </tr>\n",
       "    <tr>\n",
       "      <th>3</th>\n",
       "      <td>2</td>\n",
       "      <td>2016-04-06 19:32:31</td>\n",
       "      <td>2016-04-06 19:39:40</td>\n",
       "      <td>2</td>\n",
       "      <td>-74.010040</td>\n",
       "      <td>40.719971</td>\n",
       "      <td>-74.012268</td>\n",
       "      <td>40.706718</td>\n",
       "      <td>N</td>\n",
       "      <td>429</td>\n",
       "      <td>19</td>\n",
       "      <td>6</td>\n",
       "      <td>4</td>\n",
       "      <td>2</td>\n",
       "      <td>0</td>\n",
       "    </tr>\n",
       "    <tr>\n",
       "      <th>4</th>\n",
       "      <td>2</td>\n",
       "      <td>2016-03-26 13:30:55</td>\n",
       "      <td>2016-03-26 13:38:10</td>\n",
       "      <td>2</td>\n",
       "      <td>-73.973053</td>\n",
       "      <td>40.793209</td>\n",
       "      <td>-73.972923</td>\n",
       "      <td>40.782520</td>\n",
       "      <td>N</td>\n",
       "      <td>435</td>\n",
       "      <td>13</td>\n",
       "      <td>26</td>\n",
       "      <td>3</td>\n",
       "      <td>5</td>\n",
       "      <td>1</td>\n",
       "    </tr>\n",
       "  </tbody>\n",
       "</table>\n",
       "</div>"
      ],
      "text/plain": [
       "   vendor_id     pickup_datetime     dropoff_datetime  passenger_count  \\\n",
       "0          2 2016-03-14 17:24:55  2016-03-14 17:32:30                2   \n",
       "1          1 2016-06-12 00:43:35  2016-06-12 00:54:38                1   \n",
       "2          2 2016-01-19 11:35:24  2016-01-19 12:10:48                2   \n",
       "3          2 2016-04-06 19:32:31  2016-04-06 19:39:40                2   \n",
       "4          2 2016-03-26 13:30:55  2016-03-26 13:38:10                2   \n",
       "\n",
       "   pickup_longitude  pickup_latitude  dropoff_longitude  dropoff_latitude  \\\n",
       "0        -73.982155        40.767937         -73.964630         40.765602   \n",
       "1        -73.980415        40.738564         -73.999481         40.731152   \n",
       "2        -73.979027        40.763939         -74.005333         40.710087   \n",
       "3        -74.010040        40.719971         -74.012268         40.706718   \n",
       "4        -73.973053        40.793209         -73.972923         40.782520   \n",
       "\n",
       "  store_and_fwd_flag  trip_duration  pickup_hour  pickup_date  pickup_month  \\\n",
       "0                  N            455           17           14             3   \n",
       "1                  N            663            0           12             6   \n",
       "2                  N           2124           11           19             1   \n",
       "3                  N            429           19            6             4   \n",
       "4                  N            435           13           26             3   \n",
       "\n",
       "   pickup_day  is_weekend  \n",
       "0           0           0  \n",
       "1           6           1  \n",
       "2           1           0  \n",
       "3           2           0  \n",
       "4           5           1  "
      ]
     },
     "execution_count": 35,
     "metadata": {},
     "output_type": "execute_result"
    }
   ],
   "source": [
    "train_df_new.head()"
   ]
  },
  {
   "cell_type": "code",
   "execution_count": 36,
   "id": "7f19db4b",
   "metadata": {
    "execution": {
     "iopub.execute_input": "2024-01-17T13:08:50.529041Z",
     "iopub.status.busy": "2024-01-17T13:08:50.528582Z",
     "iopub.status.idle": "2024-01-17T13:09:26.179050Z",
     "shell.execute_reply": "2024-01-17T13:09:26.178130Z"
    },
    "papermill": {
     "duration": 35.679775,
     "end_time": "2024-01-17T13:09:26.181688",
     "exception": false,
     "start_time": "2024-01-17T13:08:50.501913",
     "status": "completed"
    },
    "tags": []
   },
   "outputs": [],
   "source": [
    "# save the data \n",
    "# make the directory as datetime\n",
    "save_path = Path('/kaggle/working/') / 'datetime'\n",
    "save_path.mkdir(parents=True,exist_ok=True)\n",
    "\n",
    "# save the train file\n",
    "train_df_new.to_csv(save_path / 'train.csv')\n",
    "\n",
    "# save the test file\n",
    "test_df_new.to_csv(save_path / 'test.csv')"
   ]
  },
  {
   "cell_type": "markdown",
   "id": "1bf38921",
   "metadata": {
    "papermill": {
     "duration": 0.024793,
     "end_time": "2024-01-17T13:09:26.231897",
     "exception": false,
     "start_time": "2024-01-17T13:09:26.207104",
     "status": "completed"
    },
    "tags": []
   },
   "source": [
    "## EDA on the Datetime Columns"
   ]
  },
  {
   "cell_type": "code",
   "execution_count": 37,
   "id": "4f202533",
   "metadata": {
    "execution": {
     "iopub.execute_input": "2024-01-17T13:09:26.285270Z",
     "iopub.status.busy": "2024-01-17T13:09:26.284243Z",
     "iopub.status.idle": "2024-01-17T13:09:26.301309Z",
     "shell.execute_reply": "2024-01-17T13:09:26.300018Z"
    },
    "papermill": {
     "duration": 0.046839,
     "end_time": "2024-01-17T13:09:26.304114",
     "exception": false,
     "start_time": "2024-01-17T13:09:26.257275",
     "status": "completed"
    },
    "tags": []
   },
   "outputs": [
    {
     "data": {
      "text/plain": [
       "Timedelta('181 days 23:59:22')"
      ]
     },
     "execution_count": 37,
     "metadata": {},
     "output_type": "execute_result"
    }
   ],
   "source": [
    "# time range for the train data\n",
    "\n",
    "train_df_new['pickup_datetime'].max() - train_df_new['pickup_datetime'].min() "
   ]
  },
  {
   "cell_type": "markdown",
   "id": "dc695954",
   "metadata": {
    "papermill": {
     "duration": 0.024991,
     "end_time": "2024-01-17T13:09:26.354746",
     "exception": false,
     "start_time": "2024-01-17T13:09:26.329755",
     "status": "completed"
    },
    "tags": []
   },
   "source": [
    "**The time range shows that we have the data for 6 months**"
   ]
  },
  {
   "cell_type": "code",
   "execution_count": 38,
   "id": "5ed8ecc1",
   "metadata": {
    "execution": {
     "iopub.execute_input": "2024-01-17T13:09:26.407913Z",
     "iopub.status.busy": "2024-01-17T13:09:26.407484Z",
     "iopub.status.idle": "2024-01-17T13:09:26.422559Z",
     "shell.execute_reply": "2024-01-17T13:09:26.421408Z"
    },
    "papermill": {
     "duration": 0.044648,
     "end_time": "2024-01-17T13:09:26.425377",
     "exception": false,
     "start_time": "2024-01-17T13:09:26.380729",
     "status": "completed"
    },
    "tags": []
   },
   "outputs": [
    {
     "data": {
      "text/plain": [
       "Timedelta('181 days 23:59:22')"
      ]
     },
     "execution_count": 38,
     "metadata": {},
     "output_type": "execute_result"
    }
   ],
   "source": [
    "# time range for the test data\n",
    "\n",
    "train_df_new['pickup_datetime'].max() - train_df_new['pickup_datetime'].min() "
   ]
  },
  {
   "cell_type": "code",
   "execution_count": 39,
   "id": "122485d5",
   "metadata": {
    "execution": {
     "iopub.execute_input": "2024-01-17T13:09:26.481342Z",
     "iopub.status.busy": "2024-01-17T13:09:26.480917Z",
     "iopub.status.idle": "2024-01-17T13:09:26.505276Z",
     "shell.execute_reply": "2024-01-17T13:09:26.503950Z"
    },
    "papermill": {
     "duration": 0.054843,
     "end_time": "2024-01-17T13:09:26.508083",
     "exception": false,
     "start_time": "2024-01-17T13:09:26.453240",
     "status": "completed"
    },
    "tags": []
   },
   "outputs": [
    {
     "data": {
      "text/html": [
       "<div>\n",
       "<style scoped>\n",
       "    .dataframe tbody tr th:only-of-type {\n",
       "        vertical-align: middle;\n",
       "    }\n",
       "\n",
       "    .dataframe tbody tr th {\n",
       "        vertical-align: top;\n",
       "    }\n",
       "\n",
       "    .dataframe thead th {\n",
       "        text-align: right;\n",
       "    }\n",
       "</style>\n",
       "<table border=\"1\" class=\"dataframe\">\n",
       "  <thead>\n",
       "    <tr style=\"text-align: right;\">\n",
       "      <th></th>\n",
       "      <th>train</th>\n",
       "      <th>test</th>\n",
       "    </tr>\n",
       "  </thead>\n",
       "  <tbody>\n",
       "    <tr>\n",
       "      <th>Opening_date</th>\n",
       "      <td>2016-01-01 00:00:17</td>\n",
       "      <td>2016-01-01 00:00:22</td>\n",
       "    </tr>\n",
       "    <tr>\n",
       "      <th>Closing_date</th>\n",
       "      <td>2016-06-30 23:59:39</td>\n",
       "      <td>2016-06-30 23:59:58</td>\n",
       "    </tr>\n",
       "  </tbody>\n",
       "</table>\n",
       "</div>"
      ],
      "text/plain": [
       "                           train                test\n",
       "Opening_date 2016-01-01 00:00:17 2016-01-01 00:00:22\n",
       "Closing_date 2016-06-30 23:59:39 2016-06-30 23:59:58"
      ]
     },
     "execution_count": 39,
     "metadata": {},
     "output_type": "execute_result"
    }
   ],
   "source": [
    "# time range for the train and test data\n",
    "\n",
    "data_temp = {'Opening_date':[train_df_new['pickup_datetime'].min(),test_df_new['pickup_datetime'].min()],\n",
    "            'Closing_date':[train_df_new['pickup_datetime'].max(),test_df_new['pickup_datetime'].max()]}\n",
    "\n",
    "pd.DataFrame(data=data_temp,index=['train','test']).T"
   ]
  },
  {
   "cell_type": "markdown",
   "id": "0842f2ae",
   "metadata": {
    "papermill": {
     "duration": 0.025973,
     "end_time": "2024-01-17T13:09:26.561605",
     "exception": false,
     "start_time": "2024-01-17T13:09:26.535632",
     "status": "completed"
    },
    "tags": []
   },
   "source": [
    "This shows that both the train and the test data have ranges from the same dates i.e. from **(Jan 1st, 2016)** till **(June 30th, 2016)**."
   ]
  },
  {
   "cell_type": "code",
   "execution_count": 40,
   "id": "014199ab",
   "metadata": {
    "execution": {
     "iopub.execute_input": "2024-01-17T13:09:26.614719Z",
     "iopub.status.busy": "2024-01-17T13:09:26.614319Z",
     "iopub.status.idle": "2024-01-17T13:09:27.623417Z",
     "shell.execute_reply": "2024-01-17T13:09:27.622258Z"
    },
    "papermill": {
     "duration": 1.038736,
     "end_time": "2024-01-17T13:09:27.625972",
     "exception": false,
     "start_time": "2024-01-17T13:09:26.587236",
     "status": "completed"
    },
    "tags": []
   },
   "outputs": [
    {
     "data": {
      "text/plain": [
       "pickup_datetime\n",
       "2016-01-01    7162\n",
       "2016-01-02    6512\n",
       "2016-01-03    6353\n",
       "2016-01-04    6725\n",
       "2016-01-05    7204\n",
       "              ... \n",
       "2016-06-26    7084\n",
       "2016-06-27    7311\n",
       "2016-06-28    7253\n",
       "2016-06-29    7623\n",
       "2016-06-30    7588\n",
       "Name: count, Length: 182, dtype: int64"
      ]
     },
     "execution_count": 40,
     "metadata": {},
     "output_type": "execute_result"
    }
   ],
   "source": [
    "# total pickups each day\n",
    "\n",
    "train_df_new['pickup_datetime'].dt.date \\\n",
    ".value_counts() \\\n",
    ".sort_index()"
   ]
  },
  {
   "cell_type": "markdown",
   "id": "a025c112",
   "metadata": {
    "papermill": {
     "duration": 0.025456,
     "end_time": "2024-01-17T13:09:27.677194",
     "exception": false,
     "start_time": "2024-01-17T13:09:27.651738",
     "status": "completed"
    },
    "tags": []
   },
   "source": [
    "**Idea behind this code**:\n",
    "\n",
    "\n",
    "I needed to find out the pickup pattern of passengers on a particular date in line plots for both the train and test data.   \n",
    "To do this:  \n",
    "1. Calculated the value counts(count of rows) for each date, which will give me the total no. of pickups in the data for that particular date.\n",
    "2. Then I sorted the index to reorder the data in correct chronological order."
   ]
  },
  {
   "cell_type": "code",
   "execution_count": 41,
   "id": "091c87e2",
   "metadata": {
    "execution": {
     "iopub.execute_input": "2024-01-17T13:09:27.730763Z",
     "iopub.status.busy": "2024-01-17T13:09:27.730318Z",
     "iopub.status.idle": "2024-01-17T13:09:29.455310Z",
     "shell.execute_reply": "2024-01-17T13:09:29.453916Z"
    },
    "papermill": {
     "duration": 1.754913,
     "end_time": "2024-01-17T13:09:29.457880",
     "exception": false,
     "start_time": "2024-01-17T13:09:27.702967",
     "status": "completed"
    },
    "tags": []
   },
   "outputs": [
    {
     "data": {
      "image/png": "[encoded data removed]",
      "text/plain": [
       "<Figure size 640x480 with 1 Axes>"
      ]
     },
     "metadata": {},
     "output_type": "display_data"
    }
   ],
   "source": [
    "# pickup patterns for train and test data\n",
    "\n",
    "plt.plot(train_df_new['pickup_datetime'].dt.date.value_counts().sort_index(),color='green',label='train')\n",
    "plt.plot(test_df_new['pickup_datetime'].dt.date.value_counts().sort_index(),color='red',label='test')\n",
    "plt.legend()\n",
    "plt.show()"
   ]
  },
  {
   "cell_type": "markdown",
   "id": "fd007bba",
   "metadata": {
    "papermill": {
     "duration": 0.026844,
     "end_time": "2024-01-17T13:09:29.512893",
     "exception": false,
     "start_time": "2024-01-17T13:09:29.486049",
     "status": "completed"
    },
    "tags": []
   },
   "source": []
  },
  {
   "cell_type": "code",
   "execution_count": 42,
   "id": "c4af9964",
   "metadata": {
    "execution": {
     "iopub.execute_input": "2024-01-17T13:09:29.569347Z",
     "iopub.status.busy": "2024-01-17T13:09:29.568878Z",
     "iopub.status.idle": "2024-01-17T13:09:31.286688Z",
     "shell.execute_reply": "2024-01-17T13:09:31.285267Z"
    },
    "papermill": {
     "duration": 1.749738,
     "end_time": "2024-01-17T13:09:31.289587",
     "exception": false,
     "start_time": "2024-01-17T13:09:29.539849",
     "status": "completed"
    },
    "tags": []
   },
   "outputs": [
    {
     "data": {
      "image/png": "[encoded data removed]",
      "text/plain": [
       "<Figure size 640x480 with 1 Axes>"
      ]
     },
     "metadata": {},
     "output_type": "display_data"
    }
   ],
   "source": [
    "# pickup patterns for train and test data (results normalized)\n",
    "\n",
    "plt.plot(train_df_new['pickup_datetime'].dt.date.value_counts(normalize=True).sort_index(),color='green',alpha=0.7,label='train')\n",
    "plt.plot(test_df_new['pickup_datetime'].dt.date.value_counts(normalize=True).sort_index(),color='red',label='test')\n",
    "plt.legend()\n",
    "plt.show()"
   ]
  },
  {
   "cell_type": "markdown",
   "id": "c86c9195",
   "metadata": {
    "papermill": {
     "duration": 0.02768,
     "end_time": "2024-01-17T13:09:31.345656",
     "exception": false,
     "start_time": "2024-01-17T13:09:31.317976",
     "status": "completed"
    },
    "tags": []
   },
   "source": [
    "This graph clearly indicates that the pickup patterns for the train and test data are almost similar."
   ]
  },
  {
   "cell_type": "code",
   "execution_count": 43,
   "id": "733db1f9",
   "metadata": {
    "execution": {
     "iopub.execute_input": "2024-01-17T13:09:31.404445Z",
     "iopub.status.busy": "2024-01-17T13:09:31.403982Z",
     "iopub.status.idle": "2024-01-17T13:09:31.701925Z",
     "shell.execute_reply": "2024-01-17T13:09:31.700999Z"
    },
    "papermill": {
     "duration": 0.333724,
     "end_time": "2024-01-17T13:09:31.707314",
     "exception": false,
     "start_time": "2024-01-17T13:09:31.373590",
     "status": "completed"
    },
    "tags": []
   },
   "outputs": [
    {
     "data": {
      "image/png": "[encoded data removed]",
      "text/plain": [
       "<Figure size 640x480 with 1 Axes>"
      ]
     },
     "metadata": {},
     "output_type": "display_data"
    }
   ],
   "source": [
    "# count of total pickups each month\n",
    "\n",
    "sns.countplot(data=train_df_new,x='pickup_month')\n",
    "plt.show()"
   ]
  },
  {
   "cell_type": "code",
   "execution_count": 44,
   "id": "910c87dd",
   "metadata": {
    "execution": {
     "iopub.execute_input": "2024-01-17T13:09:31.766481Z",
     "iopub.status.busy": "2024-01-17T13:09:31.765754Z",
     "iopub.status.idle": "2024-01-17T13:09:32.034366Z",
     "shell.execute_reply": "2024-01-17T13:09:32.033122Z"
    },
    "papermill": {
     "duration": 0.300904,
     "end_time": "2024-01-17T13:09:32.036887",
     "exception": false,
     "start_time": "2024-01-17T13:09:31.735983",
     "status": "completed"
    },
    "tags": []
   },
   "outputs": [
    {
     "data": {
      "image/png": "[encoded data removed]",
      "text/plain": [
       "<Figure size 640x480 with 1 Axes>"
      ]
     },
     "metadata": {},
     "output_type": "display_data"
    }
   ],
   "source": [
    "# pickups month wise in sorted order\n",
    "\n",
    "train_df_new['pickup_month'] \\\n",
    ".value_counts() \\\n",
    ".sort_values(ascending=False)\\\n",
    ".plot(kind='bar')\n",
    "\n",
    "plt.show()"
   ]
  },
  {
   "cell_type": "markdown",
   "id": "7a695674",
   "metadata": {
    "papermill": {
     "duration": 0.028783,
     "end_time": "2024-01-17T13:09:32.095080",
     "exception": false,
     "start_time": "2024-01-17T13:09:32.066297",
     "status": "completed"
    },
    "tags": []
   },
   "source": [
    "- Less Number of pickups in the month of January can be related to weather events like snow."
   ]
  },
  {
   "cell_type": "code",
   "execution_count": null,
   "id": "922bcecd",
   "metadata": {
    "papermill": {
     "duration": 0.029333,
     "end_time": "2024-01-17T13:09:32.153469",
     "exception": false,
     "start_time": "2024-01-17T13:09:32.124136",
     "status": "completed"
    },
    "tags": []
   },
   "outputs": [],
   "source": []
  }
 ],
 "metadata": {
  "kaggle": {
   "accelerator": "none",
   "dataSources": [
    {
     "databundleVersionId": 44258,
     "sourceId": 6960,
     "sourceType": "competition"
    }
   ],
   "dockerImageVersionId": 30635,
   "isGpuEnabled": false,
   "isInternetEnabled": true,
   "language": "python",
   "sourceType": "notebook"
  },
  "kernelspec": {
   "display_name": "Python 3",
   "language": "python",
   "name": "python3"
  },
  "language_info": {
   "codemirror_mode": {
    "name": "ipython",
    "version": 3
   },
   "file_extension": ".py",
   "mimetype": "text/x-python",
   "name": "python",
   "nbconvert_exporter": "python",
   "pygments_lexer": "ipython3",
   "version": "3.10.12"
  },
  "papermill": {
   "default_parameters": {},
   "duration": 99.723761,
   "end_time": "2024-01-17T13:09:33.105765",
   "environment_variables": {},
   "exception": null,
   "input_path": "__notebook__.ipynb",
   "output_path": "__notebook__.ipynb",
   "parameters": {},
   "start_time": "2024-01-17T13:07:53.382004",
   "version": "2.4.0"
  }
 },
 "nbformat": 4,
 "nbformat_minor": 5
}
